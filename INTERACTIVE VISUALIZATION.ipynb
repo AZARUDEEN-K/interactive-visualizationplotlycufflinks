{
 "cells": [
  {
   "cell_type": "code",
   "execution_count": 1,
   "metadata": {},
   "outputs": [],
   "source": [
    "import pandas as pd\n",
    "import numpy as np\n",
    "%matplotlib inline"
   ]
  },
  {
   "cell_type": "code",
   "execution_count": 2,
   "metadata": {},
   "outputs": [
    {
     "name": "stdout",
     "output_type": "stream",
     "text": [
      "4.9.0\n"
     ]
    }
   ],
   "source": [
    "from plotly import __version__\n",
    "print(__version__)"
   ]
  },
  {
   "cell_type": "code",
   "execution_count": 3,
   "metadata": {},
   "outputs": [],
   "source": [
    "import cufflinks as cf"
   ]
  },
  {
   "cell_type": "code",
   "execution_count": 4,
   "metadata": {},
   "outputs": [],
   "source": [
    "from plotly.offline import download_plotlyjs,init_notebook_mode,plot,iplot"
   ]
  },
  {
   "cell_type": "code",
   "execution_count": 5,
   "metadata": {},
   "outputs": [
    {
     "data": {
      "text/html": [
       "        <script type=\"text/javascript\">\n",
       "        window.PlotlyConfig = {MathJaxConfig: 'local'};\n",
       "        if (window.MathJax) {MathJax.Hub.Config({SVG: {font: \"STIX-Web\"}});}\n",
       "        if (typeof require !== 'undefined') {\n",
       "        require.undef(\"plotly\");\n",
       "        requirejs.config({\n",
       "            paths: {\n",
       "                'plotly': ['https://cdn.plot.ly/plotly-latest.min']\n",
       "            }\n",
       "        });\n",
       "        require(['plotly'], function(Plotly) {\n",
       "            window._Plotly = Plotly;\n",
       "        });\n",
       "        }\n",
       "        </script>\n",
       "        "
      ]
     },
     "metadata": {},
     "output_type": "display_data"
    }
   ],
   "source": [
    "init_notebook_mode(connected=True)"
   ]
  },
  {
   "cell_type": "code",
   "execution_count": 6,
   "metadata": {},
   "outputs": [
    {
     "data": {
      "text/html": [
       "        <script type=\"text/javascript\">\n",
       "        window.PlotlyConfig = {MathJaxConfig: 'local'};\n",
       "        if (window.MathJax) {MathJax.Hub.Config({SVG: {font: \"STIX-Web\"}});}\n",
       "        if (typeof require !== 'undefined') {\n",
       "        require.undef(\"plotly\");\n",
       "        requirejs.config({\n",
       "            paths: {\n",
       "                'plotly': ['https://cdn.plot.ly/plotly-latest.min']\n",
       "            }\n",
       "        });\n",
       "        require(['plotly'], function(Plotly) {\n",
       "            window._Plotly = Plotly;\n",
       "        });\n",
       "        }\n",
       "        </script>\n",
       "        "
      ]
     },
     "metadata": {},
     "output_type": "display_data"
    }
   ],
   "source": [
    "cf.go_offline()"
   ]
  },
  {
   "cell_type": "code",
   "execution_count": 7,
   "metadata": {},
   "outputs": [
    {
     "data": {
      "text/html": [
       "<div>\n",
       "<style scoped>\n",
       "    .dataframe tbody tr th:only-of-type {\n",
       "        vertical-align: middle;\n",
       "    }\n",
       "\n",
       "    .dataframe tbody tr th {\n",
       "        vertical-align: top;\n",
       "    }\n",
       "\n",
       "    .dataframe thead th {\n",
       "        text-align: right;\n",
       "    }\n",
       "</style>\n",
       "<table border=\"1\" class=\"dataframe\">\n",
       "  <thead>\n",
       "    <tr style=\"text-align: right;\">\n",
       "      <th></th>\n",
       "      <th>A</th>\n",
       "      <th>B</th>\n",
       "      <th>C</th>\n",
       "      <th>D</th>\n",
       "    </tr>\n",
       "  </thead>\n",
       "  <tbody>\n",
       "    <tr>\n",
       "      <td>0</td>\n",
       "      <td>-0.166104</td>\n",
       "      <td>0.299549</td>\n",
       "      <td>-0.531584</td>\n",
       "      <td>-1.657864</td>\n",
       "    </tr>\n",
       "    <tr>\n",
       "      <td>1</td>\n",
       "      <td>-0.552120</td>\n",
       "      <td>0.346022</td>\n",
       "      <td>0.161735</td>\n",
       "      <td>-0.764973</td>\n",
       "    </tr>\n",
       "    <tr>\n",
       "      <td>2</td>\n",
       "      <td>-0.320723</td>\n",
       "      <td>-1.468479</td>\n",
       "      <td>-1.526932</td>\n",
       "      <td>1.619717</td>\n",
       "    </tr>\n",
       "    <tr>\n",
       "      <td>3</td>\n",
       "      <td>1.000300</td>\n",
       "      <td>-2.326108</td>\n",
       "      <td>0.997242</td>\n",
       "      <td>0.694852</td>\n",
       "    </tr>\n",
       "    <tr>\n",
       "      <td>4</td>\n",
       "      <td>-2.251625</td>\n",
       "      <td>-0.856063</td>\n",
       "      <td>-0.612781</td>\n",
       "      <td>0.323595</td>\n",
       "    </tr>\n",
       "  </tbody>\n",
       "</table>\n",
       "</div>"
      ],
      "text/plain": [
       "          A         B         C         D\n",
       "0 -0.166104  0.299549 -0.531584 -1.657864\n",
       "1 -0.552120  0.346022  0.161735 -0.764973\n",
       "2 -0.320723 -1.468479 -1.526932  1.619717\n",
       "3  1.000300 -2.326108  0.997242  0.694852\n",
       "4 -2.251625 -0.856063 -0.612781  0.323595"
      ]
     },
     "execution_count": 7,
     "metadata": {},
     "output_type": "execute_result"
    }
   ],
   "source": [
    "#Data\n",
    "df = pd.DataFrame(np.random.randn(100,4),columns='A B C D'.split())\n",
    "df.head()"
   ]
  },
  {
   "cell_type": "code",
   "execution_count": 8,
   "metadata": {},
   "outputs": [],
   "source": [
    "df2 = pd.DataFrame({'Category':['A','B','C'],'Values':[32,43,50]})"
   ]
  },
  {
   "cell_type": "code",
   "execution_count": 9,
   "metadata": {},
   "outputs": [
    {
     "data": {
      "text/html": [
       "<div>\n",
       "<style scoped>\n",
       "    .dataframe tbody tr th:only-of-type {\n",
       "        vertical-align: middle;\n",
       "    }\n",
       "\n",
       "    .dataframe tbody tr th {\n",
       "        vertical-align: top;\n",
       "    }\n",
       "\n",
       "    .dataframe thead th {\n",
       "        text-align: right;\n",
       "    }\n",
       "</style>\n",
       "<table border=\"1\" class=\"dataframe\">\n",
       "  <thead>\n",
       "    <tr style=\"text-align: right;\">\n",
       "      <th></th>\n",
       "      <th>Category</th>\n",
       "      <th>Values</th>\n",
       "    </tr>\n",
       "  </thead>\n",
       "  <tbody>\n",
       "    <tr>\n",
       "      <td>0</td>\n",
       "      <td>A</td>\n",
       "      <td>32</td>\n",
       "    </tr>\n",
       "    <tr>\n",
       "      <td>1</td>\n",
       "      <td>B</td>\n",
       "      <td>43</td>\n",
       "    </tr>\n",
       "    <tr>\n",
       "      <td>2</td>\n",
       "      <td>C</td>\n",
       "      <td>50</td>\n",
       "    </tr>\n",
       "  </tbody>\n",
       "</table>\n",
       "</div>"
      ],
      "text/plain": [
       "  Category  Values\n",
       "0        A      32\n",
       "1        B      43\n",
       "2        C      50"
      ]
     },
     "execution_count": 9,
     "metadata": {},
     "output_type": "execute_result"
    }
   ],
   "source": [
    "df2"
   ]
  },
  {
   "cell_type": "code",
   "execution_count": 12,
   "metadata": {},
   "outputs": [
    {
     "data": {
      "text/html": [
       "<div>\n",
       "<style scoped>\n",
       "    .dataframe tbody tr th:only-of-type {\n",
       "        vertical-align: middle;\n",
       "    }\n",
       "\n",
       "    .dataframe tbody tr th {\n",
       "        vertical-align: top;\n",
       "    }\n",
       "\n",
       "    .dataframe thead th {\n",
       "        text-align: right;\n",
       "    }\n",
       "</style>\n",
       "<table border=\"1\" class=\"dataframe\">\n",
       "  <thead>\n",
       "    <tr style=\"text-align: right;\">\n",
       "      <th></th>\n",
       "      <th>X</th>\n",
       "      <th>Y</th>\n",
       "      <th>Z</th>\n",
       "    </tr>\n",
       "  </thead>\n",
       "  <tbody>\n",
       "    <tr>\n",
       "      <td>0</td>\n",
       "      <td>1</td>\n",
       "      <td>10</td>\n",
       "      <td>500</td>\n",
       "    </tr>\n",
       "    <tr>\n",
       "      <td>1</td>\n",
       "      <td>2</td>\n",
       "      <td>20</td>\n",
       "      <td>400</td>\n",
       "    </tr>\n",
       "    <tr>\n",
       "      <td>2</td>\n",
       "      <td>3</td>\n",
       "      <td>30</td>\n",
       "      <td>300</td>\n",
       "    </tr>\n",
       "    <tr>\n",
       "      <td>3</td>\n",
       "      <td>4</td>\n",
       "      <td>20</td>\n",
       "      <td>200</td>\n",
       "    </tr>\n",
       "    <tr>\n",
       "      <td>4</td>\n",
       "      <td>5</td>\n",
       "      <td>10</td>\n",
       "      <td>100</td>\n",
       "    </tr>\n",
       "  </tbody>\n",
       "</table>\n",
       "</div>"
      ],
      "text/plain": [
       "   X   Y    Z\n",
       "0  1  10  500\n",
       "1  2  20  400\n",
       "2  3  30  300\n",
       "3  4  20  200\n",
       "4  5  10  100"
      ]
     },
     "execution_count": 12,
     "metadata": {},
     "output_type": "execute_result"
    }
   ],
   "source": [
    "df3 = pd.DataFrame({'X':[1,2,3,4,5],'Y':[10,20,30,20,10],'Z':[500,400,300,200,100]})\n",
    "df3"
   ]
  },
  {
   "cell_type": "code",
   "execution_count": 13,
   "metadata": {},
   "outputs": [
    {
     "data": {
      "text/html": [
       "<div>\n",
       "<style scoped>\n",
       "    .dataframe tbody tr th:only-of-type {\n",
       "        vertical-align: middle;\n",
       "    }\n",
       "\n",
       "    .dataframe tbody tr th {\n",
       "        vertical-align: top;\n",
       "    }\n",
       "\n",
       "    .dataframe thead th {\n",
       "        text-align: right;\n",
       "    }\n",
       "</style>\n",
       "<table border=\"1\" class=\"dataframe\">\n",
       "  <thead>\n",
       "    <tr style=\"text-align: right;\">\n",
       "      <th></th>\n",
       "      <th>X</th>\n",
       "      <th>Y</th>\n",
       "      <th>Z</th>\n",
       "    </tr>\n",
       "  </thead>\n",
       "  <tbody>\n",
       "    <tr>\n",
       "      <td>0</td>\n",
       "      <td>1</td>\n",
       "      <td>10</td>\n",
       "      <td>5</td>\n",
       "    </tr>\n",
       "    <tr>\n",
       "      <td>1</td>\n",
       "      <td>2</td>\n",
       "      <td>20</td>\n",
       "      <td>4</td>\n",
       "    </tr>\n",
       "    <tr>\n",
       "      <td>2</td>\n",
       "      <td>3</td>\n",
       "      <td>30</td>\n",
       "      <td>3</td>\n",
       "    </tr>\n",
       "    <tr>\n",
       "      <td>3</td>\n",
       "      <td>4</td>\n",
       "      <td>20</td>\n",
       "      <td>2</td>\n",
       "    </tr>\n",
       "    <tr>\n",
       "      <td>4</td>\n",
       "      <td>5</td>\n",
       "      <td>10</td>\n",
       "      <td>1</td>\n",
       "    </tr>\n",
       "  </tbody>\n",
       "</table>\n",
       "</div>"
      ],
      "text/plain": [
       "   X   Y  Z\n",
       "0  1  10  5\n",
       "1  2  20  4\n",
       "2  3  30  3\n",
       "3  4  20  2\n",
       "4  5  10  1"
      ]
     },
     "execution_count": 13,
     "metadata": {},
     "output_type": "execute_result"
    }
   ],
   "source": [
    "df4 = pd.DataFrame({'X':[1,2,3,4,5],'Y':[10,20,30,20,10],'Z':[5,4,3,2,1]})\n",
    "df4"
   ]
  },
  {
   "cell_type": "code",
   "execution_count": 10,
   "metadata": {},
   "outputs": [
    {
     "data": {
      "text/plain": [
       "<matplotlib.axes._subplots.AxesSubplot at 0xf3181b8448>"
      ]
     },
     "execution_count": 10,
     "metadata": {},
     "output_type": "execute_result"
    },
    {
     "data": {
      "image/png": "[encoded data removed]",
      "text/plain": [
       "<Figure size 432x288 with 1 Axes>"
      ]
     },
     "metadata": {
      "needs_background": "light"
     },
     "output_type": "display_data"
    }
   ],
   "source": [
    "df.plot()"
   ]
  },
  {
   "cell_type": "code",
   "execution_count": 11,
   "metadata": {},
   "outputs": [
    {
     "data": {
      "application/vnd.plotly.v1+json": {
       "config": {
        "linkText": "Export to plot.ly",
        "plotlyServerURL": "https://plot.ly",
        "showLink": true
       },
       "data": [
        {
         "line": {
          "color": "rgba(255, 153, 51, 1.0)",
          "dash": "solid",
          "shape": "linear",
          "width": 1.3
         },
         "mode": "lines",
         "name": "A",
         "text": "",
         "type": "scatter",
         "x": [
          0,
          1,
          2,
          3,
          4,
          5,
          6,
          7,
          8,
          9,
          10,
          11,
          12,
          13,
          14,
          15,
          16,
          17,
          18,
          19,
          20,
          21,
          22,
          23,
          24,
          25,
          26,
          27,
          28,
          29,
          30,
          31,
          32,
          33,
          34,
          35,
          36,
          37,
          38,
          39,
          40,
          41,
          42,
          43,
          44,
          45,
          46,
          47,
          48,
          49,
          50,
          51,
          52,
          53,
          54,
          55,
          56,
          57,
          58,
          59,
          60,
          61,
          62,
          63,
          64,
          65,
          66,
          67,
          68,
          69,
          70,
          71,
          72,
          73,
          74,
          75,
          76,
          77,
          78,
          79,
          80,
          81,
          82,
          83,
          84,
          85,
          86,
          87,
          88,
          89,
          90,
          91,
          92,
          93,
          94,
          95,
          96,
          97,
          98,
          99
         ],
         "y": [
          -0.16610363688689225,
          -0.5521200467561026,
          -0.32072301689097243,
          1.0003003046968628,
          -2.2516254604791026,
          -0.6421609543388991,
          -1.4472099947779882,
          -0.13620393460167918,
          -0.5848169421651246,
          -2.3343121377607203,
          0.7045769911864066,
          1.5641538767395509,
          0.13516072316710592,
          0.28401884325871657,
          0.19827951682921566,
          0.39511130031370845,
          -1.6845126169011948,
          1.7526821145707008,
          0.8774483307403921,
          0.836157017411292,
          0.9576375175548147,
          2.327572979958438,
          -0.09201586219373067,
          1.5049485394904945,
          0.6137499890871397,
          -0.23141334285681636,
          -0.3873137293486683,
          0.6665038996871202,
          1.3147726106271649,
          0.3411166578508544,
          -0.7313041972309057,
          0.6374438673125333,
          -1.4268863568083,
          1.2761838902761153,
          0.9224514175204899,
          0.5875380186215396,
          0.9624380244543723,
          -0.028387429045422862,
          -1.7110591691269732,
          0.45768060713546815,
          0.3325008338888872,
          -1.751953272398217,
          0.3727204316081648,
          0.12166865899983588,
          0.6526321680965788,
          -0.07920899553609972,
          -0.5445207532153917,
          -1.6105046471915463,
          -0.2936118804357919,
          0.27986148037476366,
          1.1034013134894871,
          -1.9631465840033653,
          0.43114100186860127,
          -1.235857295974943,
          -1.522723677140059,
          1.2174951715447608,
          0.19372990695871908,
          0.2823849931757263,
          -0.0731218671022487,
          0.7910575601342564,
          -0.6029356378404177,
          -1.7185657936649517,
          -1.1039251574505327,
          2.658810831218528,
          0.8738864116196249,
          -0.35572194094378795,
          0.2340454597606315,
          1.1752802475422055,
          -2.857194818069491,
          -2.600189945808657,
          -1.4129955337744562,
          1.5040243218995208,
          0.4564891038547735,
          -1.0928905726727565,
          1.0934669671611048,
          -0.2952153464804887,
          0.8512281133013911,
          -0.6054409722058584,
          -0.47567754440403875,
          0.6482097649869025,
          0.6347649736514742,
          -0.02784922656797839,
          0.8386088840498142,
          -0.5440691092397063,
          0.6972768207546788,
          0.6093926761521056,
          -0.06405757550025791,
          -0.33223152813714046,
          -0.6681213932531654,
          -0.5803620221889505,
          0.18130261081281787,
          0.9588359075234838,
          2.2614997061951416,
          0.04757386170100405,
          0.3322555579091508,
          1.323477756176155,
          1.0653892403615686,
          0.8465770283086058,
          -0.9181065897100504,
          2.1780189252592024
         ]
        },
        {
         "line": {
          "color": "rgba(55, 128, 191, 1.0)",
          "dash": "solid",
          "shape": "linear",
          "width": 1.3
         },
         "mode": "lines",
         "name": "B",
         "text": "",
         "type": "scatter",
         "x": [
          0,
          1,
          2,
          3,
          4,
          5,
          6,
          7,
          8,
          9,
          10,
          11,
          12,
          13,
          14,
          15,
          16,
          17,
          18,
          19,
          20,
          21,
          22,
          23,
          24,
          25,
          26,
          27,
          28,
          29,
          30,
          31,
          32,
          33,
          34,
          35,
          36,
          37,
          38,
          39,
          40,
          41,
          42,
          43,
          44,
          45,
          46,
          47,
          48,
          49,
          50,
          51,
          52,
          53,
          54,
          55,
          56,
          57,
          58,
          59,
          60,
          61,
          62,
          63,
          64,
          65,
          66,
          67,
          68,
          69,
          70,
          71,
          72,
          73,
          74,
          75,
          76,
          77,
          78,
          79,
          80,
          81,
          82,
          83,
          84,
          85,
          86,
          87,
          88,
          89,
          90,
          91,
          92,
          93,
          94,
          95,
          96,
          97,
          98,
          99
         ],
         "y": [
          0.29954851481511197,
          0.3460221764914574,
          -1.4684786291220613,
          -2.3261076380136574,
          -0.8560630170935084,
          -0.2666675002725784,
          -1.0367178317473178,
          -0.1641102056865516,
          1.293259163731727,
          -0.8059944250936861,
          0.16568334726967576,
          0.9238802895778643,
          -0.2032665907555867,
          1.4971275004914129,
          -0.6110568652907729,
          0.2880256480075652,
          0.30218628023342814,
          0.8151874780879765,
          1.962755339156543,
          -0.04634897285046687,
          0.9708911382708385,
          -2.1803393662632553,
          -0.758135596494414,
          0.14765847037822513,
          1.4395399354838565,
          1.4652400783624666,
          0.27133549685807756,
          0.6009887331928555,
          0.970003264198216,
          2.0923142080688413,
          0.28497261904097343,
          0.03808232091512796,
          -0.028460144293740264,
          -2.875724284445149,
          0.1076739686130463,
          0.6330099707257212,
          1.258254478784425,
          -1.5150255195577138,
          -0.17417549664166573,
          0.08234847547277795,
          -1.262136013163713,
          1.6480467810562809,
          0.6212728629358613,
          1.604482318383683,
          -0.2491181023499222,
          -0.276987626080192,
          0.33503155541675445,
          -0.38311910251804393,
          1.5368983700433583,
          0.043550837958556736,
          0.11312770593752079,
          -0.22552084547381376,
          -0.7342024780377591,
          2.002354164469548,
          -0.3513763370984161,
          1.0891939844574783,
          0.07742301663804288,
          0.1188221678986353,
          1.1646519897891336,
          -0.8672559147206672,
          0.0733867650574441,
          1.6413026825633483,
          1.1875277507898772,
          1.5726061764487005,
          1.0235143951809598,
          -1.702807383350166,
          0.29512873630470426,
          -0.665512319607524,
          -0.06563198708957493,
          0.9852227949234997,
          0.09416627441366154,
          -0.34029398342148215,
          0.7194906222908173,
          -0.30538210212909767,
          0.7528310074888965,
          -0.4475454762754745,
          0.8652186823730295,
          -0.8999691204773388,
          -1.4992660437698153,
          -0.052600864705378066,
          0.9632080553530256,
          0.4225227445710723,
          -0.24976249740389195,
          1.3423979730077338,
          -1.345353752730523,
          0.39946146360573226,
          -1.6935712804020313,
          -2.3452695240608383,
          0.40276261537770885,
          -1.571628849316674,
          0.48374420873834323,
          0.49969435110551125,
          -0.9541923582452546,
          0.1236947783406742,
          0.4825198504341591,
          0.5219508629780577,
          -0.3946070881703127,
          -0.23385051002850257,
          -0.42874338188963346,
          0.1255556069572311
         ]
        },
        {
         "line": {
          "color": "rgba(50, 171, 96, 1.0)",
          "dash": "solid",
          "shape": "linear",
          "width": 1.3
         },
         "mode": "lines",
         "name": "C",
         "text": "",
         "type": "scatter",
         "x": [
          0,
          1,
          2,
          3,
          4,
          5,
          6,
          7,
          8,
          9,
          10,
          11,
          12,
          13,
          14,
          15,
          16,
          17,
          18,
          19,
          20,
          21,
          22,
          23,
          24,
          25,
          26,
          27,
          28,
          29,
          30,
          31,
          32,
          33,
          34,
          35,
          36,
          37,
          38,
          39,
          40,
          41,
          42,
          43,
          44,
          45,
          46,
          47,
          48,
          49,
          50,
          51,
          52,
          53,
          54,
          55,
          56,
          57,
          58,
          59,
          60,
          61,
          62,
          63,
          64,
          65,
          66,
          67,
          68,
          69,
          70,
          71,
          72,
          73,
          74,
          75,
          76,
          77,
          78,
          79,
          80,
          81,
          82,
          83,
          84,
          85,
          86,
          87,
          88,
          89,
          90,
          91,
          92,
          93,
          94,
          95,
          96,
          97,
          98,
          99
         ],
         "y": [
          -0.5315840370366359,
          0.16173480123695258,
          -1.526931646395053,
          0.997242377656304,
          -0.6127806736114583,
          -0.6076059681446834,
          0.9332689822793767,
          0.43980921807417905,
          -0.30645413079830275,
          1.2458900691984305,
          -0.6957604554918259,
          -2.092519940530778,
          -1.1661682788766983,
          0.255104624978084,
          1.647807662409371,
          0.5210976514116537,
          -0.6921604664135697,
          1.1326329108282753,
          1.4451776734049617,
          0.8298433807264687,
          0.4444683646939226,
          -1.0055185800887931,
          -0.29283304255519654,
          0.1419455052444596,
          1.3737548124341294,
          1.0508543291204706,
          0.9498801490995556,
          -0.7404455862246961,
          -0.5255421947954927,
          0.916744385874406,
          -0.15103187217024516,
          0.5861150822660647,
          -0.7158396205909382,
          -0.1273319266696649,
          -0.7246719193641897,
          0.9876656227614199,
          -1.0367306921332464,
          0.5748044139773494,
          0.47094928557209303,
          1.2748763029158383,
          1.2610811112584115,
          0.11994002331706101,
          -1.1081761068456302,
          1.238951702663481,
          -1.2115485857662953,
          1.4136657090476943,
          0.8990156778106935,
          0.2035998460939371,
          0.24441159592290304,
          -0.6704548425930102,
          0.06729811289849236,
          1.571230006517233,
          0.4984922830017379,
          -1.201580984442513,
          -0.9073513360400925,
          0.9516530885677701,
          -1.2492922098024595,
          -0.0220801543063839,
          -2.376519762207996,
          0.5068377026671349,
          -0.518852160856346,
          0.8791920492250621,
          -0.95472187389494,
          0.9829015150187494,
          0.9083135037895894,
          -0.9876265347804443,
          0.7237661118721117,
          -0.21998847029808358,
          0.35479816545788034,
          -0.40174861511152066,
          0.17975264352827378,
          1.1137170160456207,
          -0.8397472638663248,
          -1.9543663324006089,
          -0.2393839379965726,
          1.9339191759410028,
          -0.43836892333319577,
          0.3344786325862197,
          0.4088563144914219,
          -2.0170863656846425,
          0.2201840809385637,
          1.1951916010784036,
          -0.6354650735287152,
          -0.4786980038378098,
          0.18538761734860001,
          -0.07703052731169485,
          -0.5655311347569333,
          0.658303520645014,
          -1.0372927454566931,
          0.8686836229086838,
          0.7496460470741813,
          0.6701395151186833,
          -0.2584094090099108,
          0.3084423241551389,
          -0.866881539195583,
          1.532050241828174,
          -0.6469809777305825,
          0.7602948416168382,
          0.6279171380651485,
          -1.9277658721404594
         ]
        },
        {
         "line": {
          "color": "rgba(128, 0, 128, 1.0)",
          "dash": "solid",
          "shape": "linear",
          "width": 1.3
         },
         "mode": "lines",
         "name": "D",
         "text": "",
         "type": "scatter",
         "x": [
          0,
          1,
          2,
          3,
          4,
          5,
          6,
          7,
          8,
          9,
          10,
          11,
          12,
          13,
          14,
          15,
          16,
          17,
          18,
          19,
          20,
          21,
          22,
          23,
          24,
          25,
          26,
          27,
          28,
          29,
          30,
          31,
          32,
          33,
          34,
          35,
          36,
          37,
          38,
          39,
          40,
          41,
          42,
          43,
          44,
          45,
          46,
          47,
          48,
          49,
          50,
          51,
          52,
          53,
          54,
          55,
          56,
          57,
          58,
          59,
          60,
          61,
          62,
          63,
          64,
          65,
          66,
          67,
          68,
          69,
          70,
          71,
          72,
          73,
          74,
          75,
          76,
          77,
          78,
          79,
          80,
          81,
          82,
          83,
          84,
          85,
          86,
          87,
          88,
          89,
          90,
          91,
          92,
          93,
          94,
          95,
          96,
          97,
          98,
          99
         ],
         "y": [
          -1.6578640708999872,
          -0.7649732642850833,
          1.6197165520401355,
          0.6948518600793145,
          0.3235947195993021,
          -0.678889379260725,
          -0.3361775580924587,
          -1.4545876441784986,
          0.023108673045135805,
          0.5101867595881933,
          1.708817025073502,
          -0.8869842616981806,
          0.20099256959195583,
          -1.722319649440159,
          -0.2740622325464014,
          -0.36376477466003626,
          0.2954422790986494,
          0.2664542364691161,
          0.4594637388616335,
          1.8204605625865262,
          0.21517302849203657,
          0.9821691075688679,
          -1.2860083169738288,
          -0.305990641431503,
          -1.5308193358988362,
          1.5291123841765684,
          2.5001498653262813,
          0.48181901324010806,
          0.6056507504098625,
          0.20520138555661727,
          0.673657045336006,
          -0.14473040107917046,
          0.0018126574021694651,
          -0.4055122774768075,
          -0.1892016009524528,
          -1.0694261273493544,
          -0.08101890974558021,
          -0.3121409698055496,
          -1.2273820110274363,
          1.9758580909333334,
          2.3135419287863512,
          0.14511856919593644,
          0.24653537785366716,
          0.07410886277200507,
          -1.1125930858431627,
          -1.62096345722258,
          0.12113841093134217,
          0.3449923788579843,
          -1.165854220228875,
          0.4111965624026121,
          -0.521758461920156,
          -1.3467282660705224,
          -1.3464976477819253,
          -0.1334108039228377,
          -0.4131158052454607,
          -1.1849525526202902,
          -2.561228768562345,
          0.5085899679495604,
          0.17624310987041292,
          1.519344047572039,
          0.6664329635293371,
          0.006206355267497318,
          0.6192004542379782,
          -2.1701074059369043,
          1.3628884551809142,
          0.2629358007957257,
          1.7180376557384016,
          -0.12635718606915208,
          0.9603413318049445,
          -1.6294383721721726,
          2.3505547290119964,
          -1.7138265283773322,
          -1.7051456933294868,
          -1.2121786070604732,
          -0.8909519968250951,
          -0.8693751607222012,
          -2.8367209669440276,
          1.6272482826606223,
          -1.7531272081001894,
          -1.1979630187813524,
          -0.5948510747913349,
          1.1767443139944396,
          -0.19532606887327594,
          1.262050591898131,
          1.3038905730529844,
          -0.3518918170124171,
          -0.8458549646081417,
          -0.6645952048914188,
          -0.9670835527418234,
          -0.2249632861563061,
          -1.0738182939561671,
          -1.8601889573189312,
          1.0610754934161017,
          0.0010197261376331136,
          -0.006516285865091261,
          -1.3713686380602395,
          0.3124415434049576,
          1.0396442819329668,
          -0.7238815516848321,
          -0.48597617377374
         ]
        }
       ],
       "layout": {
        "legend": {
         "bgcolor": "#F5F6F9",
         "font": {
          "color": "#4D5663"
         }
        },
        "paper_bgcolor": "#F5F6F9",
        "plot_bgcolor": "#F5F6F9",
        "template": {
         "data": {
          "bar": [
           {
            "error_x": {
             "color": "#2a3f5f"
            },
            "error_y": {
             "color": "#2a3f5f"
            },
            "marker": {
             "line": {
              "color": "#E5ECF6",
              "width": 0.5
             }
            },
            "type": "bar"
           }
          ],
          "barpolar": [
           {
            "marker": {
             "line": {
              "color": "#E5ECF6",
              "width": 0.5
             }
            },
            "type": "barpolar"
           }
          ],
          "carpet": [
           {
            "aaxis": {
             "endlinecolor": "#2a3f5f",
             "gridcolor": "white",
             "linecolor": "white",
             "minorgridcolor": "white",
             "startlinecolor": "#2a3f5f"
            },
            "baxis": {
             "endlinecolor": "#2a3f5f",
             "gridcolor": "white",
             "linecolor": "white",
             "minorgridcolor": "white",
             "startlinecolor": "#2a3f5f"
            },
            "type": "carpet"
           }
          ],
          "choropleth": [
           {
            "colorbar": {
             "outlinewidth": 0,
             "ticks": ""
            },
            "type": "choropleth"
           }
          ],
          "contour": [
           {
            "colorbar": {
             "outlinewidth": 0,
             "ticks": ""
            },
            "colorscale": [
             [
              0,
              "#0d0887"
             ],
             [
              0.1111111111111111,
              "#46039f"
             ],
             [
              0.2222222222222222,
              "#7201a8"
             ],
             [
              0.3333333333333333,
              "#9c179e"
             ],
             [
              0.4444444444444444,
              "#bd3786"
             ],
             [
              0.5555555555555556,
              "#d8576b"
             ],
             [
              0.6666666666666666,
              "#ed7953"
             ],
             [
              0.7777777777777778,
              "#fb9f3a"
             ],
             [
              0.8888888888888888,
              "#fdca26"
             ],
             [
              1,
              "#f0f921"
             ]
            ],
            "type": "contour"
           }
          ],
          "contourcarpet": [
           {
            "colorbar": {
             "outlinewidth": 0,
             "ticks": ""
            },
            "type": "contourcarpet"
           }
          ],
          "heatmap": [
           {
            "colorbar": {
             "outlinewidth": 0,
             "ticks": ""
            },
            "colorscale": [
             [
              0,
              "#0d0887"
             ],
             [
              0.1111111111111111,
              "#46039f"
             ],
             [
              0.2222222222222222,
              "#7201a8"
             ],
             [
              0.3333333333333333,
              "#9c179e"
             ],
             [
              0.4444444444444444,
              "#bd3786"
             ],
             [
              0.5555555555555556,
              "#d8576b"
             ],
             [
              0.6666666666666666,
              "#ed7953"
             ],
             [
              0.7777777777777778,
              "#fb9f3a"
             ],
             [
              0.8888888888888888,
              "#fdca26"
             ],
             [
              1,
              "#f0f921"
             ]
            ],
            "type": "heatmap"
           }
          ],
          "heatmapgl": [
           {
            "colorbar": {
             "outlinewidth": 0,
             "ticks": ""
            },
            "colorscale": [
             [
              0,
              "#0d0887"
             ],
             [
              0.1111111111111111,
              "#46039f"
             ],
             [
              0.2222222222222222,
              "#7201a8"
             ],
             [
              0.3333333333333333,
              "#9c179e"
             ],
             [
              0.4444444444444444,
              "#bd3786"
             ],
             [
              0.5555555555555556,
              "#d8576b"
             ],
             [
              0.6666666666666666,
              "#ed7953"
             ],
             [
              0.7777777777777778,
              "#fb9f3a"
             ],
             [
              0.8888888888888888,
              "#fdca26"
             ],
             [
              1,
              "#f0f921"
             ]
            ],
            "type": "heatmapgl"
           }
          ],
          "histogram": [
           {
            "marker": {
             "colorbar": {
              "outlinewidth": 0,
              "ticks": ""
             }
            },
            "type": "histogram"
           }
          ],
          "histogram2d": [
           {
            "colorbar": {
             "outlinewidth": 0,
             "ticks": ""
            },
            "colorscale": [
             [
              0,
              "#0d0887"
             ],
             [
              0.1111111111111111,
              "#46039f"
             ],
             [
              0.2222222222222222,
              "#7201a8"
             ],
             [
              0.3333333333333333,
              "#9c179e"
             ],
             [
              0.4444444444444444,
              "#bd3786"
             ],
             [
              0.5555555555555556,
              "#d8576b"
             ],
             [
              0.6666666666666666,
              "#ed7953"
             ],
             [
              0.7777777777777778,
              "#fb9f3a"
             ],
             [
              0.8888888888888888,
              "#fdca26"
             ],
             [
              1,
              "#f0f921"
             ]
            ],
            "type": "histogram2d"
           }
          ],
          "histogram2dcontour": [
           {
            "colorbar": {
             "outlinewidth": 0,
             "ticks": ""
            },
            "colorscale": [
             [
              0,
              "#0d0887"
             ],
             [
              0.1111111111111111,
              "#46039f"
             ],
             [
              0.2222222222222222,
              "#7201a8"
             ],
             [
              0.3333333333333333,
              "#9c179e"
             ],
             [
              0.4444444444444444,
              "#bd3786"
             ],
             [
              0.5555555555555556,
              "#d8576b"
             ],
             [
              0.6666666666666666,
              "#ed7953"
             ],
             [
              0.7777777777777778,
              "#fb9f3a"
             ],
             [
              0.8888888888888888,
              "#fdca26"
             ],
             [
              1,
              "#f0f921"
             ]
            ],
            "type": "histogram2dcontour"
           }
          ],
          "mesh3d": [
           {
            "colorbar": {
             "outlinewidth": 0,
             "ticks": ""
            },
            "type": "mesh3d"
           }
          ],
          "parcoords": [
           {
            "line": {
             "colorbar": {
              "outlinewidth": 0,
              "ticks": ""
             }
            },
            "type": "parcoords"
           }
          ],
          "pie": [
           {
            "automargin": true,
            "type": "pie"
           }
          ],
          "scatter": [
           {
            "marker": {
             "colorbar": {
              "outlinewidth": 0,
              "ticks": ""
             }
            },
            "type": "scatter"
           }
          ],
          "scatter3d": [
           {
            "line": {
             "colorbar": {
              "outlinewidth": 0,
              "ticks": ""
             }
            },
            "marker": {
             "colorbar": {
              "outlinewidth": 0,
              "ticks": ""
             }
            },
            "type": "scatter3d"
           }
          ],
          "scattercarpet": [
           {
            "marker": {
             "colorbar": {
              "outlinewidth": 0,
              "ticks": ""
             }
            },
            "type": "scattercarpet"
           }
          ],
          "scattergeo": [
           {
            "marker": {
             "colorbar": {
              "outlinewidth": 0,
              "ticks": ""
             }
            },
            "type": "scattergeo"
           }
          ],
          "scattergl": [
           {
            "marker": {
             "colorbar": {
              "outlinewidth": 0,
              "ticks": ""
             }
            },
            "type": "scattergl"
           }
          ],
          "scattermapbox": [
           {
            "marker": {
             "colorbar": {
              "outlinewidth": 0,
              "ticks": ""
             }
            },
            "type": "scattermapbox"
           }
          ],
          "scatterpolar": [
           {
            "marker": {
             "colorbar": {
              "outlinewidth": 0,
              "ticks": ""
             }
            },
            "type": "scatterpolar"
           }
          ],
          "scatterpolargl": [
           {
            "marker": {
             "colorbar": {
              "outlinewidth": 0,
              "ticks": ""
             }
            },
            "type": "scatterpolargl"
           }
          ],
          "scatterternary": [
           {
            "marker": {
             "colorbar": {
              "outlinewidth": 0,
              "ticks": ""
             }
            },
            "type": "scatterternary"
           }
          ],
          "surface": [
           {
            "colorbar": {
             "outlinewidth": 0,
             "ticks": ""
            },
            "colorscale": [
             [
              0,
              "#0d0887"
             ],
             [
              0.1111111111111111,
              "#46039f"
             ],
             [
              0.2222222222222222,
              "#7201a8"
             ],
             [
              0.3333333333333333,
              "#9c179e"
             ],
             [
              0.4444444444444444,
              "#bd3786"
             ],
             [
              0.5555555555555556,
              "#d8576b"
             ],
             [
              0.6666666666666666,
              "#ed7953"
             ],
             [
              0.7777777777777778,
              "#fb9f3a"
             ],
             [
              0.8888888888888888,
              "#fdca26"
             ],
             [
              1,
              "#f0f921"
             ]
            ],
            "type": "surface"
           }
          ],
          "table": [
           {
            "cells": {
             "fill": {
              "color": "#EBF0F8"
             },
             "line": {
              "color": "white"
             }
            },
            "header": {
             "fill": {
              "color": "#C8D4E3"
             },
             "line": {
              "color": "white"
             }
            },
            "type": "table"
           }
          ]
         },
         "layout": {
          "annotationdefaults": {
           "arrowcolor": "#2a3f5f",
           "arrowhead": 0,
           "arrowwidth": 1
          },
          "coloraxis": {
           "colorbar": {
            "outlinewidth": 0,
            "ticks": ""
           }
          },
          "colorscale": {
           "diverging": [
            [
             0,
             "#8e0152"
            ],
            [
             0.1,
             "#c51b7d"
            ],
            [
             0.2,
             "#de77ae"
            ],
            [
             0.3,
             "#f1b6da"
            ],
            [
             0.4,
             "#fde0ef"
            ],
            [
             0.5,
             "#f7f7f7"
            ],
            [
             0.6,
             "#e6f5d0"
            ],
            [
             0.7,
             "#b8e186"
            ],
            [
             0.8,
             "#7fbc41"
            ],
            [
             0.9,
             "#4d9221"
            ],
            [
             1,
             "#276419"
            ]
           ],
           "sequential": [
            [
             0,
             "#0d0887"
            ],
            [
             0.1111111111111111,
             "#46039f"
            ],
            [
             0.2222222222222222,
             "#7201a8"
            ],
            [
             0.3333333333333333,
             "#9c179e"
            ],
            [
             0.4444444444444444,
             "#bd3786"
            ],
            [
             0.5555555555555556,
             "#d8576b"
            ],
            [
             0.6666666666666666,
             "#ed7953"
            ],
            [
             0.7777777777777778,
             "#fb9f3a"
            ],
            [
             0.8888888888888888,
             "#fdca26"
            ],
            [
             1,
             "#f0f921"
            ]
           ],
           "sequentialminus": [
            [
             0,
             "#0d0887"
            ],
            [
             0.1111111111111111,
             "#46039f"
            ],
            [
             0.2222222222222222,
             "#7201a8"
            ],
            [
             0.3333333333333333,
             "#9c179e"
            ],
            [
             0.4444444444444444,
             "#bd3786"
            ],
            [
             0.5555555555555556,
             "#d8576b"
            ],
            [
             0.6666666666666666,
             "#ed7953"
            ],
            [
             0.7777777777777778,
             "#fb9f3a"
            ],
            [
             0.8888888888888888,
             "#fdca26"
            ],
            [
             1,
             "#f0f921"
            ]
           ]
          },
          "colorway": [
           "#636efa",
           "#EF553B",
           "#00cc96",
           "#ab63fa",
           "#FFA15A",
           "#19d3f3",
           "#FF6692",
           "#B6E880",
           "#FF97FF",
           "#FECB52"
          ],
          "font": {
           "color": "#2a3f5f"
          },
          "geo": {
           "bgcolor": "white",
           "lakecolor": "white",
           "landcolor": "#E5ECF6",
           "showlakes": true,
           "showland": true,
           "subunitcolor": "white"
          },
          "hoverlabel": {
           "align": "left"
          },
          "hovermode": "closest",
          "mapbox": {
           "style": "light"
          },
          "paper_bgcolor": "white",
          "plot_bgcolor": "#E5ECF6",
          "polar": {
           "angularaxis": {
            "gridcolor": "white",
            "linecolor": "white",
            "ticks": ""
           },
           "bgcolor": "#E5ECF6",
           "radialaxis": {
            "gridcolor": "white",
            "linecolor": "white",
            "ticks": ""
           }
          },
          "scene": {
           "xaxis": {
            "backgroundcolor": "#E5ECF6",
            "gridcolor": "white",
            "gridwidth": 2,
            "linecolor": "white",
            "showbackground": true,
            "ticks": "",
            "zerolinecolor": "white"
           },
           "yaxis": {
            "backgroundcolor": "#E5ECF6",
            "gridcolor": "white",
            "gridwidth": 2,
            "linecolor": "white",
            "showbackground": true,
            "ticks": "",
            "zerolinecolor": "white"
           },
           "zaxis": {
            "backgroundcolor": "#E5ECF6",
            "gridcolor": "white",
            "gridwidth": 2,
            "linecolor": "white",
            "showbackground": true,
            "ticks": "",
            "zerolinecolor": "white"
           }
          },
          "shapedefaults": {
           "line": {
            "color": "#2a3f5f"
           }
          },
          "ternary": {
           "aaxis": {
            "gridcolor": "white",
            "linecolor": "white",
            "ticks": ""
           },
           "baxis": {
            "gridcolor": "white",
            "linecolor": "white",
            "ticks": ""
           },
           "bgcolor": "#E5ECF6",
           "caxis": {
            "gridcolor": "white",
            "linecolor": "white",
            "ticks": ""
           }
          },
          "title": {
           "x": 0.05
          },
          "xaxis": {
           "automargin": true,
           "gridcolor": "white",
           "linecolor": "white",
           "ticks": "",
           "title": {
            "standoff": 15
           },
           "zerolinecolor": "white",
           "zerolinewidth": 2
          },
          "yaxis": {
           "automargin": true,
           "gridcolor": "white",
           "linecolor": "white",
           "ticks": "",
           "title": {
            "standoff": 15
           },
           "zerolinecolor": "white",
           "zerolinewidth": 2
          }
         }
        },
        "title": {
         "font": {
          "color": "#4D5663"
         }
        },
        "xaxis": {
         "gridcolor": "#E1E5ED",
         "showgrid": true,
         "tickfont": {
          "color": "#4D5663"
         },
         "title": {
          "font": {
           "color": "#4D5663"
          },
          "text": ""
         },
         "zerolinecolor": "#E1E5ED"
        },
        "yaxis": {
         "gridcolor": "#E1E5ED",
         "showgrid": true,
         "tickfont": {
          "color": "#4D5663"
         },
         "title": {
          "font": {
           "color": "#4D5663"
          },
          "text": ""
         },
         "zerolinecolor": "#E1E5ED"
        }
       }
      },
      "text/html": [
       "<div>\n",
       "        \n",
       "        \n",
       "            <div id=\"32d70f5f-0df7-4927-b4a7-2e145ade18ea\" class=\"plotly-graph-div\" style=\"height:525px; width:100%;\"></div>\n",
       "            <script type=\"text/javascript\">\n",
       "                require([\"plotly\"], function(Plotly) {\n",
       "                    window.PLOTLYENV=window.PLOTLYENV || {};\n",
       "                    window.PLOTLYENV.BASE_URL='https://plot.ly';\n",
       "                    \n",
       "                if (document.getElementById(\"32d70f5f-0df7-4927-b4a7-2e145ade18ea\")) {\n",
       "                    Plotly.newPlot(\n",
       "                        '32d70f5f-0df7-4927-b4a7-2e145ade18ea',\n",
       "                        [{\"line\": {\"color\": \"rgba(255, 153, 51, 1.0)\", \"dash\": \"solid\", \"shape\": \"linear\", \"width\": 1.3}, \"mode\": \"lines\", \"name\": \"A\", \"text\": \"\", \"type\": \"scatter\", \"x\": [0, 1, 2, 3, 4, 5, 6, 7, 8, 9, 10, 11, 12, 13, 14, 15, 16, 17, 18, 19, 20, 21, 22, 23, 24, 25, 26, 27, 28, 29, 30, 31, 32, 33, 34, 35, 36, 37, 38, 39, 40, 41, 42, 43, 44, 45, 46, 47, 48, 49, 50, 51, 52, 53, 54, 55, 56, 57, 58, 59, 60, 61, 62, 63, 64, 65, 66, 67, 68, 69, 70, 71, 72, 73, 74, 75, 76, 77, 78, 79, 80, 81, 82, 83, 84, 85, 86, 87, 88, 89, 90, 91, 92, 93, 94, 95, 96, 97, 98, 99], \"y\": [-0.16610363688689225, -0.5521200467561026, -0.32072301689097243, 1.0003003046968628, -2.2516254604791026, -0.6421609543388991, -1.4472099947779882, -0.13620393460167918, -0.5848169421651246, -2.3343121377607203, 0.7045769911864066, 1.5641538767395509, 0.13516072316710592, 0.28401884325871657, 0.19827951682921566, 0.39511130031370845, -1.6845126169011948, 1.7526821145707008, 0.8774483307403921, 0.836157017411292, 0.9576375175548147, 2.327572979958438, -0.09201586219373067, 1.5049485394904945, 0.6137499890871397, -0.23141334285681636, -0.3873137293486683, 0.6665038996871202, 1.3147726106271649, 0.3411166578508544, -0.7313041972309057, 0.6374438673125333, -1.4268863568083, 1.2761838902761153, 0.9224514175204899, 0.5875380186215396, 0.9624380244543723, -0.028387429045422862, -1.7110591691269732, 0.45768060713546815, 0.3325008338888872, -1.751953272398217, 0.3727204316081648, 0.12166865899983588, 0.6526321680965788, -0.07920899553609972, -0.5445207532153917, -1.6105046471915463, -0.2936118804357919, 0.27986148037476366, 1.1034013134894871, -1.9631465840033653, 0.43114100186860127, -1.235857295974943, -1.522723677140059, 1.2174951715447608, 0.19372990695871908, 0.2823849931757263, -0.0731218671022487, 0.7910575601342564, -0.6029356378404177, -1.7185657936649517, -1.1039251574505327, 2.658810831218528, 0.8738864116196249, -0.35572194094378795, 0.2340454597606315, 1.1752802475422055, -2.857194818069491, -2.600189945808657, -1.4129955337744562, 1.5040243218995208, 0.4564891038547735, -1.0928905726727565, 1.0934669671611048, -0.2952153464804887, 0.8512281133013911, -0.6054409722058584, -0.47567754440403875, 0.6482097649869025, 0.6347649736514742, -0.02784922656797839, 0.8386088840498142, -0.5440691092397063, 0.6972768207546788, 0.6093926761521056, -0.06405757550025791, -0.33223152813714046, -0.6681213932531654, -0.5803620221889505, 0.18130261081281787, 0.9588359075234838, 2.2614997061951416, 0.04757386170100405, 0.3322555579091508, 1.323477756176155, 1.0653892403615686, 0.8465770283086058, -0.9181065897100504, 2.1780189252592024]}, {\"line\": {\"color\": \"rgba(55, 128, 191, 1.0)\", \"dash\": \"solid\", \"shape\": \"linear\", \"width\": 1.3}, \"mode\": \"lines\", \"name\": \"B\", \"text\": \"\", \"type\": \"scatter\", \"x\": [0, 1, 2, 3, 4, 5, 6, 7, 8, 9, 10, 11, 12, 13, 14, 15, 16, 17, 18, 19, 20, 21, 22, 23, 24, 25, 26, 27, 28, 29, 30, 31, 32, 33, 34, 35, 36, 37, 38, 39, 40, 41, 42, 43, 44, 45, 46, 47, 48, 49, 50, 51, 52, 53, 54, 55, 56, 57, 58, 59, 60, 61, 62, 63, 64, 65, 66, 67, 68, 69, 70, 71, 72, 73, 74, 75, 76, 77, 78, 79, 80, 81, 82, 83, 84, 85, 86, 87, 88, 89, 90, 91, 92, 93, 94, 95, 96, 97, 98, 99], \"y\": [0.29954851481511197, 0.3460221764914574, -1.4684786291220613, -2.3261076380136574, -0.8560630170935084, -0.2666675002725784, -1.0367178317473178, -0.1641102056865516, 1.293259163731727, -0.8059944250936861, 0.16568334726967576, 0.9238802895778643, -0.2032665907555867, 1.4971275004914129, -0.6110568652907729, 0.2880256480075652, 0.30218628023342814, 0.8151874780879765, 1.962755339156543, -0.04634897285046687, 0.9708911382708385, -2.1803393662632553, -0.758135596494414, 0.14765847037822513, 1.4395399354838565, 1.4652400783624666, 0.27133549685807756, 0.6009887331928555, 0.970003264198216, 2.0923142080688413, 0.28497261904097343, 0.03808232091512796, -0.028460144293740264, -2.875724284445149, 0.1076739686130463, 0.6330099707257212, 1.258254478784425, -1.5150255195577138, -0.17417549664166573, 0.08234847547277795, -1.262136013163713, 1.6480467810562809, 0.6212728629358613, 1.604482318383683, -0.2491181023499222, -0.276987626080192, 0.33503155541675445, -0.38311910251804393, 1.5368983700433583, 0.043550837958556736, 0.11312770593752079, -0.22552084547381376, -0.7342024780377591, 2.002354164469548, -0.3513763370984161, 1.0891939844574783, 0.07742301663804288, 0.1188221678986353, 1.1646519897891336, -0.8672559147206672, 0.0733867650574441, 1.6413026825633483, 1.1875277507898772, 1.5726061764487005, 1.0235143951809598, -1.702807383350166, 0.29512873630470426, -0.665512319607524, -0.06563198708957493, 0.9852227949234997, 0.09416627441366154, -0.34029398342148215, 0.7194906222908173, -0.30538210212909767, 0.7528310074888965, -0.4475454762754745, 0.8652186823730295, -0.8999691204773388, -1.4992660437698153, -0.052600864705378066, 0.9632080553530256, 0.4225227445710723, -0.24976249740389195, 1.3423979730077338, -1.345353752730523, 0.39946146360573226, -1.6935712804020313, -2.3452695240608383, 0.40276261537770885, -1.571628849316674, 0.48374420873834323, 0.49969435110551125, -0.9541923582452546, 0.1236947783406742, 0.4825198504341591, 0.5219508629780577, -0.3946070881703127, -0.23385051002850257, -0.42874338188963346, 0.1255556069572311]}, {\"line\": {\"color\": \"rgba(50, 171, 96, 1.0)\", \"dash\": \"solid\", \"shape\": \"linear\", \"width\": 1.3}, \"mode\": \"lines\", \"name\": \"C\", \"text\": \"\", \"type\": \"scatter\", \"x\": [0, 1, 2, 3, 4, 5, 6, 7, 8, 9, 10, 11, 12, 13, 14, 15, 16, 17, 18, 19, 20, 21, 22, 23, 24, 25, 26, 27, 28, 29, 30, 31, 32, 33, 34, 35, 36, 37, 38, 39, 40, 41, 42, 43, 44, 45, 46, 47, 48, 49, 50, 51, 52, 53, 54, 55, 56, 57, 58, 59, 60, 61, 62, 63, 64, 65, 66, 67, 68, 69, 70, 71, 72, 73, 74, 75, 76, 77, 78, 79, 80, 81, 82, 83, 84, 85, 86, 87, 88, 89, 90, 91, 92, 93, 94, 95, 96, 97, 98, 99], \"y\": [-0.5315840370366359, 0.16173480123695258, -1.526931646395053, 0.997242377656304, -0.6127806736114583, -0.6076059681446834, 0.9332689822793767, 0.43980921807417905, -0.30645413079830275, 1.2458900691984305, -0.6957604554918259, -2.092519940530778, -1.1661682788766983, 0.255104624978084, 1.647807662409371, 0.5210976514116537, -0.6921604664135697, 1.1326329108282753, 1.4451776734049617, 0.8298433807264687, 0.4444683646939226, -1.0055185800887931, -0.29283304255519654, 0.1419455052444596, 1.3737548124341294, 1.0508543291204706, 0.9498801490995556, -0.7404455862246961, -0.5255421947954927, 0.916744385874406, -0.15103187217024516, 0.5861150822660647, -0.7158396205909382, -0.1273319266696649, -0.7246719193641897, 0.9876656227614199, -1.0367306921332464, 0.5748044139773494, 0.47094928557209303, 1.2748763029158383, 1.2610811112584115, 0.11994002331706101, -1.1081761068456302, 1.238951702663481, -1.2115485857662953, 1.4136657090476943, 0.8990156778106935, 0.2035998460939371, 0.24441159592290304, -0.6704548425930102, 0.06729811289849236, 1.571230006517233, 0.4984922830017379, -1.201580984442513, -0.9073513360400925, 0.9516530885677701, -1.2492922098024595, -0.0220801543063839, -2.376519762207996, 0.5068377026671349, -0.518852160856346, 0.8791920492250621, -0.95472187389494, 0.9829015150187494, 0.9083135037895894, -0.9876265347804443, 0.7237661118721117, -0.21998847029808358, 0.35479816545788034, -0.40174861511152066, 0.17975264352827378, 1.1137170160456207, -0.8397472638663248, -1.9543663324006089, -0.2393839379965726, 1.9339191759410028, -0.43836892333319577, 0.3344786325862197, 0.4088563144914219, -2.0170863656846425, 0.2201840809385637, 1.1951916010784036, -0.6354650735287152, -0.4786980038378098, 0.18538761734860001, -0.07703052731169485, -0.5655311347569333, 0.658303520645014, -1.0372927454566931, 0.8686836229086838, 0.7496460470741813, 0.6701395151186833, -0.2584094090099108, 0.3084423241551389, -0.866881539195583, 1.532050241828174, -0.6469809777305825, 0.7602948416168382, 0.6279171380651485, -1.9277658721404594]}, {\"line\": {\"color\": \"rgba(128, 0, 128, 1.0)\", \"dash\": \"solid\", \"shape\": \"linear\", \"width\": 1.3}, \"mode\": \"lines\", \"name\": \"D\", \"text\": \"\", \"type\": \"scatter\", \"x\": [0, 1, 2, 3, 4, 5, 6, 7, 8, 9, 10, 11, 12, 13, 14, 15, 16, 17, 18, 19, 20, 21, 22, 23, 24, 25, 26, 27, 28, 29, 30, 31, 32, 33, 34, 35, 36, 37, 38, 39, 40, 41, 42, 43, 44, 45, 46, 47, 48, 49, 50, 51, 52, 53, 54, 55, 56, 57, 58, 59, 60, 61, 62, 63, 64, 65, 66, 67, 68, 69, 70, 71, 72, 73, 74, 75, 76, 77, 78, 79, 80, 81, 82, 83, 84, 85, 86, 87, 88, 89, 90, 91, 92, 93, 94, 95, 96, 97, 98, 99], \"y\": [-1.6578640708999872, -0.7649732642850833, 1.6197165520401355, 0.6948518600793145, 0.3235947195993021, -0.678889379260725, -0.3361775580924587, -1.4545876441784986, 0.023108673045135805, 0.5101867595881933, 1.708817025073502, -0.8869842616981806, 0.20099256959195583, -1.722319649440159, -0.2740622325464014, -0.36376477466003626, 0.2954422790986494, 0.2664542364691161, 0.4594637388616335, 1.8204605625865262, 0.21517302849203657, 0.9821691075688679, -1.2860083169738288, -0.305990641431503, -1.5308193358988362, 1.5291123841765684, 2.5001498653262813, 0.48181901324010806, 0.6056507504098625, 0.20520138555661727, 0.673657045336006, -0.14473040107917046, 0.0018126574021694651, -0.4055122774768075, -0.1892016009524528, -1.0694261273493544, -0.08101890974558021, -0.3121409698055496, -1.2273820110274363, 1.9758580909333334, 2.3135419287863512, 0.14511856919593644, 0.24653537785366716, 0.07410886277200507, -1.1125930858431627, -1.62096345722258, 0.12113841093134217, 0.3449923788579843, -1.165854220228875, 0.4111965624026121, -0.521758461920156, -1.3467282660705224, -1.3464976477819253, -0.1334108039228377, -0.4131158052454607, -1.1849525526202902, -2.561228768562345, 0.5085899679495604, 0.17624310987041292, 1.519344047572039, 0.6664329635293371, 0.006206355267497318, 0.6192004542379782, -2.1701074059369043, 1.3628884551809142, 0.2629358007957257, 1.7180376557384016, -0.12635718606915208, 0.9603413318049445, -1.6294383721721726, 2.3505547290119964, -1.7138265283773322, -1.7051456933294868, -1.2121786070604732, -0.8909519968250951, -0.8693751607222012, -2.8367209669440276, 1.6272482826606223, -1.7531272081001894, -1.1979630187813524, -0.5948510747913349, 1.1767443139944396, -0.19532606887327594, 1.262050591898131, 1.3038905730529844, -0.3518918170124171, -0.8458549646081417, -0.6645952048914188, -0.9670835527418234, -0.2249632861563061, -1.0738182939561671, -1.8601889573189312, 1.0610754934161017, 0.0010197261376331136, -0.006516285865091261, -1.3713686380602395, 0.3124415434049576, 1.0396442819329668, -0.7238815516848321, -0.48597617377374]}],\n",
       "                        {\"legend\": {\"bgcolor\": \"#F5F6F9\", \"font\": {\"color\": \"#4D5663\"}}, \"paper_bgcolor\": \"#F5F6F9\", \"plot_bgcolor\": \"#F5F6F9\", \"template\": {\"data\": {\"bar\": [{\"error_x\": {\"color\": \"#2a3f5f\"}, \"error_y\": {\"color\": \"#2a3f5f\"}, \"marker\": {\"line\": {\"color\": \"#E5ECF6\", \"width\": 0.5}}, \"type\": \"bar\"}], \"barpolar\": [{\"marker\": {\"line\": {\"color\": \"#E5ECF6\", \"width\": 0.5}}, \"type\": \"barpolar\"}], \"carpet\": [{\"aaxis\": {\"endlinecolor\": \"#2a3f5f\", \"gridcolor\": \"white\", \"linecolor\": \"white\", \"minorgridcolor\": \"white\", \"startlinecolor\": \"#2a3f5f\"}, \"baxis\": {\"endlinecolor\": \"#2a3f5f\", \"gridcolor\": \"white\", \"linecolor\": \"white\", \"minorgridcolor\": \"white\", \"startlinecolor\": \"#2a3f5f\"}, \"type\": \"carpet\"}], \"choropleth\": [{\"colorbar\": {\"outlinewidth\": 0, \"ticks\": \"\"}, \"type\": \"choropleth\"}], \"contour\": [{\"colorbar\": {\"outlinewidth\": 0, \"ticks\": \"\"}, \"colorscale\": [[0.0, \"#0d0887\"], [0.1111111111111111, \"#46039f\"], [0.2222222222222222, \"#7201a8\"], [0.3333333333333333, \"#9c179e\"], [0.4444444444444444, \"#bd3786\"], [0.5555555555555556, \"#d8576b\"], [0.6666666666666666, \"#ed7953\"], [0.7777777777777778, \"#fb9f3a\"], [0.8888888888888888, \"#fdca26\"], [1.0, \"#f0f921\"]], \"type\": \"contour\"}], \"contourcarpet\": [{\"colorbar\": {\"outlinewidth\": 0, \"ticks\": \"\"}, \"type\": \"contourcarpet\"}], \"heatmap\": [{\"colorbar\": {\"outlinewidth\": 0, \"ticks\": \"\"}, \"colorscale\": [[0.0, \"#0d0887\"], [0.1111111111111111, \"#46039f\"], [0.2222222222222222, \"#7201a8\"], [0.3333333333333333, \"#9c179e\"], [0.4444444444444444, \"#bd3786\"], [0.5555555555555556, \"#d8576b\"], [0.6666666666666666, \"#ed7953\"], [0.7777777777777778, \"#fb9f3a\"], [0.8888888888888888, \"#fdca26\"], [1.0, \"#f0f921\"]], \"type\": \"heatmap\"}], \"heatmapgl\": [{\"colorbar\": {\"outlinewidth\": 0, \"ticks\": \"\"}, \"colorscale\": [[0.0, \"#0d0887\"], [0.1111111111111111, \"#46039f\"], [0.2222222222222222, \"#7201a8\"], [0.3333333333333333, \"#9c179e\"], [0.4444444444444444, \"#bd3786\"], [0.5555555555555556, \"#d8576b\"], [0.6666666666666666, \"#ed7953\"], [0.7777777777777778, \"#fb9f3a\"], [0.8888888888888888, \"#fdca26\"], [1.0, \"#f0f921\"]], \"type\": \"heatmapgl\"}], \"histogram\": [{\"marker\": {\"colorbar\": {\"outlinewidth\": 0, \"ticks\": \"\"}}, \"type\": \"histogram\"}], \"histogram2d\": [{\"colorbar\": {\"outlinewidth\": 0, \"ticks\": \"\"}, \"colorscale\": [[0.0, \"#0d0887\"], [0.1111111111111111, \"#46039f\"], [0.2222222222222222, \"#7201a8\"], [0.3333333333333333, \"#9c179e\"], [0.4444444444444444, \"#bd3786\"], [0.5555555555555556, \"#d8576b\"], [0.6666666666666666, \"#ed7953\"], [0.7777777777777778, \"#fb9f3a\"], [0.8888888888888888, \"#fdca26\"], [1.0, \"#f0f921\"]], \"type\": \"histogram2d\"}], \"histogram2dcontour\": [{\"colorbar\": {\"outlinewidth\": 0, \"ticks\": \"\"}, \"colorscale\": [[0.0, \"#0d0887\"], [0.1111111111111111, \"#46039f\"], [0.2222222222222222, \"#7201a8\"], [0.3333333333333333, \"#9c179e\"], [0.4444444444444444, \"#bd3786\"], [0.5555555555555556, \"#d8576b\"], [0.6666666666666666, \"#ed7953\"], [0.7777777777777778, \"#fb9f3a\"], [0.8888888888888888, \"#fdca26\"], [1.0, \"#f0f921\"]], \"type\": \"histogram2dcontour\"}], \"mesh3d\": [{\"colorbar\": {\"outlinewidth\": 0, \"ticks\": \"\"}, \"type\": \"mesh3d\"}], \"parcoords\": [{\"line\": {\"colorbar\": {\"outlinewidth\": 0, \"ticks\": \"\"}}, \"type\": \"parcoords\"}], \"pie\": [{\"automargin\": true, \"type\": \"pie\"}], \"scatter\": [{\"marker\": {\"colorbar\": {\"outlinewidth\": 0, \"ticks\": \"\"}}, \"type\": \"scatter\"}], \"scatter3d\": [{\"line\": {\"colorbar\": {\"outlinewidth\": 0, \"ticks\": \"\"}}, \"marker\": {\"colorbar\": {\"outlinewidth\": 0, \"ticks\": \"\"}}, \"type\": \"scatter3d\"}], \"scattercarpet\": [{\"marker\": {\"colorbar\": {\"outlinewidth\": 0, \"ticks\": \"\"}}, \"type\": \"scattercarpet\"}], \"scattergeo\": [{\"marker\": {\"colorbar\": {\"outlinewidth\": 0, \"ticks\": \"\"}}, \"type\": \"scattergeo\"}], \"scattergl\": [{\"marker\": {\"colorbar\": {\"outlinewidth\": 0, \"ticks\": \"\"}}, \"type\": \"scattergl\"}], \"scattermapbox\": [{\"marker\": {\"colorbar\": {\"outlinewidth\": 0, \"ticks\": \"\"}}, \"type\": \"scattermapbox\"}], \"scatterpolar\": [{\"marker\": {\"colorbar\": {\"outlinewidth\": 0, \"ticks\": \"\"}}, \"type\": \"scatterpolar\"}], \"scatterpolargl\": [{\"marker\": {\"colorbar\": {\"outlinewidth\": 0, \"ticks\": \"\"}}, \"type\": \"scatterpolargl\"}], \"scatterternary\": [{\"marker\": {\"colorbar\": {\"outlinewidth\": 0, \"ticks\": \"\"}}, \"type\": \"scatterternary\"}], \"surface\": [{\"colorbar\": {\"outlinewidth\": 0, \"ticks\": \"\"}, \"colorscale\": [[0.0, \"#0d0887\"], [0.1111111111111111, \"#46039f\"], [0.2222222222222222, \"#7201a8\"], [0.3333333333333333, \"#9c179e\"], [0.4444444444444444, \"#bd3786\"], [0.5555555555555556, \"#d8576b\"], [0.6666666666666666, \"#ed7953\"], [0.7777777777777778, \"#fb9f3a\"], [0.8888888888888888, \"#fdca26\"], [1.0, \"#f0f921\"]], \"type\": \"surface\"}], \"table\": [{\"cells\": {\"fill\": {\"color\": \"#EBF0F8\"}, \"line\": {\"color\": \"white\"}}, \"header\": {\"fill\": {\"color\": \"#C8D4E3\"}, \"line\": {\"color\": \"white\"}}, \"type\": \"table\"}]}, \"layout\": {\"annotationdefaults\": {\"arrowcolor\": \"#2a3f5f\", \"arrowhead\": 0, \"arrowwidth\": 1}, \"coloraxis\": {\"colorbar\": {\"outlinewidth\": 0, \"ticks\": \"\"}}, \"colorscale\": {\"diverging\": [[0, \"#8e0152\"], [0.1, \"#c51b7d\"], [0.2, \"#de77ae\"], [0.3, \"#f1b6da\"], [0.4, \"#fde0ef\"], [0.5, \"#f7f7f7\"], [0.6, \"#e6f5d0\"], [0.7, \"#b8e186\"], [0.8, \"#7fbc41\"], [0.9, \"#4d9221\"], [1, \"#276419\"]], \"sequential\": [[0.0, \"#0d0887\"], [0.1111111111111111, \"#46039f\"], [0.2222222222222222, \"#7201a8\"], [0.3333333333333333, \"#9c179e\"], [0.4444444444444444, \"#bd3786\"], [0.5555555555555556, \"#d8576b\"], [0.6666666666666666, \"#ed7953\"], [0.7777777777777778, \"#fb9f3a\"], [0.8888888888888888, \"#fdca26\"], [1.0, \"#f0f921\"]], \"sequentialminus\": [[0.0, \"#0d0887\"], [0.1111111111111111, \"#46039f\"], [0.2222222222222222, \"#7201a8\"], [0.3333333333333333, \"#9c179e\"], [0.4444444444444444, \"#bd3786\"], [0.5555555555555556, \"#d8576b\"], [0.6666666666666666, \"#ed7953\"], [0.7777777777777778, \"#fb9f3a\"], [0.8888888888888888, \"#fdca26\"], [1.0, \"#f0f921\"]]}, \"colorway\": [\"#636efa\", \"#EF553B\", \"#00cc96\", \"#ab63fa\", \"#FFA15A\", \"#19d3f3\", \"#FF6692\", \"#B6E880\", \"#FF97FF\", \"#FECB52\"], \"font\": {\"color\": \"#2a3f5f\"}, \"geo\": {\"bgcolor\": \"white\", \"lakecolor\": \"white\", \"landcolor\": \"#E5ECF6\", \"showlakes\": true, \"showland\": true, \"subunitcolor\": \"white\"}, \"hoverlabel\": {\"align\": \"left\"}, \"hovermode\": \"closest\", \"mapbox\": {\"style\": \"light\"}, \"paper_bgcolor\": \"white\", \"plot_bgcolor\": \"#E5ECF6\", \"polar\": {\"angularaxis\": {\"gridcolor\": \"white\", \"linecolor\": \"white\", \"ticks\": \"\"}, \"bgcolor\": \"#E5ECF6\", \"radialaxis\": {\"gridcolor\": \"white\", \"linecolor\": \"white\", \"ticks\": \"\"}}, \"scene\": {\"xaxis\": {\"backgroundcolor\": \"#E5ECF6\", \"gridcolor\": \"white\", \"gridwidth\": 2, \"linecolor\": \"white\", \"showbackground\": true, \"ticks\": \"\", \"zerolinecolor\": \"white\"}, \"yaxis\": {\"backgroundcolor\": \"#E5ECF6\", \"gridcolor\": \"white\", \"gridwidth\": 2, \"linecolor\": \"white\", \"showbackground\": true, \"ticks\": \"\", \"zerolinecolor\": \"white\"}, \"zaxis\": {\"backgroundcolor\": \"#E5ECF6\", \"gridcolor\": \"white\", \"gridwidth\": 2, \"linecolor\": \"white\", \"showbackground\": true, \"ticks\": \"\", \"zerolinecolor\": \"white\"}}, \"shapedefaults\": {\"line\": {\"color\": \"#2a3f5f\"}}, \"ternary\": {\"aaxis\": {\"gridcolor\": \"white\", \"linecolor\": \"white\", \"ticks\": \"\"}, \"baxis\": {\"gridcolor\": \"white\", \"linecolor\": \"white\", \"ticks\": \"\"}, \"bgcolor\": \"#E5ECF6\", \"caxis\": {\"gridcolor\": \"white\", \"linecolor\": \"white\", \"ticks\": \"\"}}, \"title\": {\"x\": 0.05}, \"xaxis\": {\"automargin\": true, \"gridcolor\": \"white\", \"linecolor\": \"white\", \"ticks\": \"\", \"title\": {\"standoff\": 15}, \"zerolinecolor\": \"white\", \"zerolinewidth\": 2}, \"yaxis\": {\"automargin\": true, \"gridcolor\": \"white\", \"linecolor\": \"white\", \"ticks\": \"\", \"title\": {\"standoff\": 15}, \"zerolinecolor\": \"white\", \"zerolinewidth\": 2}}}, \"title\": {\"font\": {\"color\": \"#4D5663\"}}, \"xaxis\": {\"gridcolor\": \"#E1E5ED\", \"showgrid\": true, \"tickfont\": {\"color\": \"#4D5663\"}, \"title\": {\"font\": {\"color\": \"#4D5663\"}, \"text\": \"\"}, \"zerolinecolor\": \"#E1E5ED\"}, \"yaxis\": {\"gridcolor\": \"#E1E5ED\", \"showgrid\": true, \"tickfont\": {\"color\": \"#4D5663\"}, \"title\": {\"font\": {\"color\": \"#4D5663\"}, \"text\": \"\"}, \"zerolinecolor\": \"#E1E5ED\"}},\n",
       "                        {\"showLink\": true, \"linkText\": \"Export to plot.ly\", \"plotlyServerURL\": \"https://plot.ly\", \"responsive\": true}\n",
       "                    ).then(function(){\n",
       "                            \n",
       "var gd = document.getElementById('32d70f5f-0df7-4927-b4a7-2e145ade18ea');\n",
       "var x = new MutationObserver(function (mutations, observer) {{\n",
       "        var display = window.getComputedStyle(gd).display;\n",
       "        if (!display || display === 'none') {{\n",
       "            console.log([gd, 'removed!']);\n",
       "            Plotly.purge(gd);\n",
       "            observer.disconnect();\n",
       "        }}\n",
       "}});\n",
       "\n",
       "// Listen for the removal of the full notebook cells\n",
       "var notebookContainer = gd.closest('#notebook-container');\n",
       "if (notebookContainer) {{\n",
       "    x.observe(notebookContainer, {childList: true});\n",
       "}}\n",
       "\n",
       "// Listen for the clearing of the current output cell\n",
       "var outputEl = gd.closest('.output');\n",
       "if (outputEl) {{\n",
       "    x.observe(outputEl, {childList: true});\n",
       "}}\n",
       "\n",
       "                        })\n",
       "                };\n",
       "                });\n",
       "            </script>\n",
       "        </div>"
      ]
     },
     "metadata": {},
     "output_type": "display_data"
    }
   ],
   "source": [
    "df.iplot()"
   ]
  },
  {
   "cell_type": "code",
   "execution_count": 16,
   "metadata": {},
   "outputs": [
    {
     "data": {
      "application/vnd.plotly.v1+json": {
       "config": {
        "linkText": "Export to plot.ly",
        "plotlyServerURL": "https://plot.ly",
        "showLink": true
       },
       "data": [
        {
         "marker": {
          "color": "rgba(255, 153, 51, 0.6)",
          "line": {
           "color": "rgba(255, 153, 51, 1.0)",
           "width": 1
          }
         },
         "name": "None",
         "orientation": "v",
         "text": "",
         "type": "bar",
         "x": [
          "A",
          "B",
          "C",
          "D"
         ],
         "y": [
          0.0750856721975032,
          0.08726376023379086,
          0.05588919369576767,
          -0.12885250437540452
         ]
        }
       ],
       "layout": {
        "legend": {
         "bgcolor": "#F5F6F9",
         "font": {
          "color": "#4D5663"
         }
        },
        "paper_bgcolor": "#F5F6F9",
        "plot_bgcolor": "#F5F6F9",
        "template": {
         "data": {
          "bar": [
           {
            "error_x": {
             "color": "#2a3f5f"
            },
            "error_y": {
             "color": "#2a3f5f"
            },
            "marker": {
             "line": {
              "color": "#E5ECF6",
              "width": 0.5
             }
            },
            "type": "bar"
           }
          ],
          "barpolar": [
           {
            "marker": {
             "line": {
              "color": "#E5ECF6",
              "width": 0.5
             }
            },
            "type": "barpolar"
           }
          ],
          "carpet": [
           {
            "aaxis": {
             "endlinecolor": "#2a3f5f",
             "gridcolor": "white",
             "linecolor": "white",
             "minorgridcolor": "white",
             "startlinecolor": "#2a3f5f"
            },
            "baxis": {
             "endlinecolor": "#2a3f5f",
             "gridcolor": "white",
             "linecolor": "white",
             "minorgridcolor": "white",
             "startlinecolor": "#2a3f5f"
            },
            "type": "carpet"
           }
          ],
          "choropleth": [
           {
            "colorbar": {
             "outlinewidth": 0,
             "ticks": ""
            },
            "type": "choropleth"
           }
          ],
          "contour": [
           {
            "colorbar": {
             "outlinewidth": 0,
             "ticks": ""
            },
            "colorscale": [
             [
              0,
              "#0d0887"
             ],
             [
              0.1111111111111111,
              "#46039f"
             ],
             [
              0.2222222222222222,
              "#7201a8"
             ],
             [
              0.3333333333333333,
              "#9c179e"
             ],
             [
              0.4444444444444444,
              "#bd3786"
             ],
             [
              0.5555555555555556,
              "#d8576b"
             ],
             [
              0.6666666666666666,
              "#ed7953"
             ],
             [
              0.7777777777777778,
              "#fb9f3a"
             ],
             [
              0.8888888888888888,
              "#fdca26"
             ],
             [
              1,
              "#f0f921"
             ]
            ],
            "type": "contour"
           }
          ],
          "contourcarpet": [
           {
            "colorbar": {
             "outlinewidth": 0,
             "ticks": ""
            },
            "type": "contourcarpet"
           }
          ],
          "heatmap": [
           {
            "colorbar": {
             "outlinewidth": 0,
             "ticks": ""
            },
            "colorscale": [
             [
              0,
              "#0d0887"
             ],
             [
              0.1111111111111111,
              "#46039f"
             ],
             [
              0.2222222222222222,
              "#7201a8"
             ],
             [
              0.3333333333333333,
              "#9c179e"
             ],
             [
              0.4444444444444444,
              "#bd3786"
             ],
             [
              0.5555555555555556,
              "#d8576b"
             ],
             [
              0.6666666666666666,
              "#ed7953"
             ],
             [
              0.7777777777777778,
              "#fb9f3a"
             ],
             [
              0.8888888888888888,
              "#fdca26"
             ],
             [
              1,
              "#f0f921"
             ]
            ],
            "type": "heatmap"
           }
          ],
          "heatmapgl": [
           {
            "colorbar": {
             "outlinewidth": 0,
             "ticks": ""
            },
            "colorscale": [
             [
              0,
              "#0d0887"
             ],
             [
              0.1111111111111111,
              "#46039f"
             ],
             [
              0.2222222222222222,
              "#7201a8"
             ],
             [
              0.3333333333333333,
              "#9c179e"
             ],
             [
              0.4444444444444444,
              "#bd3786"
             ],
             [
              0.5555555555555556,
              "#d8576b"
             ],
             [
              0.6666666666666666,
              "#ed7953"
             ],
             [
              0.7777777777777778,
              "#fb9f3a"
             ],
             [
              0.8888888888888888,
              "#fdca26"
             ],
             [
              1,
              "#f0f921"
             ]
            ],
            "type": "heatmapgl"
           }
          ],
          "histogram": [
           {
            "marker": {
             "colorbar": {
              "outlinewidth": 0,
              "ticks": ""
             }
            },
            "type": "histogram"
           }
          ],
          "histogram2d": [
           {
            "colorbar": {
             "outlinewidth": 0,
             "ticks": ""
            },
            "colorscale": [
             [
              0,
              "#0d0887"
             ],
             [
              0.1111111111111111,
              "#46039f"
             ],
             [
              0.2222222222222222,
              "#7201a8"
             ],
             [
              0.3333333333333333,
              "#9c179e"
             ],
             [
              0.4444444444444444,
              "#bd3786"
             ],
             [
              0.5555555555555556,
              "#d8576b"
             ],
             [
              0.6666666666666666,
              "#ed7953"
             ],
             [
              0.7777777777777778,
              "#fb9f3a"
             ],
             [
              0.8888888888888888,
              "#fdca26"
             ],
             [
              1,
              "#f0f921"
             ]
            ],
            "type": "histogram2d"
           }
          ],
          "histogram2dcontour": [
           {
            "colorbar": {
             "outlinewidth": 0,
             "ticks": ""
            },
            "colorscale": [
             [
              0,
              "#0d0887"
             ],
             [
              0.1111111111111111,
              "#46039f"
             ],
             [
              0.2222222222222222,
              "#7201a8"
             ],
             [
              0.3333333333333333,
              "#9c179e"
             ],
             [
              0.4444444444444444,
              "#bd3786"
             ],
             [
              0.5555555555555556,
              "#d8576b"
             ],
             [
              0.6666666666666666,
              "#ed7953"
             ],
             [
              0.7777777777777778,
              "#fb9f3a"
             ],
             [
              0.8888888888888888,
              "#fdca26"
             ],
             [
              1,
              "#f0f921"
             ]
            ],
            "type": "histogram2dcontour"
           }
          ],
          "mesh3d": [
           {
            "colorbar": {
             "outlinewidth": 0,
             "ticks": ""
            },
            "type": "mesh3d"
           }
          ],
          "parcoords": [
           {
            "line": {
             "colorbar": {
              "outlinewidth": 0,
              "ticks": ""
             }
            },
            "type": "parcoords"
           }
          ],
          "pie": [
           {
            "automargin": true,
            "type": "pie"
           }
          ],
          "scatter": [
           {
            "marker": {
             "colorbar": {
              "outlinewidth": 0,
              "ticks": ""
             }
            },
            "type": "scatter"
           }
          ],
          "scatter3d": [
           {
            "line": {
             "colorbar": {
              "outlinewidth": 0,
              "ticks": ""
             }
            },
            "marker": {
             "colorbar": {
              "outlinewidth": 0,
              "ticks": ""
             }
            },
            "type": "scatter3d"
           }
          ],
          "scattercarpet": [
           {
            "marker": {
             "colorbar": {
              "outlinewidth": 0,
              "ticks": ""
             }
            },
            "type": "scattercarpet"
           }
          ],
          "scattergeo": [
           {
            "marker": {
             "colorbar": {
              "outlinewidth": 0,
              "ticks": ""
             }
            },
            "type": "scattergeo"
           }
          ],
          "scattergl": [
           {
            "marker": {
             "colorbar": {
              "outlinewidth": 0,
              "ticks": ""
             }
            },
            "type": "scattergl"
           }
          ],
          "scattermapbox": [
           {
            "marker": {
             "colorbar": {
              "outlinewidth": 0,
              "ticks": ""
             }
            },
            "type": "scattermapbox"
           }
          ],
          "scatterpolar": [
           {
            "marker": {
             "colorbar": {
              "outlinewidth": 0,
              "ticks": ""
             }
            },
            "type": "scatterpolar"
           }
          ],
          "scatterpolargl": [
           {
            "marker": {
             "colorbar": {
              "outlinewidth": 0,
              "ticks": ""
             }
            },
            "type": "scatterpolargl"
           }
          ],
          "scatterternary": [
           {
            "marker": {
             "colorbar": {
              "outlinewidth": 0,
              "ticks": ""
             }
            },
            "type": "scatterternary"
           }
          ],
          "surface": [
           {
            "colorbar": {
             "outlinewidth": 0,
             "ticks": ""
            },
            "colorscale": [
             [
              0,
              "#0d0887"
             ],
             [
              0.1111111111111111,
              "#46039f"
             ],
             [
              0.2222222222222222,
              "#7201a8"
             ],
             [
              0.3333333333333333,
              "#9c179e"
             ],
             [
              0.4444444444444444,
              "#bd3786"
             ],
             [
              0.5555555555555556,
              "#d8576b"
             ],
             [
              0.6666666666666666,
              "#ed7953"
             ],
             [
              0.7777777777777778,
              "#fb9f3a"
             ],
             [
              0.8888888888888888,
              "#fdca26"
             ],
             [
              1,
              "#f0f921"
             ]
            ],
            "type": "surface"
           }
          ],
          "table": [
           {
            "cells": {
             "fill": {
              "color": "#EBF0F8"
             },
             "line": {
              "color": "white"
             }
            },
            "header": {
             "fill": {
              "color": "#C8D4E3"
             },
             "line": {
              "color": "white"
             }
            },
            "type": "table"
           }
          ]
         },
         "layout": {
          "annotationdefaults": {
           "arrowcolor": "#2a3f5f",
           "arrowhead": 0,
           "arrowwidth": 1
          },
          "coloraxis": {
           "colorbar": {
            "outlinewidth": 0,
            "ticks": ""
           }
          },
          "colorscale": {
           "diverging": [
            [
             0,
             "#8e0152"
            ],
            [
             0.1,
             "#c51b7d"
            ],
            [
             0.2,
             "#de77ae"
            ],
            [
             0.3,
             "#f1b6da"
            ],
            [
             0.4,
             "#fde0ef"
            ],
            [
             0.5,
             "#f7f7f7"
            ],
            [
             0.6,
             "#e6f5d0"
            ],
            [
             0.7,
             "#b8e186"
            ],
            [
             0.8,
             "#7fbc41"
            ],
            [
             0.9,
             "#4d9221"
            ],
            [
             1,
             "#276419"
            ]
           ],
           "sequential": [
            [
             0,
             "#0d0887"
            ],
            [
             0.1111111111111111,
             "#46039f"
            ],
            [
             0.2222222222222222,
             "#7201a8"
            ],
            [
             0.3333333333333333,
             "#9c179e"
            ],
            [
             0.4444444444444444,
             "#bd3786"
            ],
            [
             0.5555555555555556,
             "#d8576b"
            ],
            [
             0.6666666666666666,
             "#ed7953"
            ],
            [
             0.7777777777777778,
             "#fb9f3a"
            ],
            [
             0.8888888888888888,
             "#fdca26"
            ],
            [
             1,
             "#f0f921"
            ]
           ],
           "sequentialminus": [
            [
             0,
             "#0d0887"
            ],
            [
             0.1111111111111111,
             "#46039f"
            ],
            [
             0.2222222222222222,
             "#7201a8"
            ],
            [
             0.3333333333333333,
             "#9c179e"
            ],
            [
             0.4444444444444444,
             "#bd3786"
            ],
            [
             0.5555555555555556,
             "#d8576b"
            ],
            [
             0.6666666666666666,
             "#ed7953"
            ],
            [
             0.7777777777777778,
             "#fb9f3a"
            ],
            [
             0.8888888888888888,
             "#fdca26"
            ],
            [
             1,
             "#f0f921"
            ]
           ]
          },
          "colorway": [
           "#636efa",
           "#EF553B",
           "#00cc96",
           "#ab63fa",
           "#FFA15A",
           "#19d3f3",
           "#FF6692",
           "#B6E880",
           "#FF97FF",
           "#FECB52"
          ],
          "font": {
           "color": "#2a3f5f"
          },
          "geo": {
           "bgcolor": "white",
           "lakecolor": "white",
           "landcolor": "#E5ECF6",
           "showlakes": true,
           "showland": true,
           "subunitcolor": "white"
          },
          "hoverlabel": {
           "align": "left"
          },
          "hovermode": "closest",
          "mapbox": {
           "style": "light"
          },
          "paper_bgcolor": "white",
          "plot_bgcolor": "#E5ECF6",
          "polar": {
           "angularaxis": {
            "gridcolor": "white",
            "linecolor": "white",
            "ticks": ""
           },
           "bgcolor": "#E5ECF6",
           "radialaxis": {
            "gridcolor": "white",
            "linecolor": "white",
            "ticks": ""
           }
          },
          "scene": {
           "xaxis": {
            "backgroundcolor": "#E5ECF6",
            "gridcolor": "white",
            "gridwidth": 2,
            "linecolor": "white",
            "showbackground": true,
            "ticks": "",
            "zerolinecolor": "white"
           },
           "yaxis": {
            "backgroundcolor": "#E5ECF6",
            "gridcolor": "white",
            "gridwidth": 2,
            "linecolor": "white",
            "showbackground": true,
            "ticks": "",
            "zerolinecolor": "white"
           },
           "zaxis": {
            "backgroundcolor": "#E5ECF6",
            "gridcolor": "white",
            "gridwidth": 2,
            "linecolor": "white",
            "showbackground": true,
            "ticks": "",
            "zerolinecolor": "white"
           }
          },
          "shapedefaults": {
           "line": {
            "color": "#2a3f5f"
           }
          },
          "ternary": {
           "aaxis": {
            "gridcolor": "white",
            "linecolor": "white",
            "ticks": ""
           },
           "baxis": {
            "gridcolor": "white",
            "linecolor": "white",
            "ticks": ""
           },
           "bgcolor": "#E5ECF6",
           "caxis": {
            "gridcolor": "white",
            "linecolor": "white",
            "ticks": ""
           }
          },
          "title": {
           "x": 0.05
          },
          "xaxis": {
           "automargin": true,
           "gridcolor": "white",
           "linecolor": "white",
           "ticks": "",
           "title": {
            "standoff": 15
           },
           "zerolinecolor": "white",
           "zerolinewidth": 2
          },
          "yaxis": {
           "automargin": true,
           "gridcolor": "white",
           "linecolor": "white",
           "ticks": "",
           "title": {
            "standoff": 15
           },
           "zerolinecolor": "white",
           "zerolinewidth": 2
          }
         }
        },
        "title": {
         "font": {
          "color": "#4D5663"
         }
        },
        "xaxis": {
         "gridcolor": "#E1E5ED",
         "showgrid": true,
         "tickfont": {
          "color": "#4D5663"
         },
         "title": {
          "font": {
           "color": "#4D5663"
          },
          "text": ""
         },
         "zerolinecolor": "#E1E5ED"
        },
        "yaxis": {
         "gridcolor": "#E1E5ED",
         "showgrid": true,
         "tickfont": {
          "color": "#4D5663"
         },
         "title": {
          "font": {
           "color": "#4D5663"
          },
          "text": ""
         },
         "zerolinecolor": "#E1E5ED"
        }
       }
      },
      "text/html": [
       "<div>\n",
       "        \n",
       "        \n",
       "            <div id=\"e76c1f2f-e34f-4df8-ae95-edbb93e13d32\" class=\"plotly-graph-div\" style=\"height:525px; width:100%;\"></div>\n",
       "            <script type=\"text/javascript\">\n",
       "                require([\"plotly\"], function(Plotly) {\n",
       "                    window.PLOTLYENV=window.PLOTLYENV || {};\n",
       "                    window.PLOTLYENV.BASE_URL='https://plot.ly';\n",
       "                    \n",
       "                if (document.getElementById(\"e76c1f2f-e34f-4df8-ae95-edbb93e13d32\")) {\n",
       "                    Plotly.newPlot(\n",
       "                        'e76c1f2f-e34f-4df8-ae95-edbb93e13d32',\n",
       "                        [{\"marker\": {\"color\": \"rgba(255, 153, 51, 0.6)\", \"line\": {\"color\": \"rgba(255, 153, 51, 1.0)\", \"width\": 1}}, \"name\": \"None\", \"orientation\": \"v\", \"text\": \"\", \"type\": \"bar\", \"x\": [\"A\", \"B\", \"C\", \"D\"], \"y\": [0.0750856721975032, 0.08726376023379086, 0.05588919369576767, -0.12885250437540452]}],\n",
       "                        {\"legend\": {\"bgcolor\": \"#F5F6F9\", \"font\": {\"color\": \"#4D5663\"}}, \"paper_bgcolor\": \"#F5F6F9\", \"plot_bgcolor\": \"#F5F6F9\", \"template\": {\"data\": {\"bar\": [{\"error_x\": {\"color\": \"#2a3f5f\"}, \"error_y\": {\"color\": \"#2a3f5f\"}, \"marker\": {\"line\": {\"color\": \"#E5ECF6\", \"width\": 0.5}}, \"type\": \"bar\"}], \"barpolar\": [{\"marker\": {\"line\": {\"color\": \"#E5ECF6\", \"width\": 0.5}}, \"type\": \"barpolar\"}], \"carpet\": [{\"aaxis\": {\"endlinecolor\": \"#2a3f5f\", \"gridcolor\": \"white\", \"linecolor\": \"white\", \"minorgridcolor\": \"white\", \"startlinecolor\": \"#2a3f5f\"}, \"baxis\": {\"endlinecolor\": \"#2a3f5f\", \"gridcolor\": \"white\", \"linecolor\": \"white\", \"minorgridcolor\": \"white\", \"startlinecolor\": \"#2a3f5f\"}, \"type\": \"carpet\"}], \"choropleth\": [{\"colorbar\": {\"outlinewidth\": 0, \"ticks\": \"\"}, \"type\": \"choropleth\"}], \"contour\": [{\"colorbar\": {\"outlinewidth\": 0, \"ticks\": \"\"}, \"colorscale\": [[0.0, \"#0d0887\"], [0.1111111111111111, \"#46039f\"], [0.2222222222222222, \"#7201a8\"], [0.3333333333333333, \"#9c179e\"], [0.4444444444444444, \"#bd3786\"], [0.5555555555555556, \"#d8576b\"], [0.6666666666666666, \"#ed7953\"], [0.7777777777777778, \"#fb9f3a\"], [0.8888888888888888, \"#fdca26\"], [1.0, \"#f0f921\"]], \"type\": \"contour\"}], \"contourcarpet\": [{\"colorbar\": {\"outlinewidth\": 0, \"ticks\": \"\"}, \"type\": \"contourcarpet\"}], \"heatmap\": [{\"colorbar\": {\"outlinewidth\": 0, \"ticks\": \"\"}, \"colorscale\": [[0.0, \"#0d0887\"], [0.1111111111111111, \"#46039f\"], [0.2222222222222222, \"#7201a8\"], [0.3333333333333333, \"#9c179e\"], [0.4444444444444444, \"#bd3786\"], [0.5555555555555556, \"#d8576b\"], [0.6666666666666666, \"#ed7953\"], [0.7777777777777778, \"#fb9f3a\"], [0.8888888888888888, \"#fdca26\"], [1.0, \"#f0f921\"]], \"type\": \"heatmap\"}], \"heatmapgl\": [{\"colorbar\": {\"outlinewidth\": 0, \"ticks\": \"\"}, \"colorscale\": [[0.0, \"#0d0887\"], [0.1111111111111111, \"#46039f\"], [0.2222222222222222, \"#7201a8\"], [0.3333333333333333, \"#9c179e\"], [0.4444444444444444, \"#bd3786\"], [0.5555555555555556, \"#d8576b\"], [0.6666666666666666, \"#ed7953\"], [0.7777777777777778, \"#fb9f3a\"], [0.8888888888888888, \"#fdca26\"], [1.0, \"#f0f921\"]], \"type\": \"heatmapgl\"}], \"histogram\": [{\"marker\": {\"colorbar\": {\"outlinewidth\": 0, \"ticks\": \"\"}}, \"type\": \"histogram\"}], \"histogram2d\": [{\"colorbar\": {\"outlinewidth\": 0, \"ticks\": \"\"}, \"colorscale\": [[0.0, \"#0d0887\"], [0.1111111111111111, \"#46039f\"], [0.2222222222222222, \"#7201a8\"], [0.3333333333333333, \"#9c179e\"], [0.4444444444444444, \"#bd3786\"], [0.5555555555555556, \"#d8576b\"], [0.6666666666666666, \"#ed7953\"], [0.7777777777777778, \"#fb9f3a\"], [0.8888888888888888, \"#fdca26\"], [1.0, \"#f0f921\"]], \"type\": \"histogram2d\"}], \"histogram2dcontour\": [{\"colorbar\": {\"outlinewidth\": 0, \"ticks\": \"\"}, \"colorscale\": [[0.0, \"#0d0887\"], [0.1111111111111111, \"#46039f\"], [0.2222222222222222, \"#7201a8\"], [0.3333333333333333, \"#9c179e\"], [0.4444444444444444, \"#bd3786\"], [0.5555555555555556, \"#d8576b\"], [0.6666666666666666, \"#ed7953\"], [0.7777777777777778, \"#fb9f3a\"], [0.8888888888888888, \"#fdca26\"], [1.0, \"#f0f921\"]], \"type\": \"histogram2dcontour\"}], \"mesh3d\": [{\"colorbar\": {\"outlinewidth\": 0, \"ticks\": \"\"}, \"type\": \"mesh3d\"}], \"parcoords\": [{\"line\": {\"colorbar\": {\"outlinewidth\": 0, \"ticks\": \"\"}}, \"type\": \"parcoords\"}], \"pie\": [{\"automargin\": true, \"type\": \"pie\"}], \"scatter\": [{\"marker\": {\"colorbar\": {\"outlinewidth\": 0, \"ticks\": \"\"}}, \"type\": \"scatter\"}], \"scatter3d\": [{\"line\": {\"colorbar\": {\"outlinewidth\": 0, \"ticks\": \"\"}}, \"marker\": {\"colorbar\": {\"outlinewidth\": 0, \"ticks\": \"\"}}, \"type\": \"scatter3d\"}], \"scattercarpet\": [{\"marker\": {\"colorbar\": {\"outlinewidth\": 0, \"ticks\": \"\"}}, \"type\": \"scattercarpet\"}], \"scattergeo\": [{\"marker\": {\"colorbar\": {\"outlinewidth\": 0, \"ticks\": \"\"}}, \"type\": \"scattergeo\"}], \"scattergl\": [{\"marker\": {\"colorbar\": {\"outlinewidth\": 0, \"ticks\": \"\"}}, \"type\": \"scattergl\"}], \"scattermapbox\": [{\"marker\": {\"colorbar\": {\"outlinewidth\": 0, \"ticks\": \"\"}}, \"type\": \"scattermapbox\"}], \"scatterpolar\": [{\"marker\": {\"colorbar\": {\"outlinewidth\": 0, \"ticks\": \"\"}}, \"type\": \"scatterpolar\"}], \"scatterpolargl\": [{\"marker\": {\"colorbar\": {\"outlinewidth\": 0, \"ticks\": \"\"}}, \"type\": \"scatterpolargl\"}], \"scatterternary\": [{\"marker\": {\"colorbar\": {\"outlinewidth\": 0, \"ticks\": \"\"}}, \"type\": \"scatterternary\"}], \"surface\": [{\"colorbar\": {\"outlinewidth\": 0, \"ticks\": \"\"}, \"colorscale\": [[0.0, \"#0d0887\"], [0.1111111111111111, \"#46039f\"], [0.2222222222222222, \"#7201a8\"], [0.3333333333333333, \"#9c179e\"], [0.4444444444444444, \"#bd3786\"], [0.5555555555555556, \"#d8576b\"], [0.6666666666666666, \"#ed7953\"], [0.7777777777777778, \"#fb9f3a\"], [0.8888888888888888, \"#fdca26\"], [1.0, \"#f0f921\"]], \"type\": \"surface\"}], \"table\": [{\"cells\": {\"fill\": {\"color\": \"#EBF0F8\"}, \"line\": {\"color\": \"white\"}}, \"header\": {\"fill\": {\"color\": \"#C8D4E3\"}, \"line\": {\"color\": \"white\"}}, \"type\": \"table\"}]}, \"layout\": {\"annotationdefaults\": {\"arrowcolor\": \"#2a3f5f\", \"arrowhead\": 0, \"arrowwidth\": 1}, \"coloraxis\": {\"colorbar\": {\"outlinewidth\": 0, \"ticks\": \"\"}}, \"colorscale\": {\"diverging\": [[0, \"#8e0152\"], [0.1, \"#c51b7d\"], [0.2, \"#de77ae\"], [0.3, \"#f1b6da\"], [0.4, \"#fde0ef\"], [0.5, \"#f7f7f7\"], [0.6, \"#e6f5d0\"], [0.7, \"#b8e186\"], [0.8, \"#7fbc41\"], [0.9, \"#4d9221\"], [1, \"#276419\"]], \"sequential\": [[0.0, \"#0d0887\"], [0.1111111111111111, \"#46039f\"], [0.2222222222222222, \"#7201a8\"], [0.3333333333333333, \"#9c179e\"], [0.4444444444444444, \"#bd3786\"], [0.5555555555555556, \"#d8576b\"], [0.6666666666666666, \"#ed7953\"], [0.7777777777777778, \"#fb9f3a\"], [0.8888888888888888, \"#fdca26\"], [1.0, \"#f0f921\"]], \"sequentialminus\": [[0.0, \"#0d0887\"], [0.1111111111111111, \"#46039f\"], [0.2222222222222222, \"#7201a8\"], [0.3333333333333333, \"#9c179e\"], [0.4444444444444444, \"#bd3786\"], [0.5555555555555556, \"#d8576b\"], [0.6666666666666666, \"#ed7953\"], [0.7777777777777778, \"#fb9f3a\"], [0.8888888888888888, \"#fdca26\"], [1.0, \"#f0f921\"]]}, \"colorway\": [\"#636efa\", \"#EF553B\", \"#00cc96\", \"#ab63fa\", \"#FFA15A\", \"#19d3f3\", \"#FF6692\", \"#B6E880\", \"#FF97FF\", \"#FECB52\"], \"font\": {\"color\": \"#2a3f5f\"}, \"geo\": {\"bgcolor\": \"white\", \"lakecolor\": \"white\", \"landcolor\": \"#E5ECF6\", \"showlakes\": true, \"showland\": true, \"subunitcolor\": \"white\"}, \"hoverlabel\": {\"align\": \"left\"}, \"hovermode\": \"closest\", \"mapbox\": {\"style\": \"light\"}, \"paper_bgcolor\": \"white\", \"plot_bgcolor\": \"#E5ECF6\", \"polar\": {\"angularaxis\": {\"gridcolor\": \"white\", \"linecolor\": \"white\", \"ticks\": \"\"}, \"bgcolor\": \"#E5ECF6\", \"radialaxis\": {\"gridcolor\": \"white\", \"linecolor\": \"white\", \"ticks\": \"\"}}, \"scene\": {\"xaxis\": {\"backgroundcolor\": \"#E5ECF6\", \"gridcolor\": \"white\", \"gridwidth\": 2, \"linecolor\": \"white\", \"showbackground\": true, \"ticks\": \"\", \"zerolinecolor\": \"white\"}, \"yaxis\": {\"backgroundcolor\": \"#E5ECF6\", \"gridcolor\": \"white\", \"gridwidth\": 2, \"linecolor\": \"white\", \"showbackground\": true, \"ticks\": \"\", \"zerolinecolor\": \"white\"}, \"zaxis\": {\"backgroundcolor\": \"#E5ECF6\", \"gridcolor\": \"white\", \"gridwidth\": 2, \"linecolor\": \"white\", \"showbackground\": true, \"ticks\": \"\", \"zerolinecolor\": \"white\"}}, \"shapedefaults\": {\"line\": {\"color\": \"#2a3f5f\"}}, \"ternary\": {\"aaxis\": {\"gridcolor\": \"white\", \"linecolor\": \"white\", \"ticks\": \"\"}, \"baxis\": {\"gridcolor\": \"white\", \"linecolor\": \"white\", \"ticks\": \"\"}, \"bgcolor\": \"#E5ECF6\", \"caxis\": {\"gridcolor\": \"white\", \"linecolor\": \"white\", \"ticks\": \"\"}}, \"title\": {\"x\": 0.05}, \"xaxis\": {\"automargin\": true, \"gridcolor\": \"white\", \"linecolor\": \"white\", \"ticks\": \"\", \"title\": {\"standoff\": 15}, \"zerolinecolor\": \"white\", \"zerolinewidth\": 2}, \"yaxis\": {\"automargin\": true, \"gridcolor\": \"white\", \"linecolor\": \"white\", \"ticks\": \"\", \"title\": {\"standoff\": 15}, \"zerolinecolor\": \"white\", \"zerolinewidth\": 2}}}, \"title\": {\"font\": {\"color\": \"#4D5663\"}}, \"xaxis\": {\"gridcolor\": \"#E1E5ED\", \"showgrid\": true, \"tickfont\": {\"color\": \"#4D5663\"}, \"title\": {\"font\": {\"color\": \"#4D5663\"}, \"text\": \"\"}, \"zerolinecolor\": \"#E1E5ED\"}, \"yaxis\": {\"gridcolor\": \"#E1E5ED\", \"showgrid\": true, \"tickfont\": {\"color\": \"#4D5663\"}, \"title\": {\"font\": {\"color\": \"#4D5663\"}, \"text\": \"\"}, \"zerolinecolor\": \"#E1E5ED\"}},\n",
       "                        {\"showLink\": true, \"linkText\": \"Export to plot.ly\", \"plotlyServerURL\": \"https://plot.ly\", \"responsive\": true}\n",
       "                    ).then(function(){\n",
       "                            \n",
       "var gd = document.getElementById('e76c1f2f-e34f-4df8-ae95-edbb93e13d32');\n",
       "var x = new MutationObserver(function (mutations, observer) {{\n",
       "        var display = window.getComputedStyle(gd).display;\n",
       "        if (!display || display === 'none') {{\n",
       "            console.log([gd, 'removed!']);\n",
       "            Plotly.purge(gd);\n",
       "            observer.disconnect();\n",
       "        }}\n",
       "}});\n",
       "\n",
       "// Listen for the removal of the full notebook cells\n",
       "var notebookContainer = gd.closest('#notebook-container');\n",
       "if (notebookContainer) {{\n",
       "    x.observe(notebookContainer, {childList: true});\n",
       "}}\n",
       "\n",
       "// Listen for the clearing of the current output cell\n",
       "var outputEl = gd.closest('.output');\n",
       "if (outputEl) {{\n",
       "    x.observe(outputEl, {childList: true});\n",
       "}}\n",
       "\n",
       "                        })\n",
       "                };\n",
       "                });\n",
       "            </script>\n",
       "        </div>"
      ]
     },
     "metadata": {},
     "output_type": "display_data"
    }
   ],
   "source": [
    "df.mean().iplot(kind='bar')"
   ]
  },
  {
   "cell_type": "code",
   "execution_count": 17,
   "metadata": {},
   "outputs": [
    {
     "data": {
      "application/vnd.plotly.v1+json": {
       "config": {
        "linkText": "Export to plot.ly",
        "plotlyServerURL": "https://plot.ly",
        "showLink": true
       },
       "data": [
        {
         "line": {
          "color": "rgba(255, 153, 51, 1.0)",
          "dash": "solid",
          "shape": "linear",
          "width": 1.3
         },
         "marker": {
          "size": 12,
          "symbol": "circle"
         },
         "mode": "markers",
         "name": "B",
         "text": "",
         "type": "scatter",
         "x": [
          -0.16610363688689225,
          -0.5521200467561026,
          -0.32072301689097243,
          1.0003003046968628,
          -2.2516254604791026,
          -0.6421609543388991,
          -1.4472099947779882,
          -0.13620393460167918,
          -0.5848169421651246,
          -2.3343121377607203,
          0.7045769911864066,
          1.5641538767395509,
          0.13516072316710592,
          0.28401884325871657,
          0.19827951682921566,
          0.39511130031370845,
          -1.6845126169011948,
          1.7526821145707008,
          0.8774483307403921,
          0.836157017411292,
          0.9576375175548147,
          2.327572979958438,
          -0.09201586219373067,
          1.5049485394904945,
          0.6137499890871397,
          -0.23141334285681636,
          -0.3873137293486683,
          0.6665038996871202,
          1.3147726106271649,
          0.3411166578508544,
          -0.7313041972309057,
          0.6374438673125333,
          -1.4268863568083,
          1.2761838902761153,
          0.9224514175204899,
          0.5875380186215396,
          0.9624380244543723,
          -0.028387429045422862,
          -1.7110591691269732,
          0.45768060713546815,
          0.3325008338888872,
          -1.751953272398217,
          0.3727204316081648,
          0.12166865899983588,
          0.6526321680965788,
          -0.07920899553609972,
          -0.5445207532153917,
          -1.6105046471915463,
          -0.2936118804357919,
          0.27986148037476366,
          1.1034013134894871,
          -1.9631465840033653,
          0.43114100186860127,
          -1.235857295974943,
          -1.522723677140059,
          1.2174951715447608,
          0.19372990695871908,
          0.2823849931757263,
          -0.0731218671022487,
          0.7910575601342564,
          -0.6029356378404177,
          -1.7185657936649517,
          -1.1039251574505327,
          2.658810831218528,
          0.8738864116196249,
          -0.35572194094378795,
          0.2340454597606315,
          1.1752802475422055,
          -2.857194818069491,
          -2.600189945808657,
          -1.4129955337744562,
          1.5040243218995208,
          0.4564891038547735,
          -1.0928905726727565,
          1.0934669671611048,
          -0.2952153464804887,
          0.8512281133013911,
          -0.6054409722058584,
          -0.47567754440403875,
          0.6482097649869025,
          0.6347649736514742,
          -0.02784922656797839,
          0.8386088840498142,
          -0.5440691092397063,
          0.6972768207546788,
          0.6093926761521056,
          -0.06405757550025791,
          -0.33223152813714046,
          -0.6681213932531654,
          -0.5803620221889505,
          0.18130261081281787,
          0.9588359075234838,
          2.2614997061951416,
          0.04757386170100405,
          0.3322555579091508,
          1.323477756176155,
          1.0653892403615686,
          0.8465770283086058,
          -0.9181065897100504,
          2.1780189252592024
         ],
         "y": [
          0.29954851481511197,
          0.3460221764914574,
          -1.4684786291220613,
          -2.3261076380136574,
          -0.8560630170935084,
          -0.2666675002725784,
          -1.0367178317473178,
          -0.1641102056865516,
          1.293259163731727,
          -0.8059944250936861,
          0.16568334726967576,
          0.9238802895778643,
          -0.2032665907555867,
          1.4971275004914129,
          -0.6110568652907729,
          0.2880256480075652,
          0.30218628023342814,
          0.8151874780879765,
          1.962755339156543,
          -0.04634897285046687,
          0.9708911382708385,
          -2.1803393662632553,
          -0.758135596494414,
          0.14765847037822513,
          1.4395399354838565,
          1.4652400783624666,
          0.27133549685807756,
          0.6009887331928555,
          0.970003264198216,
          2.0923142080688413,
          0.28497261904097343,
          0.03808232091512796,
          -0.028460144293740264,
          -2.875724284445149,
          0.1076739686130463,
          0.6330099707257212,
          1.258254478784425,
          -1.5150255195577138,
          -0.17417549664166573,
          0.08234847547277795,
          -1.262136013163713,
          1.6480467810562809,
          0.6212728629358613,
          1.604482318383683,
          -0.2491181023499222,
          -0.276987626080192,
          0.33503155541675445,
          -0.38311910251804393,
          1.5368983700433583,
          0.043550837958556736,
          0.11312770593752079,
          -0.22552084547381376,
          -0.7342024780377591,
          2.002354164469548,
          -0.3513763370984161,
          1.0891939844574783,
          0.07742301663804288,
          0.1188221678986353,
          1.1646519897891336,
          -0.8672559147206672,
          0.0733867650574441,
          1.6413026825633483,
          1.1875277507898772,
          1.5726061764487005,
          1.0235143951809598,
          -1.702807383350166,
          0.29512873630470426,
          -0.665512319607524,
          -0.06563198708957493,
          0.9852227949234997,
          0.09416627441366154,
          -0.34029398342148215,
          0.7194906222908173,
          -0.30538210212909767,
          0.7528310074888965,
          -0.4475454762754745,
          0.8652186823730295,
          -0.8999691204773388,
          -1.4992660437698153,
          -0.052600864705378066,
          0.9632080553530256,
          0.4225227445710723,
          -0.24976249740389195,
          1.3423979730077338,
          -1.345353752730523,
          0.39946146360573226,
          -1.6935712804020313,
          -2.3452695240608383,
          0.40276261537770885,
          -1.571628849316674,
          0.48374420873834323,
          0.49969435110551125,
          -0.9541923582452546,
          0.1236947783406742,
          0.4825198504341591,
          0.5219508629780577,
          -0.3946070881703127,
          -0.23385051002850257,
          -0.42874338188963346,
          0.1255556069572311
         ]
        }
       ],
       "layout": {
        "legend": {
         "bgcolor": "#F5F6F9",
         "font": {
          "color": "#4D5663"
         }
        },
        "paper_bgcolor": "#F5F6F9",
        "plot_bgcolor": "#F5F6F9",
        "template": {
         "data": {
          "bar": [
           {
            "error_x": {
             "color": "#2a3f5f"
            },
            "error_y": {
             "color": "#2a3f5f"
            },
            "marker": {
             "line": {
              "color": "#E5ECF6",
              "width": 0.5
             }
            },
            "type": "bar"
           }
          ],
          "barpolar": [
           {
            "marker": {
             "line": {
              "color": "#E5ECF6",
              "width": 0.5
             }
            },
            "type": "barpolar"
           }
          ],
          "carpet": [
           {
            "aaxis": {
             "endlinecolor": "#2a3f5f",
             "gridcolor": "white",
             "linecolor": "white",
             "minorgridcolor": "white",
             "startlinecolor": "#2a3f5f"
            },
            "baxis": {
             "endlinecolor": "#2a3f5f",
             "gridcolor": "white",
             "linecolor": "white",
             "minorgridcolor": "white",
             "startlinecolor": "#2a3f5f"
            },
            "type": "carpet"
           }
          ],
          "choropleth": [
           {
            "colorbar": {
             "outlinewidth": 0,
             "ticks": ""
            },
            "type": "choropleth"
           }
          ],
          "contour": [
           {
            "colorbar": {
             "outlinewidth": 0,
             "ticks": ""
            },
            "colorscale": [
             [
              0,
              "#0d0887"
             ],
             [
              0.1111111111111111,
              "#46039f"
             ],
             [
              0.2222222222222222,
              "#7201a8"
             ],
             [
              0.3333333333333333,
              "#9c179e"
             ],
             [
              0.4444444444444444,
              "#bd3786"
             ],
             [
              0.5555555555555556,
              "#d8576b"
             ],
             [
              0.6666666666666666,
              "#ed7953"
             ],
             [
              0.7777777777777778,
              "#fb9f3a"
             ],
             [
              0.8888888888888888,
              "#fdca26"
             ],
             [
              1,
              "#f0f921"
             ]
            ],
            "type": "contour"
           }
          ],
          "contourcarpet": [
           {
            "colorbar": {
             "outlinewidth": 0,
             "ticks": ""
            },
            "type": "contourcarpet"
           }
          ],
          "heatmap": [
           {
            "colorbar": {
             "outlinewidth": 0,
             "ticks": ""
            },
            "colorscale": [
             [
              0,
              "#0d0887"
             ],
             [
              0.1111111111111111,
              "#46039f"
             ],
             [
              0.2222222222222222,
              "#7201a8"
             ],
             [
              0.3333333333333333,
              "#9c179e"
             ],
             [
              0.4444444444444444,
              "#bd3786"
             ],
             [
              0.5555555555555556,
              "#d8576b"
             ],
             [
              0.6666666666666666,
              "#ed7953"
             ],
             [
              0.7777777777777778,
              "#fb9f3a"
             ],
             [
              0.8888888888888888,
              "#fdca26"
             ],
             [
              1,
              "#f0f921"
             ]
            ],
            "type": "heatmap"
           }
          ],
          "heatmapgl": [
           {
            "colorbar": {
             "outlinewidth": 0,
             "ticks": ""
            },
            "colorscale": [
             [
              0,
              "#0d0887"
             ],
             [
              0.1111111111111111,
              "#46039f"
             ],
             [
              0.2222222222222222,
              "#7201a8"
             ],
             [
              0.3333333333333333,
              "#9c179e"
             ],
             [
              0.4444444444444444,
              "#bd3786"
             ],
             [
              0.5555555555555556,
              "#d8576b"
             ],
             [
              0.6666666666666666,
              "#ed7953"
             ],
             [
              0.7777777777777778,
              "#fb9f3a"
             ],
             [
              0.8888888888888888,
              "#fdca26"
             ],
             [
              1,
              "#f0f921"
             ]
            ],
            "type": "heatmapgl"
           }
          ],
          "histogram": [
           {
            "marker": {
             "colorbar": {
              "outlinewidth": 0,
              "ticks": ""
             }
            },
            "type": "histogram"
           }
          ],
          "histogram2d": [
           {
            "colorbar": {
             "outlinewidth": 0,
             "ticks": ""
            },
            "colorscale": [
             [
              0,
              "#0d0887"
             ],
             [
              0.1111111111111111,
              "#46039f"
             ],
             [
              0.2222222222222222,
              "#7201a8"
             ],
             [
              0.3333333333333333,
              "#9c179e"
             ],
             [
              0.4444444444444444,
              "#bd3786"
             ],
             [
              0.5555555555555556,
              "#d8576b"
             ],
             [
              0.6666666666666666,
              "#ed7953"
             ],
             [
              0.7777777777777778,
              "#fb9f3a"
             ],
             [
              0.8888888888888888,
              "#fdca26"
             ],
             [
              1,
              "#f0f921"
             ]
            ],
            "type": "histogram2d"
           }
          ],
          "histogram2dcontour": [
           {
            "colorbar": {
             "outlinewidth": 0,
             "ticks": ""
            },
            "colorscale": [
             [
              0,
              "#0d0887"
             ],
             [
              0.1111111111111111,
              "#46039f"
             ],
             [
              0.2222222222222222,
              "#7201a8"
             ],
             [
              0.3333333333333333,
              "#9c179e"
             ],
             [
              0.4444444444444444,
              "#bd3786"
             ],
             [
              0.5555555555555556,
              "#d8576b"
             ],
             [
              0.6666666666666666,
              "#ed7953"
             ],
             [
              0.7777777777777778,
              "#fb9f3a"
             ],
             [
              0.8888888888888888,
              "#fdca26"
             ],
             [
              1,
              "#f0f921"
             ]
            ],
            "type": "histogram2dcontour"
           }
          ],
          "mesh3d": [
           {
            "colorbar": {
             "outlinewidth": 0,
             "ticks": ""
            },
            "type": "mesh3d"
           }
          ],
          "parcoords": [
           {
            "line": {
             "colorbar": {
              "outlinewidth": 0,
              "ticks": ""
             }
            },
            "type": "parcoords"
           }
          ],
          "pie": [
           {
            "automargin": true,
            "type": "pie"
           }
          ],
          "scatter": [
           {
            "marker": {
             "colorbar": {
              "outlinewidth": 0,
              "ticks": ""
             }
            },
            "type": "scatter"
           }
          ],
          "scatter3d": [
           {
            "line": {
             "colorbar": {
              "outlinewidth": 0,
              "ticks": ""
             }
            },
            "marker": {
             "colorbar": {
              "outlinewidth": 0,
              "ticks": ""
             }
            },
            "type": "scatter3d"
           }
          ],
          "scattercarpet": [
           {
            "marker": {
             "colorbar": {
              "outlinewidth": 0,
              "ticks": ""
             }
            },
            "type": "scattercarpet"
           }
          ],
          "scattergeo": [
           {
            "marker": {
             "colorbar": {
              "outlinewidth": 0,
              "ticks": ""
             }
            },
            "type": "scattergeo"
           }
          ],
          "scattergl": [
           {
            "marker": {
             "colorbar": {
              "outlinewidth": 0,
              "ticks": ""
             }
            },
            "type": "scattergl"
           }
          ],
          "scattermapbox": [
           {
            "marker": {
             "colorbar": {
              "outlinewidth": 0,
              "ticks": ""
             }
            },
            "type": "scattermapbox"
           }
          ],
          "scatterpolar": [
           {
            "marker": {
             "colorbar": {
              "outlinewidth": 0,
              "ticks": ""
             }
            },
            "type": "scatterpolar"
           }
          ],
          "scatterpolargl": [
           {
            "marker": {
             "colorbar": {
              "outlinewidth": 0,
              "ticks": ""
             }
            },
            "type": "scatterpolargl"
           }
          ],
          "scatterternary": [
           {
            "marker": {
             "colorbar": {
              "outlinewidth": 0,
              "ticks": ""
             }
            },
            "type": "scatterternary"
           }
          ],
          "surface": [
           {
            "colorbar": {
             "outlinewidth": 0,
             "ticks": ""
            },
            "colorscale": [
             [
              0,
              "#0d0887"
             ],
             [
              0.1111111111111111,
              "#46039f"
             ],
             [
              0.2222222222222222,
              "#7201a8"
             ],
             [
              0.3333333333333333,
              "#9c179e"
             ],
             [
              0.4444444444444444,
              "#bd3786"
             ],
             [
              0.5555555555555556,
              "#d8576b"
             ],
             [
              0.6666666666666666,
              "#ed7953"
             ],
             [
              0.7777777777777778,
              "#fb9f3a"
             ],
             [
              0.8888888888888888,
              "#fdca26"
             ],
             [
              1,
              "#f0f921"
             ]
            ],
            "type": "surface"
           }
          ],
          "table": [
           {
            "cells": {
             "fill": {
              "color": "#EBF0F8"
             },
             "line": {
              "color": "white"
             }
            },
            "header": {
             "fill": {
              "color": "#C8D4E3"
             },
             "line": {
              "color": "white"
             }
            },
            "type": "table"
           }
          ]
         },
         "layout": {
          "annotationdefaults": {
           "arrowcolor": "#2a3f5f",
           "arrowhead": 0,
           "arrowwidth": 1
          },
          "coloraxis": {
           "colorbar": {
            "outlinewidth": 0,
            "ticks": ""
           }
          },
          "colorscale": {
           "diverging": [
            [
             0,
             "#8e0152"
            ],
            [
             0.1,
             "#c51b7d"
            ],
            [
             0.2,
             "#de77ae"
            ],
            [
             0.3,
             "#f1b6da"
            ],
            [
             0.4,
             "#fde0ef"
            ],
            [
             0.5,
             "#f7f7f7"
            ],
            [
             0.6,
             "#e6f5d0"
            ],
            [
             0.7,
             "#b8e186"
            ],
            [
             0.8,
             "#7fbc41"
            ],
            [
             0.9,
             "#4d9221"
            ],
            [
             1,
             "#276419"
            ]
           ],
           "sequential": [
            [
             0,
             "#0d0887"
            ],
            [
             0.1111111111111111,
             "#46039f"
            ],
            [
             0.2222222222222222,
             "#7201a8"
            ],
            [
             0.3333333333333333,
             "#9c179e"
            ],
            [
             0.4444444444444444,
             "#bd3786"
            ],
            [
             0.5555555555555556,
             "#d8576b"
            ],
            [
             0.6666666666666666,
             "#ed7953"
            ],
            [
             0.7777777777777778,
             "#fb9f3a"
            ],
            [
             0.8888888888888888,
             "#fdca26"
            ],
            [
             1,
             "#f0f921"
            ]
           ],
           "sequentialminus": [
            [
             0,
             "#0d0887"
            ],
            [
             0.1111111111111111,
             "#46039f"
            ],
            [
             0.2222222222222222,
             "#7201a8"
            ],
            [
             0.3333333333333333,
             "#9c179e"
            ],
            [
             0.4444444444444444,
             "#bd3786"
            ],
            [
             0.5555555555555556,
             "#d8576b"
            ],
            [
             0.6666666666666666,
             "#ed7953"
            ],
            [
             0.7777777777777778,
             "#fb9f3a"
            ],
            [
             0.8888888888888888,
             "#fdca26"
            ],
            [
             1,
             "#f0f921"
            ]
           ]
          },
          "colorway": [
           "#636efa",
           "#EF553B",
           "#00cc96",
           "#ab63fa",
           "#FFA15A",
           "#19d3f3",
           "#FF6692",
           "#B6E880",
           "#FF97FF",
           "#FECB52"
          ],
          "font": {
           "color": "#2a3f5f"
          },
          "geo": {
           "bgcolor": "white",
           "lakecolor": "white",
           "landcolor": "#E5ECF6",
           "showlakes": true,
           "showland": true,
           "subunitcolor": "white"
          },
          "hoverlabel": {
           "align": "left"
          },
          "hovermode": "closest",
          "mapbox": {
           "style": "light"
          },
          "paper_bgcolor": "white",
          "plot_bgcolor": "#E5ECF6",
          "polar": {
           "angularaxis": {
            "gridcolor": "white",
            "linecolor": "white",
            "ticks": ""
           },
           "bgcolor": "#E5ECF6",
           "radialaxis": {
            "gridcolor": "white",
            "linecolor": "white",
            "ticks": ""
           }
          },
          "scene": {
           "xaxis": {
            "backgroundcolor": "#E5ECF6",
            "gridcolor": "white",
            "gridwidth": 2,
            "linecolor": "white",
            "showbackground": true,
            "ticks": "",
            "zerolinecolor": "white"
           },
           "yaxis": {
            "backgroundcolor": "#E5ECF6",
            "gridcolor": "white",
            "gridwidth": 2,
            "linecolor": "white",
            "showbackground": true,
            "ticks": "",
            "zerolinecolor": "white"
           },
           "zaxis": {
            "backgroundcolor": "#E5ECF6",
            "gridcolor": "white",
            "gridwidth": 2,
            "linecolor": "white",
            "showbackground": true,
            "ticks": "",
            "zerolinecolor": "white"
           }
          },
          "shapedefaults": {
           "line": {
            "color": "#2a3f5f"
           }
          },
          "ternary": {
           "aaxis": {
            "gridcolor": "white",
            "linecolor": "white",
            "ticks": ""
           },
           "baxis": {
            "gridcolor": "white",
            "linecolor": "white",
            "ticks": ""
           },
           "bgcolor": "#E5ECF6",
           "caxis": {
            "gridcolor": "white",
            "linecolor": "white",
            "ticks": ""
           }
          },
          "title": {
           "x": 0.05
          },
          "xaxis": {
           "automargin": true,
           "gridcolor": "white",
           "linecolor": "white",
           "ticks": "",
           "title": {
            "standoff": 15
           },
           "zerolinecolor": "white",
           "zerolinewidth": 2
          },
          "yaxis": {
           "automargin": true,
           "gridcolor": "white",
           "linecolor": "white",
           "ticks": "",
           "title": {
            "standoff": 15
           },
           "zerolinecolor": "white",
           "zerolinewidth": 2
          }
         }
        },
        "title": {
         "font": {
          "color": "#4D5663"
         }
        },
        "xaxis": {
         "gridcolor": "#E1E5ED",
         "showgrid": true,
         "tickfont": {
          "color": "#4D5663"
         },
         "title": {
          "font": {
           "color": "#4D5663"
          },
          "text": ""
         },
         "zerolinecolor": "#E1E5ED"
        },
        "yaxis": {
         "gridcolor": "#E1E5ED",
         "showgrid": true,
         "tickfont": {
          "color": "#4D5663"
         },
         "title": {
          "font": {
           "color": "#4D5663"
          },
          "text": ""
         },
         "zerolinecolor": "#E1E5ED"
        }
       }
      },
      "text/html": [
       "<div>\n",
       "        \n",
       "        \n",
       "            <div id=\"3037bdc5-9bd2-4864-8216-f404c3d2de73\" class=\"plotly-graph-div\" style=\"height:525px; width:100%;\"></div>\n",
       "            <script type=\"text/javascript\">\n",
       "                require([\"plotly\"], function(Plotly) {\n",
       "                    window.PLOTLYENV=window.PLOTLYENV || {};\n",
       "                    window.PLOTLYENV.BASE_URL='https://plot.ly';\n",
       "                    \n",
       "                if (document.getElementById(\"3037bdc5-9bd2-4864-8216-f404c3d2de73\")) {\n",
       "                    Plotly.newPlot(\n",
       "                        '3037bdc5-9bd2-4864-8216-f404c3d2de73',\n",
       "                        [{\"line\": {\"color\": \"rgba(255, 153, 51, 1.0)\", \"dash\": \"solid\", \"shape\": \"linear\", \"width\": 1.3}, \"marker\": {\"size\": 12, \"symbol\": \"circle\"}, \"mode\": \"markers\", \"name\": \"B\", \"text\": \"\", \"type\": \"scatter\", \"x\": [-0.16610363688689225, -0.5521200467561026, -0.32072301689097243, 1.0003003046968628, -2.2516254604791026, -0.6421609543388991, -1.4472099947779882, -0.13620393460167918, -0.5848169421651246, -2.3343121377607203, 0.7045769911864066, 1.5641538767395509, 0.13516072316710592, 0.28401884325871657, 0.19827951682921566, 0.39511130031370845, -1.6845126169011948, 1.7526821145707008, 0.8774483307403921, 0.836157017411292, 0.9576375175548147, 2.327572979958438, -0.09201586219373067, 1.5049485394904945, 0.6137499890871397, -0.23141334285681636, -0.3873137293486683, 0.6665038996871202, 1.3147726106271649, 0.3411166578508544, -0.7313041972309057, 0.6374438673125333, -1.4268863568083, 1.2761838902761153, 0.9224514175204899, 0.5875380186215396, 0.9624380244543723, -0.028387429045422862, -1.7110591691269732, 0.45768060713546815, 0.3325008338888872, -1.751953272398217, 0.3727204316081648, 0.12166865899983588, 0.6526321680965788, -0.07920899553609972, -0.5445207532153917, -1.6105046471915463, -0.2936118804357919, 0.27986148037476366, 1.1034013134894871, -1.9631465840033653, 0.43114100186860127, -1.235857295974943, -1.522723677140059, 1.2174951715447608, 0.19372990695871908, 0.2823849931757263, -0.0731218671022487, 0.7910575601342564, -0.6029356378404177, -1.7185657936649517, -1.1039251574505327, 2.658810831218528, 0.8738864116196249, -0.35572194094378795, 0.2340454597606315, 1.1752802475422055, -2.857194818069491, -2.600189945808657, -1.4129955337744562, 1.5040243218995208, 0.4564891038547735, -1.0928905726727565, 1.0934669671611048, -0.2952153464804887, 0.8512281133013911, -0.6054409722058584, -0.47567754440403875, 0.6482097649869025, 0.6347649736514742, -0.02784922656797839, 0.8386088840498142, -0.5440691092397063, 0.6972768207546788, 0.6093926761521056, -0.06405757550025791, -0.33223152813714046, -0.6681213932531654, -0.5803620221889505, 0.18130261081281787, 0.9588359075234838, 2.2614997061951416, 0.04757386170100405, 0.3322555579091508, 1.323477756176155, 1.0653892403615686, 0.8465770283086058, -0.9181065897100504, 2.1780189252592024], \"y\": [0.29954851481511197, 0.3460221764914574, -1.4684786291220613, -2.3261076380136574, -0.8560630170935084, -0.2666675002725784, -1.0367178317473178, -0.1641102056865516, 1.293259163731727, -0.8059944250936861, 0.16568334726967576, 0.9238802895778643, -0.2032665907555867, 1.4971275004914129, -0.6110568652907729, 0.2880256480075652, 0.30218628023342814, 0.8151874780879765, 1.962755339156543, -0.04634897285046687, 0.9708911382708385, -2.1803393662632553, -0.758135596494414, 0.14765847037822513, 1.4395399354838565, 1.4652400783624666, 0.27133549685807756, 0.6009887331928555, 0.970003264198216, 2.0923142080688413, 0.28497261904097343, 0.03808232091512796, -0.028460144293740264, -2.875724284445149, 0.1076739686130463, 0.6330099707257212, 1.258254478784425, -1.5150255195577138, -0.17417549664166573, 0.08234847547277795, -1.262136013163713, 1.6480467810562809, 0.6212728629358613, 1.604482318383683, -0.2491181023499222, -0.276987626080192, 0.33503155541675445, -0.38311910251804393, 1.5368983700433583, 0.043550837958556736, 0.11312770593752079, -0.22552084547381376, -0.7342024780377591, 2.002354164469548, -0.3513763370984161, 1.0891939844574783, 0.07742301663804288, 0.1188221678986353, 1.1646519897891336, -0.8672559147206672, 0.0733867650574441, 1.6413026825633483, 1.1875277507898772, 1.5726061764487005, 1.0235143951809598, -1.702807383350166, 0.29512873630470426, -0.665512319607524, -0.06563198708957493, 0.9852227949234997, 0.09416627441366154, -0.34029398342148215, 0.7194906222908173, -0.30538210212909767, 0.7528310074888965, -0.4475454762754745, 0.8652186823730295, -0.8999691204773388, -1.4992660437698153, -0.052600864705378066, 0.9632080553530256, 0.4225227445710723, -0.24976249740389195, 1.3423979730077338, -1.345353752730523, 0.39946146360573226, -1.6935712804020313, -2.3452695240608383, 0.40276261537770885, -1.571628849316674, 0.48374420873834323, 0.49969435110551125, -0.9541923582452546, 0.1236947783406742, 0.4825198504341591, 0.5219508629780577, -0.3946070881703127, -0.23385051002850257, -0.42874338188963346, 0.1255556069572311]}],\n",
       "                        {\"legend\": {\"bgcolor\": \"#F5F6F9\", \"font\": {\"color\": \"#4D5663\"}}, \"paper_bgcolor\": \"#F5F6F9\", \"plot_bgcolor\": \"#F5F6F9\", \"template\": {\"data\": {\"bar\": [{\"error_x\": {\"color\": \"#2a3f5f\"}, \"error_y\": {\"color\": \"#2a3f5f\"}, \"marker\": {\"line\": {\"color\": \"#E5ECF6\", \"width\": 0.5}}, \"type\": \"bar\"}], \"barpolar\": [{\"marker\": {\"line\": {\"color\": \"#E5ECF6\", \"width\": 0.5}}, \"type\": \"barpolar\"}], \"carpet\": [{\"aaxis\": {\"endlinecolor\": \"#2a3f5f\", \"gridcolor\": \"white\", \"linecolor\": \"white\", \"minorgridcolor\": \"white\", \"startlinecolor\": \"#2a3f5f\"}, \"baxis\": {\"endlinecolor\": \"#2a3f5f\", \"gridcolor\": \"white\", \"linecolor\": \"white\", \"minorgridcolor\": \"white\", \"startlinecolor\": \"#2a3f5f\"}, \"type\": \"carpet\"}], \"choropleth\": [{\"colorbar\": {\"outlinewidth\": 0, \"ticks\": \"\"}, \"type\": \"choropleth\"}], \"contour\": [{\"colorbar\": {\"outlinewidth\": 0, \"ticks\": \"\"}, \"colorscale\": [[0.0, \"#0d0887\"], [0.1111111111111111, \"#46039f\"], [0.2222222222222222, \"#7201a8\"], [0.3333333333333333, \"#9c179e\"], [0.4444444444444444, \"#bd3786\"], [0.5555555555555556, \"#d8576b\"], [0.6666666666666666, \"#ed7953\"], [0.7777777777777778, \"#fb9f3a\"], [0.8888888888888888, \"#fdca26\"], [1.0, \"#f0f921\"]], \"type\": \"contour\"}], \"contourcarpet\": [{\"colorbar\": {\"outlinewidth\": 0, \"ticks\": \"\"}, \"type\": \"contourcarpet\"}], \"heatmap\": [{\"colorbar\": {\"outlinewidth\": 0, \"ticks\": \"\"}, \"colorscale\": [[0.0, \"#0d0887\"], [0.1111111111111111, \"#46039f\"], [0.2222222222222222, \"#7201a8\"], [0.3333333333333333, \"#9c179e\"], [0.4444444444444444, \"#bd3786\"], [0.5555555555555556, \"#d8576b\"], [0.6666666666666666, \"#ed7953\"], [0.7777777777777778, \"#fb9f3a\"], [0.8888888888888888, \"#fdca26\"], [1.0, \"#f0f921\"]], \"type\": \"heatmap\"}], \"heatmapgl\": [{\"colorbar\": {\"outlinewidth\": 0, \"ticks\": \"\"}, \"colorscale\": [[0.0, \"#0d0887\"], [0.1111111111111111, \"#46039f\"], [0.2222222222222222, \"#7201a8\"], [0.3333333333333333, \"#9c179e\"], [0.4444444444444444, \"#bd3786\"], [0.5555555555555556, \"#d8576b\"], [0.6666666666666666, \"#ed7953\"], [0.7777777777777778, \"#fb9f3a\"], [0.8888888888888888, \"#fdca26\"], [1.0, \"#f0f921\"]], \"type\": \"heatmapgl\"}], \"histogram\": [{\"marker\": {\"colorbar\": {\"outlinewidth\": 0, \"ticks\": \"\"}}, \"type\": \"histogram\"}], \"histogram2d\": [{\"colorbar\": {\"outlinewidth\": 0, \"ticks\": \"\"}, \"colorscale\": [[0.0, \"#0d0887\"], [0.1111111111111111, \"#46039f\"], [0.2222222222222222, \"#7201a8\"], [0.3333333333333333, \"#9c179e\"], [0.4444444444444444, \"#bd3786\"], [0.5555555555555556, \"#d8576b\"], [0.6666666666666666, \"#ed7953\"], [0.7777777777777778, \"#fb9f3a\"], [0.8888888888888888, \"#fdca26\"], [1.0, \"#f0f921\"]], \"type\": \"histogram2d\"}], \"histogram2dcontour\": [{\"colorbar\": {\"outlinewidth\": 0, \"ticks\": \"\"}, \"colorscale\": [[0.0, \"#0d0887\"], [0.1111111111111111, \"#46039f\"], [0.2222222222222222, \"#7201a8\"], [0.3333333333333333, \"#9c179e\"], [0.4444444444444444, \"#bd3786\"], [0.5555555555555556, \"#d8576b\"], [0.6666666666666666, \"#ed7953\"], [0.7777777777777778, \"#fb9f3a\"], [0.8888888888888888, \"#fdca26\"], [1.0, \"#f0f921\"]], \"type\": \"histogram2dcontour\"}], \"mesh3d\": [{\"colorbar\": {\"outlinewidth\": 0, \"ticks\": \"\"}, \"type\": \"mesh3d\"}], \"parcoords\": [{\"line\": {\"colorbar\": {\"outlinewidth\": 0, \"ticks\": \"\"}}, \"type\": \"parcoords\"}], \"pie\": [{\"automargin\": true, \"type\": \"pie\"}], \"scatter\": [{\"marker\": {\"colorbar\": {\"outlinewidth\": 0, \"ticks\": \"\"}}, \"type\": \"scatter\"}], \"scatter3d\": [{\"line\": {\"colorbar\": {\"outlinewidth\": 0, \"ticks\": \"\"}}, \"marker\": {\"colorbar\": {\"outlinewidth\": 0, \"ticks\": \"\"}}, \"type\": \"scatter3d\"}], \"scattercarpet\": [{\"marker\": {\"colorbar\": {\"outlinewidth\": 0, \"ticks\": \"\"}}, \"type\": \"scattercarpet\"}], \"scattergeo\": [{\"marker\": {\"colorbar\": {\"outlinewidth\": 0, \"ticks\": \"\"}}, \"type\": \"scattergeo\"}], \"scattergl\": [{\"marker\": {\"colorbar\": {\"outlinewidth\": 0, \"ticks\": \"\"}}, \"type\": \"scattergl\"}], \"scattermapbox\": [{\"marker\": {\"colorbar\": {\"outlinewidth\": 0, \"ticks\": \"\"}}, \"type\": \"scattermapbox\"}], \"scatterpolar\": [{\"marker\": {\"colorbar\": {\"outlinewidth\": 0, \"ticks\": \"\"}}, \"type\": \"scatterpolar\"}], \"scatterpolargl\": [{\"marker\": {\"colorbar\": {\"outlinewidth\": 0, \"ticks\": \"\"}}, \"type\": \"scatterpolargl\"}], \"scatterternary\": [{\"marker\": {\"colorbar\": {\"outlinewidth\": 0, \"ticks\": \"\"}}, \"type\": \"scatterternary\"}], \"surface\": [{\"colorbar\": {\"outlinewidth\": 0, \"ticks\": \"\"}, \"colorscale\": [[0.0, \"#0d0887\"], [0.1111111111111111, \"#46039f\"], [0.2222222222222222, \"#7201a8\"], [0.3333333333333333, \"#9c179e\"], [0.4444444444444444, \"#bd3786\"], [0.5555555555555556, \"#d8576b\"], [0.6666666666666666, \"#ed7953\"], [0.7777777777777778, \"#fb9f3a\"], [0.8888888888888888, \"#fdca26\"], [1.0, \"#f0f921\"]], \"type\": \"surface\"}], \"table\": [{\"cells\": {\"fill\": {\"color\": \"#EBF0F8\"}, \"line\": {\"color\": \"white\"}}, \"header\": {\"fill\": {\"color\": \"#C8D4E3\"}, \"line\": {\"color\": \"white\"}}, \"type\": \"table\"}]}, \"layout\": {\"annotationdefaults\": {\"arrowcolor\": \"#2a3f5f\", \"arrowhead\": 0, \"arrowwidth\": 1}, \"coloraxis\": {\"colorbar\": {\"outlinewidth\": 0, \"ticks\": \"\"}}, \"colorscale\": {\"diverging\": [[0, \"#8e0152\"], [0.1, \"#c51b7d\"], [0.2, \"#de77ae\"], [0.3, \"#f1b6da\"], [0.4, \"#fde0ef\"], [0.5, \"#f7f7f7\"], [0.6, \"#e6f5d0\"], [0.7, \"#b8e186\"], [0.8, \"#7fbc41\"], [0.9, \"#4d9221\"], [1, \"#276419\"]], \"sequential\": [[0.0, \"#0d0887\"], [0.1111111111111111, \"#46039f\"], [0.2222222222222222, \"#7201a8\"], [0.3333333333333333, \"#9c179e\"], [0.4444444444444444, \"#bd3786\"], [0.5555555555555556, \"#d8576b\"], [0.6666666666666666, \"#ed7953\"], [0.7777777777777778, \"#fb9f3a\"], [0.8888888888888888, \"#fdca26\"], [1.0, \"#f0f921\"]], \"sequentialminus\": [[0.0, \"#0d0887\"], [0.1111111111111111, \"#46039f\"], [0.2222222222222222, \"#7201a8\"], [0.3333333333333333, \"#9c179e\"], [0.4444444444444444, \"#bd3786\"], [0.5555555555555556, \"#d8576b\"], [0.6666666666666666, \"#ed7953\"], [0.7777777777777778, \"#fb9f3a\"], [0.8888888888888888, \"#fdca26\"], [1.0, \"#f0f921\"]]}, \"colorway\": [\"#636efa\", \"#EF553B\", \"#00cc96\", \"#ab63fa\", \"#FFA15A\", \"#19d3f3\", \"#FF6692\", \"#B6E880\", \"#FF97FF\", \"#FECB52\"], \"font\": {\"color\": \"#2a3f5f\"}, \"geo\": {\"bgcolor\": \"white\", \"lakecolor\": \"white\", \"landcolor\": \"#E5ECF6\", \"showlakes\": true, \"showland\": true, \"subunitcolor\": \"white\"}, \"hoverlabel\": {\"align\": \"left\"}, \"hovermode\": \"closest\", \"mapbox\": {\"style\": \"light\"}, \"paper_bgcolor\": \"white\", \"plot_bgcolor\": \"#E5ECF6\", \"polar\": {\"angularaxis\": {\"gridcolor\": \"white\", \"linecolor\": \"white\", \"ticks\": \"\"}, \"bgcolor\": \"#E5ECF6\", \"radialaxis\": {\"gridcolor\": \"white\", \"linecolor\": \"white\", \"ticks\": \"\"}}, \"scene\": {\"xaxis\": {\"backgroundcolor\": \"#E5ECF6\", \"gridcolor\": \"white\", \"gridwidth\": 2, \"linecolor\": \"white\", \"showbackground\": true, \"ticks\": \"\", \"zerolinecolor\": \"white\"}, \"yaxis\": {\"backgroundcolor\": \"#E5ECF6\", \"gridcolor\": \"white\", \"gridwidth\": 2, \"linecolor\": \"white\", \"showbackground\": true, \"ticks\": \"\", \"zerolinecolor\": \"white\"}, \"zaxis\": {\"backgroundcolor\": \"#E5ECF6\", \"gridcolor\": \"white\", \"gridwidth\": 2, \"linecolor\": \"white\", \"showbackground\": true, \"ticks\": \"\", \"zerolinecolor\": \"white\"}}, \"shapedefaults\": {\"line\": {\"color\": \"#2a3f5f\"}}, \"ternary\": {\"aaxis\": {\"gridcolor\": \"white\", \"linecolor\": \"white\", \"ticks\": \"\"}, \"baxis\": {\"gridcolor\": \"white\", \"linecolor\": \"white\", \"ticks\": \"\"}, \"bgcolor\": \"#E5ECF6\", \"caxis\": {\"gridcolor\": \"white\", \"linecolor\": \"white\", \"ticks\": \"\"}}, \"title\": {\"x\": 0.05}, \"xaxis\": {\"automargin\": true, \"gridcolor\": \"white\", \"linecolor\": \"white\", \"ticks\": \"\", \"title\": {\"standoff\": 15}, \"zerolinecolor\": \"white\", \"zerolinewidth\": 2}, \"yaxis\": {\"automargin\": true, \"gridcolor\": \"white\", \"linecolor\": \"white\", \"ticks\": \"\", \"title\": {\"standoff\": 15}, \"zerolinecolor\": \"white\", \"zerolinewidth\": 2}}}, \"title\": {\"font\": {\"color\": \"#4D5663\"}}, \"xaxis\": {\"gridcolor\": \"#E1E5ED\", \"showgrid\": true, \"tickfont\": {\"color\": \"#4D5663\"}, \"title\": {\"font\": {\"color\": \"#4D5663\"}, \"text\": \"\"}, \"zerolinecolor\": \"#E1E5ED\"}, \"yaxis\": {\"gridcolor\": \"#E1E5ED\", \"showgrid\": true, \"tickfont\": {\"color\": \"#4D5663\"}, \"title\": {\"font\": {\"color\": \"#4D5663\"}, \"text\": \"\"}, \"zerolinecolor\": \"#E1E5ED\"}},\n",
       "                        {\"showLink\": true, \"linkText\": \"Export to plot.ly\", \"plotlyServerURL\": \"https://plot.ly\", \"responsive\": true}\n",
       "                    ).then(function(){\n",
       "                            \n",
       "var gd = document.getElementById('3037bdc5-9bd2-4864-8216-f404c3d2de73');\n",
       "var x = new MutationObserver(function (mutations, observer) {{\n",
       "        var display = window.getComputedStyle(gd).display;\n",
       "        if (!display || display === 'none') {{\n",
       "            console.log([gd, 'removed!']);\n",
       "            Plotly.purge(gd);\n",
       "            observer.disconnect();\n",
       "        }}\n",
       "}});\n",
       "\n",
       "// Listen for the removal of the full notebook cells\n",
       "var notebookContainer = gd.closest('#notebook-container');\n",
       "if (notebookContainer) {{\n",
       "    x.observe(notebookContainer, {childList: true});\n",
       "}}\n",
       "\n",
       "// Listen for the clearing of the current output cell\n",
       "var outputEl = gd.closest('.output');\n",
       "if (outputEl) {{\n",
       "    x.observe(outputEl, {childList: true});\n",
       "}}\n",
       "\n",
       "                        })\n",
       "                };\n",
       "                });\n",
       "            </script>\n",
       "        </div>"
      ]
     },
     "metadata": {},
     "output_type": "display_data"
    }
   ],
   "source": [
    "df.iplot(kind='scatter',x='A',y='B',mode='markers')"
   ]
  },
  {
   "cell_type": "code",
   "execution_count": 18,
   "metadata": {},
   "outputs": [
    {
     "data": {
      "application/vnd.plotly.v1+json": {
       "config": {
        "linkText": "Export to plot.ly",
        "plotlyServerURL": "https://plot.ly",
        "showLink": true
       },
       "data": [
        {
         "marker": {
          "color": "rgba(255, 153, 51, 0.6)",
          "line": {
           "color": "rgba(255, 153, 51, 1.0)",
           "width": 1
          }
         },
         "name": "Values",
         "orientation": "v",
         "text": "",
         "type": "bar",
         "x": [
          "A",
          "B",
          "C"
         ],
         "y": [
          32,
          43,
          50
         ]
        }
       ],
       "layout": {
        "legend": {
         "bgcolor": "#F5F6F9",
         "font": {
          "color": "#4D5663"
         }
        },
        "paper_bgcolor": "#F5F6F9",
        "plot_bgcolor": "#F5F6F9",
        "template": {
         "data": {
          "bar": [
           {
            "error_x": {
             "color": "#2a3f5f"
            },
            "error_y": {
             "color": "#2a3f5f"
            },
            "marker": {
             "line": {
              "color": "#E5ECF6",
              "width": 0.5
             }
            },
            "type": "bar"
           }
          ],
          "barpolar": [
           {
            "marker": {
             "line": {
              "color": "#E5ECF6",
              "width": 0.5
             }
            },
            "type": "barpolar"
           }
          ],
          "carpet": [
           {
            "aaxis": {
             "endlinecolor": "#2a3f5f",
             "gridcolor": "white",
             "linecolor": "white",
             "minorgridcolor": "white",
             "startlinecolor": "#2a3f5f"
            },
            "baxis": {
             "endlinecolor": "#2a3f5f",
             "gridcolor": "white",
             "linecolor": "white",
             "minorgridcolor": "white",
             "startlinecolor": "#2a3f5f"
            },
            "type": "carpet"
           }
          ],
          "choropleth": [
           {
            "colorbar": {
             "outlinewidth": 0,
             "ticks": ""
            },
            "type": "choropleth"
           }
          ],
          "contour": [
           {
            "colorbar": {
             "outlinewidth": 0,
             "ticks": ""
            },
            "colorscale": [
             [
              0,
              "#0d0887"
             ],
             [
              0.1111111111111111,
              "#46039f"
             ],
             [
              0.2222222222222222,
              "#7201a8"
             ],
             [
              0.3333333333333333,
              "#9c179e"
             ],
             [
              0.4444444444444444,
              "#bd3786"
             ],
             [
              0.5555555555555556,
              "#d8576b"
             ],
             [
              0.6666666666666666,
              "#ed7953"
             ],
             [
              0.7777777777777778,
              "#fb9f3a"
             ],
             [
              0.8888888888888888,
              "#fdca26"
             ],
             [
              1,
              "#f0f921"
             ]
            ],
            "type": "contour"
           }
          ],
          "contourcarpet": [
           {
            "colorbar": {
             "outlinewidth": 0,
             "ticks": ""
            },
            "type": "contourcarpet"
           }
          ],
          "heatmap": [
           {
            "colorbar": {
             "outlinewidth": 0,
             "ticks": ""
            },
            "colorscale": [
             [
              0,
              "#0d0887"
             ],
             [
              0.1111111111111111,
              "#46039f"
             ],
             [
              0.2222222222222222,
              "#7201a8"
             ],
             [
              0.3333333333333333,
              "#9c179e"
             ],
             [
              0.4444444444444444,
              "#bd3786"
             ],
             [
              0.5555555555555556,
              "#d8576b"
             ],
             [
              0.6666666666666666,
              "#ed7953"
             ],
             [
              0.7777777777777778,
              "#fb9f3a"
             ],
             [
              0.8888888888888888,
              "#fdca26"
             ],
             [
              1,
              "#f0f921"
             ]
            ],
            "type": "heatmap"
           }
          ],
          "heatmapgl": [
           {
            "colorbar": {
             "outlinewidth": 0,
             "ticks": ""
            },
            "colorscale": [
             [
              0,
              "#0d0887"
             ],
             [
              0.1111111111111111,
              "#46039f"
             ],
             [
              0.2222222222222222,
              "#7201a8"
             ],
             [
              0.3333333333333333,
              "#9c179e"
             ],
             [
              0.4444444444444444,
              "#bd3786"
             ],
             [
              0.5555555555555556,
              "#d8576b"
             ],
             [
              0.6666666666666666,
              "#ed7953"
             ],
             [
              0.7777777777777778,
              "#fb9f3a"
             ],
             [
              0.8888888888888888,
              "#fdca26"
             ],
             [
              1,
              "#f0f921"
             ]
            ],
            "type": "heatmapgl"
           }
          ],
          "histogram": [
           {
            "marker": {
             "colorbar": {
              "outlinewidth": 0,
              "ticks": ""
             }
            },
            "type": "histogram"
           }
          ],
          "histogram2d": [
           {
            "colorbar": {
             "outlinewidth": 0,
             "ticks": ""
            },
            "colorscale": [
             [
              0,
              "#0d0887"
             ],
             [
              0.1111111111111111,
              "#46039f"
             ],
             [
              0.2222222222222222,
              "#7201a8"
             ],
             [
              0.3333333333333333,
              "#9c179e"
             ],
             [
              0.4444444444444444,
              "#bd3786"
             ],
             [
              0.5555555555555556,
              "#d8576b"
             ],
             [
              0.6666666666666666,
              "#ed7953"
             ],
             [
              0.7777777777777778,
              "#fb9f3a"
             ],
             [
              0.8888888888888888,
              "#fdca26"
             ],
             [
              1,
              "#f0f921"
             ]
            ],
            "type": "histogram2d"
           }
          ],
          "histogram2dcontour": [
           {
            "colorbar": {
             "outlinewidth": 0,
             "ticks": ""
            },
            "colorscale": [
             [
              0,
              "#0d0887"
             ],
             [
              0.1111111111111111,
              "#46039f"
             ],
             [
              0.2222222222222222,
              "#7201a8"
             ],
             [
              0.3333333333333333,
              "#9c179e"
             ],
             [
              0.4444444444444444,
              "#bd3786"
             ],
             [
              0.5555555555555556,
              "#d8576b"
             ],
             [
              0.6666666666666666,
              "#ed7953"
             ],
             [
              0.7777777777777778,
              "#fb9f3a"
             ],
             [
              0.8888888888888888,
              "#fdca26"
             ],
             [
              1,
              "#f0f921"
             ]
            ],
            "type": "histogram2dcontour"
           }
          ],
          "mesh3d": [
           {
            "colorbar": {
             "outlinewidth": 0,
             "ticks": ""
            },
            "type": "mesh3d"
           }
          ],
          "parcoords": [
           {
            "line": {
             "colorbar": {
              "outlinewidth": 0,
              "ticks": ""
             }
            },
            "type": "parcoords"
           }
          ],
          "pie": [
           {
            "automargin": true,
            "type": "pie"
           }
          ],
          "scatter": [
           {
            "marker": {
             "colorbar": {
              "outlinewidth": 0,
              "ticks": ""
             }
            },
            "type": "scatter"
           }
          ],
          "scatter3d": [
           {
            "line": {
             "colorbar": {
              "outlinewidth": 0,
              "ticks": ""
             }
            },
            "marker": {
             "colorbar": {
              "outlinewidth": 0,
              "ticks": ""
             }
            },
            "type": "scatter3d"
           }
          ],
          "scattercarpet": [
           {
            "marker": {
             "colorbar": {
              "outlinewidth": 0,
              "ticks": ""
             }
            },
            "type": "scattercarpet"
           }
          ],
          "scattergeo": [
           {
            "marker": {
             "colorbar": {
              "outlinewidth": 0,
              "ticks": ""
             }
            },
            "type": "scattergeo"
           }
          ],
          "scattergl": [
           {
            "marker": {
             "colorbar": {
              "outlinewidth": 0,
              "ticks": ""
             }
            },
            "type": "scattergl"
           }
          ],
          "scattermapbox": [
           {
            "marker": {
             "colorbar": {
              "outlinewidth": 0,
              "ticks": ""
             }
            },
            "type": "scattermapbox"
           }
          ],
          "scatterpolar": [
           {
            "marker": {
             "colorbar": {
              "outlinewidth": 0,
              "ticks": ""
             }
            },
            "type": "scatterpolar"
           }
          ],
          "scatterpolargl": [
           {
            "marker": {
             "colorbar": {
              "outlinewidth": 0,
              "ticks": ""
             }
            },
            "type": "scatterpolargl"
           }
          ],
          "scatterternary": [
           {
            "marker": {
             "colorbar": {
              "outlinewidth": 0,
              "ticks": ""
             }
            },
            "type": "scatterternary"
           }
          ],
          "surface": [
           {
            "colorbar": {
             "outlinewidth": 0,
             "ticks": ""
            },
            "colorscale": [
             [
              0,
              "#0d0887"
             ],
             [
              0.1111111111111111,
              "#46039f"
             ],
             [
              0.2222222222222222,
              "#7201a8"
             ],
             [
              0.3333333333333333,
              "#9c179e"
             ],
             [
              0.4444444444444444,
              "#bd3786"
             ],
             [
              0.5555555555555556,
              "#d8576b"
             ],
             [
              0.6666666666666666,
              "#ed7953"
             ],
             [
              0.7777777777777778,
              "#fb9f3a"
             ],
             [
              0.8888888888888888,
              "#fdca26"
             ],
             [
              1,
              "#f0f921"
             ]
            ],
            "type": "surface"
           }
          ],
          "table": [
           {
            "cells": {
             "fill": {
              "color": "#EBF0F8"
             },
             "line": {
              "color": "white"
             }
            },
            "header": {
             "fill": {
              "color": "#C8D4E3"
             },
             "line": {
              "color": "white"
             }
            },
            "type": "table"
           }
          ]
         },
         "layout": {
          "annotationdefaults": {
           "arrowcolor": "#2a3f5f",
           "arrowhead": 0,
           "arrowwidth": 1
          },
          "coloraxis": {
           "colorbar": {
            "outlinewidth": 0,
            "ticks": ""
           }
          },
          "colorscale": {
           "diverging": [
            [
             0,
             "#8e0152"
            ],
            [
             0.1,
             "#c51b7d"
            ],
            [
             0.2,
             "#de77ae"
            ],
            [
             0.3,
             "#f1b6da"
            ],
            [
             0.4,
             "#fde0ef"
            ],
            [
             0.5,
             "#f7f7f7"
            ],
            [
             0.6,
             "#e6f5d0"
            ],
            [
             0.7,
             "#b8e186"
            ],
            [
             0.8,
             "#7fbc41"
            ],
            [
             0.9,
             "#4d9221"
            ],
            [
             1,
             "#276419"
            ]
           ],
           "sequential": [
            [
             0,
             "#0d0887"
            ],
            [
             0.1111111111111111,
             "#46039f"
            ],
            [
             0.2222222222222222,
             "#7201a8"
            ],
            [
             0.3333333333333333,
             "#9c179e"
            ],
            [
             0.4444444444444444,
             "#bd3786"
            ],
            [
             0.5555555555555556,
             "#d8576b"
            ],
            [
             0.6666666666666666,
             "#ed7953"
            ],
            [
             0.7777777777777778,
             "#fb9f3a"
            ],
            [
             0.8888888888888888,
             "#fdca26"
            ],
            [
             1,
             "#f0f921"
            ]
           ],
           "sequentialminus": [
            [
             0,
             "#0d0887"
            ],
            [
             0.1111111111111111,
             "#46039f"
            ],
            [
             0.2222222222222222,
             "#7201a8"
            ],
            [
             0.3333333333333333,
             "#9c179e"
            ],
            [
             0.4444444444444444,
             "#bd3786"
            ],
            [
             0.5555555555555556,
             "#d8576b"
            ],
            [
             0.6666666666666666,
             "#ed7953"
            ],
            [
             0.7777777777777778,
             "#fb9f3a"
            ],
            [
             0.8888888888888888,
             "#fdca26"
            ],
            [
             1,
             "#f0f921"
            ]
           ]
          },
          "colorway": [
           "#636efa",
           "#EF553B",
           "#00cc96",
           "#ab63fa",
           "#FFA15A",
           "#19d3f3",
           "#FF6692",
           "#B6E880",
           "#FF97FF",
           "#FECB52"
          ],
          "font": {
           "color": "#2a3f5f"
          },
          "geo": {
           "bgcolor": "white",
           "lakecolor": "white",
           "landcolor": "#E5ECF6",
           "showlakes": true,
           "showland": true,
           "subunitcolor": "white"
          },
          "hoverlabel": {
           "align": "left"
          },
          "hovermode": "closest",
          "mapbox": {
           "style": "light"
          },
          "paper_bgcolor": "white",
          "plot_bgcolor": "#E5ECF6",
          "polar": {
           "angularaxis": {
            "gridcolor": "white",
            "linecolor": "white",
            "ticks": ""
           },
           "bgcolor": "#E5ECF6",
           "radialaxis": {
            "gridcolor": "white",
            "linecolor": "white",
            "ticks": ""
           }
          },
          "scene": {
           "xaxis": {
            "backgroundcolor": "#E5ECF6",
            "gridcolor": "white",
            "gridwidth": 2,
            "linecolor": "white",
            "showbackground": true,
            "ticks": "",
            "zerolinecolor": "white"
           },
           "yaxis": {
            "backgroundcolor": "#E5ECF6",
            "gridcolor": "white",
            "gridwidth": 2,
            "linecolor": "white",
            "showbackground": true,
            "ticks": "",
            "zerolinecolor": "white"
           },
           "zaxis": {
            "backgroundcolor": "#E5ECF6",
            "gridcolor": "white",
            "gridwidth": 2,
            "linecolor": "white",
            "showbackground": true,
            "ticks": "",
            "zerolinecolor": "white"
           }
          },
          "shapedefaults": {
           "line": {
            "color": "#2a3f5f"
           }
          },
          "ternary": {
           "aaxis": {
            "gridcolor": "white",
            "linecolor": "white",
            "ticks": ""
           },
           "baxis": {
            "gridcolor": "white",
            "linecolor": "white",
            "ticks": ""
           },
           "bgcolor": "#E5ECF6",
           "caxis": {
            "gridcolor": "white",
            "linecolor": "white",
            "ticks": ""
           }
          },
          "title": {
           "x": 0.05
          },
          "xaxis": {
           "automargin": true,
           "gridcolor": "white",
           "linecolor": "white",
           "ticks": "",
           "title": {
            "standoff": 15
           },
           "zerolinecolor": "white",
           "zerolinewidth": 2
          },
          "yaxis": {
           "automargin": true,
           "gridcolor": "white",
           "linecolor": "white",
           "ticks": "",
           "title": {
            "standoff": 15
           },
           "zerolinecolor": "white",
           "zerolinewidth": 2
          }
         }
        },
        "title": {
         "font": {
          "color": "#4D5663"
         }
        },
        "xaxis": {
         "gridcolor": "#E1E5ED",
         "showgrid": true,
         "tickfont": {
          "color": "#4D5663"
         },
         "title": {
          "font": {
           "color": "#4D5663"
          },
          "text": ""
         },
         "zerolinecolor": "#E1E5ED"
        },
        "yaxis": {
         "gridcolor": "#E1E5ED",
         "showgrid": true,
         "tickfont": {
          "color": "#4D5663"
         },
         "title": {
          "font": {
           "color": "#4D5663"
          },
          "text": ""
         },
         "zerolinecolor": "#E1E5ED"
        }
       }
      },
      "text/html": [
       "<div>\n",
       "        \n",
       "        \n",
       "            <div id=\"14bea19b-700b-4c19-a1fb-546b70e0b735\" class=\"plotly-graph-div\" style=\"height:525px; width:100%;\"></div>\n",
       "            <script type=\"text/javascript\">\n",
       "                require([\"plotly\"], function(Plotly) {\n",
       "                    window.PLOTLYENV=window.PLOTLYENV || {};\n",
       "                    window.PLOTLYENV.BASE_URL='https://plot.ly';\n",
       "                    \n",
       "                if (document.getElementById(\"14bea19b-700b-4c19-a1fb-546b70e0b735\")) {\n",
       "                    Plotly.newPlot(\n",
       "                        '14bea19b-700b-4c19-a1fb-546b70e0b735',\n",
       "                        [{\"marker\": {\"color\": \"rgba(255, 153, 51, 0.6)\", \"line\": {\"color\": \"rgba(255, 153, 51, 1.0)\", \"width\": 1}}, \"name\": \"Values\", \"orientation\": \"v\", \"text\": \"\", \"type\": \"bar\", \"x\": [\"A\", \"B\", \"C\"], \"y\": [32, 43, 50]}],\n",
       "                        {\"legend\": {\"bgcolor\": \"#F5F6F9\", \"font\": {\"color\": \"#4D5663\"}}, \"paper_bgcolor\": \"#F5F6F9\", \"plot_bgcolor\": \"#F5F6F9\", \"template\": {\"data\": {\"bar\": [{\"error_x\": {\"color\": \"#2a3f5f\"}, \"error_y\": {\"color\": \"#2a3f5f\"}, \"marker\": {\"line\": {\"color\": \"#E5ECF6\", \"width\": 0.5}}, \"type\": \"bar\"}], \"barpolar\": [{\"marker\": {\"line\": {\"color\": \"#E5ECF6\", \"width\": 0.5}}, \"type\": \"barpolar\"}], \"carpet\": [{\"aaxis\": {\"endlinecolor\": \"#2a3f5f\", \"gridcolor\": \"white\", \"linecolor\": \"white\", \"minorgridcolor\": \"white\", \"startlinecolor\": \"#2a3f5f\"}, \"baxis\": {\"endlinecolor\": \"#2a3f5f\", \"gridcolor\": \"white\", \"linecolor\": \"white\", \"minorgridcolor\": \"white\", \"startlinecolor\": \"#2a3f5f\"}, \"type\": \"carpet\"}], \"choropleth\": [{\"colorbar\": {\"outlinewidth\": 0, \"ticks\": \"\"}, \"type\": \"choropleth\"}], \"contour\": [{\"colorbar\": {\"outlinewidth\": 0, \"ticks\": \"\"}, \"colorscale\": [[0.0, \"#0d0887\"], [0.1111111111111111, \"#46039f\"], [0.2222222222222222, \"#7201a8\"], [0.3333333333333333, \"#9c179e\"], [0.4444444444444444, \"#bd3786\"], [0.5555555555555556, \"#d8576b\"], [0.6666666666666666, \"#ed7953\"], [0.7777777777777778, \"#fb9f3a\"], [0.8888888888888888, \"#fdca26\"], [1.0, \"#f0f921\"]], \"type\": \"contour\"}], \"contourcarpet\": [{\"colorbar\": {\"outlinewidth\": 0, \"ticks\": \"\"}, \"type\": \"contourcarpet\"}], \"heatmap\": [{\"colorbar\": {\"outlinewidth\": 0, \"ticks\": \"\"}, \"colorscale\": [[0.0, \"#0d0887\"], [0.1111111111111111, \"#46039f\"], [0.2222222222222222, \"#7201a8\"], [0.3333333333333333, \"#9c179e\"], [0.4444444444444444, \"#bd3786\"], [0.5555555555555556, \"#d8576b\"], [0.6666666666666666, \"#ed7953\"], [0.7777777777777778, \"#fb9f3a\"], [0.8888888888888888, \"#fdca26\"], [1.0, \"#f0f921\"]], \"type\": \"heatmap\"}], \"heatmapgl\": [{\"colorbar\": {\"outlinewidth\": 0, \"ticks\": \"\"}, \"colorscale\": [[0.0, \"#0d0887\"], [0.1111111111111111, \"#46039f\"], [0.2222222222222222, \"#7201a8\"], [0.3333333333333333, \"#9c179e\"], [0.4444444444444444, \"#bd3786\"], [0.5555555555555556, \"#d8576b\"], [0.6666666666666666, \"#ed7953\"], [0.7777777777777778, \"#fb9f3a\"], [0.8888888888888888, \"#fdca26\"], [1.0, \"#f0f921\"]], \"type\": \"heatmapgl\"}], \"histogram\": [{\"marker\": {\"colorbar\": {\"outlinewidth\": 0, \"ticks\": \"\"}}, \"type\": \"histogram\"}], \"histogram2d\": [{\"colorbar\": {\"outlinewidth\": 0, \"ticks\": \"\"}, \"colorscale\": [[0.0, \"#0d0887\"], [0.1111111111111111, \"#46039f\"], [0.2222222222222222, \"#7201a8\"], [0.3333333333333333, \"#9c179e\"], [0.4444444444444444, \"#bd3786\"], [0.5555555555555556, \"#d8576b\"], [0.6666666666666666, \"#ed7953\"], [0.7777777777777778, \"#fb9f3a\"], [0.8888888888888888, \"#fdca26\"], [1.0, \"#f0f921\"]], \"type\": \"histogram2d\"}], \"histogram2dcontour\": [{\"colorbar\": {\"outlinewidth\": 0, \"ticks\": \"\"}, \"colorscale\": [[0.0, \"#0d0887\"], [0.1111111111111111, \"#46039f\"], [0.2222222222222222, \"#7201a8\"], [0.3333333333333333, \"#9c179e\"], [0.4444444444444444, \"#bd3786\"], [0.5555555555555556, \"#d8576b\"], [0.6666666666666666, \"#ed7953\"], [0.7777777777777778, \"#fb9f3a\"], [0.8888888888888888, \"#fdca26\"], [1.0, \"#f0f921\"]], \"type\": \"histogram2dcontour\"}], \"mesh3d\": [{\"colorbar\": {\"outlinewidth\": 0, \"ticks\": \"\"}, \"type\": \"mesh3d\"}], \"parcoords\": [{\"line\": {\"colorbar\": {\"outlinewidth\": 0, \"ticks\": \"\"}}, \"type\": \"parcoords\"}], \"pie\": [{\"automargin\": true, \"type\": \"pie\"}], \"scatter\": [{\"marker\": {\"colorbar\": {\"outlinewidth\": 0, \"ticks\": \"\"}}, \"type\": \"scatter\"}], \"scatter3d\": [{\"line\": {\"colorbar\": {\"outlinewidth\": 0, \"ticks\": \"\"}}, \"marker\": {\"colorbar\": {\"outlinewidth\": 0, \"ticks\": \"\"}}, \"type\": \"scatter3d\"}], \"scattercarpet\": [{\"marker\": {\"colorbar\": {\"outlinewidth\": 0, \"ticks\": \"\"}}, \"type\": \"scattercarpet\"}], \"scattergeo\": [{\"marker\": {\"colorbar\": {\"outlinewidth\": 0, \"ticks\": \"\"}}, \"type\": \"scattergeo\"}], \"scattergl\": [{\"marker\": {\"colorbar\": {\"outlinewidth\": 0, \"ticks\": \"\"}}, \"type\": \"scattergl\"}], \"scattermapbox\": [{\"marker\": {\"colorbar\": {\"outlinewidth\": 0, \"ticks\": \"\"}}, \"type\": \"scattermapbox\"}], \"scatterpolar\": [{\"marker\": {\"colorbar\": {\"outlinewidth\": 0, \"ticks\": \"\"}}, \"type\": \"scatterpolar\"}], \"scatterpolargl\": [{\"marker\": {\"colorbar\": {\"outlinewidth\": 0, \"ticks\": \"\"}}, \"type\": \"scatterpolargl\"}], \"scatterternary\": [{\"marker\": {\"colorbar\": {\"outlinewidth\": 0, \"ticks\": \"\"}}, \"type\": \"scatterternary\"}], \"surface\": [{\"colorbar\": {\"outlinewidth\": 0, \"ticks\": \"\"}, \"colorscale\": [[0.0, \"#0d0887\"], [0.1111111111111111, \"#46039f\"], [0.2222222222222222, \"#7201a8\"], [0.3333333333333333, \"#9c179e\"], [0.4444444444444444, \"#bd3786\"], [0.5555555555555556, \"#d8576b\"], [0.6666666666666666, \"#ed7953\"], [0.7777777777777778, \"#fb9f3a\"], [0.8888888888888888, \"#fdca26\"], [1.0, \"#f0f921\"]], \"type\": \"surface\"}], \"table\": [{\"cells\": {\"fill\": {\"color\": \"#EBF0F8\"}, \"line\": {\"color\": \"white\"}}, \"header\": {\"fill\": {\"color\": \"#C8D4E3\"}, \"line\": {\"color\": \"white\"}}, \"type\": \"table\"}]}, \"layout\": {\"annotationdefaults\": {\"arrowcolor\": \"#2a3f5f\", \"arrowhead\": 0, \"arrowwidth\": 1}, \"coloraxis\": {\"colorbar\": {\"outlinewidth\": 0, \"ticks\": \"\"}}, \"colorscale\": {\"diverging\": [[0, \"#8e0152\"], [0.1, \"#c51b7d\"], [0.2, \"#de77ae\"], [0.3, \"#f1b6da\"], [0.4, \"#fde0ef\"], [0.5, \"#f7f7f7\"], [0.6, \"#e6f5d0\"], [0.7, \"#b8e186\"], [0.8, \"#7fbc41\"], [0.9, \"#4d9221\"], [1, \"#276419\"]], \"sequential\": [[0.0, \"#0d0887\"], [0.1111111111111111, \"#46039f\"], [0.2222222222222222, \"#7201a8\"], [0.3333333333333333, \"#9c179e\"], [0.4444444444444444, \"#bd3786\"], [0.5555555555555556, \"#d8576b\"], [0.6666666666666666, \"#ed7953\"], [0.7777777777777778, \"#fb9f3a\"], [0.8888888888888888, \"#fdca26\"], [1.0, \"#f0f921\"]], \"sequentialminus\": [[0.0, \"#0d0887\"], [0.1111111111111111, \"#46039f\"], [0.2222222222222222, \"#7201a8\"], [0.3333333333333333, \"#9c179e\"], [0.4444444444444444, \"#bd3786\"], [0.5555555555555556, \"#d8576b\"], [0.6666666666666666, \"#ed7953\"], [0.7777777777777778, \"#fb9f3a\"], [0.8888888888888888, \"#fdca26\"], [1.0, \"#f0f921\"]]}, \"colorway\": [\"#636efa\", \"#EF553B\", \"#00cc96\", \"#ab63fa\", \"#FFA15A\", \"#19d3f3\", \"#FF6692\", \"#B6E880\", \"#FF97FF\", \"#FECB52\"], \"font\": {\"color\": \"#2a3f5f\"}, \"geo\": {\"bgcolor\": \"white\", \"lakecolor\": \"white\", \"landcolor\": \"#E5ECF6\", \"showlakes\": true, \"showland\": true, \"subunitcolor\": \"white\"}, \"hoverlabel\": {\"align\": \"left\"}, \"hovermode\": \"closest\", \"mapbox\": {\"style\": \"light\"}, \"paper_bgcolor\": \"white\", \"plot_bgcolor\": \"#E5ECF6\", \"polar\": {\"angularaxis\": {\"gridcolor\": \"white\", \"linecolor\": \"white\", \"ticks\": \"\"}, \"bgcolor\": \"#E5ECF6\", \"radialaxis\": {\"gridcolor\": \"white\", \"linecolor\": \"white\", \"ticks\": \"\"}}, \"scene\": {\"xaxis\": {\"backgroundcolor\": \"#E5ECF6\", \"gridcolor\": \"white\", \"gridwidth\": 2, \"linecolor\": \"white\", \"showbackground\": true, \"ticks\": \"\", \"zerolinecolor\": \"white\"}, \"yaxis\": {\"backgroundcolor\": \"#E5ECF6\", \"gridcolor\": \"white\", \"gridwidth\": 2, \"linecolor\": \"white\", \"showbackground\": true, \"ticks\": \"\", \"zerolinecolor\": \"white\"}, \"zaxis\": {\"backgroundcolor\": \"#E5ECF6\", \"gridcolor\": \"white\", \"gridwidth\": 2, \"linecolor\": \"white\", \"showbackground\": true, \"ticks\": \"\", \"zerolinecolor\": \"white\"}}, \"shapedefaults\": {\"line\": {\"color\": \"#2a3f5f\"}}, \"ternary\": {\"aaxis\": {\"gridcolor\": \"white\", \"linecolor\": \"white\", \"ticks\": \"\"}, \"baxis\": {\"gridcolor\": \"white\", \"linecolor\": \"white\", \"ticks\": \"\"}, \"bgcolor\": \"#E5ECF6\", \"caxis\": {\"gridcolor\": \"white\", \"linecolor\": \"white\", \"ticks\": \"\"}}, \"title\": {\"x\": 0.05}, \"xaxis\": {\"automargin\": true, \"gridcolor\": \"white\", \"linecolor\": \"white\", \"ticks\": \"\", \"title\": {\"standoff\": 15}, \"zerolinecolor\": \"white\", \"zerolinewidth\": 2}, \"yaxis\": {\"automargin\": true, \"gridcolor\": \"white\", \"linecolor\": \"white\", \"ticks\": \"\", \"title\": {\"standoff\": 15}, \"zerolinecolor\": \"white\", \"zerolinewidth\": 2}}}, \"title\": {\"font\": {\"color\": \"#4D5663\"}}, \"xaxis\": {\"gridcolor\": \"#E1E5ED\", \"showgrid\": true, \"tickfont\": {\"color\": \"#4D5663\"}, \"title\": {\"font\": {\"color\": \"#4D5663\"}, \"text\": \"\"}, \"zerolinecolor\": \"#E1E5ED\"}, \"yaxis\": {\"gridcolor\": \"#E1E5ED\", \"showgrid\": true, \"tickfont\": {\"color\": \"#4D5663\"}, \"title\": {\"font\": {\"color\": \"#4D5663\"}, \"text\": \"\"}, \"zerolinecolor\": \"#E1E5ED\"}},\n",
       "                        {\"showLink\": true, \"linkText\": \"Export to plot.ly\", \"plotlyServerURL\": \"https://plot.ly\", \"responsive\": true}\n",
       "                    ).then(function(){\n",
       "                            \n",
       "var gd = document.getElementById('14bea19b-700b-4c19-a1fb-546b70e0b735');\n",
       "var x = new MutationObserver(function (mutations, observer) {{\n",
       "        var display = window.getComputedStyle(gd).display;\n",
       "        if (!display || display === 'none') {{\n",
       "            console.log([gd, 'removed!']);\n",
       "            Plotly.purge(gd);\n",
       "            observer.disconnect();\n",
       "        }}\n",
       "}});\n",
       "\n",
       "// Listen for the removal of the full notebook cells\n",
       "var notebookContainer = gd.closest('#notebook-container');\n",
       "if (notebookContainer) {{\n",
       "    x.observe(notebookContainer, {childList: true});\n",
       "}}\n",
       "\n",
       "// Listen for the clearing of the current output cell\n",
       "var outputEl = gd.closest('.output');\n",
       "if (outputEl) {{\n",
       "    x.observe(outputEl, {childList: true});\n",
       "}}\n",
       "\n",
       "                        })\n",
       "                };\n",
       "                });\n",
       "            </script>\n",
       "        </div>"
      ]
     },
     "metadata": {},
     "output_type": "display_data"
    }
   ],
   "source": [
    "df2.iplot(kind='bar',x='Category',y='Values')"
   ]
  },
  {
   "cell_type": "code",
   "execution_count": 21,
   "metadata": {
    "scrolled": true
   },
   "outputs": [
    {
     "data": {
      "application/vnd.plotly.v1+json": {
       "config": {
        "linkText": "Export to plot.ly",
        "plotlyServerURL": "https://plot.ly",
        "showLink": true
       },
       "data": [
        {
         "colorscale": [
          [
           0,
           "rgb(255, 153, 51)"
          ],
          [
           0.1111111111111111,
           "rgb(55, 128, 191)"
          ],
          [
           0.2222222222222222,
           "rgb(50, 171, 96)"
          ],
          [
           0.3333333333333333,
           "rgb(128, 0, 128)"
          ],
          [
           0.4444444444444444,
           "rgb(219, 64, 82)"
          ],
          [
           0.5555555555555556,
           "rgb(0, 128, 128)"
          ],
          [
           0.6666666666666666,
           "rgb(255, 255, 51)"
          ],
          [
           0.7777777777777778,
           "rgb(128, 128, 0)"
          ],
          [
           0.8888888888888888,
           "rgb(251, 128, 114)"
          ],
          [
           1,
           "rgb(128, 177, 211)"
          ]
         ],
         "type": "surface",
         "x": [
          0,
          1,
          2,
          3,
          4,
          5,
          6,
          7,
          8,
          9,
          10,
          11,
          12,
          13,
          14,
          15,
          16,
          17,
          18,
          19,
          20,
          21,
          22,
          23,
          24,
          25,
          26,
          27,
          28,
          29,
          30,
          31,
          32,
          33,
          34,
          35,
          36,
          37,
          38,
          39,
          40,
          41,
          42,
          43,
          44,
          45,
          46,
          47,
          48,
          49,
          50,
          51,
          52,
          53,
          54,
          55,
          56,
          57,
          58,
          59,
          60,
          61,
          62,
          63,
          64,
          65,
          66,
          67,
          68,
          69,
          70,
          71,
          72,
          73,
          74,
          75,
          76,
          77,
          78,
          79,
          80,
          81,
          82,
          83,
          84,
          85,
          86,
          87,
          88,
          89,
          90,
          91,
          92,
          93,
          94,
          95,
          96,
          97,
          98,
          99
         ],
         "y": [
          "A",
          "B",
          "C",
          "D"
         ],
         "z": [
          [
           -0.16610363688689225,
           -0.5521200467561026,
           -0.32072301689097243,
           1.0003003046968628,
           -2.2516254604791026,
           -0.6421609543388991,
           -1.4472099947779882,
           -0.13620393460167918,
           -0.5848169421651246,
           -2.3343121377607203,
           0.7045769911864066,
           1.5641538767395509,
           0.13516072316710592,
           0.28401884325871657,
           0.19827951682921566,
           0.39511130031370845,
           -1.6845126169011948,
           1.7526821145707008,
           0.8774483307403921,
           0.836157017411292,
           0.9576375175548147,
           2.327572979958438,
           -0.09201586219373067,
           1.5049485394904945,
           0.6137499890871397,
           -0.23141334285681636,
           -0.3873137293486683,
           0.6665038996871202,
           1.3147726106271649,
           0.3411166578508544,
           -0.7313041972309057,
           0.6374438673125333,
           -1.4268863568083,
           1.2761838902761153,
           0.9224514175204899,
           0.5875380186215396,
           0.9624380244543723,
           -0.028387429045422862,
           -1.7110591691269732,
           0.45768060713546815,
           0.3325008338888872,
           -1.751953272398217,
           0.3727204316081648,
           0.12166865899983588,
           0.6526321680965788,
           -0.07920899553609972,
           -0.5445207532153917,
           -1.6105046471915463,
           -0.2936118804357919,
           0.27986148037476366,
           1.1034013134894871,
           -1.9631465840033653,
           0.43114100186860127,
           -1.235857295974943,
           -1.522723677140059,
           1.2174951715447608,
           0.19372990695871908,
           0.2823849931757263,
           -0.0731218671022487,
           0.7910575601342564,
           -0.6029356378404177,
           -1.7185657936649517,
           -1.1039251574505327,
           2.658810831218528,
           0.8738864116196249,
           -0.35572194094378795,
           0.2340454597606315,
           1.1752802475422055,
           -2.857194818069491,
           -2.600189945808657,
           -1.4129955337744562,
           1.5040243218995208,
           0.4564891038547735,
           -1.0928905726727565,
           1.0934669671611048,
           -0.2952153464804887,
           0.8512281133013911,
           -0.6054409722058584,
           -0.47567754440403875,
           0.6482097649869025,
           0.6347649736514742,
           -0.02784922656797839,
           0.8386088840498142,
           -0.5440691092397063,
           0.6972768207546788,
           0.6093926761521056,
           -0.06405757550025791,
           -0.33223152813714046,
           -0.6681213932531654,
           -0.5803620221889505,
           0.18130261081281787,
           0.9588359075234838,
           2.2614997061951416,
           0.04757386170100405,
           0.3322555579091508,
           1.323477756176155,
           1.0653892403615686,
           0.8465770283086058,
           -0.9181065897100504,
           2.1780189252592024
          ],
          [
           0.29954851481511197,
           0.3460221764914574,
           -1.4684786291220613,
           -2.3261076380136574,
           -0.8560630170935084,
           -0.2666675002725784,
           -1.0367178317473178,
           -0.1641102056865516,
           1.293259163731727,
           -0.8059944250936861,
           0.16568334726967576,
           0.9238802895778643,
           -0.2032665907555867,
           1.4971275004914129,
           -0.6110568652907729,
           0.2880256480075652,
           0.30218628023342814,
           0.8151874780879765,
           1.962755339156543,
           -0.04634897285046687,
           0.9708911382708385,
           -2.1803393662632553,
           -0.758135596494414,
           0.14765847037822513,
           1.4395399354838565,
           1.4652400783624666,
           0.27133549685807756,
           0.6009887331928555,
           0.970003264198216,
           2.0923142080688413,
           0.28497261904097343,
           0.03808232091512796,
           -0.028460144293740264,
           -2.875724284445149,
           0.1076739686130463,
           0.6330099707257212,
           1.258254478784425,
           -1.5150255195577138,
           -0.17417549664166573,
           0.08234847547277795,
           -1.262136013163713,
           1.6480467810562809,
           0.6212728629358613,
           1.604482318383683,
           -0.2491181023499222,
           -0.276987626080192,
           0.33503155541675445,
           -0.38311910251804393,
           1.5368983700433583,
           0.043550837958556736,
           0.11312770593752079,
           -0.22552084547381376,
           -0.7342024780377591,
           2.002354164469548,
           -0.3513763370984161,
           1.0891939844574783,
           0.07742301663804288,
           0.1188221678986353,
           1.1646519897891336,
           -0.8672559147206672,
           0.0733867650574441,
           1.6413026825633483,
           1.1875277507898772,
           1.5726061764487005,
           1.0235143951809598,
           -1.702807383350166,
           0.29512873630470426,
           -0.665512319607524,
           -0.06563198708957493,
           0.9852227949234997,
           0.09416627441366154,
           -0.34029398342148215,
           0.7194906222908173,
           -0.30538210212909767,
           0.7528310074888965,
           -0.4475454762754745,
           0.8652186823730295,
           -0.8999691204773388,
           -1.4992660437698153,
           -0.052600864705378066,
           0.9632080553530256,
           0.4225227445710723,
           -0.24976249740389195,
           1.3423979730077338,
           -1.345353752730523,
           0.39946146360573226,
           -1.6935712804020313,
           -2.3452695240608383,
           0.40276261537770885,
           -1.571628849316674,
           0.48374420873834323,
           0.49969435110551125,
           -0.9541923582452546,
           0.1236947783406742,
           0.4825198504341591,
           0.5219508629780577,
           -0.3946070881703127,
           -0.23385051002850257,
           -0.42874338188963346,
           0.1255556069572311
          ],
          [
           -0.5315840370366359,
           0.16173480123695258,
           -1.526931646395053,
           0.997242377656304,
           -0.6127806736114583,
           -0.6076059681446834,
           0.9332689822793767,
           0.43980921807417905,
           -0.30645413079830275,
           1.2458900691984305,
           -0.6957604554918259,
           -2.092519940530778,
           -1.1661682788766983,
           0.255104624978084,
           1.647807662409371,
           0.5210976514116537,
           -0.6921604664135697,
           1.1326329108282753,
           1.4451776734049617,
           0.8298433807264687,
           0.4444683646939226,
           -1.0055185800887931,
           -0.29283304255519654,
           0.1419455052444596,
           1.3737548124341294,
           1.0508543291204706,
           0.9498801490995556,
           -0.7404455862246961,
           -0.5255421947954927,
           0.916744385874406,
           -0.15103187217024516,
           0.5861150822660647,
           -0.7158396205909382,
           -0.1273319266696649,
           -0.7246719193641897,
           0.9876656227614199,
           -1.0367306921332464,
           0.5748044139773494,
           0.47094928557209303,
           1.2748763029158383,
           1.2610811112584115,
           0.11994002331706101,
           -1.1081761068456302,
           1.238951702663481,
           -1.2115485857662953,
           1.4136657090476943,
           0.8990156778106935,
           0.2035998460939371,
           0.24441159592290304,
           -0.6704548425930102,
           0.06729811289849236,
           1.571230006517233,
           0.4984922830017379,
           -1.201580984442513,
           -0.9073513360400925,
           0.9516530885677701,
           -1.2492922098024595,
           -0.0220801543063839,
           -2.376519762207996,
           0.5068377026671349,
           -0.518852160856346,
           0.8791920492250621,
           -0.95472187389494,
           0.9829015150187494,
           0.9083135037895894,
           -0.9876265347804443,
           0.7237661118721117,
           -0.21998847029808358,
           0.35479816545788034,
           -0.40174861511152066,
           0.17975264352827378,
           1.1137170160456207,
           -0.8397472638663248,
           -1.9543663324006089,
           -0.2393839379965726,
           1.9339191759410028,
           -0.43836892333319577,
           0.3344786325862197,
           0.4088563144914219,
           -2.0170863656846425,
           0.2201840809385637,
           1.1951916010784036,
           -0.6354650735287152,
           -0.4786980038378098,
           0.18538761734860001,
           -0.07703052731169485,
           -0.5655311347569333,
           0.658303520645014,
           -1.0372927454566931,
           0.8686836229086838,
           0.7496460470741813,
           0.6701395151186833,
           -0.2584094090099108,
           0.3084423241551389,
           -0.866881539195583,
           1.532050241828174,
           -0.6469809777305825,
           0.7602948416168382,
           0.6279171380651485,
           -1.9277658721404594
          ],
          [
           -1.6578640708999872,
           -0.7649732642850833,
           1.6197165520401355,
           0.6948518600793145,
           0.3235947195993021,
           -0.678889379260725,
           -0.3361775580924587,
           -1.4545876441784986,
           0.023108673045135805,
           0.5101867595881933,
           1.708817025073502,
           -0.8869842616981806,
           0.20099256959195583,
           -1.722319649440159,
           -0.2740622325464014,
           -0.36376477466003626,
           0.2954422790986494,
           0.2664542364691161,
           0.4594637388616335,
           1.8204605625865262,
           0.21517302849203657,
           0.9821691075688679,
           -1.2860083169738288,
           -0.305990641431503,
           -1.5308193358988362,
           1.5291123841765684,
           2.5001498653262813,
           0.48181901324010806,
           0.6056507504098625,
           0.20520138555661727,
           0.673657045336006,
           -0.14473040107917046,
           0.0018126574021694651,
           -0.4055122774768075,
           -0.1892016009524528,
           -1.0694261273493544,
           -0.08101890974558021,
           -0.3121409698055496,
           -1.2273820110274363,
           1.9758580909333334,
           2.3135419287863512,
           0.14511856919593644,
           0.24653537785366716,
           0.07410886277200507,
           -1.1125930858431627,
           -1.62096345722258,
           0.12113841093134217,
           0.3449923788579843,
           -1.165854220228875,
           0.4111965624026121,
           -0.521758461920156,
           -1.3467282660705224,
           -1.3464976477819253,
           -0.1334108039228377,
           -0.4131158052454607,
           -1.1849525526202902,
           -2.561228768562345,
           0.5085899679495604,
           0.17624310987041292,
           1.519344047572039,
           0.6664329635293371,
           0.006206355267497318,
           0.6192004542379782,
           -2.1701074059369043,
           1.3628884551809142,
           0.2629358007957257,
           1.7180376557384016,
           -0.12635718606915208,
           0.9603413318049445,
           -1.6294383721721726,
           2.3505547290119964,
           -1.7138265283773322,
           -1.7051456933294868,
           -1.2121786070604732,
           -0.8909519968250951,
           -0.8693751607222012,
           -2.8367209669440276,
           1.6272482826606223,
           -1.7531272081001894,
           -1.1979630187813524,
           -0.5948510747913349,
           1.1767443139944396,
           -0.19532606887327594,
           1.262050591898131,
           1.3038905730529844,
           -0.3518918170124171,
           -0.8458549646081417,
           -0.6645952048914188,
           -0.9670835527418234,
           -0.2249632861563061,
           -1.0738182939561671,
           -1.8601889573189312,
           1.0610754934161017,
           0.0010197261376331136,
           -0.006516285865091261,
           -1.3713686380602395,
           0.3124415434049576,
           1.0396442819329668,
           -0.7238815516848321,
           -0.48597617377374
          ]
         ]
        }
       ],
       "layout": {
        "legend": {
         "bgcolor": "#F5F6F9",
         "font": {
          "color": "#4D5663"
         }
        },
        "paper_bgcolor": "#F5F6F9",
        "plot_bgcolor": "#F5F6F9",
        "template": {
         "data": {
          "bar": [
           {
            "error_x": {
             "color": "#2a3f5f"
            },
            "error_y": {
             "color": "#2a3f5f"
            },
            "marker": {
             "line": {
              "color": "#E5ECF6",
              "width": 0.5
             }
            },
            "type": "bar"
           }
          ],
          "barpolar": [
           {
            "marker": {
             "line": {
              "color": "#E5ECF6",
              "width": 0.5
             }
            },
            "type": "barpolar"
           }
          ],
          "carpet": [
           {
            "aaxis": {
             "endlinecolor": "#2a3f5f",
             "gridcolor": "white",
             "linecolor": "white",
             "minorgridcolor": "white",
             "startlinecolor": "#2a3f5f"
            },
            "baxis": {
             "endlinecolor": "#2a3f5f",
             "gridcolor": "white",
             "linecolor": "white",
             "minorgridcolor": "white",
             "startlinecolor": "#2a3f5f"
            },
            "type": "carpet"
           }
          ],
          "choropleth": [
           {
            "colorbar": {
             "outlinewidth": 0,
             "ticks": ""
            },
            "type": "choropleth"
           }
          ],
          "contour": [
           {
            "colorbar": {
             "outlinewidth": 0,
             "ticks": ""
            },
            "colorscale": [
             [
              0,
              "#0d0887"
             ],
             [
              0.1111111111111111,
              "#46039f"
             ],
             [
              0.2222222222222222,
              "#7201a8"
             ],
             [
              0.3333333333333333,
              "#9c179e"
             ],
             [
              0.4444444444444444,
              "#bd3786"
             ],
             [
              0.5555555555555556,
              "#d8576b"
             ],
             [
              0.6666666666666666,
              "#ed7953"
             ],
             [
              0.7777777777777778,
              "#fb9f3a"
             ],
             [
              0.8888888888888888,
              "#fdca26"
             ],
             [
              1,
              "#f0f921"
             ]
            ],
            "type": "contour"
           }
          ],
          "contourcarpet": [
           {
            "colorbar": {
             "outlinewidth": 0,
             "ticks": ""
            },
            "type": "contourcarpet"
           }
          ],
          "heatmap": [
           {
            "colorbar": {
             "outlinewidth": 0,
             "ticks": ""
            },
            "colorscale": [
             [
              0,
              "#0d0887"
             ],
             [
              0.1111111111111111,
              "#46039f"
             ],
             [
              0.2222222222222222,
              "#7201a8"
             ],
             [
              0.3333333333333333,
              "#9c179e"
             ],
             [
              0.4444444444444444,
              "#bd3786"
             ],
             [
              0.5555555555555556,
              "#d8576b"
             ],
             [
              0.6666666666666666,
              "#ed7953"
             ],
             [
              0.7777777777777778,
              "#fb9f3a"
             ],
             [
              0.8888888888888888,
              "#fdca26"
             ],
             [
              1,
              "#f0f921"
             ]
            ],
            "type": "heatmap"
           }
          ],
          "heatmapgl": [
           {
            "colorbar": {
             "outlinewidth": 0,
             "ticks": ""
            },
            "colorscale": [
             [
              0,
              "#0d0887"
             ],
             [
              0.1111111111111111,
              "#46039f"
             ],
             [
              0.2222222222222222,
              "#7201a8"
             ],
             [
              0.3333333333333333,
              "#9c179e"
             ],
             [
              0.4444444444444444,
              "#bd3786"
             ],
             [
              0.5555555555555556,
              "#d8576b"
             ],
             [
              0.6666666666666666,
              "#ed7953"
             ],
             [
              0.7777777777777778,
              "#fb9f3a"
             ],
             [
              0.8888888888888888,
              "#fdca26"
             ],
             [
              1,
              "#f0f921"
             ]
            ],
            "type": "heatmapgl"
           }
          ],
          "histogram": [
           {
            "marker": {
             "colorbar": {
              "outlinewidth": 0,
              "ticks": ""
             }
            },
            "type": "histogram"
           }
          ],
          "histogram2d": [
           {
            "colorbar": {
             "outlinewidth": 0,
             "ticks": ""
            },
            "colorscale": [
             [
              0,
              "#0d0887"
             ],
             [
              0.1111111111111111,
              "#46039f"
             ],
             [
              0.2222222222222222,
              "#7201a8"
             ],
             [
              0.3333333333333333,
              "#9c179e"
             ],
             [
              0.4444444444444444,
              "#bd3786"
             ],
             [
              0.5555555555555556,
              "#d8576b"
             ],
             [
              0.6666666666666666,
              "#ed7953"
             ],
             [
              0.7777777777777778,
              "#fb9f3a"
             ],
             [
              0.8888888888888888,
              "#fdca26"
             ],
             [
              1,
              "#f0f921"
             ]
            ],
            "type": "histogram2d"
           }
          ],
          "histogram2dcontour": [
           {
            "colorbar": {
             "outlinewidth": 0,
             "ticks": ""
            },
            "colorscale": [
             [
              0,
              "#0d0887"
             ],
             [
              0.1111111111111111,
              "#46039f"
             ],
             [
              0.2222222222222222,
              "#7201a8"
             ],
             [
              0.3333333333333333,
              "#9c179e"
             ],
             [
              0.4444444444444444,
              "#bd3786"
             ],
             [
              0.5555555555555556,
              "#d8576b"
             ],
             [
              0.6666666666666666,
              "#ed7953"
             ],
             [
              0.7777777777777778,
              "#fb9f3a"
             ],
             [
              0.8888888888888888,
              "#fdca26"
             ],
             [
              1,
              "#f0f921"
             ]
            ],
            "type": "histogram2dcontour"
           }
          ],
          "mesh3d": [
           {
            "colorbar": {
             "outlinewidth": 0,
             "ticks": ""
            },
            "type": "mesh3d"
           }
          ],
          "parcoords": [
           {
            "line": {
             "colorbar": {
              "outlinewidth": 0,
              "ticks": ""
             }
            },
            "type": "parcoords"
           }
          ],
          "pie": [
           {
            "automargin": true,
            "type": "pie"
           }
          ],
          "scatter": [
           {
            "marker": {
             "colorbar": {
              "outlinewidth": 0,
              "ticks": ""
             }
            },
            "type": "scatter"
           }
          ],
          "scatter3d": [
           {
            "line": {
             "colorbar": {
              "outlinewidth": 0,
              "ticks": ""
             }
            },
            "marker": {
             "colorbar": {
              "outlinewidth": 0,
              "ticks": ""
             }
            },
            "type": "scatter3d"
           }
          ],
          "scattercarpet": [
           {
            "marker": {
             "colorbar": {
              "outlinewidth": 0,
              "ticks": ""
             }
            },
            "type": "scattercarpet"
           }
          ],
          "scattergeo": [
           {
            "marker": {
             "colorbar": {
              "outlinewidth": 0,
              "ticks": ""
             }
            },
            "type": "scattergeo"
           }
          ],
          "scattergl": [
           {
            "marker": {
             "colorbar": {
              "outlinewidth": 0,
              "ticks": ""
             }
            },
            "type": "scattergl"
           }
          ],
          "scattermapbox": [
           {
            "marker": {
             "colorbar": {
              "outlinewidth": 0,
              "ticks": ""
             }
            },
            "type": "scattermapbox"
           }
          ],
          "scatterpolar": [
           {
            "marker": {
             "colorbar": {
              "outlinewidth": 0,
              "ticks": ""
             }
            },
            "type": "scatterpolar"
           }
          ],
          "scatterpolargl": [
           {
            "marker": {
             "colorbar": {
              "outlinewidth": 0,
              "ticks": ""
             }
            },
            "type": "scatterpolargl"
           }
          ],
          "scatterternary": [
           {
            "marker": {
             "colorbar": {
              "outlinewidth": 0,
              "ticks": ""
             }
            },
            "type": "scatterternary"
           }
          ],
          "surface": [
           {
            "colorbar": {
             "outlinewidth": 0,
             "ticks": ""
            },
            "colorscale": [
             [
              0,
              "#0d0887"
             ],
             [
              0.1111111111111111,
              "#46039f"
             ],
             [
              0.2222222222222222,
              "#7201a8"
             ],
             [
              0.3333333333333333,
              "#9c179e"
             ],
             [
              0.4444444444444444,
              "#bd3786"
             ],
             [
              0.5555555555555556,
              "#d8576b"
             ],
             [
              0.6666666666666666,
              "#ed7953"
             ],
             [
              0.7777777777777778,
              "#fb9f3a"
             ],
             [
              0.8888888888888888,
              "#fdca26"
             ],
             [
              1,
              "#f0f921"
             ]
            ],
            "type": "surface"
           }
          ],
          "table": [
           {
            "cells": {
             "fill": {
              "color": "#EBF0F8"
             },
             "line": {
              "color": "white"
             }
            },
            "header": {
             "fill": {
              "color": "#C8D4E3"
             },
             "line": {
              "color": "white"
             }
            },
            "type": "table"
           }
          ]
         },
         "layout": {
          "annotationdefaults": {
           "arrowcolor": "#2a3f5f",
           "arrowhead": 0,
           "arrowwidth": 1
          },
          "coloraxis": {
           "colorbar": {
            "outlinewidth": 0,
            "ticks": ""
           }
          },
          "colorscale": {
           "diverging": [
            [
             0,
             "#8e0152"
            ],
            [
             0.1,
             "#c51b7d"
            ],
            [
             0.2,
             "#de77ae"
            ],
            [
             0.3,
             "#f1b6da"
            ],
            [
             0.4,
             "#fde0ef"
            ],
            [
             0.5,
             "#f7f7f7"
            ],
            [
             0.6,
             "#e6f5d0"
            ],
            [
             0.7,
             "#b8e186"
            ],
            [
             0.8,
             "#7fbc41"
            ],
            [
             0.9,
             "#4d9221"
            ],
            [
             1,
             "#276419"
            ]
           ],
           "sequential": [
            [
             0,
             "#0d0887"
            ],
            [
             0.1111111111111111,
             "#46039f"
            ],
            [
             0.2222222222222222,
             "#7201a8"
            ],
            [
             0.3333333333333333,
             "#9c179e"
            ],
            [
             0.4444444444444444,
             "#bd3786"
            ],
            [
             0.5555555555555556,
             "#d8576b"
            ],
            [
             0.6666666666666666,
             "#ed7953"
            ],
            [
             0.7777777777777778,
             "#fb9f3a"
            ],
            [
             0.8888888888888888,
             "#fdca26"
            ],
            [
             1,
             "#f0f921"
            ]
           ],
           "sequentialminus": [
            [
             0,
             "#0d0887"
            ],
            [
             0.1111111111111111,
             "#46039f"
            ],
            [
             0.2222222222222222,
             "#7201a8"
            ],
            [
             0.3333333333333333,
             "#9c179e"
            ],
            [
             0.4444444444444444,
             "#bd3786"
            ],
            [
             0.5555555555555556,
             "#d8576b"
            ],
            [
             0.6666666666666666,
             "#ed7953"
            ],
            [
             0.7777777777777778,
             "#fb9f3a"
            ],
            [
             0.8888888888888888,
             "#fdca26"
            ],
            [
             1,
             "#f0f921"
            ]
           ]
          },
          "colorway": [
           "#636efa",
           "#EF553B",
           "#00cc96",
           "#ab63fa",
           "#FFA15A",
           "#19d3f3",
           "#FF6692",
           "#B6E880",
           "#FF97FF",
           "#FECB52"
          ],
          "font": {
           "color": "#2a3f5f"
          },
          "geo": {
           "bgcolor": "white",
           "lakecolor": "white",
           "landcolor": "#E5ECF6",
           "showlakes": true,
           "showland": true,
           "subunitcolor": "white"
          },
          "hoverlabel": {
           "align": "left"
          },
          "hovermode": "closest",
          "mapbox": {
           "style": "light"
          },
          "paper_bgcolor": "white",
          "plot_bgcolor": "#E5ECF6",
          "polar": {
           "angularaxis": {
            "gridcolor": "white",
            "linecolor": "white",
            "ticks": ""
           },
           "bgcolor": "#E5ECF6",
           "radialaxis": {
            "gridcolor": "white",
            "linecolor": "white",
            "ticks": ""
           }
          },
          "scene": {
           "xaxis": {
            "backgroundcolor": "#E5ECF6",
            "gridcolor": "white",
            "gridwidth": 2,
            "linecolor": "white",
            "showbackground": true,
            "ticks": "",
            "zerolinecolor": "white"
           },
           "yaxis": {
            "backgroundcolor": "#E5ECF6",
            "gridcolor": "white",
            "gridwidth": 2,
            "linecolor": "white",
            "showbackground": true,
            "ticks": "",
            "zerolinecolor": "white"
           },
           "zaxis": {
            "backgroundcolor": "#E5ECF6",
            "gridcolor": "white",
            "gridwidth": 2,
            "linecolor": "white",
            "showbackground": true,
            "ticks": "",
            "zerolinecolor": "white"
           }
          },
          "shapedefaults": {
           "line": {
            "color": "#2a3f5f"
           }
          },
          "ternary": {
           "aaxis": {
            "gridcolor": "white",
            "linecolor": "white",
            "ticks": ""
           },
           "baxis": {
            "gridcolor": "white",
            "linecolor": "white",
            "ticks": ""
           },
           "bgcolor": "#E5ECF6",
           "caxis": {
            "gridcolor": "white",
            "linecolor": "white",
            "ticks": ""
           }
          },
          "title": {
           "x": 0.05
          },
          "xaxis": {
           "automargin": true,
           "gridcolor": "white",
           "linecolor": "white",
           "ticks": "",
           "title": {
            "standoff": 15
           },
           "zerolinecolor": "white",
           "zerolinewidth": 2
          },
          "yaxis": {
           "automargin": true,
           "gridcolor": "white",
           "linecolor": "white",
           "ticks": "",
           "title": {
            "standoff": 15
           },
           "zerolinecolor": "white",
           "zerolinewidth": 2
          }
         }
        },
        "title": {
         "font": {
          "color": "#4D5663"
         }
        },
        "xaxis": {
         "gridcolor": "#E1E5ED",
         "showgrid": true,
         "tickfont": {
          "color": "#4D5663"
         },
         "title": {
          "font": {
           "color": "#4D5663"
          },
          "text": ""
         },
         "zerolinecolor": "#E1E5ED"
        },
        "yaxis": {
         "gridcolor": "#E1E5ED",
         "showgrid": true,
         "tickfont": {
          "color": "#4D5663"
         },
         "title": {
          "font": {
           "color": "#4D5663"
          },
          "text": ""
         },
         "zerolinecolor": "#E1E5ED"
        }
       }
      },
      "text/html": [
       "<div>\n",
       "        \n",
       "        \n",
       "            <div id=\"38484411-8bdb-4b63-b921-f82bc7cd2f5e\" class=\"plotly-graph-div\" style=\"height:525px; width:100%;\"></div>\n",
       "            <script type=\"text/javascript\">\n",
       "                require([\"plotly\"], function(Plotly) {\n",
       "                    window.PLOTLYENV=window.PLOTLYENV || {};\n",
       "                    window.PLOTLYENV.BASE_URL='https://plot.ly';\n",
       "                    \n",
       "                if (document.getElementById(\"38484411-8bdb-4b63-b921-f82bc7cd2f5e\")) {\n",
       "                    Plotly.newPlot(\n",
       "                        '38484411-8bdb-4b63-b921-f82bc7cd2f5e',\n",
       "                        [{\"colorscale\": [[0.0, \"rgb(255, 153, 51)\"], [0.1111111111111111, \"rgb(55, 128, 191)\"], [0.2222222222222222, \"rgb(50, 171, 96)\"], [0.3333333333333333, \"rgb(128, 0, 128)\"], [0.4444444444444444, \"rgb(219, 64, 82)\"], [0.5555555555555556, \"rgb(0, 128, 128)\"], [0.6666666666666666, \"rgb(255, 255, 51)\"], [0.7777777777777778, \"rgb(128, 128, 0)\"], [0.8888888888888888, \"rgb(251, 128, 114)\"], [1.0, \"rgb(128, 177, 211)\"]], \"type\": \"surface\", \"x\": [0, 1, 2, 3, 4, 5, 6, 7, 8, 9, 10, 11, 12, 13, 14, 15, 16, 17, 18, 19, 20, 21, 22, 23, 24, 25, 26, 27, 28, 29, 30, 31, 32, 33, 34, 35, 36, 37, 38, 39, 40, 41, 42, 43, 44, 45, 46, 47, 48, 49, 50, 51, 52, 53, 54, 55, 56, 57, 58, 59, 60, 61, 62, 63, 64, 65, 66, 67, 68, 69, 70, 71, 72, 73, 74, 75, 76, 77, 78, 79, 80, 81, 82, 83, 84, 85, 86, 87, 88, 89, 90, 91, 92, 93, 94, 95, 96, 97, 98, 99], \"y\": [\"A\", \"B\", \"C\", \"D\"], \"z\": [[-0.16610363688689225, -0.5521200467561026, -0.32072301689097243, 1.0003003046968628, -2.2516254604791026, -0.6421609543388991, -1.4472099947779882, -0.13620393460167918, -0.5848169421651246, -2.3343121377607203, 0.7045769911864066, 1.5641538767395509, 0.13516072316710592, 0.28401884325871657, 0.19827951682921566, 0.39511130031370845, -1.6845126169011948, 1.7526821145707008, 0.8774483307403921, 0.836157017411292, 0.9576375175548147, 2.327572979958438, -0.09201586219373067, 1.5049485394904945, 0.6137499890871397, -0.23141334285681636, -0.3873137293486683, 0.6665038996871202, 1.3147726106271649, 0.3411166578508544, -0.7313041972309057, 0.6374438673125333, -1.4268863568083, 1.2761838902761153, 0.9224514175204899, 0.5875380186215396, 0.9624380244543723, -0.028387429045422862, -1.7110591691269732, 0.45768060713546815, 0.3325008338888872, -1.751953272398217, 0.3727204316081648, 0.12166865899983588, 0.6526321680965788, -0.07920899553609972, -0.5445207532153917, -1.6105046471915463, -0.2936118804357919, 0.27986148037476366, 1.1034013134894871, -1.9631465840033653, 0.43114100186860127, -1.235857295974943, -1.522723677140059, 1.2174951715447608, 0.19372990695871908, 0.2823849931757263, -0.0731218671022487, 0.7910575601342564, -0.6029356378404177, -1.7185657936649517, -1.1039251574505327, 2.658810831218528, 0.8738864116196249, -0.35572194094378795, 0.2340454597606315, 1.1752802475422055, -2.857194818069491, -2.600189945808657, -1.4129955337744562, 1.5040243218995208, 0.4564891038547735, -1.0928905726727565, 1.0934669671611048, -0.2952153464804887, 0.8512281133013911, -0.6054409722058584, -0.47567754440403875, 0.6482097649869025, 0.6347649736514742, -0.02784922656797839, 0.8386088840498142, -0.5440691092397063, 0.6972768207546788, 0.6093926761521056, -0.06405757550025791, -0.33223152813714046, -0.6681213932531654, -0.5803620221889505, 0.18130261081281787, 0.9588359075234838, 2.2614997061951416, 0.04757386170100405, 0.3322555579091508, 1.323477756176155, 1.0653892403615686, 0.8465770283086058, -0.9181065897100504, 2.1780189252592024], [0.29954851481511197, 0.3460221764914574, -1.4684786291220613, -2.3261076380136574, -0.8560630170935084, -0.2666675002725784, -1.0367178317473178, -0.1641102056865516, 1.293259163731727, -0.8059944250936861, 0.16568334726967576, 0.9238802895778643, -0.2032665907555867, 1.4971275004914129, -0.6110568652907729, 0.2880256480075652, 0.30218628023342814, 0.8151874780879765, 1.962755339156543, -0.04634897285046687, 0.9708911382708385, -2.1803393662632553, -0.758135596494414, 0.14765847037822513, 1.4395399354838565, 1.4652400783624666, 0.27133549685807756, 0.6009887331928555, 0.970003264198216, 2.0923142080688413, 0.28497261904097343, 0.03808232091512796, -0.028460144293740264, -2.875724284445149, 0.1076739686130463, 0.6330099707257212, 1.258254478784425, -1.5150255195577138, -0.17417549664166573, 0.08234847547277795, -1.262136013163713, 1.6480467810562809, 0.6212728629358613, 1.604482318383683, -0.2491181023499222, -0.276987626080192, 0.33503155541675445, -0.38311910251804393, 1.5368983700433583, 0.043550837958556736, 0.11312770593752079, -0.22552084547381376, -0.7342024780377591, 2.002354164469548, -0.3513763370984161, 1.0891939844574783, 0.07742301663804288, 0.1188221678986353, 1.1646519897891336, -0.8672559147206672, 0.0733867650574441, 1.6413026825633483, 1.1875277507898772, 1.5726061764487005, 1.0235143951809598, -1.702807383350166, 0.29512873630470426, -0.665512319607524, -0.06563198708957493, 0.9852227949234997, 0.09416627441366154, -0.34029398342148215, 0.7194906222908173, -0.30538210212909767, 0.7528310074888965, -0.4475454762754745, 0.8652186823730295, -0.8999691204773388, -1.4992660437698153, -0.052600864705378066, 0.9632080553530256, 0.4225227445710723, -0.24976249740389195, 1.3423979730077338, -1.345353752730523, 0.39946146360573226, -1.6935712804020313, -2.3452695240608383, 0.40276261537770885, -1.571628849316674, 0.48374420873834323, 0.49969435110551125, -0.9541923582452546, 0.1236947783406742, 0.4825198504341591, 0.5219508629780577, -0.3946070881703127, -0.23385051002850257, -0.42874338188963346, 0.1255556069572311], [-0.5315840370366359, 0.16173480123695258, -1.526931646395053, 0.997242377656304, -0.6127806736114583, -0.6076059681446834, 0.9332689822793767, 0.43980921807417905, -0.30645413079830275, 1.2458900691984305, -0.6957604554918259, -2.092519940530778, -1.1661682788766983, 0.255104624978084, 1.647807662409371, 0.5210976514116537, -0.6921604664135697, 1.1326329108282753, 1.4451776734049617, 0.8298433807264687, 0.4444683646939226, -1.0055185800887931, -0.29283304255519654, 0.1419455052444596, 1.3737548124341294, 1.0508543291204706, 0.9498801490995556, -0.7404455862246961, -0.5255421947954927, 0.916744385874406, -0.15103187217024516, 0.5861150822660647, -0.7158396205909382, -0.1273319266696649, -0.7246719193641897, 0.9876656227614199, -1.0367306921332464, 0.5748044139773494, 0.47094928557209303, 1.2748763029158383, 1.2610811112584115, 0.11994002331706101, -1.1081761068456302, 1.238951702663481, -1.2115485857662953, 1.4136657090476943, 0.8990156778106935, 0.2035998460939371, 0.24441159592290304, -0.6704548425930102, 0.06729811289849236, 1.571230006517233, 0.4984922830017379, -1.201580984442513, -0.9073513360400925, 0.9516530885677701, -1.2492922098024595, -0.0220801543063839, -2.376519762207996, 0.5068377026671349, -0.518852160856346, 0.8791920492250621, -0.95472187389494, 0.9829015150187494, 0.9083135037895894, -0.9876265347804443, 0.7237661118721117, -0.21998847029808358, 0.35479816545788034, -0.40174861511152066, 0.17975264352827378, 1.1137170160456207, -0.8397472638663248, -1.9543663324006089, -0.2393839379965726, 1.9339191759410028, -0.43836892333319577, 0.3344786325862197, 0.4088563144914219, -2.0170863656846425, 0.2201840809385637, 1.1951916010784036, -0.6354650735287152, -0.4786980038378098, 0.18538761734860001, -0.07703052731169485, -0.5655311347569333, 0.658303520645014, -1.0372927454566931, 0.8686836229086838, 0.7496460470741813, 0.6701395151186833, -0.2584094090099108, 0.3084423241551389, -0.866881539195583, 1.532050241828174, -0.6469809777305825, 0.7602948416168382, 0.6279171380651485, -1.9277658721404594], [-1.6578640708999872, -0.7649732642850833, 1.6197165520401355, 0.6948518600793145, 0.3235947195993021, -0.678889379260725, -0.3361775580924587, -1.4545876441784986, 0.023108673045135805, 0.5101867595881933, 1.708817025073502, -0.8869842616981806, 0.20099256959195583, -1.722319649440159, -0.2740622325464014, -0.36376477466003626, 0.2954422790986494, 0.2664542364691161, 0.4594637388616335, 1.8204605625865262, 0.21517302849203657, 0.9821691075688679, -1.2860083169738288, -0.305990641431503, -1.5308193358988362, 1.5291123841765684, 2.5001498653262813, 0.48181901324010806, 0.6056507504098625, 0.20520138555661727, 0.673657045336006, -0.14473040107917046, 0.0018126574021694651, -0.4055122774768075, -0.1892016009524528, -1.0694261273493544, -0.08101890974558021, -0.3121409698055496, -1.2273820110274363, 1.9758580909333334, 2.3135419287863512, 0.14511856919593644, 0.24653537785366716, 0.07410886277200507, -1.1125930858431627, -1.62096345722258, 0.12113841093134217, 0.3449923788579843, -1.165854220228875, 0.4111965624026121, -0.521758461920156, -1.3467282660705224, -1.3464976477819253, -0.1334108039228377, -0.4131158052454607, -1.1849525526202902, -2.561228768562345, 0.5085899679495604, 0.17624310987041292, 1.519344047572039, 0.6664329635293371, 0.006206355267497318, 0.6192004542379782, -2.1701074059369043, 1.3628884551809142, 0.2629358007957257, 1.7180376557384016, -0.12635718606915208, 0.9603413318049445, -1.6294383721721726, 2.3505547290119964, -1.7138265283773322, -1.7051456933294868, -1.2121786070604732, -0.8909519968250951, -0.8693751607222012, -2.8367209669440276, 1.6272482826606223, -1.7531272081001894, -1.1979630187813524, -0.5948510747913349, 1.1767443139944396, -0.19532606887327594, 1.262050591898131, 1.3038905730529844, -0.3518918170124171, -0.8458549646081417, -0.6645952048914188, -0.9670835527418234, -0.2249632861563061, -1.0738182939561671, -1.8601889573189312, 1.0610754934161017, 0.0010197261376331136, -0.006516285865091261, -1.3713686380602395, 0.3124415434049576, 1.0396442819329668, -0.7238815516848321, -0.48597617377374]]}],\n",
       "                        {\"legend\": {\"bgcolor\": \"#F5F6F9\", \"font\": {\"color\": \"#4D5663\"}}, \"paper_bgcolor\": \"#F5F6F9\", \"plot_bgcolor\": \"#F5F6F9\", \"template\": {\"data\": {\"bar\": [{\"error_x\": {\"color\": \"#2a3f5f\"}, \"error_y\": {\"color\": \"#2a3f5f\"}, \"marker\": {\"line\": {\"color\": \"#E5ECF6\", \"width\": 0.5}}, \"type\": \"bar\"}], \"barpolar\": [{\"marker\": {\"line\": {\"color\": \"#E5ECF6\", \"width\": 0.5}}, \"type\": \"barpolar\"}], \"carpet\": [{\"aaxis\": {\"endlinecolor\": \"#2a3f5f\", \"gridcolor\": \"white\", \"linecolor\": \"white\", \"minorgridcolor\": \"white\", \"startlinecolor\": \"#2a3f5f\"}, \"baxis\": {\"endlinecolor\": \"#2a3f5f\", \"gridcolor\": \"white\", \"linecolor\": \"white\", \"minorgridcolor\": \"white\", \"startlinecolor\": \"#2a3f5f\"}, \"type\": \"carpet\"}], \"choropleth\": [{\"colorbar\": {\"outlinewidth\": 0, \"ticks\": \"\"}, \"type\": \"choropleth\"}], \"contour\": [{\"colorbar\": {\"outlinewidth\": 0, \"ticks\": \"\"}, \"colorscale\": [[0.0, \"#0d0887\"], [0.1111111111111111, \"#46039f\"], [0.2222222222222222, \"#7201a8\"], [0.3333333333333333, \"#9c179e\"], [0.4444444444444444, \"#bd3786\"], [0.5555555555555556, \"#d8576b\"], [0.6666666666666666, \"#ed7953\"], [0.7777777777777778, \"#fb9f3a\"], [0.8888888888888888, \"#fdca26\"], [1.0, \"#f0f921\"]], \"type\": \"contour\"}], \"contourcarpet\": [{\"colorbar\": {\"outlinewidth\": 0, \"ticks\": \"\"}, \"type\": \"contourcarpet\"}], \"heatmap\": [{\"colorbar\": {\"outlinewidth\": 0, \"ticks\": \"\"}, \"colorscale\": [[0.0, \"#0d0887\"], [0.1111111111111111, \"#46039f\"], [0.2222222222222222, \"#7201a8\"], [0.3333333333333333, \"#9c179e\"], [0.4444444444444444, \"#bd3786\"], [0.5555555555555556, \"#d8576b\"], [0.6666666666666666, \"#ed7953\"], [0.7777777777777778, \"#fb9f3a\"], [0.8888888888888888, \"#fdca26\"], [1.0, \"#f0f921\"]], \"type\": \"heatmap\"}], \"heatmapgl\": [{\"colorbar\": {\"outlinewidth\": 0, \"ticks\": \"\"}, \"colorscale\": [[0.0, \"#0d0887\"], [0.1111111111111111, \"#46039f\"], [0.2222222222222222, \"#7201a8\"], [0.3333333333333333, \"#9c179e\"], [0.4444444444444444, \"#bd3786\"], [0.5555555555555556, \"#d8576b\"], [0.6666666666666666, \"#ed7953\"], [0.7777777777777778, \"#fb9f3a\"], [0.8888888888888888, \"#fdca26\"], [1.0, \"#f0f921\"]], \"type\": \"heatmapgl\"}], \"histogram\": [{\"marker\": {\"colorbar\": {\"outlinewidth\": 0, \"ticks\": \"\"}}, \"type\": \"histogram\"}], \"histogram2d\": [{\"colorbar\": {\"outlinewidth\": 0, \"ticks\": \"\"}, \"colorscale\": [[0.0, \"#0d0887\"], [0.1111111111111111, \"#46039f\"], [0.2222222222222222, \"#7201a8\"], [0.3333333333333333, \"#9c179e\"], [0.4444444444444444, \"#bd3786\"], [0.5555555555555556, \"#d8576b\"], [0.6666666666666666, \"#ed7953\"], [0.7777777777777778, \"#fb9f3a\"], [0.8888888888888888, \"#fdca26\"], [1.0, \"#f0f921\"]], \"type\": \"histogram2d\"}], \"histogram2dcontour\": [{\"colorbar\": {\"outlinewidth\": 0, \"ticks\": \"\"}, \"colorscale\": [[0.0, \"#0d0887\"], [0.1111111111111111, \"#46039f\"], [0.2222222222222222, \"#7201a8\"], [0.3333333333333333, \"#9c179e\"], [0.4444444444444444, \"#bd3786\"], [0.5555555555555556, \"#d8576b\"], [0.6666666666666666, \"#ed7953\"], [0.7777777777777778, \"#fb9f3a\"], [0.8888888888888888, \"#fdca26\"], [1.0, \"#f0f921\"]], \"type\": \"histogram2dcontour\"}], \"mesh3d\": [{\"colorbar\": {\"outlinewidth\": 0, \"ticks\": \"\"}, \"type\": \"mesh3d\"}], \"parcoords\": [{\"line\": {\"colorbar\": {\"outlinewidth\": 0, \"ticks\": \"\"}}, \"type\": \"parcoords\"}], \"pie\": [{\"automargin\": true, \"type\": \"pie\"}], \"scatter\": [{\"marker\": {\"colorbar\": {\"outlinewidth\": 0, \"ticks\": \"\"}}, \"type\": \"scatter\"}], \"scatter3d\": [{\"line\": {\"colorbar\": {\"outlinewidth\": 0, \"ticks\": \"\"}}, \"marker\": {\"colorbar\": {\"outlinewidth\": 0, \"ticks\": \"\"}}, \"type\": \"scatter3d\"}], \"scattercarpet\": [{\"marker\": {\"colorbar\": {\"outlinewidth\": 0, \"ticks\": \"\"}}, \"type\": \"scattercarpet\"}], \"scattergeo\": [{\"marker\": {\"colorbar\": {\"outlinewidth\": 0, \"ticks\": \"\"}}, \"type\": \"scattergeo\"}], \"scattergl\": [{\"marker\": {\"colorbar\": {\"outlinewidth\": 0, \"ticks\": \"\"}}, \"type\": \"scattergl\"}], \"scattermapbox\": [{\"marker\": {\"colorbar\": {\"outlinewidth\": 0, \"ticks\": \"\"}}, \"type\": \"scattermapbox\"}], \"scatterpolar\": [{\"marker\": {\"colorbar\": {\"outlinewidth\": 0, \"ticks\": \"\"}}, \"type\": \"scatterpolar\"}], \"scatterpolargl\": [{\"marker\": {\"colorbar\": {\"outlinewidth\": 0, \"ticks\": \"\"}}, \"type\": \"scatterpolargl\"}], \"scatterternary\": [{\"marker\": {\"colorbar\": {\"outlinewidth\": 0, \"ticks\": \"\"}}, \"type\": \"scatterternary\"}], \"surface\": [{\"colorbar\": {\"outlinewidth\": 0, \"ticks\": \"\"}, \"colorscale\": [[0.0, \"#0d0887\"], [0.1111111111111111, \"#46039f\"], [0.2222222222222222, \"#7201a8\"], [0.3333333333333333, \"#9c179e\"], [0.4444444444444444, \"#bd3786\"], [0.5555555555555556, \"#d8576b\"], [0.6666666666666666, \"#ed7953\"], [0.7777777777777778, \"#fb9f3a\"], [0.8888888888888888, \"#fdca26\"], [1.0, \"#f0f921\"]], \"type\": \"surface\"}], \"table\": [{\"cells\": {\"fill\": {\"color\": \"#EBF0F8\"}, \"line\": {\"color\": \"white\"}}, \"header\": {\"fill\": {\"color\": \"#C8D4E3\"}, \"line\": {\"color\": \"white\"}}, \"type\": \"table\"}]}, \"layout\": {\"annotationdefaults\": {\"arrowcolor\": \"#2a3f5f\", \"arrowhead\": 0, \"arrowwidth\": 1}, \"coloraxis\": {\"colorbar\": {\"outlinewidth\": 0, \"ticks\": \"\"}}, \"colorscale\": {\"diverging\": [[0, \"#8e0152\"], [0.1, \"#c51b7d\"], [0.2, \"#de77ae\"], [0.3, \"#f1b6da\"], [0.4, \"#fde0ef\"], [0.5, \"#f7f7f7\"], [0.6, \"#e6f5d0\"], [0.7, \"#b8e186\"], [0.8, \"#7fbc41\"], [0.9, \"#4d9221\"], [1, \"#276419\"]], \"sequential\": [[0.0, \"#0d0887\"], [0.1111111111111111, \"#46039f\"], [0.2222222222222222, \"#7201a8\"], [0.3333333333333333, \"#9c179e\"], [0.4444444444444444, \"#bd3786\"], [0.5555555555555556, \"#d8576b\"], [0.6666666666666666, \"#ed7953\"], [0.7777777777777778, \"#fb9f3a\"], [0.8888888888888888, \"#fdca26\"], [1.0, \"#f0f921\"]], \"sequentialminus\": [[0.0, \"#0d0887\"], [0.1111111111111111, \"#46039f\"], [0.2222222222222222, \"#7201a8\"], [0.3333333333333333, \"#9c179e\"], [0.4444444444444444, \"#bd3786\"], [0.5555555555555556, \"#d8576b\"], [0.6666666666666666, \"#ed7953\"], [0.7777777777777778, \"#fb9f3a\"], [0.8888888888888888, \"#fdca26\"], [1.0, \"#f0f921\"]]}, \"colorway\": [\"#636efa\", \"#EF553B\", \"#00cc96\", \"#ab63fa\", \"#FFA15A\", \"#19d3f3\", \"#FF6692\", \"#B6E880\", \"#FF97FF\", \"#FECB52\"], \"font\": {\"color\": \"#2a3f5f\"}, \"geo\": {\"bgcolor\": \"white\", \"lakecolor\": \"white\", \"landcolor\": \"#E5ECF6\", \"showlakes\": true, \"showland\": true, \"subunitcolor\": \"white\"}, \"hoverlabel\": {\"align\": \"left\"}, \"hovermode\": \"closest\", \"mapbox\": {\"style\": \"light\"}, \"paper_bgcolor\": \"white\", \"plot_bgcolor\": \"#E5ECF6\", \"polar\": {\"angularaxis\": {\"gridcolor\": \"white\", \"linecolor\": \"white\", \"ticks\": \"\"}, \"bgcolor\": \"#E5ECF6\", \"radialaxis\": {\"gridcolor\": \"white\", \"linecolor\": \"white\", \"ticks\": \"\"}}, \"scene\": {\"xaxis\": {\"backgroundcolor\": \"#E5ECF6\", \"gridcolor\": \"white\", \"gridwidth\": 2, \"linecolor\": \"white\", \"showbackground\": true, \"ticks\": \"\", \"zerolinecolor\": \"white\"}, \"yaxis\": {\"backgroundcolor\": \"#E5ECF6\", \"gridcolor\": \"white\", \"gridwidth\": 2, \"linecolor\": \"white\", \"showbackground\": true, \"ticks\": \"\", \"zerolinecolor\": \"white\"}, \"zaxis\": {\"backgroundcolor\": \"#E5ECF6\", \"gridcolor\": \"white\", \"gridwidth\": 2, \"linecolor\": \"white\", \"showbackground\": true, \"ticks\": \"\", \"zerolinecolor\": \"white\"}}, \"shapedefaults\": {\"line\": {\"color\": \"#2a3f5f\"}}, \"ternary\": {\"aaxis\": {\"gridcolor\": \"white\", \"linecolor\": \"white\", \"ticks\": \"\"}, \"baxis\": {\"gridcolor\": \"white\", \"linecolor\": \"white\", \"ticks\": \"\"}, \"bgcolor\": \"#E5ECF6\", \"caxis\": {\"gridcolor\": \"white\", \"linecolor\": \"white\", \"ticks\": \"\"}}, \"title\": {\"x\": 0.05}, \"xaxis\": {\"automargin\": true, \"gridcolor\": \"white\", \"linecolor\": \"white\", \"ticks\": \"\", \"title\": {\"standoff\": 15}, \"zerolinecolor\": \"white\", \"zerolinewidth\": 2}, \"yaxis\": {\"automargin\": true, \"gridcolor\": \"white\", \"linecolor\": \"white\", \"ticks\": \"\", \"title\": {\"standoff\": 15}, \"zerolinecolor\": \"white\", \"zerolinewidth\": 2}}}, \"title\": {\"font\": {\"color\": \"#4D5663\"}}, \"xaxis\": {\"gridcolor\": \"#E1E5ED\", \"showgrid\": true, \"tickfont\": {\"color\": \"#4D5663\"}, \"title\": {\"font\": {\"color\": \"#4D5663\"}, \"text\": \"\"}, \"zerolinecolor\": \"#E1E5ED\"}, \"yaxis\": {\"gridcolor\": \"#E1E5ED\", \"showgrid\": true, \"tickfont\": {\"color\": \"#4D5663\"}, \"title\": {\"font\": {\"color\": \"#4D5663\"}, \"text\": \"\"}, \"zerolinecolor\": \"#E1E5ED\"}},\n",
       "                        {\"showLink\": true, \"linkText\": \"Export to plot.ly\", \"plotlyServerURL\": \"https://plot.ly\", \"responsive\": true}\n",
       "                    ).then(function(){\n",
       "                            \n",
       "var gd = document.getElementById('38484411-8bdb-4b63-b921-f82bc7cd2f5e');\n",
       "var x = new MutationObserver(function (mutations, observer) {{\n",
       "        var display = window.getComputedStyle(gd).display;\n",
       "        if (!display || display === 'none') {{\n",
       "            console.log([gd, 'removed!']);\n",
       "            Plotly.purge(gd);\n",
       "            observer.disconnect();\n",
       "        }}\n",
       "}});\n",
       "\n",
       "// Listen for the removal of the full notebook cells\n",
       "var notebookContainer = gd.closest('#notebook-container');\n",
       "if (notebookContainer) {{\n",
       "    x.observe(notebookContainer, {childList: true});\n",
       "}}\n",
       "\n",
       "// Listen for the clearing of the current output cell\n",
       "var outputEl = gd.closest('.output');\n",
       "if (outputEl) {{\n",
       "    x.observe(outputEl, {childList: true});\n",
       "}}\n",
       "\n",
       "                        })\n",
       "                };\n",
       "                });\n",
       "            </script>\n",
       "        </div>"
      ]
     },
     "metadata": {},
     "output_type": "display_data"
    }
   ],
   "source": [
    "df.iplot(kind='surface')"
   ]
  },
  {
   "cell_type": "code",
   "execution_count": 22,
   "metadata": {},
   "outputs": [
    {
     "data": {
      "application/vnd.plotly.v1+json": {
       "config": {
        "linkText": "Export to plot.ly",
        "plotlyServerURL": "https://plot.ly",
        "showLink": true
       },
       "data": [
        {
         "colorscale": [
          [
           0,
           "rgb(255, 153, 51)"
          ],
          [
           0.1111111111111111,
           "rgb(55, 128, 191)"
          ],
          [
           0.2222222222222222,
           "rgb(50, 171, 96)"
          ],
          [
           0.3333333333333333,
           "rgb(128, 0, 128)"
          ],
          [
           0.4444444444444444,
           "rgb(219, 64, 82)"
          ],
          [
           0.5555555555555556,
           "rgb(0, 128, 128)"
          ],
          [
           0.6666666666666666,
           "rgb(255, 255, 51)"
          ],
          [
           0.7777777777777778,
           "rgb(128, 128, 0)"
          ],
          [
           0.8888888888888888,
           "rgb(251, 128, 114)"
          ],
          [
           1,
           "rgb(128, 177, 211)"
          ]
         ],
         "type": "surface",
         "x": [
          0,
          1,
          2,
          3,
          4
         ],
         "y": [
          "X",
          "Y",
          "Z"
         ],
         "z": [
          [
           1,
           2,
           3,
           4,
           5
          ],
          [
           10,
           20,
           30,
           20,
           10
          ],
          [
           500,
           400,
           300,
           200,
           100
          ]
         ]
        }
       ],
       "layout": {
        "legend": {
         "bgcolor": "#F5F6F9",
         "font": {
          "color": "#4D5663"
         }
        },
        "paper_bgcolor": "#F5F6F9",
        "plot_bgcolor": "#F5F6F9",
        "template": {
         "data": {
          "bar": [
           {
            "error_x": {
             "color": "#2a3f5f"
            },
            "error_y": {
             "color": "#2a3f5f"
            },
            "marker": {
             "line": {
              "color": "#E5ECF6",
              "width": 0.5
             }
            },
            "type": "bar"
           }
          ],
          "barpolar": [
           {
            "marker": {
             "line": {
              "color": "#E5ECF6",
              "width": 0.5
             }
            },
            "type": "barpolar"
           }
          ],
          "carpet": [
           {
            "aaxis": {
             "endlinecolor": "#2a3f5f",
             "gridcolor": "white",
             "linecolor": "white",
             "minorgridcolor": "white",
             "startlinecolor": "#2a3f5f"
            },
            "baxis": {
             "endlinecolor": "#2a3f5f",
             "gridcolor": "white",
             "linecolor": "white",
             "minorgridcolor": "white",
             "startlinecolor": "#2a3f5f"
            },
            "type": "carpet"
           }
          ],
          "choropleth": [
           {
            "colorbar": {
             "outlinewidth": 0,
             "ticks": ""
            },
            "type": "choropleth"
           }
          ],
          "contour": [
           {
            "colorbar": {
             "outlinewidth": 0,
             "ticks": ""
            },
            "colorscale": [
             [
              0,
              "#0d0887"
             ],
             [
              0.1111111111111111,
              "#46039f"
             ],
             [
              0.2222222222222222,
              "#7201a8"
             ],
             [
              0.3333333333333333,
              "#9c179e"
             ],
             [
              0.4444444444444444,
              "#bd3786"
             ],
             [
              0.5555555555555556,
              "#d8576b"
             ],
             [
              0.6666666666666666,
              "#ed7953"
             ],
             [
              0.7777777777777778,
              "#fb9f3a"
             ],
             [
              0.8888888888888888,
              "#fdca26"
             ],
             [
              1,
              "#f0f921"
             ]
            ],
            "type": "contour"
           }
          ],
          "contourcarpet": [
           {
            "colorbar": {
             "outlinewidth": 0,
             "ticks": ""
            },
            "type": "contourcarpet"
           }
          ],
          "heatmap": [
           {
            "colorbar": {
             "outlinewidth": 0,
             "ticks": ""
            },
            "colorscale": [
             [
              0,
              "#0d0887"
             ],
             [
              0.1111111111111111,
              "#46039f"
             ],
             [
              0.2222222222222222,
              "#7201a8"
             ],
             [
              0.3333333333333333,
              "#9c179e"
             ],
             [
              0.4444444444444444,
              "#bd3786"
             ],
             [
              0.5555555555555556,
              "#d8576b"
             ],
             [
              0.6666666666666666,
              "#ed7953"
             ],
             [
              0.7777777777777778,
              "#fb9f3a"
             ],
             [
              0.8888888888888888,
              "#fdca26"
             ],
             [
              1,
              "#f0f921"
             ]
            ],
            "type": "heatmap"
           }
          ],
          "heatmapgl": [
           {
            "colorbar": {
             "outlinewidth": 0,
             "ticks": ""
            },
            "colorscale": [
             [
              0,
              "#0d0887"
             ],
             [
              0.1111111111111111,
              "#46039f"
             ],
             [
              0.2222222222222222,
              "#7201a8"
             ],
             [
              0.3333333333333333,
              "#9c179e"
             ],
             [
              0.4444444444444444,
              "#bd3786"
             ],
             [
              0.5555555555555556,
              "#d8576b"
             ],
             [
              0.6666666666666666,
              "#ed7953"
             ],
             [
              0.7777777777777778,
              "#fb9f3a"
             ],
             [
              0.8888888888888888,
              "#fdca26"
             ],
             [
              1,
              "#f0f921"
             ]
            ],
            "type": "heatmapgl"
           }
          ],
          "histogram": [
           {
            "marker": {
             "colorbar": {
              "outlinewidth": 0,
              "ticks": ""
             }
            },
            "type": "histogram"
           }
          ],
          "histogram2d": [
           {
            "colorbar": {
             "outlinewidth": 0,
             "ticks": ""
            },
            "colorscale": [
             [
              0,
              "#0d0887"
             ],
             [
              0.1111111111111111,
              "#46039f"
             ],
             [
              0.2222222222222222,
              "#7201a8"
             ],
             [
              0.3333333333333333,
              "#9c179e"
             ],
             [
              0.4444444444444444,
              "#bd3786"
             ],
             [
              0.5555555555555556,
              "#d8576b"
             ],
             [
              0.6666666666666666,
              "#ed7953"
             ],
             [
              0.7777777777777778,
              "#fb9f3a"
             ],
             [
              0.8888888888888888,
              "#fdca26"
             ],
             [
              1,
              "#f0f921"
             ]
            ],
            "type": "histogram2d"
           }
          ],
          "histogram2dcontour": [
           {
            "colorbar": {
             "outlinewidth": 0,
             "ticks": ""
            },
            "colorscale": [
             [
              0,
              "#0d0887"
             ],
             [
              0.1111111111111111,
              "#46039f"
             ],
             [
              0.2222222222222222,
              "#7201a8"
             ],
             [
              0.3333333333333333,
              "#9c179e"
             ],
             [
              0.4444444444444444,
              "#bd3786"
             ],
             [
              0.5555555555555556,
              "#d8576b"
             ],
             [
              0.6666666666666666,
              "#ed7953"
             ],
             [
              0.7777777777777778,
              "#fb9f3a"
             ],
             [
              0.8888888888888888,
              "#fdca26"
             ],
             [
              1,
              "#f0f921"
             ]
            ],
            "type": "histogram2dcontour"
           }
          ],
          "mesh3d": [
           {
            "colorbar": {
             "outlinewidth": 0,
             "ticks": ""
            },
            "type": "mesh3d"
           }
          ],
          "parcoords": [
           {
            "line": {
             "colorbar": {
              "outlinewidth": 0,
              "ticks": ""
             }
            },
            "type": "parcoords"
           }
          ],
          "pie": [
           {
            "automargin": true,
            "type": "pie"
           }
          ],
          "scatter": [
           {
            "marker": {
             "colorbar": {
              "outlinewidth": 0,
              "ticks": ""
             }
            },
            "type": "scatter"
           }
          ],
          "scatter3d": [
           {
            "line": {
             "colorbar": {
              "outlinewidth": 0,
              "ticks": ""
             }
            },
            "marker": {
             "colorbar": {
              "outlinewidth": 0,
              "ticks": ""
             }
            },
            "type": "scatter3d"
           }
          ],
          "scattercarpet": [
           {
            "marker": {
             "colorbar": {
              "outlinewidth": 0,
              "ticks": ""
             }
            },
            "type": "scattercarpet"
           }
          ],
          "scattergeo": [
           {
            "marker": {
             "colorbar": {
              "outlinewidth": 0,
              "ticks": ""
             }
            },
            "type": "scattergeo"
           }
          ],
          "scattergl": [
           {
            "marker": {
             "colorbar": {
              "outlinewidth": 0,
              "ticks": ""
             }
            },
            "type": "scattergl"
           }
          ],
          "scattermapbox": [
           {
            "marker": {
             "colorbar": {
              "outlinewidth": 0,
              "ticks": ""
             }
            },
            "type": "scattermapbox"
           }
          ],
          "scatterpolar": [
           {
            "marker": {
             "colorbar": {
              "outlinewidth": 0,
              "ticks": ""
             }
            },
            "type": "scatterpolar"
           }
          ],
          "scatterpolargl": [
           {
            "marker": {
             "colorbar": {
              "outlinewidth": 0,
              "ticks": ""
             }
            },
            "type": "scatterpolargl"
           }
          ],
          "scatterternary": [
           {
            "marker": {
             "colorbar": {
              "outlinewidth": 0,
              "ticks": ""
             }
            },
            "type": "scatterternary"
           }
          ],
          "surface": [
           {
            "colorbar": {
             "outlinewidth": 0,
             "ticks": ""
            },
            "colorscale": [
             [
              0,
              "#0d0887"
             ],
             [
              0.1111111111111111,
              "#46039f"
             ],
             [
              0.2222222222222222,
              "#7201a8"
             ],
             [
              0.3333333333333333,
              "#9c179e"
             ],
             [
              0.4444444444444444,
              "#bd3786"
             ],
             [
              0.5555555555555556,
              "#d8576b"
             ],
             [
              0.6666666666666666,
              "#ed7953"
             ],
             [
              0.7777777777777778,
              "#fb9f3a"
             ],
             [
              0.8888888888888888,
              "#fdca26"
             ],
             [
              1,
              "#f0f921"
             ]
            ],
            "type": "surface"
           }
          ],
          "table": [
           {
            "cells": {
             "fill": {
              "color": "#EBF0F8"
             },
             "line": {
              "color": "white"
             }
            },
            "header": {
             "fill": {
              "color": "#C8D4E3"
             },
             "line": {
              "color": "white"
             }
            },
            "type": "table"
           }
          ]
         },
         "layout": {
          "annotationdefaults": {
           "arrowcolor": "#2a3f5f",
           "arrowhead": 0,
           "arrowwidth": 1
          },
          "coloraxis": {
           "colorbar": {
            "outlinewidth": 0,
            "ticks": ""
           }
          },
          "colorscale": {
           "diverging": [
            [
             0,
             "#8e0152"
            ],
            [
             0.1,
             "#c51b7d"
            ],
            [
             0.2,
             "#de77ae"
            ],
            [
             0.3,
             "#f1b6da"
            ],
            [
             0.4,
             "#fde0ef"
            ],
            [
             0.5,
             "#f7f7f7"
            ],
            [
             0.6,
             "#e6f5d0"
            ],
            [
             0.7,
             "#b8e186"
            ],
            [
             0.8,
             "#7fbc41"
            ],
            [
             0.9,
             "#4d9221"
            ],
            [
             1,
             "#276419"
            ]
           ],
           "sequential": [
            [
             0,
             "#0d0887"
            ],
            [
             0.1111111111111111,
             "#46039f"
            ],
            [
             0.2222222222222222,
             "#7201a8"
            ],
            [
             0.3333333333333333,
             "#9c179e"
            ],
            [
             0.4444444444444444,
             "#bd3786"
            ],
            [
             0.5555555555555556,
             "#d8576b"
            ],
            [
             0.6666666666666666,
             "#ed7953"
            ],
            [
             0.7777777777777778,
             "#fb9f3a"
            ],
            [
             0.8888888888888888,
             "#fdca26"
            ],
            [
             1,
             "#f0f921"
            ]
           ],
           "sequentialminus": [
            [
             0,
             "#0d0887"
            ],
            [
             0.1111111111111111,
             "#46039f"
            ],
            [
             0.2222222222222222,
             "#7201a8"
            ],
            [
             0.3333333333333333,
             "#9c179e"
            ],
            [
             0.4444444444444444,
             "#bd3786"
            ],
            [
             0.5555555555555556,
             "#d8576b"
            ],
            [
             0.6666666666666666,
             "#ed7953"
            ],
            [
             0.7777777777777778,
             "#fb9f3a"
            ],
            [
             0.8888888888888888,
             "#fdca26"
            ],
            [
             1,
             "#f0f921"
            ]
           ]
          },
          "colorway": [
           "#636efa",
           "#EF553B",
           "#00cc96",
           "#ab63fa",
           "#FFA15A",
           "#19d3f3",
           "#FF6692",
           "#B6E880",
           "#FF97FF",
           "#FECB52"
          ],
          "font": {
           "color": "#2a3f5f"
          },
          "geo": {
           "bgcolor": "white",
           "lakecolor": "white",
           "landcolor": "#E5ECF6",
           "showlakes": true,
           "showland": true,
           "subunitcolor": "white"
          },
          "hoverlabel": {
           "align": "left"
          },
          "hovermode": "closest",
          "mapbox": {
           "style": "light"
          },
          "paper_bgcolor": "white",
          "plot_bgcolor": "#E5ECF6",
          "polar": {
           "angularaxis": {
            "gridcolor": "white",
            "linecolor": "white",
            "ticks": ""
           },
           "bgcolor": "#E5ECF6",
           "radialaxis": {
            "gridcolor": "white",
            "linecolor": "white",
            "ticks": ""
           }
          },
          "scene": {
           "xaxis": {
            "backgroundcolor": "#E5ECF6",
            "gridcolor": "white",
            "gridwidth": 2,
            "linecolor": "white",
            "showbackground": true,
            "ticks": "",
            "zerolinecolor": "white"
           },
           "yaxis": {
            "backgroundcolor": "#E5ECF6",
            "gridcolor": "white",
            "gridwidth": 2,
            "linecolor": "white",
            "showbackground": true,
            "ticks": "",
            "zerolinecolor": "white"
           },
           "zaxis": {
            "backgroundcolor": "#E5ECF6",
            "gridcolor": "white",
            "gridwidth": 2,
            "linecolor": "white",
            "showbackground": true,
            "ticks": "",
            "zerolinecolor": "white"
           }
          },
          "shapedefaults": {
           "line": {
            "color": "#2a3f5f"
           }
          },
          "ternary": {
           "aaxis": {
            "gridcolor": "white",
            "linecolor": "white",
            "ticks": ""
           },
           "baxis": {
            "gridcolor": "white",
            "linecolor": "white",
            "ticks": ""
           },
           "bgcolor": "#E5ECF6",
           "caxis": {
            "gridcolor": "white",
            "linecolor": "white",
            "ticks": ""
           }
          },
          "title": {
           "x": 0.05
          },
          "xaxis": {
           "automargin": true,
           "gridcolor": "white",
           "linecolor": "white",
           "ticks": "",
           "title": {
            "standoff": 15
           },
           "zerolinecolor": "white",
           "zerolinewidth": 2
          },
          "yaxis": {
           "automargin": true,
           "gridcolor": "white",
           "linecolor": "white",
           "ticks": "",
           "title": {
            "standoff": 15
           },
           "zerolinecolor": "white",
           "zerolinewidth": 2
          }
         }
        },
        "title": {
         "font": {
          "color": "#4D5663"
         }
        },
        "xaxis": {
         "gridcolor": "#E1E5ED",
         "showgrid": true,
         "tickfont": {
          "color": "#4D5663"
         },
         "title": {
          "font": {
           "color": "#4D5663"
          },
          "text": ""
         },
         "zerolinecolor": "#E1E5ED"
        },
        "yaxis": {
         "gridcolor": "#E1E5ED",
         "showgrid": true,
         "tickfont": {
          "color": "#4D5663"
         },
         "title": {
          "font": {
           "color": "#4D5663"
          },
          "text": ""
         },
         "zerolinecolor": "#E1E5ED"
        }
       }
      },
      "text/html": [
       "<div>\n",
       "        \n",
       "        \n",
       "            <div id=\"de40218c-2738-4b52-89a0-fda809a5b56f\" class=\"plotly-graph-div\" style=\"height:525px; width:100%;\"></div>\n",
       "            <script type=\"text/javascript\">\n",
       "                require([\"plotly\"], function(Plotly) {\n",
       "                    window.PLOTLYENV=window.PLOTLYENV || {};\n",
       "                    window.PLOTLYENV.BASE_URL='https://plot.ly';\n",
       "                    \n",
       "                if (document.getElementById(\"de40218c-2738-4b52-89a0-fda809a5b56f\")) {\n",
       "                    Plotly.newPlot(\n",
       "                        'de40218c-2738-4b52-89a0-fda809a5b56f',\n",
       "                        [{\"colorscale\": [[0.0, \"rgb(255, 153, 51)\"], [0.1111111111111111, \"rgb(55, 128, 191)\"], [0.2222222222222222, \"rgb(50, 171, 96)\"], [0.3333333333333333, \"rgb(128, 0, 128)\"], [0.4444444444444444, \"rgb(219, 64, 82)\"], [0.5555555555555556, \"rgb(0, 128, 128)\"], [0.6666666666666666, \"rgb(255, 255, 51)\"], [0.7777777777777778, \"rgb(128, 128, 0)\"], [0.8888888888888888, \"rgb(251, 128, 114)\"], [1.0, \"rgb(128, 177, 211)\"]], \"type\": \"surface\", \"x\": [0, 1, 2, 3, 4], \"y\": [\"X\", \"Y\", \"Z\"], \"z\": [[1, 2, 3, 4, 5], [10, 20, 30, 20, 10], [500, 400, 300, 200, 100]]}],\n",
       "                        {\"legend\": {\"bgcolor\": \"#F5F6F9\", \"font\": {\"color\": \"#4D5663\"}}, \"paper_bgcolor\": \"#F5F6F9\", \"plot_bgcolor\": \"#F5F6F9\", \"template\": {\"data\": {\"bar\": [{\"error_x\": {\"color\": \"#2a3f5f\"}, \"error_y\": {\"color\": \"#2a3f5f\"}, \"marker\": {\"line\": {\"color\": \"#E5ECF6\", \"width\": 0.5}}, \"type\": \"bar\"}], \"barpolar\": [{\"marker\": {\"line\": {\"color\": \"#E5ECF6\", \"width\": 0.5}}, \"type\": \"barpolar\"}], \"carpet\": [{\"aaxis\": {\"endlinecolor\": \"#2a3f5f\", \"gridcolor\": \"white\", \"linecolor\": \"white\", \"minorgridcolor\": \"white\", \"startlinecolor\": \"#2a3f5f\"}, \"baxis\": {\"endlinecolor\": \"#2a3f5f\", \"gridcolor\": \"white\", \"linecolor\": \"white\", \"minorgridcolor\": \"white\", \"startlinecolor\": \"#2a3f5f\"}, \"type\": \"carpet\"}], \"choropleth\": [{\"colorbar\": {\"outlinewidth\": 0, \"ticks\": \"\"}, \"type\": \"choropleth\"}], \"contour\": [{\"colorbar\": {\"outlinewidth\": 0, \"ticks\": \"\"}, \"colorscale\": [[0.0, \"#0d0887\"], [0.1111111111111111, \"#46039f\"], [0.2222222222222222, \"#7201a8\"], [0.3333333333333333, \"#9c179e\"], [0.4444444444444444, \"#bd3786\"], [0.5555555555555556, \"#d8576b\"], [0.6666666666666666, \"#ed7953\"], [0.7777777777777778, \"#fb9f3a\"], [0.8888888888888888, \"#fdca26\"], [1.0, \"#f0f921\"]], \"type\": \"contour\"}], \"contourcarpet\": [{\"colorbar\": {\"outlinewidth\": 0, \"ticks\": \"\"}, \"type\": \"contourcarpet\"}], \"heatmap\": [{\"colorbar\": {\"outlinewidth\": 0, \"ticks\": \"\"}, \"colorscale\": [[0.0, \"#0d0887\"], [0.1111111111111111, \"#46039f\"], [0.2222222222222222, \"#7201a8\"], [0.3333333333333333, \"#9c179e\"], [0.4444444444444444, \"#bd3786\"], [0.5555555555555556, \"#d8576b\"], [0.6666666666666666, \"#ed7953\"], [0.7777777777777778, \"#fb9f3a\"], [0.8888888888888888, \"#fdca26\"], [1.0, \"#f0f921\"]], \"type\": \"heatmap\"}], \"heatmapgl\": [{\"colorbar\": {\"outlinewidth\": 0, \"ticks\": \"\"}, \"colorscale\": [[0.0, \"#0d0887\"], [0.1111111111111111, \"#46039f\"], [0.2222222222222222, \"#7201a8\"], [0.3333333333333333, \"#9c179e\"], [0.4444444444444444, \"#bd3786\"], [0.5555555555555556, \"#d8576b\"], [0.6666666666666666, \"#ed7953\"], [0.7777777777777778, \"#fb9f3a\"], [0.8888888888888888, \"#fdca26\"], [1.0, \"#f0f921\"]], \"type\": \"heatmapgl\"}], \"histogram\": [{\"marker\": {\"colorbar\": {\"outlinewidth\": 0, \"ticks\": \"\"}}, \"type\": \"histogram\"}], \"histogram2d\": [{\"colorbar\": {\"outlinewidth\": 0, \"ticks\": \"\"}, \"colorscale\": [[0.0, \"#0d0887\"], [0.1111111111111111, \"#46039f\"], [0.2222222222222222, \"#7201a8\"], [0.3333333333333333, \"#9c179e\"], [0.4444444444444444, \"#bd3786\"], [0.5555555555555556, \"#d8576b\"], [0.6666666666666666, \"#ed7953\"], [0.7777777777777778, \"#fb9f3a\"], [0.8888888888888888, \"#fdca26\"], [1.0, \"#f0f921\"]], \"type\": \"histogram2d\"}], \"histogram2dcontour\": [{\"colorbar\": {\"outlinewidth\": 0, \"ticks\": \"\"}, \"colorscale\": [[0.0, \"#0d0887\"], [0.1111111111111111, \"#46039f\"], [0.2222222222222222, \"#7201a8\"], [0.3333333333333333, \"#9c179e\"], [0.4444444444444444, \"#bd3786\"], [0.5555555555555556, \"#d8576b\"], [0.6666666666666666, \"#ed7953\"], [0.7777777777777778, \"#fb9f3a\"], [0.8888888888888888, \"#fdca26\"], [1.0, \"#f0f921\"]], \"type\": \"histogram2dcontour\"}], \"mesh3d\": [{\"colorbar\": {\"outlinewidth\": 0, \"ticks\": \"\"}, \"type\": \"mesh3d\"}], \"parcoords\": [{\"line\": {\"colorbar\": {\"outlinewidth\": 0, \"ticks\": \"\"}}, \"type\": \"parcoords\"}], \"pie\": [{\"automargin\": true, \"type\": \"pie\"}], \"scatter\": [{\"marker\": {\"colorbar\": {\"outlinewidth\": 0, \"ticks\": \"\"}}, \"type\": \"scatter\"}], \"scatter3d\": [{\"line\": {\"colorbar\": {\"outlinewidth\": 0, \"ticks\": \"\"}}, \"marker\": {\"colorbar\": {\"outlinewidth\": 0, \"ticks\": \"\"}}, \"type\": \"scatter3d\"}], \"scattercarpet\": [{\"marker\": {\"colorbar\": {\"outlinewidth\": 0, \"ticks\": \"\"}}, \"type\": \"scattercarpet\"}], \"scattergeo\": [{\"marker\": {\"colorbar\": {\"outlinewidth\": 0, \"ticks\": \"\"}}, \"type\": \"scattergeo\"}], \"scattergl\": [{\"marker\": {\"colorbar\": {\"outlinewidth\": 0, \"ticks\": \"\"}}, \"type\": \"scattergl\"}], \"scattermapbox\": [{\"marker\": {\"colorbar\": {\"outlinewidth\": 0, \"ticks\": \"\"}}, \"type\": \"scattermapbox\"}], \"scatterpolar\": [{\"marker\": {\"colorbar\": {\"outlinewidth\": 0, \"ticks\": \"\"}}, \"type\": \"scatterpolar\"}], \"scatterpolargl\": [{\"marker\": {\"colorbar\": {\"outlinewidth\": 0, \"ticks\": \"\"}}, \"type\": \"scatterpolargl\"}], \"scatterternary\": [{\"marker\": {\"colorbar\": {\"outlinewidth\": 0, \"ticks\": \"\"}}, \"type\": \"scatterternary\"}], \"surface\": [{\"colorbar\": {\"outlinewidth\": 0, \"ticks\": \"\"}, \"colorscale\": [[0.0, \"#0d0887\"], [0.1111111111111111, \"#46039f\"], [0.2222222222222222, \"#7201a8\"], [0.3333333333333333, \"#9c179e\"], [0.4444444444444444, \"#bd3786\"], [0.5555555555555556, \"#d8576b\"], [0.6666666666666666, \"#ed7953\"], [0.7777777777777778, \"#fb9f3a\"], [0.8888888888888888, \"#fdca26\"], [1.0, \"#f0f921\"]], \"type\": \"surface\"}], \"table\": [{\"cells\": {\"fill\": {\"color\": \"#EBF0F8\"}, \"line\": {\"color\": \"white\"}}, \"header\": {\"fill\": {\"color\": \"#C8D4E3\"}, \"line\": {\"color\": \"white\"}}, \"type\": \"table\"}]}, \"layout\": {\"annotationdefaults\": {\"arrowcolor\": \"#2a3f5f\", \"arrowhead\": 0, \"arrowwidth\": 1}, \"coloraxis\": {\"colorbar\": {\"outlinewidth\": 0, \"ticks\": \"\"}}, \"colorscale\": {\"diverging\": [[0, \"#8e0152\"], [0.1, \"#c51b7d\"], [0.2, \"#de77ae\"], [0.3, \"#f1b6da\"], [0.4, \"#fde0ef\"], [0.5, \"#f7f7f7\"], [0.6, \"#e6f5d0\"], [0.7, \"#b8e186\"], [0.8, \"#7fbc41\"], [0.9, \"#4d9221\"], [1, \"#276419\"]], \"sequential\": [[0.0, \"#0d0887\"], [0.1111111111111111, \"#46039f\"], [0.2222222222222222, \"#7201a8\"], [0.3333333333333333, \"#9c179e\"], [0.4444444444444444, \"#bd3786\"], [0.5555555555555556, \"#d8576b\"], [0.6666666666666666, \"#ed7953\"], [0.7777777777777778, \"#fb9f3a\"], [0.8888888888888888, \"#fdca26\"], [1.0, \"#f0f921\"]], \"sequentialminus\": [[0.0, \"#0d0887\"], [0.1111111111111111, \"#46039f\"], [0.2222222222222222, \"#7201a8\"], [0.3333333333333333, \"#9c179e\"], [0.4444444444444444, \"#bd3786\"], [0.5555555555555556, \"#d8576b\"], [0.6666666666666666, \"#ed7953\"], [0.7777777777777778, \"#fb9f3a\"], [0.8888888888888888, \"#fdca26\"], [1.0, \"#f0f921\"]]}, \"colorway\": [\"#636efa\", \"#EF553B\", \"#00cc96\", \"#ab63fa\", \"#FFA15A\", \"#19d3f3\", \"#FF6692\", \"#B6E880\", \"#FF97FF\", \"#FECB52\"], \"font\": {\"color\": \"#2a3f5f\"}, \"geo\": {\"bgcolor\": \"white\", \"lakecolor\": \"white\", \"landcolor\": \"#E5ECF6\", \"showlakes\": true, \"showland\": true, \"subunitcolor\": \"white\"}, \"hoverlabel\": {\"align\": \"left\"}, \"hovermode\": \"closest\", \"mapbox\": {\"style\": \"light\"}, \"paper_bgcolor\": \"white\", \"plot_bgcolor\": \"#E5ECF6\", \"polar\": {\"angularaxis\": {\"gridcolor\": \"white\", \"linecolor\": \"white\", \"ticks\": \"\"}, \"bgcolor\": \"#E5ECF6\", \"radialaxis\": {\"gridcolor\": \"white\", \"linecolor\": \"white\", \"ticks\": \"\"}}, \"scene\": {\"xaxis\": {\"backgroundcolor\": \"#E5ECF6\", \"gridcolor\": \"white\", \"gridwidth\": 2, \"linecolor\": \"white\", \"showbackground\": true, \"ticks\": \"\", \"zerolinecolor\": \"white\"}, \"yaxis\": {\"backgroundcolor\": \"#E5ECF6\", \"gridcolor\": \"white\", \"gridwidth\": 2, \"linecolor\": \"white\", \"showbackground\": true, \"ticks\": \"\", \"zerolinecolor\": \"white\"}, \"zaxis\": {\"backgroundcolor\": \"#E5ECF6\", \"gridcolor\": \"white\", \"gridwidth\": 2, \"linecolor\": \"white\", \"showbackground\": true, \"ticks\": \"\", \"zerolinecolor\": \"white\"}}, \"shapedefaults\": {\"line\": {\"color\": \"#2a3f5f\"}}, \"ternary\": {\"aaxis\": {\"gridcolor\": \"white\", \"linecolor\": \"white\", \"ticks\": \"\"}, \"baxis\": {\"gridcolor\": \"white\", \"linecolor\": \"white\", \"ticks\": \"\"}, \"bgcolor\": \"#E5ECF6\", \"caxis\": {\"gridcolor\": \"white\", \"linecolor\": \"white\", \"ticks\": \"\"}}, \"title\": {\"x\": 0.05}, \"xaxis\": {\"automargin\": true, \"gridcolor\": \"white\", \"linecolor\": \"white\", \"ticks\": \"\", \"title\": {\"standoff\": 15}, \"zerolinecolor\": \"white\", \"zerolinewidth\": 2}, \"yaxis\": {\"automargin\": true, \"gridcolor\": \"white\", \"linecolor\": \"white\", \"ticks\": \"\", \"title\": {\"standoff\": 15}, \"zerolinecolor\": \"white\", \"zerolinewidth\": 2}}}, \"title\": {\"font\": {\"color\": \"#4D5663\"}}, \"xaxis\": {\"gridcolor\": \"#E1E5ED\", \"showgrid\": true, \"tickfont\": {\"color\": \"#4D5663\"}, \"title\": {\"font\": {\"color\": \"#4D5663\"}, \"text\": \"\"}, \"zerolinecolor\": \"#E1E5ED\"}, \"yaxis\": {\"gridcolor\": \"#E1E5ED\", \"showgrid\": true, \"tickfont\": {\"color\": \"#4D5663\"}, \"title\": {\"font\": {\"color\": \"#4D5663\"}, \"text\": \"\"}, \"zerolinecolor\": \"#E1E5ED\"}},\n",
       "                        {\"showLink\": true, \"linkText\": \"Export to plot.ly\", \"plotlyServerURL\": \"https://plot.ly\", \"responsive\": true}\n",
       "                    ).then(function(){\n",
       "                            \n",
       "var gd = document.getElementById('de40218c-2738-4b52-89a0-fda809a5b56f');\n",
       "var x = new MutationObserver(function (mutations, observer) {{\n",
       "        var display = window.getComputedStyle(gd).display;\n",
       "        if (!display || display === 'none') {{\n",
       "            console.log([gd, 'removed!']);\n",
       "            Plotly.purge(gd);\n",
       "            observer.disconnect();\n",
       "        }}\n",
       "}});\n",
       "\n",
       "// Listen for the removal of the full notebook cells\n",
       "var notebookContainer = gd.closest('#notebook-container');\n",
       "if (notebookContainer) {{\n",
       "    x.observe(notebookContainer, {childList: true});\n",
       "}}\n",
       "\n",
       "// Listen for the clearing of the current output cell\n",
       "var outputEl = gd.closest('.output');\n",
       "if (outputEl) {{\n",
       "    x.observe(outputEl, {childList: true});\n",
       "}}\n",
       "\n",
       "                        })\n",
       "                };\n",
       "                });\n",
       "            </script>\n",
       "        </div>"
      ]
     },
     "metadata": {},
     "output_type": "display_data"
    }
   ],
   "source": [
    "df3.iplot(kind='surface')"
   ]
  },
  {
   "cell_type": "code",
   "execution_count": 23,
   "metadata": {},
   "outputs": [
    {
     "data": {
      "application/vnd.plotly.v1+json": {
       "config": {
        "linkText": "Export to plot.ly",
        "plotlyServerURL": "https://plot.ly",
        "showLink": true
       },
       "data": [
        {
         "colorscale": [
          [
           0,
           "rgb(255, 153, 51)"
          ],
          [
           0.1111111111111111,
           "rgb(55, 128, 191)"
          ],
          [
           0.2222222222222222,
           "rgb(50, 171, 96)"
          ],
          [
           0.3333333333333333,
           "rgb(128, 0, 128)"
          ],
          [
           0.4444444444444444,
           "rgb(219, 64, 82)"
          ],
          [
           0.5555555555555556,
           "rgb(0, 128, 128)"
          ],
          [
           0.6666666666666666,
           "rgb(255, 255, 51)"
          ],
          [
           0.7777777777777778,
           "rgb(128, 128, 0)"
          ],
          [
           0.8888888888888888,
           "rgb(251, 128, 114)"
          ],
          [
           1,
           "rgb(128, 177, 211)"
          ]
         ],
         "type": "surface",
         "x": [
          0,
          1,
          2,
          3,
          4
         ],
         "y": [
          "X",
          "Y",
          "Z"
         ],
         "z": [
          [
           1,
           2,
           3,
           4,
           5
          ],
          [
           10,
           20,
           30,
           20,
           10
          ],
          [
           5,
           4,
           3,
           2,
           1
          ]
         ]
        }
       ],
       "layout": {
        "legend": {
         "bgcolor": "#F5F6F9",
         "font": {
          "color": "#4D5663"
         }
        },
        "paper_bgcolor": "#F5F6F9",
        "plot_bgcolor": "#F5F6F9",
        "template": {
         "data": {
          "bar": [
           {
            "error_x": {
             "color": "#2a3f5f"
            },
            "error_y": {
             "color": "#2a3f5f"
            },
            "marker": {
             "line": {
              "color": "#E5ECF6",
              "width": 0.5
             }
            },
            "type": "bar"
           }
          ],
          "barpolar": [
           {
            "marker": {
             "line": {
              "color": "#E5ECF6",
              "width": 0.5
             }
            },
            "type": "barpolar"
           }
          ],
          "carpet": [
           {
            "aaxis": {
             "endlinecolor": "#2a3f5f",
             "gridcolor": "white",
             "linecolor": "white",
             "minorgridcolor": "white",
             "startlinecolor": "#2a3f5f"
            },
            "baxis": {
             "endlinecolor": "#2a3f5f",
             "gridcolor": "white",
             "linecolor": "white",
             "minorgridcolor": "white",
             "startlinecolor": "#2a3f5f"
            },
            "type": "carpet"
           }
          ],
          "choropleth": [
           {
            "colorbar": {
             "outlinewidth": 0,
             "ticks": ""
            },
            "type": "choropleth"
           }
          ],
          "contour": [
           {
            "colorbar": {
             "outlinewidth": 0,
             "ticks": ""
            },
            "colorscale": [
             [
              0,
              "#0d0887"
             ],
             [
              0.1111111111111111,
              "#46039f"
             ],
             [
              0.2222222222222222,
              "#7201a8"
             ],
             [
              0.3333333333333333,
              "#9c179e"
             ],
             [
              0.4444444444444444,
              "#bd3786"
             ],
             [
              0.5555555555555556,
              "#d8576b"
             ],
             [
              0.6666666666666666,
              "#ed7953"
             ],
             [
              0.7777777777777778,
              "#fb9f3a"
             ],
             [
              0.8888888888888888,
              "#fdca26"
             ],
             [
              1,
              "#f0f921"
             ]
            ],
            "type": "contour"
           }
          ],
          "contourcarpet": [
           {
            "colorbar": {
             "outlinewidth": 0,
             "ticks": ""
            },
            "type": "contourcarpet"
           }
          ],
          "heatmap": [
           {
            "colorbar": {
             "outlinewidth": 0,
             "ticks": ""
            },
            "colorscale": [
             [
              0,
              "#0d0887"
             ],
             [
              0.1111111111111111,
              "#46039f"
             ],
             [
              0.2222222222222222,
              "#7201a8"
             ],
             [
              0.3333333333333333,
              "#9c179e"
             ],
             [
              0.4444444444444444,
              "#bd3786"
             ],
             [
              0.5555555555555556,
              "#d8576b"
             ],
             [
              0.6666666666666666,
              "#ed7953"
             ],
             [
              0.7777777777777778,
              "#fb9f3a"
             ],
             [
              0.8888888888888888,
              "#fdca26"
             ],
             [
              1,
              "#f0f921"
             ]
            ],
            "type": "heatmap"
           }
          ],
          "heatmapgl": [
           {
            "colorbar": {
             "outlinewidth": 0,
             "ticks": ""
            },
            "colorscale": [
             [
              0,
              "#0d0887"
             ],
             [
              0.1111111111111111,
              "#46039f"
             ],
             [
              0.2222222222222222,
              "#7201a8"
             ],
             [
              0.3333333333333333,
              "#9c179e"
             ],
             [
              0.4444444444444444,
              "#bd3786"
             ],
             [
              0.5555555555555556,
              "#d8576b"
             ],
             [
              0.6666666666666666,
              "#ed7953"
             ],
             [
              0.7777777777777778,
              "#fb9f3a"
             ],
             [
              0.8888888888888888,
              "#fdca26"
             ],
             [
              1,
              "#f0f921"
             ]
            ],
            "type": "heatmapgl"
           }
          ],
          "histogram": [
           {
            "marker": {
             "colorbar": {
              "outlinewidth": 0,
              "ticks": ""
             }
            },
            "type": "histogram"
           }
          ],
          "histogram2d": [
           {
            "colorbar": {
             "outlinewidth": 0,
             "ticks": ""
            },
            "colorscale": [
             [
              0,
              "#0d0887"
             ],
             [
              0.1111111111111111,
              "#46039f"
             ],
             [
              0.2222222222222222,
              "#7201a8"
             ],
             [
              0.3333333333333333,
              "#9c179e"
             ],
             [
              0.4444444444444444,
              "#bd3786"
             ],
             [
              0.5555555555555556,
              "#d8576b"
             ],
             [
              0.6666666666666666,
              "#ed7953"
             ],
             [
              0.7777777777777778,
              "#fb9f3a"
             ],
             [
              0.8888888888888888,
              "#fdca26"
             ],
             [
              1,
              "#f0f921"
             ]
            ],
            "type": "histogram2d"
           }
          ],
          "histogram2dcontour": [
           {
            "colorbar": {
             "outlinewidth": 0,
             "ticks": ""
            },
            "colorscale": [
             [
              0,
              "#0d0887"
             ],
             [
              0.1111111111111111,
              "#46039f"
             ],
             [
              0.2222222222222222,
              "#7201a8"
             ],
             [
              0.3333333333333333,
              "#9c179e"
             ],
             [
              0.4444444444444444,
              "#bd3786"
             ],
             [
              0.5555555555555556,
              "#d8576b"
             ],
             [
              0.6666666666666666,
              "#ed7953"
             ],
             [
              0.7777777777777778,
              "#fb9f3a"
             ],
             [
              0.8888888888888888,
              "#fdca26"
             ],
             [
              1,
              "#f0f921"
             ]
            ],
            "type": "histogram2dcontour"
           }
          ],
          "mesh3d": [
           {
            "colorbar": {
             "outlinewidth": 0,
             "ticks": ""
            },
            "type": "mesh3d"
           }
          ],
          "parcoords": [
           {
            "line": {
             "colorbar": {
              "outlinewidth": 0,
              "ticks": ""
             }
            },
            "type": "parcoords"
           }
          ],
          "pie": [
           {
            "automargin": true,
            "type": "pie"
           }
          ],
          "scatter": [
           {
            "marker": {
             "colorbar": {
              "outlinewidth": 0,
              "ticks": ""
             }
            },
            "type": "scatter"
           }
          ],
          "scatter3d": [
           {
            "line": {
             "colorbar": {
              "outlinewidth": 0,
              "ticks": ""
             }
            },
            "marker": {
             "colorbar": {
              "outlinewidth": 0,
              "ticks": ""
             }
            },
            "type": "scatter3d"
           }
          ],
          "scattercarpet": [
           {
            "marker": {
             "colorbar": {
              "outlinewidth": 0,
              "ticks": ""
             }
            },
            "type": "scattercarpet"
           }
          ],
          "scattergeo": [
           {
            "marker": {
             "colorbar": {
              "outlinewidth": 0,
              "ticks": ""
             }
            },
            "type": "scattergeo"
           }
          ],
          "scattergl": [
           {
            "marker": {
             "colorbar": {
              "outlinewidth": 0,
              "ticks": ""
             }
            },
            "type": "scattergl"
           }
          ],
          "scattermapbox": [
           {
            "marker": {
             "colorbar": {
              "outlinewidth": 0,
              "ticks": ""
             }
            },
            "type": "scattermapbox"
           }
          ],
          "scatterpolar": [
           {
            "marker": {
             "colorbar": {
              "outlinewidth": 0,
              "ticks": ""
             }
            },
            "type": "scatterpolar"
           }
          ],
          "scatterpolargl": [
           {
            "marker": {
             "colorbar": {
              "outlinewidth": 0,
              "ticks": ""
             }
            },
            "type": "scatterpolargl"
           }
          ],
          "scatterternary": [
           {
            "marker": {
             "colorbar": {
              "outlinewidth": 0,
              "ticks": ""
             }
            },
            "type": "scatterternary"
           }
          ],
          "surface": [
           {
            "colorbar": {
             "outlinewidth": 0,
             "ticks": ""
            },
            "colorscale": [
             [
              0,
              "#0d0887"
             ],
             [
              0.1111111111111111,
              "#46039f"
             ],
             [
              0.2222222222222222,
              "#7201a8"
             ],
             [
              0.3333333333333333,
              "#9c179e"
             ],
             [
              0.4444444444444444,
              "#bd3786"
             ],
             [
              0.5555555555555556,
              "#d8576b"
             ],
             [
              0.6666666666666666,
              "#ed7953"
             ],
             [
              0.7777777777777778,
              "#fb9f3a"
             ],
             [
              0.8888888888888888,
              "#fdca26"
             ],
             [
              1,
              "#f0f921"
             ]
            ],
            "type": "surface"
           }
          ],
          "table": [
           {
            "cells": {
             "fill": {
              "color": "#EBF0F8"
             },
             "line": {
              "color": "white"
             }
            },
            "header": {
             "fill": {
              "color": "#C8D4E3"
             },
             "line": {
              "color": "white"
             }
            },
            "type": "table"
           }
          ]
         },
         "layout": {
          "annotationdefaults": {
           "arrowcolor": "#2a3f5f",
           "arrowhead": 0,
           "arrowwidth": 1
          },
          "coloraxis": {
           "colorbar": {
            "outlinewidth": 0,
            "ticks": ""
           }
          },
          "colorscale": {
           "diverging": [
            [
             0,
             "#8e0152"
            ],
            [
             0.1,
             "#c51b7d"
            ],
            [
             0.2,
             "#de77ae"
            ],
            [
             0.3,
             "#f1b6da"
            ],
            [
             0.4,
             "#fde0ef"
            ],
            [
             0.5,
             "#f7f7f7"
            ],
            [
             0.6,
             "#e6f5d0"
            ],
            [
             0.7,
             "#b8e186"
            ],
            [
             0.8,
             "#7fbc41"
            ],
            [
             0.9,
             "#4d9221"
            ],
            [
             1,
             "#276419"
            ]
           ],
           "sequential": [
            [
             0,
             "#0d0887"
            ],
            [
             0.1111111111111111,
             "#46039f"
            ],
            [
             0.2222222222222222,
             "#7201a8"
            ],
            [
             0.3333333333333333,
             "#9c179e"
            ],
            [
             0.4444444444444444,
             "#bd3786"
            ],
            [
             0.5555555555555556,
             "#d8576b"
            ],
            [
             0.6666666666666666,
             "#ed7953"
            ],
            [
             0.7777777777777778,
             "#fb9f3a"
            ],
            [
             0.8888888888888888,
             "#fdca26"
            ],
            [
             1,
             "#f0f921"
            ]
           ],
           "sequentialminus": [
            [
             0,
             "#0d0887"
            ],
            [
             0.1111111111111111,
             "#46039f"
            ],
            [
             0.2222222222222222,
             "#7201a8"
            ],
            [
             0.3333333333333333,
             "#9c179e"
            ],
            [
             0.4444444444444444,
             "#bd3786"
            ],
            [
             0.5555555555555556,
             "#d8576b"
            ],
            [
             0.6666666666666666,
             "#ed7953"
            ],
            [
             0.7777777777777778,
             "#fb9f3a"
            ],
            [
             0.8888888888888888,
             "#fdca26"
            ],
            [
             1,
             "#f0f921"
            ]
           ]
          },
          "colorway": [
           "#636efa",
           "#EF553B",
           "#00cc96",
           "#ab63fa",
           "#FFA15A",
           "#19d3f3",
           "#FF6692",
           "#B6E880",
           "#FF97FF",
           "#FECB52"
          ],
          "font": {
           "color": "#2a3f5f"
          },
          "geo": {
           "bgcolor": "white",
           "lakecolor": "white",
           "landcolor": "#E5ECF6",
           "showlakes": true,
           "showland": true,
           "subunitcolor": "white"
          },
          "hoverlabel": {
           "align": "left"
          },
          "hovermode": "closest",
          "mapbox": {
           "style": "light"
          },
          "paper_bgcolor": "white",
          "plot_bgcolor": "#E5ECF6",
          "polar": {
           "angularaxis": {
            "gridcolor": "white",
            "linecolor": "white",
            "ticks": ""
           },
           "bgcolor": "#E5ECF6",
           "radialaxis": {
            "gridcolor": "white",
            "linecolor": "white",
            "ticks": ""
           }
          },
          "scene": {
           "xaxis": {
            "backgroundcolor": "#E5ECF6",
            "gridcolor": "white",
            "gridwidth": 2,
            "linecolor": "white",
            "showbackground": true,
            "ticks": "",
            "zerolinecolor": "white"
           },
           "yaxis": {
            "backgroundcolor": "#E5ECF6",
            "gridcolor": "white",
            "gridwidth": 2,
            "linecolor": "white",
            "showbackground": true,
            "ticks": "",
            "zerolinecolor": "white"
           },
           "zaxis": {
            "backgroundcolor": "#E5ECF6",
            "gridcolor": "white",
            "gridwidth": 2,
            "linecolor": "white",
            "showbackground": true,
            "ticks": "",
            "zerolinecolor": "white"
           }
          },
          "shapedefaults": {
           "line": {
            "color": "#2a3f5f"
           }
          },
          "ternary": {
           "aaxis": {
            "gridcolor": "white",
            "linecolor": "white",
            "ticks": ""
           },
           "baxis": {
            "gridcolor": "white",
            "linecolor": "white",
            "ticks": ""
           },
           "bgcolor": "#E5ECF6",
           "caxis": {
            "gridcolor": "white",
            "linecolor": "white",
            "ticks": ""
           }
          },
          "title": {
           "x": 0.05
          },
          "xaxis": {
           "automargin": true,
           "gridcolor": "white",
           "linecolor": "white",
           "ticks": "",
           "title": {
            "standoff": 15
           },
           "zerolinecolor": "white",
           "zerolinewidth": 2
          },
          "yaxis": {
           "automargin": true,
           "gridcolor": "white",
           "linecolor": "white",
           "ticks": "",
           "title": {
            "standoff": 15
           },
           "zerolinecolor": "white",
           "zerolinewidth": 2
          }
         }
        },
        "title": {
         "font": {
          "color": "#4D5663"
         }
        },
        "xaxis": {
         "gridcolor": "#E1E5ED",
         "showgrid": true,
         "tickfont": {
          "color": "#4D5663"
         },
         "title": {
          "font": {
           "color": "#4D5663"
          },
          "text": ""
         },
         "zerolinecolor": "#E1E5ED"
        },
        "yaxis": {
         "gridcolor": "#E1E5ED",
         "showgrid": true,
         "tickfont": {
          "color": "#4D5663"
         },
         "title": {
          "font": {
           "color": "#4D5663"
          },
          "text": ""
         },
         "zerolinecolor": "#E1E5ED"
        }
       }
      },
      "text/html": [
       "<div>\n",
       "        \n",
       "        \n",
       "            <div id=\"acbdff91-96e0-475d-b02d-2946f230494c\" class=\"plotly-graph-div\" style=\"height:525px; width:100%;\"></div>\n",
       "            <script type=\"text/javascript\">\n",
       "                require([\"plotly\"], function(Plotly) {\n",
       "                    window.PLOTLYENV=window.PLOTLYENV || {};\n",
       "                    window.PLOTLYENV.BASE_URL='https://plot.ly';\n",
       "                    \n",
       "                if (document.getElementById(\"acbdff91-96e0-475d-b02d-2946f230494c\")) {\n",
       "                    Plotly.newPlot(\n",
       "                        'acbdff91-96e0-475d-b02d-2946f230494c',\n",
       "                        [{\"colorscale\": [[0.0, \"rgb(255, 153, 51)\"], [0.1111111111111111, \"rgb(55, 128, 191)\"], [0.2222222222222222, \"rgb(50, 171, 96)\"], [0.3333333333333333, \"rgb(128, 0, 128)\"], [0.4444444444444444, \"rgb(219, 64, 82)\"], [0.5555555555555556, \"rgb(0, 128, 128)\"], [0.6666666666666666, \"rgb(255, 255, 51)\"], [0.7777777777777778, \"rgb(128, 128, 0)\"], [0.8888888888888888, \"rgb(251, 128, 114)\"], [1.0, \"rgb(128, 177, 211)\"]], \"type\": \"surface\", \"x\": [0, 1, 2, 3, 4], \"y\": [\"X\", \"Y\", \"Z\"], \"z\": [[1, 2, 3, 4, 5], [10, 20, 30, 20, 10], [5, 4, 3, 2, 1]]}],\n",
       "                        {\"legend\": {\"bgcolor\": \"#F5F6F9\", \"font\": {\"color\": \"#4D5663\"}}, \"paper_bgcolor\": \"#F5F6F9\", \"plot_bgcolor\": \"#F5F6F9\", \"template\": {\"data\": {\"bar\": [{\"error_x\": {\"color\": \"#2a3f5f\"}, \"error_y\": {\"color\": \"#2a3f5f\"}, \"marker\": {\"line\": {\"color\": \"#E5ECF6\", \"width\": 0.5}}, \"type\": \"bar\"}], \"barpolar\": [{\"marker\": {\"line\": {\"color\": \"#E5ECF6\", \"width\": 0.5}}, \"type\": \"barpolar\"}], \"carpet\": [{\"aaxis\": {\"endlinecolor\": \"#2a3f5f\", \"gridcolor\": \"white\", \"linecolor\": \"white\", \"minorgridcolor\": \"white\", \"startlinecolor\": \"#2a3f5f\"}, \"baxis\": {\"endlinecolor\": \"#2a3f5f\", \"gridcolor\": \"white\", \"linecolor\": \"white\", \"minorgridcolor\": \"white\", \"startlinecolor\": \"#2a3f5f\"}, \"type\": \"carpet\"}], \"choropleth\": [{\"colorbar\": {\"outlinewidth\": 0, \"ticks\": \"\"}, \"type\": \"choropleth\"}], \"contour\": [{\"colorbar\": {\"outlinewidth\": 0, \"ticks\": \"\"}, \"colorscale\": [[0.0, \"#0d0887\"], [0.1111111111111111, \"#46039f\"], [0.2222222222222222, \"#7201a8\"], [0.3333333333333333, \"#9c179e\"], [0.4444444444444444, \"#bd3786\"], [0.5555555555555556, \"#d8576b\"], [0.6666666666666666, \"#ed7953\"], [0.7777777777777778, \"#fb9f3a\"], [0.8888888888888888, \"#fdca26\"], [1.0, \"#f0f921\"]], \"type\": \"contour\"}], \"contourcarpet\": [{\"colorbar\": {\"outlinewidth\": 0, \"ticks\": \"\"}, \"type\": \"contourcarpet\"}], \"heatmap\": [{\"colorbar\": {\"outlinewidth\": 0, \"ticks\": \"\"}, \"colorscale\": [[0.0, \"#0d0887\"], [0.1111111111111111, \"#46039f\"], [0.2222222222222222, \"#7201a8\"], [0.3333333333333333, \"#9c179e\"], [0.4444444444444444, \"#bd3786\"], [0.5555555555555556, \"#d8576b\"], [0.6666666666666666, \"#ed7953\"], [0.7777777777777778, \"#fb9f3a\"], [0.8888888888888888, \"#fdca26\"], [1.0, \"#f0f921\"]], \"type\": \"heatmap\"}], \"heatmapgl\": [{\"colorbar\": {\"outlinewidth\": 0, \"ticks\": \"\"}, \"colorscale\": [[0.0, \"#0d0887\"], [0.1111111111111111, \"#46039f\"], [0.2222222222222222, \"#7201a8\"], [0.3333333333333333, \"#9c179e\"], [0.4444444444444444, \"#bd3786\"], [0.5555555555555556, \"#d8576b\"], [0.6666666666666666, \"#ed7953\"], [0.7777777777777778, \"#fb9f3a\"], [0.8888888888888888, \"#fdca26\"], [1.0, \"#f0f921\"]], \"type\": \"heatmapgl\"}], \"histogram\": [{\"marker\": {\"colorbar\": {\"outlinewidth\": 0, \"ticks\": \"\"}}, \"type\": \"histogram\"}], \"histogram2d\": [{\"colorbar\": {\"outlinewidth\": 0, \"ticks\": \"\"}, \"colorscale\": [[0.0, \"#0d0887\"], [0.1111111111111111, \"#46039f\"], [0.2222222222222222, \"#7201a8\"], [0.3333333333333333, \"#9c179e\"], [0.4444444444444444, \"#bd3786\"], [0.5555555555555556, \"#d8576b\"], [0.6666666666666666, \"#ed7953\"], [0.7777777777777778, \"#fb9f3a\"], [0.8888888888888888, \"#fdca26\"], [1.0, \"#f0f921\"]], \"type\": \"histogram2d\"}], \"histogram2dcontour\": [{\"colorbar\": {\"outlinewidth\": 0, \"ticks\": \"\"}, \"colorscale\": [[0.0, \"#0d0887\"], [0.1111111111111111, \"#46039f\"], [0.2222222222222222, \"#7201a8\"], [0.3333333333333333, \"#9c179e\"], [0.4444444444444444, \"#bd3786\"], [0.5555555555555556, \"#d8576b\"], [0.6666666666666666, \"#ed7953\"], [0.7777777777777778, \"#fb9f3a\"], [0.8888888888888888, \"#fdca26\"], [1.0, \"#f0f921\"]], \"type\": \"histogram2dcontour\"}], \"mesh3d\": [{\"colorbar\": {\"outlinewidth\": 0, \"ticks\": \"\"}, \"type\": \"mesh3d\"}], \"parcoords\": [{\"line\": {\"colorbar\": {\"outlinewidth\": 0, \"ticks\": \"\"}}, \"type\": \"parcoords\"}], \"pie\": [{\"automargin\": true, \"type\": \"pie\"}], \"scatter\": [{\"marker\": {\"colorbar\": {\"outlinewidth\": 0, \"ticks\": \"\"}}, \"type\": \"scatter\"}], \"scatter3d\": [{\"line\": {\"colorbar\": {\"outlinewidth\": 0, \"ticks\": \"\"}}, \"marker\": {\"colorbar\": {\"outlinewidth\": 0, \"ticks\": \"\"}}, \"type\": \"scatter3d\"}], \"scattercarpet\": [{\"marker\": {\"colorbar\": {\"outlinewidth\": 0, \"ticks\": \"\"}}, \"type\": \"scattercarpet\"}], \"scattergeo\": [{\"marker\": {\"colorbar\": {\"outlinewidth\": 0, \"ticks\": \"\"}}, \"type\": \"scattergeo\"}], \"scattergl\": [{\"marker\": {\"colorbar\": {\"outlinewidth\": 0, \"ticks\": \"\"}}, \"type\": \"scattergl\"}], \"scattermapbox\": [{\"marker\": {\"colorbar\": {\"outlinewidth\": 0, \"ticks\": \"\"}}, \"type\": \"scattermapbox\"}], \"scatterpolar\": [{\"marker\": {\"colorbar\": {\"outlinewidth\": 0, \"ticks\": \"\"}}, \"type\": \"scatterpolar\"}], \"scatterpolargl\": [{\"marker\": {\"colorbar\": {\"outlinewidth\": 0, \"ticks\": \"\"}}, \"type\": \"scatterpolargl\"}], \"scatterternary\": [{\"marker\": {\"colorbar\": {\"outlinewidth\": 0, \"ticks\": \"\"}}, \"type\": \"scatterternary\"}], \"surface\": [{\"colorbar\": {\"outlinewidth\": 0, \"ticks\": \"\"}, \"colorscale\": [[0.0, \"#0d0887\"], [0.1111111111111111, \"#46039f\"], [0.2222222222222222, \"#7201a8\"], [0.3333333333333333, \"#9c179e\"], [0.4444444444444444, \"#bd3786\"], [0.5555555555555556, \"#d8576b\"], [0.6666666666666666, \"#ed7953\"], [0.7777777777777778, \"#fb9f3a\"], [0.8888888888888888, \"#fdca26\"], [1.0, \"#f0f921\"]], \"type\": \"surface\"}], \"table\": [{\"cells\": {\"fill\": {\"color\": \"#EBF0F8\"}, \"line\": {\"color\": \"white\"}}, \"header\": {\"fill\": {\"color\": \"#C8D4E3\"}, \"line\": {\"color\": \"white\"}}, \"type\": \"table\"}]}, \"layout\": {\"annotationdefaults\": {\"arrowcolor\": \"#2a3f5f\", \"arrowhead\": 0, \"arrowwidth\": 1}, \"coloraxis\": {\"colorbar\": {\"outlinewidth\": 0, \"ticks\": \"\"}}, \"colorscale\": {\"diverging\": [[0, \"#8e0152\"], [0.1, \"#c51b7d\"], [0.2, \"#de77ae\"], [0.3, \"#f1b6da\"], [0.4, \"#fde0ef\"], [0.5, \"#f7f7f7\"], [0.6, \"#e6f5d0\"], [0.7, \"#b8e186\"], [0.8, \"#7fbc41\"], [0.9, \"#4d9221\"], [1, \"#276419\"]], \"sequential\": [[0.0, \"#0d0887\"], [0.1111111111111111, \"#46039f\"], [0.2222222222222222, \"#7201a8\"], [0.3333333333333333, \"#9c179e\"], [0.4444444444444444, \"#bd3786\"], [0.5555555555555556, \"#d8576b\"], [0.6666666666666666, \"#ed7953\"], [0.7777777777777778, \"#fb9f3a\"], [0.8888888888888888, \"#fdca26\"], [1.0, \"#f0f921\"]], \"sequentialminus\": [[0.0, \"#0d0887\"], [0.1111111111111111, \"#46039f\"], [0.2222222222222222, \"#7201a8\"], [0.3333333333333333, \"#9c179e\"], [0.4444444444444444, \"#bd3786\"], [0.5555555555555556, \"#d8576b\"], [0.6666666666666666, \"#ed7953\"], [0.7777777777777778, \"#fb9f3a\"], [0.8888888888888888, \"#fdca26\"], [1.0, \"#f0f921\"]]}, \"colorway\": [\"#636efa\", \"#EF553B\", \"#00cc96\", \"#ab63fa\", \"#FFA15A\", \"#19d3f3\", \"#FF6692\", \"#B6E880\", \"#FF97FF\", \"#FECB52\"], \"font\": {\"color\": \"#2a3f5f\"}, \"geo\": {\"bgcolor\": \"white\", \"lakecolor\": \"white\", \"landcolor\": \"#E5ECF6\", \"showlakes\": true, \"showland\": true, \"subunitcolor\": \"white\"}, \"hoverlabel\": {\"align\": \"left\"}, \"hovermode\": \"closest\", \"mapbox\": {\"style\": \"light\"}, \"paper_bgcolor\": \"white\", \"plot_bgcolor\": \"#E5ECF6\", \"polar\": {\"angularaxis\": {\"gridcolor\": \"white\", \"linecolor\": \"white\", \"ticks\": \"\"}, \"bgcolor\": \"#E5ECF6\", \"radialaxis\": {\"gridcolor\": \"white\", \"linecolor\": \"white\", \"ticks\": \"\"}}, \"scene\": {\"xaxis\": {\"backgroundcolor\": \"#E5ECF6\", \"gridcolor\": \"white\", \"gridwidth\": 2, \"linecolor\": \"white\", \"showbackground\": true, \"ticks\": \"\", \"zerolinecolor\": \"white\"}, \"yaxis\": {\"backgroundcolor\": \"#E5ECF6\", \"gridcolor\": \"white\", \"gridwidth\": 2, \"linecolor\": \"white\", \"showbackground\": true, \"ticks\": \"\", \"zerolinecolor\": \"white\"}, \"zaxis\": {\"backgroundcolor\": \"#E5ECF6\", \"gridcolor\": \"white\", \"gridwidth\": 2, \"linecolor\": \"white\", \"showbackground\": true, \"ticks\": \"\", \"zerolinecolor\": \"white\"}}, \"shapedefaults\": {\"line\": {\"color\": \"#2a3f5f\"}}, \"ternary\": {\"aaxis\": {\"gridcolor\": \"white\", \"linecolor\": \"white\", \"ticks\": \"\"}, \"baxis\": {\"gridcolor\": \"white\", \"linecolor\": \"white\", \"ticks\": \"\"}, \"bgcolor\": \"#E5ECF6\", \"caxis\": {\"gridcolor\": \"white\", \"linecolor\": \"white\", \"ticks\": \"\"}}, \"title\": {\"x\": 0.05}, \"xaxis\": {\"automargin\": true, \"gridcolor\": \"white\", \"linecolor\": \"white\", \"ticks\": \"\", \"title\": {\"standoff\": 15}, \"zerolinecolor\": \"white\", \"zerolinewidth\": 2}, \"yaxis\": {\"automargin\": true, \"gridcolor\": \"white\", \"linecolor\": \"white\", \"ticks\": \"\", \"title\": {\"standoff\": 15}, \"zerolinecolor\": \"white\", \"zerolinewidth\": 2}}}, \"title\": {\"font\": {\"color\": \"#4D5663\"}}, \"xaxis\": {\"gridcolor\": \"#E1E5ED\", \"showgrid\": true, \"tickfont\": {\"color\": \"#4D5663\"}, \"title\": {\"font\": {\"color\": \"#4D5663\"}, \"text\": \"\"}, \"zerolinecolor\": \"#E1E5ED\"}, \"yaxis\": {\"gridcolor\": \"#E1E5ED\", \"showgrid\": true, \"tickfont\": {\"color\": \"#4D5663\"}, \"title\": {\"font\": {\"color\": \"#4D5663\"}, \"text\": \"\"}, \"zerolinecolor\": \"#E1E5ED\"}},\n",
       "                        {\"showLink\": true, \"linkText\": \"Export to plot.ly\", \"plotlyServerURL\": \"https://plot.ly\", \"responsive\": true}\n",
       "                    ).then(function(){\n",
       "                            \n",
       "var gd = document.getElementById('acbdff91-96e0-475d-b02d-2946f230494c');\n",
       "var x = new MutationObserver(function (mutations, observer) {{\n",
       "        var display = window.getComputedStyle(gd).display;\n",
       "        if (!display || display === 'none') {{\n",
       "            console.log([gd, 'removed!']);\n",
       "            Plotly.purge(gd);\n",
       "            observer.disconnect();\n",
       "        }}\n",
       "}});\n",
       "\n",
       "// Listen for the removal of the full notebook cells\n",
       "var notebookContainer = gd.closest('#notebook-container');\n",
       "if (notebookContainer) {{\n",
       "    x.observe(notebookContainer, {childList: true});\n",
       "}}\n",
       "\n",
       "// Listen for the clearing of the current output cell\n",
       "var outputEl = gd.closest('.output');\n",
       "if (outputEl) {{\n",
       "    x.observe(outputEl, {childList: true});\n",
       "}}\n",
       "\n",
       "                        })\n",
       "                };\n",
       "                });\n",
       "            </script>\n",
       "        </div>"
      ]
     },
     "metadata": {},
     "output_type": "display_data"
    }
   ],
   "source": [
    "df4.iplot(kind='surface',color='rdylbu')"
   ]
  },
  {
   "cell_type": "code",
   "execution_count": 24,
   "metadata": {},
   "outputs": [
    {
     "data": {
      "application/vnd.plotly.v1+json": {
       "config": {
        "linkText": "Export to plot.ly",
        "plotlyServerURL": "https://plot.ly",
        "showLink": true
       },
       "data": [
        {
         "histfunc": "count",
         "histnorm": "",
         "marker": {
          "color": "rgba(255, 153, 51, 1.0)",
          "line": {
           "color": "#4D5663",
           "width": 1.3
          }
         },
         "name": "A",
         "opacity": 0.8,
         "orientation": "v",
         "type": "histogram",
         "x": [
          -0.16610363688689225,
          -0.5521200467561026,
          -0.32072301689097243,
          1.0003003046968628,
          -2.2516254604791026,
          -0.6421609543388991,
          -1.4472099947779882,
          -0.13620393460167918,
          -0.5848169421651246,
          -2.3343121377607203,
          0.7045769911864066,
          1.5641538767395509,
          0.13516072316710592,
          0.28401884325871657,
          0.19827951682921566,
          0.39511130031370845,
          -1.6845126169011948,
          1.7526821145707008,
          0.8774483307403921,
          0.836157017411292,
          0.9576375175548147,
          2.327572979958438,
          -0.09201586219373067,
          1.5049485394904945,
          0.6137499890871397,
          -0.23141334285681636,
          -0.3873137293486683,
          0.6665038996871202,
          1.3147726106271649,
          0.3411166578508544,
          -0.7313041972309057,
          0.6374438673125333,
          -1.4268863568083,
          1.2761838902761153,
          0.9224514175204899,
          0.5875380186215396,
          0.9624380244543723,
          -0.028387429045422862,
          -1.7110591691269732,
          0.45768060713546815,
          0.3325008338888872,
          -1.751953272398217,
          0.3727204316081648,
          0.12166865899983588,
          0.6526321680965788,
          -0.07920899553609972,
          -0.5445207532153917,
          -1.6105046471915463,
          -0.2936118804357919,
          0.27986148037476366,
          1.1034013134894871,
          -1.9631465840033653,
          0.43114100186860127,
          -1.235857295974943,
          -1.522723677140059,
          1.2174951715447608,
          0.19372990695871908,
          0.2823849931757263,
          -0.0731218671022487,
          0.7910575601342564,
          -0.6029356378404177,
          -1.7185657936649517,
          -1.1039251574505327,
          2.658810831218528,
          0.8738864116196249,
          -0.35572194094378795,
          0.2340454597606315,
          1.1752802475422055,
          -2.857194818069491,
          -2.600189945808657,
          -1.4129955337744562,
          1.5040243218995208,
          0.4564891038547735,
          -1.0928905726727565,
          1.0934669671611048,
          -0.2952153464804887,
          0.8512281133013911,
          -0.6054409722058584,
          -0.47567754440403875,
          0.6482097649869025,
          0.6347649736514742,
          -0.02784922656797839,
          0.8386088840498142,
          -0.5440691092397063,
          0.6972768207546788,
          0.6093926761521056,
          -0.06405757550025791,
          -0.33223152813714046,
          -0.6681213932531654,
          -0.5803620221889505,
          0.18130261081281787,
          0.9588359075234838,
          2.2614997061951416,
          0.04757386170100405,
          0.3322555579091508,
          1.323477756176155,
          1.0653892403615686,
          0.8465770283086058,
          -0.9181065897100504,
          2.1780189252592024
         ]
        },
        {
         "histfunc": "count",
         "histnorm": "",
         "marker": {
          "color": "rgba(55, 128, 191, 1.0)",
          "line": {
           "color": "#4D5663",
           "width": 1.3
          }
         },
         "name": "B",
         "opacity": 0.8,
         "orientation": "v",
         "type": "histogram",
         "x": [
          0.29954851481511197,
          0.3460221764914574,
          -1.4684786291220613,
          -2.3261076380136574,
          -0.8560630170935084,
          -0.2666675002725784,
          -1.0367178317473178,
          -0.1641102056865516,
          1.293259163731727,
          -0.8059944250936861,
          0.16568334726967576,
          0.9238802895778643,
          -0.2032665907555867,
          1.4971275004914129,
          -0.6110568652907729,
          0.2880256480075652,
          0.30218628023342814,
          0.8151874780879765,
          1.962755339156543,
          -0.04634897285046687,
          0.9708911382708385,
          -2.1803393662632553,
          -0.758135596494414,
          0.14765847037822513,
          1.4395399354838565,
          1.4652400783624666,
          0.27133549685807756,
          0.6009887331928555,
          0.970003264198216,
          2.0923142080688413,
          0.28497261904097343,
          0.03808232091512796,
          -0.028460144293740264,
          -2.875724284445149,
          0.1076739686130463,
          0.6330099707257212,
          1.258254478784425,
          -1.5150255195577138,
          -0.17417549664166573,
          0.08234847547277795,
          -1.262136013163713,
          1.6480467810562809,
          0.6212728629358613,
          1.604482318383683,
          -0.2491181023499222,
          -0.276987626080192,
          0.33503155541675445,
          -0.38311910251804393,
          1.5368983700433583,
          0.043550837958556736,
          0.11312770593752079,
          -0.22552084547381376,
          -0.7342024780377591,
          2.002354164469548,
          -0.3513763370984161,
          1.0891939844574783,
          0.07742301663804288,
          0.1188221678986353,
          1.1646519897891336,
          -0.8672559147206672,
          0.0733867650574441,
          1.6413026825633483,
          1.1875277507898772,
          1.5726061764487005,
          1.0235143951809598,
          -1.702807383350166,
          0.29512873630470426,
          -0.665512319607524,
          -0.06563198708957493,
          0.9852227949234997,
          0.09416627441366154,
          -0.34029398342148215,
          0.7194906222908173,
          -0.30538210212909767,
          0.7528310074888965,
          -0.4475454762754745,
          0.8652186823730295,
          -0.8999691204773388,
          -1.4992660437698153,
          -0.052600864705378066,
          0.9632080553530256,
          0.4225227445710723,
          -0.24976249740389195,
          1.3423979730077338,
          -1.345353752730523,
          0.39946146360573226,
          -1.6935712804020313,
          -2.3452695240608383,
          0.40276261537770885,
          -1.571628849316674,
          0.48374420873834323,
          0.49969435110551125,
          -0.9541923582452546,
          0.1236947783406742,
          0.4825198504341591,
          0.5219508629780577,
          -0.3946070881703127,
          -0.23385051002850257,
          -0.42874338188963346,
          0.1255556069572311
         ]
        },
        {
         "histfunc": "count",
         "histnorm": "",
         "marker": {
          "color": "rgba(50, 171, 96, 1.0)",
          "line": {
           "color": "#4D5663",
           "width": 1.3
          }
         },
         "name": "C",
         "opacity": 0.8,
         "orientation": "v",
         "type": "histogram",
         "x": [
          -0.5315840370366359,
          0.16173480123695258,
          -1.526931646395053,
          0.997242377656304,
          -0.6127806736114583,
          -0.6076059681446834,
          0.9332689822793767,
          0.43980921807417905,
          -0.30645413079830275,
          1.2458900691984305,
          -0.6957604554918259,
          -2.092519940530778,
          -1.1661682788766983,
          0.255104624978084,
          1.647807662409371,
          0.5210976514116537,
          -0.6921604664135697,
          1.1326329108282753,
          1.4451776734049617,
          0.8298433807264687,
          0.4444683646939226,
          -1.0055185800887931,
          -0.29283304255519654,
          0.1419455052444596,
          1.3737548124341294,
          1.0508543291204706,
          0.9498801490995556,
          -0.7404455862246961,
          -0.5255421947954927,
          0.916744385874406,
          -0.15103187217024516,
          0.5861150822660647,
          -0.7158396205909382,
          -0.1273319266696649,
          -0.7246719193641897,
          0.9876656227614199,
          -1.0367306921332464,
          0.5748044139773494,
          0.47094928557209303,
          1.2748763029158383,
          1.2610811112584115,
          0.11994002331706101,
          -1.1081761068456302,
          1.238951702663481,
          -1.2115485857662953,
          1.4136657090476943,
          0.8990156778106935,
          0.2035998460939371,
          0.24441159592290304,
          -0.6704548425930102,
          0.06729811289849236,
          1.571230006517233,
          0.4984922830017379,
          -1.201580984442513,
          -0.9073513360400925,
          0.9516530885677701,
          -1.2492922098024595,
          -0.0220801543063839,
          -2.376519762207996,
          0.5068377026671349,
          -0.518852160856346,
          0.8791920492250621,
          -0.95472187389494,
          0.9829015150187494,
          0.9083135037895894,
          -0.9876265347804443,
          0.7237661118721117,
          -0.21998847029808358,
          0.35479816545788034,
          -0.40174861511152066,
          0.17975264352827378,
          1.1137170160456207,
          -0.8397472638663248,
          -1.9543663324006089,
          -0.2393839379965726,
          1.9339191759410028,
          -0.43836892333319577,
          0.3344786325862197,
          0.4088563144914219,
          -2.0170863656846425,
          0.2201840809385637,
          1.1951916010784036,
          -0.6354650735287152,
          -0.4786980038378098,
          0.18538761734860001,
          -0.07703052731169485,
          -0.5655311347569333,
          0.658303520645014,
          -1.0372927454566931,
          0.8686836229086838,
          0.7496460470741813,
          0.6701395151186833,
          -0.2584094090099108,
          0.3084423241551389,
          -0.866881539195583,
          1.532050241828174,
          -0.6469809777305825,
          0.7602948416168382,
          0.6279171380651485,
          -1.9277658721404594
         ]
        },
        {
         "histfunc": "count",
         "histnorm": "",
         "marker": {
          "color": "rgba(128, 0, 128, 1.0)",
          "line": {
           "color": "#4D5663",
           "width": 1.3
          }
         },
         "name": "D",
         "opacity": 0.8,
         "orientation": "v",
         "type": "histogram",
         "x": [
          -1.6578640708999872,
          -0.7649732642850833,
          1.6197165520401355,
          0.6948518600793145,
          0.3235947195993021,
          -0.678889379260725,
          -0.3361775580924587,
          -1.4545876441784986,
          0.023108673045135805,
          0.5101867595881933,
          1.708817025073502,
          -0.8869842616981806,
          0.20099256959195583,
          -1.722319649440159,
          -0.2740622325464014,
          -0.36376477466003626,
          0.2954422790986494,
          0.2664542364691161,
          0.4594637388616335,
          1.8204605625865262,
          0.21517302849203657,
          0.9821691075688679,
          -1.2860083169738288,
          -0.305990641431503,
          -1.5308193358988362,
          1.5291123841765684,
          2.5001498653262813,
          0.48181901324010806,
          0.6056507504098625,
          0.20520138555661727,
          0.673657045336006,
          -0.14473040107917046,
          0.0018126574021694651,
          -0.4055122774768075,
          -0.1892016009524528,
          -1.0694261273493544,
          -0.08101890974558021,
          -0.3121409698055496,
          -1.2273820110274363,
          1.9758580909333334,
          2.3135419287863512,
          0.14511856919593644,
          0.24653537785366716,
          0.07410886277200507,
          -1.1125930858431627,
          -1.62096345722258,
          0.12113841093134217,
          0.3449923788579843,
          -1.165854220228875,
          0.4111965624026121,
          -0.521758461920156,
          -1.3467282660705224,
          -1.3464976477819253,
          -0.1334108039228377,
          -0.4131158052454607,
          -1.1849525526202902,
          -2.561228768562345,
          0.5085899679495604,
          0.17624310987041292,
          1.519344047572039,
          0.6664329635293371,
          0.006206355267497318,
          0.6192004542379782,
          -2.1701074059369043,
          1.3628884551809142,
          0.2629358007957257,
          1.7180376557384016,
          -0.12635718606915208,
          0.9603413318049445,
          -1.6294383721721726,
          2.3505547290119964,
          -1.7138265283773322,
          -1.7051456933294868,
          -1.2121786070604732,
          -0.8909519968250951,
          -0.8693751607222012,
          -2.8367209669440276,
          1.6272482826606223,
          -1.7531272081001894,
          -1.1979630187813524,
          -0.5948510747913349,
          1.1767443139944396,
          -0.19532606887327594,
          1.262050591898131,
          1.3038905730529844,
          -0.3518918170124171,
          -0.8458549646081417,
          -0.6645952048914188,
          -0.9670835527418234,
          -0.2249632861563061,
          -1.0738182939561671,
          -1.8601889573189312,
          1.0610754934161017,
          0.0010197261376331136,
          -0.006516285865091261,
          -1.3713686380602395,
          0.3124415434049576,
          1.0396442819329668,
          -0.7238815516848321,
          -0.48597617377374
         ]
        }
       ],
       "layout": {
        "barmode": "overlay",
        "legend": {
         "bgcolor": "#F5F6F9",
         "font": {
          "color": "#4D5663"
         }
        },
        "paper_bgcolor": "#F5F6F9",
        "plot_bgcolor": "#F5F6F9",
        "template": {
         "data": {
          "bar": [
           {
            "error_x": {
             "color": "#2a3f5f"
            },
            "error_y": {
             "color": "#2a3f5f"
            },
            "marker": {
             "line": {
              "color": "#E5ECF6",
              "width": 0.5
             }
            },
            "type": "bar"
           }
          ],
          "barpolar": [
           {
            "marker": {
             "line": {
              "color": "#E5ECF6",
              "width": 0.5
             }
            },
            "type": "barpolar"
           }
          ],
          "carpet": [
           {
            "aaxis": {
             "endlinecolor": "#2a3f5f",
             "gridcolor": "white",
             "linecolor": "white",
             "minorgridcolor": "white",
             "startlinecolor": "#2a3f5f"
            },
            "baxis": {
             "endlinecolor": "#2a3f5f",
             "gridcolor": "white",
             "linecolor": "white",
             "minorgridcolor": "white",
             "startlinecolor": "#2a3f5f"
            },
            "type": "carpet"
           }
          ],
          "choropleth": [
           {
            "colorbar": {
             "outlinewidth": 0,
             "ticks": ""
            },
            "type": "choropleth"
           }
          ],
          "contour": [
           {
            "colorbar": {
             "outlinewidth": 0,
             "ticks": ""
            },
            "colorscale": [
             [
              0,
              "#0d0887"
             ],
             [
              0.1111111111111111,
              "#46039f"
             ],
             [
              0.2222222222222222,
              "#7201a8"
             ],
             [
              0.3333333333333333,
              "#9c179e"
             ],
             [
              0.4444444444444444,
              "#bd3786"
             ],
             [
              0.5555555555555556,
              "#d8576b"
             ],
             [
              0.6666666666666666,
              "#ed7953"
             ],
             [
              0.7777777777777778,
              "#fb9f3a"
             ],
             [
              0.8888888888888888,
              "#fdca26"
             ],
             [
              1,
              "#f0f921"
             ]
            ],
            "type": "contour"
           }
          ],
          "contourcarpet": [
           {
            "colorbar": {
             "outlinewidth": 0,
             "ticks": ""
            },
            "type": "contourcarpet"
           }
          ],
          "heatmap": [
           {
            "colorbar": {
             "outlinewidth": 0,
             "ticks": ""
            },
            "colorscale": [
             [
              0,
              "#0d0887"
             ],
             [
              0.1111111111111111,
              "#46039f"
             ],
             [
              0.2222222222222222,
              "#7201a8"
             ],
             [
              0.3333333333333333,
              "#9c179e"
             ],
             [
              0.4444444444444444,
              "#bd3786"
             ],
             [
              0.5555555555555556,
              "#d8576b"
             ],
             [
              0.6666666666666666,
              "#ed7953"
             ],
             [
              0.7777777777777778,
              "#fb9f3a"
             ],
             [
              0.8888888888888888,
              "#fdca26"
             ],
             [
              1,
              "#f0f921"
             ]
            ],
            "type": "heatmap"
           }
          ],
          "heatmapgl": [
           {
            "colorbar": {
             "outlinewidth": 0,
             "ticks": ""
            },
            "colorscale": [
             [
              0,
              "#0d0887"
             ],
             [
              0.1111111111111111,
              "#46039f"
             ],
             [
              0.2222222222222222,
              "#7201a8"
             ],
             [
              0.3333333333333333,
              "#9c179e"
             ],
             [
              0.4444444444444444,
              "#bd3786"
             ],
             [
              0.5555555555555556,
              "#d8576b"
             ],
             [
              0.6666666666666666,
              "#ed7953"
             ],
             [
              0.7777777777777778,
              "#fb9f3a"
             ],
             [
              0.8888888888888888,
              "#fdca26"
             ],
             [
              1,
              "#f0f921"
             ]
            ],
            "type": "heatmapgl"
           }
          ],
          "histogram": [
           {
            "marker": {
             "colorbar": {
              "outlinewidth": 0,
              "ticks": ""
             }
            },
            "type": "histogram"
           }
          ],
          "histogram2d": [
           {
            "colorbar": {
             "outlinewidth": 0,
             "ticks": ""
            },
            "colorscale": [
             [
              0,
              "#0d0887"
             ],
             [
              0.1111111111111111,
              "#46039f"
             ],
             [
              0.2222222222222222,
              "#7201a8"
             ],
             [
              0.3333333333333333,
              "#9c179e"
             ],
             [
              0.4444444444444444,
              "#bd3786"
             ],
             [
              0.5555555555555556,
              "#d8576b"
             ],
             [
              0.6666666666666666,
              "#ed7953"
             ],
             [
              0.7777777777777778,
              "#fb9f3a"
             ],
             [
              0.8888888888888888,
              "#fdca26"
             ],
             [
              1,
              "#f0f921"
             ]
            ],
            "type": "histogram2d"
           }
          ],
          "histogram2dcontour": [
           {
            "colorbar": {
             "outlinewidth": 0,
             "ticks": ""
            },
            "colorscale": [
             [
              0,
              "#0d0887"
             ],
             [
              0.1111111111111111,
              "#46039f"
             ],
             [
              0.2222222222222222,
              "#7201a8"
             ],
             [
              0.3333333333333333,
              "#9c179e"
             ],
             [
              0.4444444444444444,
              "#bd3786"
             ],
             [
              0.5555555555555556,
              "#d8576b"
             ],
             [
              0.6666666666666666,
              "#ed7953"
             ],
             [
              0.7777777777777778,
              "#fb9f3a"
             ],
             [
              0.8888888888888888,
              "#fdca26"
             ],
             [
              1,
              "#f0f921"
             ]
            ],
            "type": "histogram2dcontour"
           }
          ],
          "mesh3d": [
           {
            "colorbar": {
             "outlinewidth": 0,
             "ticks": ""
            },
            "type": "mesh3d"
           }
          ],
          "parcoords": [
           {
            "line": {
             "colorbar": {
              "outlinewidth": 0,
              "ticks": ""
             }
            },
            "type": "parcoords"
           }
          ],
          "pie": [
           {
            "automargin": true,
            "type": "pie"
           }
          ],
          "scatter": [
           {
            "marker": {
             "colorbar": {
              "outlinewidth": 0,
              "ticks": ""
             }
            },
            "type": "scatter"
           }
          ],
          "scatter3d": [
           {
            "line": {
             "colorbar": {
              "outlinewidth": 0,
              "ticks": ""
             }
            },
            "marker": {
             "colorbar": {
              "outlinewidth": 0,
              "ticks": ""
             }
            },
            "type": "scatter3d"
           }
          ],
          "scattercarpet": [
           {
            "marker": {
             "colorbar": {
              "outlinewidth": 0,
              "ticks": ""
             }
            },
            "type": "scattercarpet"
           }
          ],
          "scattergeo": [
           {
            "marker": {
             "colorbar": {
              "outlinewidth": 0,
              "ticks": ""
             }
            },
            "type": "scattergeo"
           }
          ],
          "scattergl": [
           {
            "marker": {
             "colorbar": {
              "outlinewidth": 0,
              "ticks": ""
             }
            },
            "type": "scattergl"
           }
          ],
          "scattermapbox": [
           {
            "marker": {
             "colorbar": {
              "outlinewidth": 0,
              "ticks": ""
             }
            },
            "type": "scattermapbox"
           }
          ],
          "scatterpolar": [
           {
            "marker": {
             "colorbar": {
              "outlinewidth": 0,
              "ticks": ""
             }
            },
            "type": "scatterpolar"
           }
          ],
          "scatterpolargl": [
           {
            "marker": {
             "colorbar": {
              "outlinewidth": 0,
              "ticks": ""
             }
            },
            "type": "scatterpolargl"
           }
          ],
          "scatterternary": [
           {
            "marker": {
             "colorbar": {
              "outlinewidth": 0,
              "ticks": ""
             }
            },
            "type": "scatterternary"
           }
          ],
          "surface": [
           {
            "colorbar": {
             "outlinewidth": 0,
             "ticks": ""
            },
            "colorscale": [
             [
              0,
              "#0d0887"
             ],
             [
              0.1111111111111111,
              "#46039f"
             ],
             [
              0.2222222222222222,
              "#7201a8"
             ],
             [
              0.3333333333333333,
              "#9c179e"
             ],
             [
              0.4444444444444444,
              "#bd3786"
             ],
             [
              0.5555555555555556,
              "#d8576b"
             ],
             [
              0.6666666666666666,
              "#ed7953"
             ],
             [
              0.7777777777777778,
              "#fb9f3a"
             ],
             [
              0.8888888888888888,
              "#fdca26"
             ],
             [
              1,
              "#f0f921"
             ]
            ],
            "type": "surface"
           }
          ],
          "table": [
           {
            "cells": {
             "fill": {
              "color": "#EBF0F8"
             },
             "line": {
              "color": "white"
             }
            },
            "header": {
             "fill": {
              "color": "#C8D4E3"
             },
             "line": {
              "color": "white"
             }
            },
            "type": "table"
           }
          ]
         },
         "layout": {
          "annotationdefaults": {
           "arrowcolor": "#2a3f5f",
           "arrowhead": 0,
           "arrowwidth": 1
          },
          "coloraxis": {
           "colorbar": {
            "outlinewidth": 0,
            "ticks": ""
           }
          },
          "colorscale": {
           "diverging": [
            [
             0,
             "#8e0152"
            ],
            [
             0.1,
             "#c51b7d"
            ],
            [
             0.2,
             "#de77ae"
            ],
            [
             0.3,
             "#f1b6da"
            ],
            [
             0.4,
             "#fde0ef"
            ],
            [
             0.5,
             "#f7f7f7"
            ],
            [
             0.6,
             "#e6f5d0"
            ],
            [
             0.7,
             "#b8e186"
            ],
            [
             0.8,
             "#7fbc41"
            ],
            [
             0.9,
             "#4d9221"
            ],
            [
             1,
             "#276419"
            ]
           ],
           "sequential": [
            [
             0,
             "#0d0887"
            ],
            [
             0.1111111111111111,
             "#46039f"
            ],
            [
             0.2222222222222222,
             "#7201a8"
            ],
            [
             0.3333333333333333,
             "#9c179e"
            ],
            [
             0.4444444444444444,
             "#bd3786"
            ],
            [
             0.5555555555555556,
             "#d8576b"
            ],
            [
             0.6666666666666666,
             "#ed7953"
            ],
            [
             0.7777777777777778,
             "#fb9f3a"
            ],
            [
             0.8888888888888888,
             "#fdca26"
            ],
            [
             1,
             "#f0f921"
            ]
           ],
           "sequentialminus": [
            [
             0,
             "#0d0887"
            ],
            [
             0.1111111111111111,
             "#46039f"
            ],
            [
             0.2222222222222222,
             "#7201a8"
            ],
            [
             0.3333333333333333,
             "#9c179e"
            ],
            [
             0.4444444444444444,
             "#bd3786"
            ],
            [
             0.5555555555555556,
             "#d8576b"
            ],
            [
             0.6666666666666666,
             "#ed7953"
            ],
            [
             0.7777777777777778,
             "#fb9f3a"
            ],
            [
             0.8888888888888888,
             "#fdca26"
            ],
            [
             1,
             "#f0f921"
            ]
           ]
          },
          "colorway": [
           "#636efa",
           "#EF553B",
           "#00cc96",
           "#ab63fa",
           "#FFA15A",
           "#19d3f3",
           "#FF6692",
           "#B6E880",
           "#FF97FF",
           "#FECB52"
          ],
          "font": {
           "color": "#2a3f5f"
          },
          "geo": {
           "bgcolor": "white",
           "lakecolor": "white",
           "landcolor": "#E5ECF6",
           "showlakes": true,
           "showland": true,
           "subunitcolor": "white"
          },
          "hoverlabel": {
           "align": "left"
          },
          "hovermode": "closest",
          "mapbox": {
           "style": "light"
          },
          "paper_bgcolor": "white",
          "plot_bgcolor": "#E5ECF6",
          "polar": {
           "angularaxis": {
            "gridcolor": "white",
            "linecolor": "white",
            "ticks": ""
           },
           "bgcolor": "#E5ECF6",
           "radialaxis": {
            "gridcolor": "white",
            "linecolor": "white",
            "ticks": ""
           }
          },
          "scene": {
           "xaxis": {
            "backgroundcolor": "#E5ECF6",
            "gridcolor": "white",
            "gridwidth": 2,
            "linecolor": "white",
            "showbackground": true,
            "ticks": "",
            "zerolinecolor": "white"
           },
           "yaxis": {
            "backgroundcolor": "#E5ECF6",
            "gridcolor": "white",
            "gridwidth": 2,
            "linecolor": "white",
            "showbackground": true,
            "ticks": "",
            "zerolinecolor": "white"
           },
           "zaxis": {
            "backgroundcolor": "#E5ECF6",
            "gridcolor": "white",
            "gridwidth": 2,
            "linecolor": "white",
            "showbackground": true,
            "ticks": "",
            "zerolinecolor": "white"
           }
          },
          "shapedefaults": {
           "line": {
            "color": "#2a3f5f"
           }
          },
          "ternary": {
           "aaxis": {
            "gridcolor": "white",
            "linecolor": "white",
            "ticks": ""
           },
           "baxis": {
            "gridcolor": "white",
            "linecolor": "white",
            "ticks": ""
           },
           "bgcolor": "#E5ECF6",
           "caxis": {
            "gridcolor": "white",
            "linecolor": "white",
            "ticks": ""
           }
          },
          "title": {
           "x": 0.05
          },
          "xaxis": {
           "automargin": true,
           "gridcolor": "white",
           "linecolor": "white",
           "ticks": "",
           "title": {
            "standoff": 15
           },
           "zerolinecolor": "white",
           "zerolinewidth": 2
          },
          "yaxis": {
           "automargin": true,
           "gridcolor": "white",
           "linecolor": "white",
           "ticks": "",
           "title": {
            "standoff": 15
           },
           "zerolinecolor": "white",
           "zerolinewidth": 2
          }
         }
        },
        "title": {
         "font": {
          "color": "#4D5663"
         }
        },
        "xaxis": {
         "gridcolor": "#E1E5ED",
         "showgrid": true,
         "tickfont": {
          "color": "#4D5663"
         },
         "title": {
          "font": {
           "color": "#4D5663"
          },
          "text": ""
         },
         "zerolinecolor": "#E1E5ED"
        },
        "yaxis": {
         "gridcolor": "#E1E5ED",
         "showgrid": true,
         "tickfont": {
          "color": "#4D5663"
         },
         "title": {
          "font": {
           "color": "#4D5663"
          },
          "text": ""
         },
         "zerolinecolor": "#E1E5ED"
        }
       }
      },
      "text/html": [
       "<div>\n",
       "        \n",
       "        \n",
       "            <div id=\"27155743-a47b-4b25-a3f1-b1b7392635d8\" class=\"plotly-graph-div\" style=\"height:525px; width:100%;\"></div>\n",
       "            <script type=\"text/javascript\">\n",
       "                require([\"plotly\"], function(Plotly) {\n",
       "                    window.PLOTLYENV=window.PLOTLYENV || {};\n",
       "                    window.PLOTLYENV.BASE_URL='https://plot.ly';\n",
       "                    \n",
       "                if (document.getElementById(\"27155743-a47b-4b25-a3f1-b1b7392635d8\")) {\n",
       "                    Plotly.newPlot(\n",
       "                        '27155743-a47b-4b25-a3f1-b1b7392635d8',\n",
       "                        [{\"histfunc\": \"count\", \"histnorm\": \"\", \"marker\": {\"color\": \"rgba(255, 153, 51, 1.0)\", \"line\": {\"color\": \"#4D5663\", \"width\": 1.3}}, \"name\": \"A\", \"opacity\": 0.8, \"orientation\": \"v\", \"type\": \"histogram\", \"x\": [-0.16610363688689225, -0.5521200467561026, -0.32072301689097243, 1.0003003046968628, -2.2516254604791026, -0.6421609543388991, -1.4472099947779882, -0.13620393460167918, -0.5848169421651246, -2.3343121377607203, 0.7045769911864066, 1.5641538767395509, 0.13516072316710592, 0.28401884325871657, 0.19827951682921566, 0.39511130031370845, -1.6845126169011948, 1.7526821145707008, 0.8774483307403921, 0.836157017411292, 0.9576375175548147, 2.327572979958438, -0.09201586219373067, 1.5049485394904945, 0.6137499890871397, -0.23141334285681636, -0.3873137293486683, 0.6665038996871202, 1.3147726106271649, 0.3411166578508544, -0.7313041972309057, 0.6374438673125333, -1.4268863568083, 1.2761838902761153, 0.9224514175204899, 0.5875380186215396, 0.9624380244543723, -0.028387429045422862, -1.7110591691269732, 0.45768060713546815, 0.3325008338888872, -1.751953272398217, 0.3727204316081648, 0.12166865899983588, 0.6526321680965788, -0.07920899553609972, -0.5445207532153917, -1.6105046471915463, -0.2936118804357919, 0.27986148037476366, 1.1034013134894871, -1.9631465840033653, 0.43114100186860127, -1.235857295974943, -1.522723677140059, 1.2174951715447608, 0.19372990695871908, 0.2823849931757263, -0.0731218671022487, 0.7910575601342564, -0.6029356378404177, -1.7185657936649517, -1.1039251574505327, 2.658810831218528, 0.8738864116196249, -0.35572194094378795, 0.2340454597606315, 1.1752802475422055, -2.857194818069491, -2.600189945808657, -1.4129955337744562, 1.5040243218995208, 0.4564891038547735, -1.0928905726727565, 1.0934669671611048, -0.2952153464804887, 0.8512281133013911, -0.6054409722058584, -0.47567754440403875, 0.6482097649869025, 0.6347649736514742, -0.02784922656797839, 0.8386088840498142, -0.5440691092397063, 0.6972768207546788, 0.6093926761521056, -0.06405757550025791, -0.33223152813714046, -0.6681213932531654, -0.5803620221889505, 0.18130261081281787, 0.9588359075234838, 2.2614997061951416, 0.04757386170100405, 0.3322555579091508, 1.323477756176155, 1.0653892403615686, 0.8465770283086058, -0.9181065897100504, 2.1780189252592024]}, {\"histfunc\": \"count\", \"histnorm\": \"\", \"marker\": {\"color\": \"rgba(55, 128, 191, 1.0)\", \"line\": {\"color\": \"#4D5663\", \"width\": 1.3}}, \"name\": \"B\", \"opacity\": 0.8, \"orientation\": \"v\", \"type\": \"histogram\", \"x\": [0.29954851481511197, 0.3460221764914574, -1.4684786291220613, -2.3261076380136574, -0.8560630170935084, -0.2666675002725784, -1.0367178317473178, -0.1641102056865516, 1.293259163731727, -0.8059944250936861, 0.16568334726967576, 0.9238802895778643, -0.2032665907555867, 1.4971275004914129, -0.6110568652907729, 0.2880256480075652, 0.30218628023342814, 0.8151874780879765, 1.962755339156543, -0.04634897285046687, 0.9708911382708385, -2.1803393662632553, -0.758135596494414, 0.14765847037822513, 1.4395399354838565, 1.4652400783624666, 0.27133549685807756, 0.6009887331928555, 0.970003264198216, 2.0923142080688413, 0.28497261904097343, 0.03808232091512796, -0.028460144293740264, -2.875724284445149, 0.1076739686130463, 0.6330099707257212, 1.258254478784425, -1.5150255195577138, -0.17417549664166573, 0.08234847547277795, -1.262136013163713, 1.6480467810562809, 0.6212728629358613, 1.604482318383683, -0.2491181023499222, -0.276987626080192, 0.33503155541675445, -0.38311910251804393, 1.5368983700433583, 0.043550837958556736, 0.11312770593752079, -0.22552084547381376, -0.7342024780377591, 2.002354164469548, -0.3513763370984161, 1.0891939844574783, 0.07742301663804288, 0.1188221678986353, 1.1646519897891336, -0.8672559147206672, 0.0733867650574441, 1.6413026825633483, 1.1875277507898772, 1.5726061764487005, 1.0235143951809598, -1.702807383350166, 0.29512873630470426, -0.665512319607524, -0.06563198708957493, 0.9852227949234997, 0.09416627441366154, -0.34029398342148215, 0.7194906222908173, -0.30538210212909767, 0.7528310074888965, -0.4475454762754745, 0.8652186823730295, -0.8999691204773388, -1.4992660437698153, -0.052600864705378066, 0.9632080553530256, 0.4225227445710723, -0.24976249740389195, 1.3423979730077338, -1.345353752730523, 0.39946146360573226, -1.6935712804020313, -2.3452695240608383, 0.40276261537770885, -1.571628849316674, 0.48374420873834323, 0.49969435110551125, -0.9541923582452546, 0.1236947783406742, 0.4825198504341591, 0.5219508629780577, -0.3946070881703127, -0.23385051002850257, -0.42874338188963346, 0.1255556069572311]}, {\"histfunc\": \"count\", \"histnorm\": \"\", \"marker\": {\"color\": \"rgba(50, 171, 96, 1.0)\", \"line\": {\"color\": \"#4D5663\", \"width\": 1.3}}, \"name\": \"C\", \"opacity\": 0.8, \"orientation\": \"v\", \"type\": \"histogram\", \"x\": [-0.5315840370366359, 0.16173480123695258, -1.526931646395053, 0.997242377656304, -0.6127806736114583, -0.6076059681446834, 0.9332689822793767, 0.43980921807417905, -0.30645413079830275, 1.2458900691984305, -0.6957604554918259, -2.092519940530778, -1.1661682788766983, 0.255104624978084, 1.647807662409371, 0.5210976514116537, -0.6921604664135697, 1.1326329108282753, 1.4451776734049617, 0.8298433807264687, 0.4444683646939226, -1.0055185800887931, -0.29283304255519654, 0.1419455052444596, 1.3737548124341294, 1.0508543291204706, 0.9498801490995556, -0.7404455862246961, -0.5255421947954927, 0.916744385874406, -0.15103187217024516, 0.5861150822660647, -0.7158396205909382, -0.1273319266696649, -0.7246719193641897, 0.9876656227614199, -1.0367306921332464, 0.5748044139773494, 0.47094928557209303, 1.2748763029158383, 1.2610811112584115, 0.11994002331706101, -1.1081761068456302, 1.238951702663481, -1.2115485857662953, 1.4136657090476943, 0.8990156778106935, 0.2035998460939371, 0.24441159592290304, -0.6704548425930102, 0.06729811289849236, 1.571230006517233, 0.4984922830017379, -1.201580984442513, -0.9073513360400925, 0.9516530885677701, -1.2492922098024595, -0.0220801543063839, -2.376519762207996, 0.5068377026671349, -0.518852160856346, 0.8791920492250621, -0.95472187389494, 0.9829015150187494, 0.9083135037895894, -0.9876265347804443, 0.7237661118721117, -0.21998847029808358, 0.35479816545788034, -0.40174861511152066, 0.17975264352827378, 1.1137170160456207, -0.8397472638663248, -1.9543663324006089, -0.2393839379965726, 1.9339191759410028, -0.43836892333319577, 0.3344786325862197, 0.4088563144914219, -2.0170863656846425, 0.2201840809385637, 1.1951916010784036, -0.6354650735287152, -0.4786980038378098, 0.18538761734860001, -0.07703052731169485, -0.5655311347569333, 0.658303520645014, -1.0372927454566931, 0.8686836229086838, 0.7496460470741813, 0.6701395151186833, -0.2584094090099108, 0.3084423241551389, -0.866881539195583, 1.532050241828174, -0.6469809777305825, 0.7602948416168382, 0.6279171380651485, -1.9277658721404594]}, {\"histfunc\": \"count\", \"histnorm\": \"\", \"marker\": {\"color\": \"rgba(128, 0, 128, 1.0)\", \"line\": {\"color\": \"#4D5663\", \"width\": 1.3}}, \"name\": \"D\", \"opacity\": 0.8, \"orientation\": \"v\", \"type\": \"histogram\", \"x\": [-1.6578640708999872, -0.7649732642850833, 1.6197165520401355, 0.6948518600793145, 0.3235947195993021, -0.678889379260725, -0.3361775580924587, -1.4545876441784986, 0.023108673045135805, 0.5101867595881933, 1.708817025073502, -0.8869842616981806, 0.20099256959195583, -1.722319649440159, -0.2740622325464014, -0.36376477466003626, 0.2954422790986494, 0.2664542364691161, 0.4594637388616335, 1.8204605625865262, 0.21517302849203657, 0.9821691075688679, -1.2860083169738288, -0.305990641431503, -1.5308193358988362, 1.5291123841765684, 2.5001498653262813, 0.48181901324010806, 0.6056507504098625, 0.20520138555661727, 0.673657045336006, -0.14473040107917046, 0.0018126574021694651, -0.4055122774768075, -0.1892016009524528, -1.0694261273493544, -0.08101890974558021, -0.3121409698055496, -1.2273820110274363, 1.9758580909333334, 2.3135419287863512, 0.14511856919593644, 0.24653537785366716, 0.07410886277200507, -1.1125930858431627, -1.62096345722258, 0.12113841093134217, 0.3449923788579843, -1.165854220228875, 0.4111965624026121, -0.521758461920156, -1.3467282660705224, -1.3464976477819253, -0.1334108039228377, -0.4131158052454607, -1.1849525526202902, -2.561228768562345, 0.5085899679495604, 0.17624310987041292, 1.519344047572039, 0.6664329635293371, 0.006206355267497318, 0.6192004542379782, -2.1701074059369043, 1.3628884551809142, 0.2629358007957257, 1.7180376557384016, -0.12635718606915208, 0.9603413318049445, -1.6294383721721726, 2.3505547290119964, -1.7138265283773322, -1.7051456933294868, -1.2121786070604732, -0.8909519968250951, -0.8693751607222012, -2.8367209669440276, 1.6272482826606223, -1.7531272081001894, -1.1979630187813524, -0.5948510747913349, 1.1767443139944396, -0.19532606887327594, 1.262050591898131, 1.3038905730529844, -0.3518918170124171, -0.8458549646081417, -0.6645952048914188, -0.9670835527418234, -0.2249632861563061, -1.0738182939561671, -1.8601889573189312, 1.0610754934161017, 0.0010197261376331136, -0.006516285865091261, -1.3713686380602395, 0.3124415434049576, 1.0396442819329668, -0.7238815516848321, -0.48597617377374]}],\n",
       "                        {\"barmode\": \"overlay\", \"legend\": {\"bgcolor\": \"#F5F6F9\", \"font\": {\"color\": \"#4D5663\"}}, \"paper_bgcolor\": \"#F5F6F9\", \"plot_bgcolor\": \"#F5F6F9\", \"template\": {\"data\": {\"bar\": [{\"error_x\": {\"color\": \"#2a3f5f\"}, \"error_y\": {\"color\": \"#2a3f5f\"}, \"marker\": {\"line\": {\"color\": \"#E5ECF6\", \"width\": 0.5}}, \"type\": \"bar\"}], \"barpolar\": [{\"marker\": {\"line\": {\"color\": \"#E5ECF6\", \"width\": 0.5}}, \"type\": \"barpolar\"}], \"carpet\": [{\"aaxis\": {\"endlinecolor\": \"#2a3f5f\", \"gridcolor\": \"white\", \"linecolor\": \"white\", \"minorgridcolor\": \"white\", \"startlinecolor\": \"#2a3f5f\"}, \"baxis\": {\"endlinecolor\": \"#2a3f5f\", \"gridcolor\": \"white\", \"linecolor\": \"white\", \"minorgridcolor\": \"white\", \"startlinecolor\": \"#2a3f5f\"}, \"type\": \"carpet\"}], \"choropleth\": [{\"colorbar\": {\"outlinewidth\": 0, \"ticks\": \"\"}, \"type\": \"choropleth\"}], \"contour\": [{\"colorbar\": {\"outlinewidth\": 0, \"ticks\": \"\"}, \"colorscale\": [[0.0, \"#0d0887\"], [0.1111111111111111, \"#46039f\"], [0.2222222222222222, \"#7201a8\"], [0.3333333333333333, \"#9c179e\"], [0.4444444444444444, \"#bd3786\"], [0.5555555555555556, \"#d8576b\"], [0.6666666666666666, \"#ed7953\"], [0.7777777777777778, \"#fb9f3a\"], [0.8888888888888888, \"#fdca26\"], [1.0, \"#f0f921\"]], \"type\": \"contour\"}], \"contourcarpet\": [{\"colorbar\": {\"outlinewidth\": 0, \"ticks\": \"\"}, \"type\": \"contourcarpet\"}], \"heatmap\": [{\"colorbar\": {\"outlinewidth\": 0, \"ticks\": \"\"}, \"colorscale\": [[0.0, \"#0d0887\"], [0.1111111111111111, \"#46039f\"], [0.2222222222222222, \"#7201a8\"], [0.3333333333333333, \"#9c179e\"], [0.4444444444444444, \"#bd3786\"], [0.5555555555555556, \"#d8576b\"], [0.6666666666666666, \"#ed7953\"], [0.7777777777777778, \"#fb9f3a\"], [0.8888888888888888, \"#fdca26\"], [1.0, \"#f0f921\"]], \"type\": \"heatmap\"}], \"heatmapgl\": [{\"colorbar\": {\"outlinewidth\": 0, \"ticks\": \"\"}, \"colorscale\": [[0.0, \"#0d0887\"], [0.1111111111111111, \"#46039f\"], [0.2222222222222222, \"#7201a8\"], [0.3333333333333333, \"#9c179e\"], [0.4444444444444444, \"#bd3786\"], [0.5555555555555556, \"#d8576b\"], [0.6666666666666666, \"#ed7953\"], [0.7777777777777778, \"#fb9f3a\"], [0.8888888888888888, \"#fdca26\"], [1.0, \"#f0f921\"]], \"type\": \"heatmapgl\"}], \"histogram\": [{\"marker\": {\"colorbar\": {\"outlinewidth\": 0, \"ticks\": \"\"}}, \"type\": \"histogram\"}], \"histogram2d\": [{\"colorbar\": {\"outlinewidth\": 0, \"ticks\": \"\"}, \"colorscale\": [[0.0, \"#0d0887\"], [0.1111111111111111, \"#46039f\"], [0.2222222222222222, \"#7201a8\"], [0.3333333333333333, \"#9c179e\"], [0.4444444444444444, \"#bd3786\"], [0.5555555555555556, \"#d8576b\"], [0.6666666666666666, \"#ed7953\"], [0.7777777777777778, \"#fb9f3a\"], [0.8888888888888888, \"#fdca26\"], [1.0, \"#f0f921\"]], \"type\": \"histogram2d\"}], \"histogram2dcontour\": [{\"colorbar\": {\"outlinewidth\": 0, \"ticks\": \"\"}, \"colorscale\": [[0.0, \"#0d0887\"], [0.1111111111111111, \"#46039f\"], [0.2222222222222222, \"#7201a8\"], [0.3333333333333333, \"#9c179e\"], [0.4444444444444444, \"#bd3786\"], [0.5555555555555556, \"#d8576b\"], [0.6666666666666666, \"#ed7953\"], [0.7777777777777778, \"#fb9f3a\"], [0.8888888888888888, \"#fdca26\"], [1.0, \"#f0f921\"]], \"type\": \"histogram2dcontour\"}], \"mesh3d\": [{\"colorbar\": {\"outlinewidth\": 0, \"ticks\": \"\"}, \"type\": \"mesh3d\"}], \"parcoords\": [{\"line\": {\"colorbar\": {\"outlinewidth\": 0, \"ticks\": \"\"}}, \"type\": \"parcoords\"}], \"pie\": [{\"automargin\": true, \"type\": \"pie\"}], \"scatter\": [{\"marker\": {\"colorbar\": {\"outlinewidth\": 0, \"ticks\": \"\"}}, \"type\": \"scatter\"}], \"scatter3d\": [{\"line\": {\"colorbar\": {\"outlinewidth\": 0, \"ticks\": \"\"}}, \"marker\": {\"colorbar\": {\"outlinewidth\": 0, \"ticks\": \"\"}}, \"type\": \"scatter3d\"}], \"scattercarpet\": [{\"marker\": {\"colorbar\": {\"outlinewidth\": 0, \"ticks\": \"\"}}, \"type\": \"scattercarpet\"}], \"scattergeo\": [{\"marker\": {\"colorbar\": {\"outlinewidth\": 0, \"ticks\": \"\"}}, \"type\": \"scattergeo\"}], \"scattergl\": [{\"marker\": {\"colorbar\": {\"outlinewidth\": 0, \"ticks\": \"\"}}, \"type\": \"scattergl\"}], \"scattermapbox\": [{\"marker\": {\"colorbar\": {\"outlinewidth\": 0, \"ticks\": \"\"}}, \"type\": \"scattermapbox\"}], \"scatterpolar\": [{\"marker\": {\"colorbar\": {\"outlinewidth\": 0, \"ticks\": \"\"}}, \"type\": \"scatterpolar\"}], \"scatterpolargl\": [{\"marker\": {\"colorbar\": {\"outlinewidth\": 0, \"ticks\": \"\"}}, \"type\": \"scatterpolargl\"}], \"scatterternary\": [{\"marker\": {\"colorbar\": {\"outlinewidth\": 0, \"ticks\": \"\"}}, \"type\": \"scatterternary\"}], \"surface\": [{\"colorbar\": {\"outlinewidth\": 0, \"ticks\": \"\"}, \"colorscale\": [[0.0, \"#0d0887\"], [0.1111111111111111, \"#46039f\"], [0.2222222222222222, \"#7201a8\"], [0.3333333333333333, \"#9c179e\"], [0.4444444444444444, \"#bd3786\"], [0.5555555555555556, \"#d8576b\"], [0.6666666666666666, \"#ed7953\"], [0.7777777777777778, \"#fb9f3a\"], [0.8888888888888888, \"#fdca26\"], [1.0, \"#f0f921\"]], \"type\": \"surface\"}], \"table\": [{\"cells\": {\"fill\": {\"color\": \"#EBF0F8\"}, \"line\": {\"color\": \"white\"}}, \"header\": {\"fill\": {\"color\": \"#C8D4E3\"}, \"line\": {\"color\": \"white\"}}, \"type\": \"table\"}]}, \"layout\": {\"annotationdefaults\": {\"arrowcolor\": \"#2a3f5f\", \"arrowhead\": 0, \"arrowwidth\": 1}, \"coloraxis\": {\"colorbar\": {\"outlinewidth\": 0, \"ticks\": \"\"}}, \"colorscale\": {\"diverging\": [[0, \"#8e0152\"], [0.1, \"#c51b7d\"], [0.2, \"#de77ae\"], [0.3, \"#f1b6da\"], [0.4, \"#fde0ef\"], [0.5, \"#f7f7f7\"], [0.6, \"#e6f5d0\"], [0.7, \"#b8e186\"], [0.8, \"#7fbc41\"], [0.9, \"#4d9221\"], [1, \"#276419\"]], \"sequential\": [[0.0, \"#0d0887\"], [0.1111111111111111, \"#46039f\"], [0.2222222222222222, \"#7201a8\"], [0.3333333333333333, \"#9c179e\"], [0.4444444444444444, \"#bd3786\"], [0.5555555555555556, \"#d8576b\"], [0.6666666666666666, \"#ed7953\"], [0.7777777777777778, \"#fb9f3a\"], [0.8888888888888888, \"#fdca26\"], [1.0, \"#f0f921\"]], \"sequentialminus\": [[0.0, \"#0d0887\"], [0.1111111111111111, \"#46039f\"], [0.2222222222222222, \"#7201a8\"], [0.3333333333333333, \"#9c179e\"], [0.4444444444444444, \"#bd3786\"], [0.5555555555555556, \"#d8576b\"], [0.6666666666666666, \"#ed7953\"], [0.7777777777777778, \"#fb9f3a\"], [0.8888888888888888, \"#fdca26\"], [1.0, \"#f0f921\"]]}, \"colorway\": [\"#636efa\", \"#EF553B\", \"#00cc96\", \"#ab63fa\", \"#FFA15A\", \"#19d3f3\", \"#FF6692\", \"#B6E880\", \"#FF97FF\", \"#FECB52\"], \"font\": {\"color\": \"#2a3f5f\"}, \"geo\": {\"bgcolor\": \"white\", \"lakecolor\": \"white\", \"landcolor\": \"#E5ECF6\", \"showlakes\": true, \"showland\": true, \"subunitcolor\": \"white\"}, \"hoverlabel\": {\"align\": \"left\"}, \"hovermode\": \"closest\", \"mapbox\": {\"style\": \"light\"}, \"paper_bgcolor\": \"white\", \"plot_bgcolor\": \"#E5ECF6\", \"polar\": {\"angularaxis\": {\"gridcolor\": \"white\", \"linecolor\": \"white\", \"ticks\": \"\"}, \"bgcolor\": \"#E5ECF6\", \"radialaxis\": {\"gridcolor\": \"white\", \"linecolor\": \"white\", \"ticks\": \"\"}}, \"scene\": {\"xaxis\": {\"backgroundcolor\": \"#E5ECF6\", \"gridcolor\": \"white\", \"gridwidth\": 2, \"linecolor\": \"white\", \"showbackground\": true, \"ticks\": \"\", \"zerolinecolor\": \"white\"}, \"yaxis\": {\"backgroundcolor\": \"#E5ECF6\", \"gridcolor\": \"white\", \"gridwidth\": 2, \"linecolor\": \"white\", \"showbackground\": true, \"ticks\": \"\", \"zerolinecolor\": \"white\"}, \"zaxis\": {\"backgroundcolor\": \"#E5ECF6\", \"gridcolor\": \"white\", \"gridwidth\": 2, \"linecolor\": \"white\", \"showbackground\": true, \"ticks\": \"\", \"zerolinecolor\": \"white\"}}, \"shapedefaults\": {\"line\": {\"color\": \"#2a3f5f\"}}, \"ternary\": {\"aaxis\": {\"gridcolor\": \"white\", \"linecolor\": \"white\", \"ticks\": \"\"}, \"baxis\": {\"gridcolor\": \"white\", \"linecolor\": \"white\", \"ticks\": \"\"}, \"bgcolor\": \"#E5ECF6\", \"caxis\": {\"gridcolor\": \"white\", \"linecolor\": \"white\", \"ticks\": \"\"}}, \"title\": {\"x\": 0.05}, \"xaxis\": {\"automargin\": true, \"gridcolor\": \"white\", \"linecolor\": \"white\", \"ticks\": \"\", \"title\": {\"standoff\": 15}, \"zerolinecolor\": \"white\", \"zerolinewidth\": 2}, \"yaxis\": {\"automargin\": true, \"gridcolor\": \"white\", \"linecolor\": \"white\", \"ticks\": \"\", \"title\": {\"standoff\": 15}, \"zerolinecolor\": \"white\", \"zerolinewidth\": 2}}}, \"title\": {\"font\": {\"color\": \"#4D5663\"}}, \"xaxis\": {\"gridcolor\": \"#E1E5ED\", \"showgrid\": true, \"tickfont\": {\"color\": \"#4D5663\"}, \"title\": {\"font\": {\"color\": \"#4D5663\"}, \"text\": \"\"}, \"zerolinecolor\": \"#E1E5ED\"}, \"yaxis\": {\"gridcolor\": \"#E1E5ED\", \"showgrid\": true, \"tickfont\": {\"color\": \"#4D5663\"}, \"title\": {\"font\": {\"color\": \"#4D5663\"}, \"text\": \"\"}, \"zerolinecolor\": \"#E1E5ED\"}},\n",
       "                        {\"showLink\": true, \"linkText\": \"Export to plot.ly\", \"plotlyServerURL\": \"https://plot.ly\", \"responsive\": true}\n",
       "                    ).then(function(){\n",
       "                            \n",
       "var gd = document.getElementById('27155743-a47b-4b25-a3f1-b1b7392635d8');\n",
       "var x = new MutationObserver(function (mutations, observer) {{\n",
       "        var display = window.getComputedStyle(gd).display;\n",
       "        if (!display || display === 'none') {{\n",
       "            console.log([gd, 'removed!']);\n",
       "            Plotly.purge(gd);\n",
       "            observer.disconnect();\n",
       "        }}\n",
       "}});\n",
       "\n",
       "// Listen for the removal of the full notebook cells\n",
       "var notebookContainer = gd.closest('#notebook-container');\n",
       "if (notebookContainer) {{\n",
       "    x.observe(notebookContainer, {childList: true});\n",
       "}}\n",
       "\n",
       "// Listen for the clearing of the current output cell\n",
       "var outputEl = gd.closest('.output');\n",
       "if (outputEl) {{\n",
       "    x.observe(outputEl, {childList: true});\n",
       "}}\n",
       "\n",
       "                        })\n",
       "                };\n",
       "                });\n",
       "            </script>\n",
       "        </div>"
      ]
     },
     "metadata": {},
     "output_type": "display_data"
    }
   ],
   "source": [
    "df.iplot(kind='hist')"
   ]
  },
  {
   "cell_type": "code",
   "execution_count": 27,
   "metadata": {},
   "outputs": [
    {
     "data": {
      "application/vnd.plotly.v1+json": {
       "config": {
        "linkText": "Export to plot.ly",
        "plotlyServerURL": "https://plot.ly",
        "showLink": true
       },
       "data": [
        {
         "histfunc": "count",
         "histnorm": "",
         "marker": {
          "color": "rgba(219, 64, 82, 1.0)",
          "line": {
           "color": "#4D5663",
           "width": 1.3
          }
         },
         "name": "A",
         "nbinsx": 25,
         "opacity": 0.8,
         "orientation": "v",
         "type": "histogram",
         "x": [
          -0.16610363688689225,
          -0.5521200467561026,
          -0.32072301689097243,
          1.0003003046968628,
          -2.2516254604791026,
          -0.6421609543388991,
          -1.4472099947779882,
          -0.13620393460167918,
          -0.5848169421651246,
          -2.3343121377607203,
          0.7045769911864066,
          1.5641538767395509,
          0.13516072316710592,
          0.28401884325871657,
          0.19827951682921566,
          0.39511130031370845,
          -1.6845126169011948,
          1.7526821145707008,
          0.8774483307403921,
          0.836157017411292,
          0.9576375175548147,
          2.327572979958438,
          -0.09201586219373067,
          1.5049485394904945,
          0.6137499890871397,
          -0.23141334285681636,
          -0.3873137293486683,
          0.6665038996871202,
          1.3147726106271649,
          0.3411166578508544,
          -0.7313041972309057,
          0.6374438673125333,
          -1.4268863568083,
          1.2761838902761153,
          0.9224514175204899,
          0.5875380186215396,
          0.9624380244543723,
          -0.028387429045422862,
          -1.7110591691269732,
          0.45768060713546815,
          0.3325008338888872,
          -1.751953272398217,
          0.3727204316081648,
          0.12166865899983588,
          0.6526321680965788,
          -0.07920899553609972,
          -0.5445207532153917,
          -1.6105046471915463,
          -0.2936118804357919,
          0.27986148037476366,
          1.1034013134894871,
          -1.9631465840033653,
          0.43114100186860127,
          -1.235857295974943,
          -1.522723677140059,
          1.2174951715447608,
          0.19372990695871908,
          0.2823849931757263,
          -0.0731218671022487,
          0.7910575601342564,
          -0.6029356378404177,
          -1.7185657936649517,
          -1.1039251574505327,
          2.658810831218528,
          0.8738864116196249,
          -0.35572194094378795,
          0.2340454597606315,
          1.1752802475422055,
          -2.857194818069491,
          -2.600189945808657,
          -1.4129955337744562,
          1.5040243218995208,
          0.4564891038547735,
          -1.0928905726727565,
          1.0934669671611048,
          -0.2952153464804887,
          0.8512281133013911,
          -0.6054409722058584,
          -0.47567754440403875,
          0.6482097649869025,
          0.6347649736514742,
          -0.02784922656797839,
          0.8386088840498142,
          -0.5440691092397063,
          0.6972768207546788,
          0.6093926761521056,
          -0.06405757550025791,
          -0.33223152813714046,
          -0.6681213932531654,
          -0.5803620221889505,
          0.18130261081281787,
          0.9588359075234838,
          2.2614997061951416,
          0.04757386170100405,
          0.3322555579091508,
          1.323477756176155,
          1.0653892403615686,
          0.8465770283086058,
          -0.9181065897100504,
          2.1780189252592024
         ]
        }
       ],
       "layout": {
        "barmode": "overlay",
        "legend": {
         "bgcolor": "#F5F6F9",
         "font": {
          "color": "#4D5663"
         }
        },
        "paper_bgcolor": "#F5F6F9",
        "plot_bgcolor": "#F5F6F9",
        "template": {
         "data": {
          "bar": [
           {
            "error_x": {
             "color": "#2a3f5f"
            },
            "error_y": {
             "color": "#2a3f5f"
            },
            "marker": {
             "line": {
              "color": "#E5ECF6",
              "width": 0.5
             }
            },
            "type": "bar"
           }
          ],
          "barpolar": [
           {
            "marker": {
             "line": {
              "color": "#E5ECF6",
              "width": 0.5
             }
            },
            "type": "barpolar"
           }
          ],
          "carpet": [
           {
            "aaxis": {
             "endlinecolor": "#2a3f5f",
             "gridcolor": "white",
             "linecolor": "white",
             "minorgridcolor": "white",
             "startlinecolor": "#2a3f5f"
            },
            "baxis": {
             "endlinecolor": "#2a3f5f",
             "gridcolor": "white",
             "linecolor": "white",
             "minorgridcolor": "white",
             "startlinecolor": "#2a3f5f"
            },
            "type": "carpet"
           }
          ],
          "choropleth": [
           {
            "colorbar": {
             "outlinewidth": 0,
             "ticks": ""
            },
            "type": "choropleth"
           }
          ],
          "contour": [
           {
            "colorbar": {
             "outlinewidth": 0,
             "ticks": ""
            },
            "colorscale": [
             [
              0,
              "#0d0887"
             ],
             [
              0.1111111111111111,
              "#46039f"
             ],
             [
              0.2222222222222222,
              "#7201a8"
             ],
             [
              0.3333333333333333,
              "#9c179e"
             ],
             [
              0.4444444444444444,
              "#bd3786"
             ],
             [
              0.5555555555555556,
              "#d8576b"
             ],
             [
              0.6666666666666666,
              "#ed7953"
             ],
             [
              0.7777777777777778,
              "#fb9f3a"
             ],
             [
              0.8888888888888888,
              "#fdca26"
             ],
             [
              1,
              "#f0f921"
             ]
            ],
            "type": "contour"
           }
          ],
          "contourcarpet": [
           {
            "colorbar": {
             "outlinewidth": 0,
             "ticks": ""
            },
            "type": "contourcarpet"
           }
          ],
          "heatmap": [
           {
            "colorbar": {
             "outlinewidth": 0,
             "ticks": ""
            },
            "colorscale": [
             [
              0,
              "#0d0887"
             ],
             [
              0.1111111111111111,
              "#46039f"
             ],
             [
              0.2222222222222222,
              "#7201a8"
             ],
             [
              0.3333333333333333,
              "#9c179e"
             ],
             [
              0.4444444444444444,
              "#bd3786"
             ],
             [
              0.5555555555555556,
              "#d8576b"
             ],
             [
              0.6666666666666666,
              "#ed7953"
             ],
             [
              0.7777777777777778,
              "#fb9f3a"
             ],
             [
              0.8888888888888888,
              "#fdca26"
             ],
             [
              1,
              "#f0f921"
             ]
            ],
            "type": "heatmap"
           }
          ],
          "heatmapgl": [
           {
            "colorbar": {
             "outlinewidth": 0,
             "ticks": ""
            },
            "colorscale": [
             [
              0,
              "#0d0887"
             ],
             [
              0.1111111111111111,
              "#46039f"
             ],
             [
              0.2222222222222222,
              "#7201a8"
             ],
             [
              0.3333333333333333,
              "#9c179e"
             ],
             [
              0.4444444444444444,
              "#bd3786"
             ],
             [
              0.5555555555555556,
              "#d8576b"
             ],
             [
              0.6666666666666666,
              "#ed7953"
             ],
             [
              0.7777777777777778,
              "#fb9f3a"
             ],
             [
              0.8888888888888888,
              "#fdca26"
             ],
             [
              1,
              "#f0f921"
             ]
            ],
            "type": "heatmapgl"
           }
          ],
          "histogram": [
           {
            "marker": {
             "colorbar": {
              "outlinewidth": 0,
              "ticks": ""
             }
            },
            "type": "histogram"
           }
          ],
          "histogram2d": [
           {
            "colorbar": {
             "outlinewidth": 0,
             "ticks": ""
            },
            "colorscale": [
             [
              0,
              "#0d0887"
             ],
             [
              0.1111111111111111,
              "#46039f"
             ],
             [
              0.2222222222222222,
              "#7201a8"
             ],
             [
              0.3333333333333333,
              "#9c179e"
             ],
             [
              0.4444444444444444,
              "#bd3786"
             ],
             [
              0.5555555555555556,
              "#d8576b"
             ],
             [
              0.6666666666666666,
              "#ed7953"
             ],
             [
              0.7777777777777778,
              "#fb9f3a"
             ],
             [
              0.8888888888888888,
              "#fdca26"
             ],
             [
              1,
              "#f0f921"
             ]
            ],
            "type": "histogram2d"
           }
          ],
          "histogram2dcontour": [
           {
            "colorbar": {
             "outlinewidth": 0,
             "ticks": ""
            },
            "colorscale": [
             [
              0,
              "#0d0887"
             ],
             [
              0.1111111111111111,
              "#46039f"
             ],
             [
              0.2222222222222222,
              "#7201a8"
             ],
             [
              0.3333333333333333,
              "#9c179e"
             ],
             [
              0.4444444444444444,
              "#bd3786"
             ],
             [
              0.5555555555555556,
              "#d8576b"
             ],
             [
              0.6666666666666666,
              "#ed7953"
             ],
             [
              0.7777777777777778,
              "#fb9f3a"
             ],
             [
              0.8888888888888888,
              "#fdca26"
             ],
             [
              1,
              "#f0f921"
             ]
            ],
            "type": "histogram2dcontour"
           }
          ],
          "mesh3d": [
           {
            "colorbar": {
             "outlinewidth": 0,
             "ticks": ""
            },
            "type": "mesh3d"
           }
          ],
          "parcoords": [
           {
            "line": {
             "colorbar": {
              "outlinewidth": 0,
              "ticks": ""
             }
            },
            "type": "parcoords"
           }
          ],
          "pie": [
           {
            "automargin": true,
            "type": "pie"
           }
          ],
          "scatter": [
           {
            "marker": {
             "colorbar": {
              "outlinewidth": 0,
              "ticks": ""
             }
            },
            "type": "scatter"
           }
          ],
          "scatter3d": [
           {
            "line": {
             "colorbar": {
              "outlinewidth": 0,
              "ticks": ""
             }
            },
            "marker": {
             "colorbar": {
              "outlinewidth": 0,
              "ticks": ""
             }
            },
            "type": "scatter3d"
           }
          ],
          "scattercarpet": [
           {
            "marker": {
             "colorbar": {
              "outlinewidth": 0,
              "ticks": ""
             }
            },
            "type": "scattercarpet"
           }
          ],
          "scattergeo": [
           {
            "marker": {
             "colorbar": {
              "outlinewidth": 0,
              "ticks": ""
             }
            },
            "type": "scattergeo"
           }
          ],
          "scattergl": [
           {
            "marker": {
             "colorbar": {
              "outlinewidth": 0,
              "ticks": ""
             }
            },
            "type": "scattergl"
           }
          ],
          "scattermapbox": [
           {
            "marker": {
             "colorbar": {
              "outlinewidth": 0,
              "ticks": ""
             }
            },
            "type": "scattermapbox"
           }
          ],
          "scatterpolar": [
           {
            "marker": {
             "colorbar": {
              "outlinewidth": 0,
              "ticks": ""
             }
            },
            "type": "scatterpolar"
           }
          ],
          "scatterpolargl": [
           {
            "marker": {
             "colorbar": {
              "outlinewidth": 0,
              "ticks": ""
             }
            },
            "type": "scatterpolargl"
           }
          ],
          "scatterternary": [
           {
            "marker": {
             "colorbar": {
              "outlinewidth": 0,
              "ticks": ""
             }
            },
            "type": "scatterternary"
           }
          ],
          "surface": [
           {
            "colorbar": {
             "outlinewidth": 0,
             "ticks": ""
            },
            "colorscale": [
             [
              0,
              "#0d0887"
             ],
             [
              0.1111111111111111,
              "#46039f"
             ],
             [
              0.2222222222222222,
              "#7201a8"
             ],
             [
              0.3333333333333333,
              "#9c179e"
             ],
             [
              0.4444444444444444,
              "#bd3786"
             ],
             [
              0.5555555555555556,
              "#d8576b"
             ],
             [
              0.6666666666666666,
              "#ed7953"
             ],
             [
              0.7777777777777778,
              "#fb9f3a"
             ],
             [
              0.8888888888888888,
              "#fdca26"
             ],
             [
              1,
              "#f0f921"
             ]
            ],
            "type": "surface"
           }
          ],
          "table": [
           {
            "cells": {
             "fill": {
              "color": "#EBF0F8"
             },
             "line": {
              "color": "white"
             }
            },
            "header": {
             "fill": {
              "color": "#C8D4E3"
             },
             "line": {
              "color": "white"
             }
            },
            "type": "table"
           }
          ]
         },
         "layout": {
          "annotationdefaults": {
           "arrowcolor": "#2a3f5f",
           "arrowhead": 0,
           "arrowwidth": 1
          },
          "coloraxis": {
           "colorbar": {
            "outlinewidth": 0,
            "ticks": ""
           }
          },
          "colorscale": {
           "diverging": [
            [
             0,
             "#8e0152"
            ],
            [
             0.1,
             "#c51b7d"
            ],
            [
             0.2,
             "#de77ae"
            ],
            [
             0.3,
             "#f1b6da"
            ],
            [
             0.4,
             "#fde0ef"
            ],
            [
             0.5,
             "#f7f7f7"
            ],
            [
             0.6,
             "#e6f5d0"
            ],
            [
             0.7,
             "#b8e186"
            ],
            [
             0.8,
             "#7fbc41"
            ],
            [
             0.9,
             "#4d9221"
            ],
            [
             1,
             "#276419"
            ]
           ],
           "sequential": [
            [
             0,
             "#0d0887"
            ],
            [
             0.1111111111111111,
             "#46039f"
            ],
            [
             0.2222222222222222,
             "#7201a8"
            ],
            [
             0.3333333333333333,
             "#9c179e"
            ],
            [
             0.4444444444444444,
             "#bd3786"
            ],
            [
             0.5555555555555556,
             "#d8576b"
            ],
            [
             0.6666666666666666,
             "#ed7953"
            ],
            [
             0.7777777777777778,
             "#fb9f3a"
            ],
            [
             0.8888888888888888,
             "#fdca26"
            ],
            [
             1,
             "#f0f921"
            ]
           ],
           "sequentialminus": [
            [
             0,
             "#0d0887"
            ],
            [
             0.1111111111111111,
             "#46039f"
            ],
            [
             0.2222222222222222,
             "#7201a8"
            ],
            [
             0.3333333333333333,
             "#9c179e"
            ],
            [
             0.4444444444444444,
             "#bd3786"
            ],
            [
             0.5555555555555556,
             "#d8576b"
            ],
            [
             0.6666666666666666,
             "#ed7953"
            ],
            [
             0.7777777777777778,
             "#fb9f3a"
            ],
            [
             0.8888888888888888,
             "#fdca26"
            ],
            [
             1,
             "#f0f921"
            ]
           ]
          },
          "colorway": [
           "#636efa",
           "#EF553B",
           "#00cc96",
           "#ab63fa",
           "#FFA15A",
           "#19d3f3",
           "#FF6692",
           "#B6E880",
           "#FF97FF",
           "#FECB52"
          ],
          "font": {
           "color": "#2a3f5f"
          },
          "geo": {
           "bgcolor": "white",
           "lakecolor": "white",
           "landcolor": "#E5ECF6",
           "showlakes": true,
           "showland": true,
           "subunitcolor": "white"
          },
          "hoverlabel": {
           "align": "left"
          },
          "hovermode": "closest",
          "mapbox": {
           "style": "light"
          },
          "paper_bgcolor": "white",
          "plot_bgcolor": "#E5ECF6",
          "polar": {
           "angularaxis": {
            "gridcolor": "white",
            "linecolor": "white",
            "ticks": ""
           },
           "bgcolor": "#E5ECF6",
           "radialaxis": {
            "gridcolor": "white",
            "linecolor": "white",
            "ticks": ""
           }
          },
          "scene": {
           "xaxis": {
            "backgroundcolor": "#E5ECF6",
            "gridcolor": "white",
            "gridwidth": 2,
            "linecolor": "white",
            "showbackground": true,
            "ticks": "",
            "zerolinecolor": "white"
           },
           "yaxis": {
            "backgroundcolor": "#E5ECF6",
            "gridcolor": "white",
            "gridwidth": 2,
            "linecolor": "white",
            "showbackground": true,
            "ticks": "",
            "zerolinecolor": "white"
           },
           "zaxis": {
            "backgroundcolor": "#E5ECF6",
            "gridcolor": "white",
            "gridwidth": 2,
            "linecolor": "white",
            "showbackground": true,
            "ticks": "",
            "zerolinecolor": "white"
           }
          },
          "shapedefaults": {
           "line": {
            "color": "#2a3f5f"
           }
          },
          "ternary": {
           "aaxis": {
            "gridcolor": "white",
            "linecolor": "white",
            "ticks": ""
           },
           "baxis": {
            "gridcolor": "white",
            "linecolor": "white",
            "ticks": ""
           },
           "bgcolor": "#E5ECF6",
           "caxis": {
            "gridcolor": "white",
            "linecolor": "white",
            "ticks": ""
           }
          },
          "title": {
           "x": 0.05
          },
          "xaxis": {
           "automargin": true,
           "gridcolor": "white",
           "linecolor": "white",
           "ticks": "",
           "title": {
            "standoff": 15
           },
           "zerolinecolor": "white",
           "zerolinewidth": 2
          },
          "yaxis": {
           "automargin": true,
           "gridcolor": "white",
           "linecolor": "white",
           "ticks": "",
           "title": {
            "standoff": 15
           },
           "zerolinecolor": "white",
           "zerolinewidth": 2
          }
         }
        },
        "title": {
         "font": {
          "color": "#4D5663"
         }
        },
        "xaxis": {
         "gridcolor": "#E1E5ED",
         "showgrid": true,
         "tickfont": {
          "color": "#4D5663"
         },
         "title": {
          "font": {
           "color": "#4D5663"
          },
          "text": ""
         },
         "zerolinecolor": "#E1E5ED"
        },
        "yaxis": {
         "gridcolor": "#E1E5ED",
         "showgrid": true,
         "tickfont": {
          "color": "#4D5663"
         },
         "title": {
          "font": {
           "color": "#4D5663"
          },
          "text": ""
         },
         "zerolinecolor": "#E1E5ED"
        }
       }
      },
      "text/html": [
       "<div>\n",
       "        \n",
       "        \n",
       "            <div id=\"e2ae1569-2d0e-4189-b5f8-e4eceeef5159\" class=\"plotly-graph-div\" style=\"height:525px; width:100%;\"></div>\n",
       "            <script type=\"text/javascript\">\n",
       "                require([\"plotly\"], function(Plotly) {\n",
       "                    window.PLOTLYENV=window.PLOTLYENV || {};\n",
       "                    window.PLOTLYENV.BASE_URL='https://plot.ly';\n",
       "                    \n",
       "                if (document.getElementById(\"e2ae1569-2d0e-4189-b5f8-e4eceeef5159\")) {\n",
       "                    Plotly.newPlot(\n",
       "                        'e2ae1569-2d0e-4189-b5f8-e4eceeef5159',\n",
       "                        [{\"histfunc\": \"count\", \"histnorm\": \"\", \"marker\": {\"color\": \"rgba(219, 64, 82, 1.0)\", \"line\": {\"color\": \"#4D5663\", \"width\": 1.3}}, \"name\": \"A\", \"nbinsx\": 25, \"opacity\": 0.8, \"orientation\": \"v\", \"type\": \"histogram\", \"x\": [-0.16610363688689225, -0.5521200467561026, -0.32072301689097243, 1.0003003046968628, -2.2516254604791026, -0.6421609543388991, -1.4472099947779882, -0.13620393460167918, -0.5848169421651246, -2.3343121377607203, 0.7045769911864066, 1.5641538767395509, 0.13516072316710592, 0.28401884325871657, 0.19827951682921566, 0.39511130031370845, -1.6845126169011948, 1.7526821145707008, 0.8774483307403921, 0.836157017411292, 0.9576375175548147, 2.327572979958438, -0.09201586219373067, 1.5049485394904945, 0.6137499890871397, -0.23141334285681636, -0.3873137293486683, 0.6665038996871202, 1.3147726106271649, 0.3411166578508544, -0.7313041972309057, 0.6374438673125333, -1.4268863568083, 1.2761838902761153, 0.9224514175204899, 0.5875380186215396, 0.9624380244543723, -0.028387429045422862, -1.7110591691269732, 0.45768060713546815, 0.3325008338888872, -1.751953272398217, 0.3727204316081648, 0.12166865899983588, 0.6526321680965788, -0.07920899553609972, -0.5445207532153917, -1.6105046471915463, -0.2936118804357919, 0.27986148037476366, 1.1034013134894871, -1.9631465840033653, 0.43114100186860127, -1.235857295974943, -1.522723677140059, 1.2174951715447608, 0.19372990695871908, 0.2823849931757263, -0.0731218671022487, 0.7910575601342564, -0.6029356378404177, -1.7185657936649517, -1.1039251574505327, 2.658810831218528, 0.8738864116196249, -0.35572194094378795, 0.2340454597606315, 1.1752802475422055, -2.857194818069491, -2.600189945808657, -1.4129955337744562, 1.5040243218995208, 0.4564891038547735, -1.0928905726727565, 1.0934669671611048, -0.2952153464804887, 0.8512281133013911, -0.6054409722058584, -0.47567754440403875, 0.6482097649869025, 0.6347649736514742, -0.02784922656797839, 0.8386088840498142, -0.5440691092397063, 0.6972768207546788, 0.6093926761521056, -0.06405757550025791, -0.33223152813714046, -0.6681213932531654, -0.5803620221889505, 0.18130261081281787, 0.9588359075234838, 2.2614997061951416, 0.04757386170100405, 0.3322555579091508, 1.323477756176155, 1.0653892403615686, 0.8465770283086058, -0.9181065897100504, 2.1780189252592024]}],\n",
       "                        {\"barmode\": \"overlay\", \"legend\": {\"bgcolor\": \"#F5F6F9\", \"font\": {\"color\": \"#4D5663\"}}, \"paper_bgcolor\": \"#F5F6F9\", \"plot_bgcolor\": \"#F5F6F9\", \"template\": {\"data\": {\"bar\": [{\"error_x\": {\"color\": \"#2a3f5f\"}, \"error_y\": {\"color\": \"#2a3f5f\"}, \"marker\": {\"line\": {\"color\": \"#E5ECF6\", \"width\": 0.5}}, \"type\": \"bar\"}], \"barpolar\": [{\"marker\": {\"line\": {\"color\": \"#E5ECF6\", \"width\": 0.5}}, \"type\": \"barpolar\"}], \"carpet\": [{\"aaxis\": {\"endlinecolor\": \"#2a3f5f\", \"gridcolor\": \"white\", \"linecolor\": \"white\", \"minorgridcolor\": \"white\", \"startlinecolor\": \"#2a3f5f\"}, \"baxis\": {\"endlinecolor\": \"#2a3f5f\", \"gridcolor\": \"white\", \"linecolor\": \"white\", \"minorgridcolor\": \"white\", \"startlinecolor\": \"#2a3f5f\"}, \"type\": \"carpet\"}], \"choropleth\": [{\"colorbar\": {\"outlinewidth\": 0, \"ticks\": \"\"}, \"type\": \"choropleth\"}], \"contour\": [{\"colorbar\": {\"outlinewidth\": 0, \"ticks\": \"\"}, \"colorscale\": [[0.0, \"#0d0887\"], [0.1111111111111111, \"#46039f\"], [0.2222222222222222, \"#7201a8\"], [0.3333333333333333, \"#9c179e\"], [0.4444444444444444, \"#bd3786\"], [0.5555555555555556, \"#d8576b\"], [0.6666666666666666, \"#ed7953\"], [0.7777777777777778, \"#fb9f3a\"], [0.8888888888888888, \"#fdca26\"], [1.0, \"#f0f921\"]], \"type\": \"contour\"}], \"contourcarpet\": [{\"colorbar\": {\"outlinewidth\": 0, \"ticks\": \"\"}, \"type\": \"contourcarpet\"}], \"heatmap\": [{\"colorbar\": {\"outlinewidth\": 0, \"ticks\": \"\"}, \"colorscale\": [[0.0, \"#0d0887\"], [0.1111111111111111, \"#46039f\"], [0.2222222222222222, \"#7201a8\"], [0.3333333333333333, \"#9c179e\"], [0.4444444444444444, \"#bd3786\"], [0.5555555555555556, \"#d8576b\"], [0.6666666666666666, \"#ed7953\"], [0.7777777777777778, \"#fb9f3a\"], [0.8888888888888888, \"#fdca26\"], [1.0, \"#f0f921\"]], \"type\": \"heatmap\"}], \"heatmapgl\": [{\"colorbar\": {\"outlinewidth\": 0, \"ticks\": \"\"}, \"colorscale\": [[0.0, \"#0d0887\"], [0.1111111111111111, \"#46039f\"], [0.2222222222222222, \"#7201a8\"], [0.3333333333333333, \"#9c179e\"], [0.4444444444444444, \"#bd3786\"], [0.5555555555555556, \"#d8576b\"], [0.6666666666666666, \"#ed7953\"], [0.7777777777777778, \"#fb9f3a\"], [0.8888888888888888, \"#fdca26\"], [1.0, \"#f0f921\"]], \"type\": \"heatmapgl\"}], \"histogram\": [{\"marker\": {\"colorbar\": {\"outlinewidth\": 0, \"ticks\": \"\"}}, \"type\": \"histogram\"}], \"histogram2d\": [{\"colorbar\": {\"outlinewidth\": 0, \"ticks\": \"\"}, \"colorscale\": [[0.0, \"#0d0887\"], [0.1111111111111111, \"#46039f\"], [0.2222222222222222, \"#7201a8\"], [0.3333333333333333, \"#9c179e\"], [0.4444444444444444, \"#bd3786\"], [0.5555555555555556, \"#d8576b\"], [0.6666666666666666, \"#ed7953\"], [0.7777777777777778, \"#fb9f3a\"], [0.8888888888888888, \"#fdca26\"], [1.0, \"#f0f921\"]], \"type\": \"histogram2d\"}], \"histogram2dcontour\": [{\"colorbar\": {\"outlinewidth\": 0, \"ticks\": \"\"}, \"colorscale\": [[0.0, \"#0d0887\"], [0.1111111111111111, \"#46039f\"], [0.2222222222222222, \"#7201a8\"], [0.3333333333333333, \"#9c179e\"], [0.4444444444444444, \"#bd3786\"], [0.5555555555555556, \"#d8576b\"], [0.6666666666666666, \"#ed7953\"], [0.7777777777777778, \"#fb9f3a\"], [0.8888888888888888, \"#fdca26\"], [1.0, \"#f0f921\"]], \"type\": \"histogram2dcontour\"}], \"mesh3d\": [{\"colorbar\": {\"outlinewidth\": 0, \"ticks\": \"\"}, \"type\": \"mesh3d\"}], \"parcoords\": [{\"line\": {\"colorbar\": {\"outlinewidth\": 0, \"ticks\": \"\"}}, \"type\": \"parcoords\"}], \"pie\": [{\"automargin\": true, \"type\": \"pie\"}], \"scatter\": [{\"marker\": {\"colorbar\": {\"outlinewidth\": 0, \"ticks\": \"\"}}, \"type\": \"scatter\"}], \"scatter3d\": [{\"line\": {\"colorbar\": {\"outlinewidth\": 0, \"ticks\": \"\"}}, \"marker\": {\"colorbar\": {\"outlinewidth\": 0, \"ticks\": \"\"}}, \"type\": \"scatter3d\"}], \"scattercarpet\": [{\"marker\": {\"colorbar\": {\"outlinewidth\": 0, \"ticks\": \"\"}}, \"type\": \"scattercarpet\"}], \"scattergeo\": [{\"marker\": {\"colorbar\": {\"outlinewidth\": 0, \"ticks\": \"\"}}, \"type\": \"scattergeo\"}], \"scattergl\": [{\"marker\": {\"colorbar\": {\"outlinewidth\": 0, \"ticks\": \"\"}}, \"type\": \"scattergl\"}], \"scattermapbox\": [{\"marker\": {\"colorbar\": {\"outlinewidth\": 0, \"ticks\": \"\"}}, \"type\": \"scattermapbox\"}], \"scatterpolar\": [{\"marker\": {\"colorbar\": {\"outlinewidth\": 0, \"ticks\": \"\"}}, \"type\": \"scatterpolar\"}], \"scatterpolargl\": [{\"marker\": {\"colorbar\": {\"outlinewidth\": 0, \"ticks\": \"\"}}, \"type\": \"scatterpolargl\"}], \"scatterternary\": [{\"marker\": {\"colorbar\": {\"outlinewidth\": 0, \"ticks\": \"\"}}, \"type\": \"scatterternary\"}], \"surface\": [{\"colorbar\": {\"outlinewidth\": 0, \"ticks\": \"\"}, \"colorscale\": [[0.0, \"#0d0887\"], [0.1111111111111111, \"#46039f\"], [0.2222222222222222, \"#7201a8\"], [0.3333333333333333, \"#9c179e\"], [0.4444444444444444, \"#bd3786\"], [0.5555555555555556, \"#d8576b\"], [0.6666666666666666, \"#ed7953\"], [0.7777777777777778, \"#fb9f3a\"], [0.8888888888888888, \"#fdca26\"], [1.0, \"#f0f921\"]], \"type\": \"surface\"}], \"table\": [{\"cells\": {\"fill\": {\"color\": \"#EBF0F8\"}, \"line\": {\"color\": \"white\"}}, \"header\": {\"fill\": {\"color\": \"#C8D4E3\"}, \"line\": {\"color\": \"white\"}}, \"type\": \"table\"}]}, \"layout\": {\"annotationdefaults\": {\"arrowcolor\": \"#2a3f5f\", \"arrowhead\": 0, \"arrowwidth\": 1}, \"coloraxis\": {\"colorbar\": {\"outlinewidth\": 0, \"ticks\": \"\"}}, \"colorscale\": {\"diverging\": [[0, \"#8e0152\"], [0.1, \"#c51b7d\"], [0.2, \"#de77ae\"], [0.3, \"#f1b6da\"], [0.4, \"#fde0ef\"], [0.5, \"#f7f7f7\"], [0.6, \"#e6f5d0\"], [0.7, \"#b8e186\"], [0.8, \"#7fbc41\"], [0.9, \"#4d9221\"], [1, \"#276419\"]], \"sequential\": [[0.0, \"#0d0887\"], [0.1111111111111111, \"#46039f\"], [0.2222222222222222, \"#7201a8\"], [0.3333333333333333, \"#9c179e\"], [0.4444444444444444, \"#bd3786\"], [0.5555555555555556, \"#d8576b\"], [0.6666666666666666, \"#ed7953\"], [0.7777777777777778, \"#fb9f3a\"], [0.8888888888888888, \"#fdca26\"], [1.0, \"#f0f921\"]], \"sequentialminus\": [[0.0, \"#0d0887\"], [0.1111111111111111, \"#46039f\"], [0.2222222222222222, \"#7201a8\"], [0.3333333333333333, \"#9c179e\"], [0.4444444444444444, \"#bd3786\"], [0.5555555555555556, \"#d8576b\"], [0.6666666666666666, \"#ed7953\"], [0.7777777777777778, \"#fb9f3a\"], [0.8888888888888888, \"#fdca26\"], [1.0, \"#f0f921\"]]}, \"colorway\": [\"#636efa\", \"#EF553B\", \"#00cc96\", \"#ab63fa\", \"#FFA15A\", \"#19d3f3\", \"#FF6692\", \"#B6E880\", \"#FF97FF\", \"#FECB52\"], \"font\": {\"color\": \"#2a3f5f\"}, \"geo\": {\"bgcolor\": \"white\", \"lakecolor\": \"white\", \"landcolor\": \"#E5ECF6\", \"showlakes\": true, \"showland\": true, \"subunitcolor\": \"white\"}, \"hoverlabel\": {\"align\": \"left\"}, \"hovermode\": \"closest\", \"mapbox\": {\"style\": \"light\"}, \"paper_bgcolor\": \"white\", \"plot_bgcolor\": \"#E5ECF6\", \"polar\": {\"angularaxis\": {\"gridcolor\": \"white\", \"linecolor\": \"white\", \"ticks\": \"\"}, \"bgcolor\": \"#E5ECF6\", \"radialaxis\": {\"gridcolor\": \"white\", \"linecolor\": \"white\", \"ticks\": \"\"}}, \"scene\": {\"xaxis\": {\"backgroundcolor\": \"#E5ECF6\", \"gridcolor\": \"white\", \"gridwidth\": 2, \"linecolor\": \"white\", \"showbackground\": true, \"ticks\": \"\", \"zerolinecolor\": \"white\"}, \"yaxis\": {\"backgroundcolor\": \"#E5ECF6\", \"gridcolor\": \"white\", \"gridwidth\": 2, \"linecolor\": \"white\", \"showbackground\": true, \"ticks\": \"\", \"zerolinecolor\": \"white\"}, \"zaxis\": {\"backgroundcolor\": \"#E5ECF6\", \"gridcolor\": \"white\", \"gridwidth\": 2, \"linecolor\": \"white\", \"showbackground\": true, \"ticks\": \"\", \"zerolinecolor\": \"white\"}}, \"shapedefaults\": {\"line\": {\"color\": \"#2a3f5f\"}}, \"ternary\": {\"aaxis\": {\"gridcolor\": \"white\", \"linecolor\": \"white\", \"ticks\": \"\"}, \"baxis\": {\"gridcolor\": \"white\", \"linecolor\": \"white\", \"ticks\": \"\"}, \"bgcolor\": \"#E5ECF6\", \"caxis\": {\"gridcolor\": \"white\", \"linecolor\": \"white\", \"ticks\": \"\"}}, \"title\": {\"x\": 0.05}, \"xaxis\": {\"automargin\": true, \"gridcolor\": \"white\", \"linecolor\": \"white\", \"ticks\": \"\", \"title\": {\"standoff\": 15}, \"zerolinecolor\": \"white\", \"zerolinewidth\": 2}, \"yaxis\": {\"automargin\": true, \"gridcolor\": \"white\", \"linecolor\": \"white\", \"ticks\": \"\", \"title\": {\"standoff\": 15}, \"zerolinecolor\": \"white\", \"zerolinewidth\": 2}}}, \"title\": {\"font\": {\"color\": \"#4D5663\"}}, \"xaxis\": {\"gridcolor\": \"#E1E5ED\", \"showgrid\": true, \"tickfont\": {\"color\": \"#4D5663\"}, \"title\": {\"font\": {\"color\": \"#4D5663\"}, \"text\": \"\"}, \"zerolinecolor\": \"#E1E5ED\"}, \"yaxis\": {\"gridcolor\": \"#E1E5ED\", \"showgrid\": true, \"tickfont\": {\"color\": \"#4D5663\"}, \"title\": {\"font\": {\"color\": \"#4D5663\"}, \"text\": \"\"}, \"zerolinecolor\": \"#E1E5ED\"}},\n",
       "                        {\"showLink\": true, \"linkText\": \"Export to plot.ly\", \"plotlyServerURL\": \"https://plot.ly\", \"responsive\": true}\n",
       "                    ).then(function(){\n",
       "                            \n",
       "var gd = document.getElementById('e2ae1569-2d0e-4189-b5f8-e4eceeef5159');\n",
       "var x = new MutationObserver(function (mutations, observer) {{\n",
       "        var display = window.getComputedStyle(gd).display;\n",
       "        if (!display || display === 'none') {{\n",
       "            console.log([gd, 'removed!']);\n",
       "            Plotly.purge(gd);\n",
       "            observer.disconnect();\n",
       "        }}\n",
       "}});\n",
       "\n",
       "// Listen for the removal of the full notebook cells\n",
       "var notebookContainer = gd.closest('#notebook-container');\n",
       "if (notebookContainer) {{\n",
       "    x.observe(notebookContainer, {childList: true});\n",
       "}}\n",
       "\n",
       "// Listen for the clearing of the current output cell\n",
       "var outputEl = gd.closest('.output');\n",
       "if (outputEl) {{\n",
       "    x.observe(outputEl, {childList: true});\n",
       "}}\n",
       "\n",
       "                        })\n",
       "                };\n",
       "                });\n",
       "            </script>\n",
       "        </div>"
      ]
     },
     "metadata": {},
     "output_type": "display_data"
    }
   ],
   "source": [
    "df['A'].iplot(kind='hist',bins=25,color='red')"
   ]
  },
  {
   "cell_type": "code",
   "execution_count": 29,
   "metadata": {},
   "outputs": [
    {
     "data": {
      "application/vnd.plotly.v1+json": {
       "config": {
        "linkText": "Export to plot.ly",
        "plotlyServerURL": "https://plot.ly",
        "showLink": true
       },
       "data": [
        {
         "line": {
          "color": "rgba(75, 0, 130, 1.0)",
          "dash": "solid",
          "shape": "linear",
          "width": 1.3
         },
         "mode": "lines",
         "name": "A",
         "text": "",
         "type": "scatter",
         "x": [
          0,
          1,
          2,
          3,
          4,
          5,
          6,
          7,
          8,
          9,
          10,
          11,
          12,
          13,
          14,
          15,
          16,
          17,
          18,
          19,
          20,
          21,
          22,
          23,
          24,
          25,
          26,
          27,
          28,
          29,
          30,
          31,
          32,
          33,
          34,
          35,
          36,
          37,
          38,
          39,
          40,
          41,
          42,
          43,
          44,
          45,
          46,
          47,
          48,
          49,
          50,
          51,
          52,
          53,
          54,
          55,
          56,
          57,
          58,
          59,
          60,
          61,
          62,
          63,
          64,
          65,
          66,
          67,
          68,
          69,
          70,
          71,
          72,
          73,
          74,
          75,
          76,
          77,
          78,
          79,
          80,
          81,
          82,
          83,
          84,
          85,
          86,
          87,
          88,
          89,
          90,
          91,
          92,
          93,
          94,
          95,
          96,
          97,
          98,
          99
         ],
         "y": [
          -0.16610363688689225,
          -0.5521200467561026,
          -0.32072301689097243,
          1.0003003046968628,
          -2.2516254604791026,
          -0.6421609543388991,
          -1.4472099947779882,
          -0.13620393460167918,
          -0.5848169421651246,
          -2.3343121377607203,
          0.7045769911864066,
          1.5641538767395509,
          0.13516072316710592,
          0.28401884325871657,
          0.19827951682921566,
          0.39511130031370845,
          -1.6845126169011948,
          1.7526821145707008,
          0.8774483307403921,
          0.836157017411292,
          0.9576375175548147,
          2.327572979958438,
          -0.09201586219373067,
          1.5049485394904945,
          0.6137499890871397,
          -0.23141334285681636,
          -0.3873137293486683,
          0.6665038996871202,
          1.3147726106271649,
          0.3411166578508544,
          -0.7313041972309057,
          0.6374438673125333,
          -1.4268863568083,
          1.2761838902761153,
          0.9224514175204899,
          0.5875380186215396,
          0.9624380244543723,
          -0.028387429045422862,
          -1.7110591691269732,
          0.45768060713546815,
          0.3325008338888872,
          -1.751953272398217,
          0.3727204316081648,
          0.12166865899983588,
          0.6526321680965788,
          -0.07920899553609972,
          -0.5445207532153917,
          -1.6105046471915463,
          -0.2936118804357919,
          0.27986148037476366,
          1.1034013134894871,
          -1.9631465840033653,
          0.43114100186860127,
          -1.235857295974943,
          -1.522723677140059,
          1.2174951715447608,
          0.19372990695871908,
          0.2823849931757263,
          -0.0731218671022487,
          0.7910575601342564,
          -0.6029356378404177,
          -1.7185657936649517,
          -1.1039251574505327,
          2.658810831218528,
          0.8738864116196249,
          -0.35572194094378795,
          0.2340454597606315,
          1.1752802475422055,
          -2.857194818069491,
          -2.600189945808657,
          -1.4129955337744562,
          1.5040243218995208,
          0.4564891038547735,
          -1.0928905726727565,
          1.0934669671611048,
          -0.2952153464804887,
          0.8512281133013911,
          -0.6054409722058584,
          -0.47567754440403875,
          0.6482097649869025,
          0.6347649736514742,
          -0.02784922656797839,
          0.8386088840498142,
          -0.5440691092397063,
          0.6972768207546788,
          0.6093926761521056,
          -0.06405757550025791,
          -0.33223152813714046,
          -0.6681213932531654,
          -0.5803620221889505,
          0.18130261081281787,
          0.9588359075234838,
          2.2614997061951416,
          0.04757386170100405,
          0.3322555579091508,
          1.323477756176155,
          1.0653892403615686,
          0.8465770283086058,
          -0.9181065897100504,
          2.1780189252592024
         ]
        },
        {
         "line": {
          "color": "rgba(75, 0, 130, 0.8999999999999999)",
          "dash": "solid",
          "shape": "linear",
          "width": 1.3
         },
         "mode": "lines",
         "name": "B",
         "text": "",
         "type": "scatter",
         "x": [
          0,
          1,
          2,
          3,
          4,
          5,
          6,
          7,
          8,
          9,
          10,
          11,
          12,
          13,
          14,
          15,
          16,
          17,
          18,
          19,
          20,
          21,
          22,
          23,
          24,
          25,
          26,
          27,
          28,
          29,
          30,
          31,
          32,
          33,
          34,
          35,
          36,
          37,
          38,
          39,
          40,
          41,
          42,
          43,
          44,
          45,
          46,
          47,
          48,
          49,
          50,
          51,
          52,
          53,
          54,
          55,
          56,
          57,
          58,
          59,
          60,
          61,
          62,
          63,
          64,
          65,
          66,
          67,
          68,
          69,
          70,
          71,
          72,
          73,
          74,
          75,
          76,
          77,
          78,
          79,
          80,
          81,
          82,
          83,
          84,
          85,
          86,
          87,
          88,
          89,
          90,
          91,
          92,
          93,
          94,
          95,
          96,
          97,
          98,
          99
         ],
         "y": [
          0.29954851481511197,
          0.3460221764914574,
          -1.4684786291220613,
          -2.3261076380136574,
          -0.8560630170935084,
          -0.2666675002725784,
          -1.0367178317473178,
          -0.1641102056865516,
          1.293259163731727,
          -0.8059944250936861,
          0.16568334726967576,
          0.9238802895778643,
          -0.2032665907555867,
          1.4971275004914129,
          -0.6110568652907729,
          0.2880256480075652,
          0.30218628023342814,
          0.8151874780879765,
          1.962755339156543,
          -0.04634897285046687,
          0.9708911382708385,
          -2.1803393662632553,
          -0.758135596494414,
          0.14765847037822513,
          1.4395399354838565,
          1.4652400783624666,
          0.27133549685807756,
          0.6009887331928555,
          0.970003264198216,
          2.0923142080688413,
          0.28497261904097343,
          0.03808232091512796,
          -0.028460144293740264,
          -2.875724284445149,
          0.1076739686130463,
          0.6330099707257212,
          1.258254478784425,
          -1.5150255195577138,
          -0.17417549664166573,
          0.08234847547277795,
          -1.262136013163713,
          1.6480467810562809,
          0.6212728629358613,
          1.604482318383683,
          -0.2491181023499222,
          -0.276987626080192,
          0.33503155541675445,
          -0.38311910251804393,
          1.5368983700433583,
          0.043550837958556736,
          0.11312770593752079,
          -0.22552084547381376,
          -0.7342024780377591,
          2.002354164469548,
          -0.3513763370984161,
          1.0891939844574783,
          0.07742301663804288,
          0.1188221678986353,
          1.1646519897891336,
          -0.8672559147206672,
          0.0733867650574441,
          1.6413026825633483,
          1.1875277507898772,
          1.5726061764487005,
          1.0235143951809598,
          -1.702807383350166,
          0.29512873630470426,
          -0.665512319607524,
          -0.06563198708957493,
          0.9852227949234997,
          0.09416627441366154,
          -0.34029398342148215,
          0.7194906222908173,
          -0.30538210212909767,
          0.7528310074888965,
          -0.4475454762754745,
          0.8652186823730295,
          -0.8999691204773388,
          -1.4992660437698153,
          -0.052600864705378066,
          0.9632080553530256,
          0.4225227445710723,
          -0.24976249740389195,
          1.3423979730077338,
          -1.345353752730523,
          0.39946146360573226,
          -1.6935712804020313,
          -2.3452695240608383,
          0.40276261537770885,
          -1.571628849316674,
          0.48374420873834323,
          0.49969435110551125,
          -0.9541923582452546,
          0.1236947783406742,
          0.4825198504341591,
          0.5219508629780577,
          -0.3946070881703127,
          -0.23385051002850257,
          -0.42874338188963346,
          0.1255556069572311
         ]
        },
        {
         "connectgaps": false,
         "fill": "tozeroy",
         "line": {
          "color": "green",
          "dash": "solid",
          "shape": "linear",
          "width": 0.5
         },
         "mode": "lines",
         "name": "Spread",
         "showlegend": false,
         "type": "scatter",
         "x": [
          0,
          1,
          2,
          3,
          4,
          5,
          6,
          7,
          8,
          9,
          10,
          11,
          12,
          13,
          14,
          15,
          16,
          17,
          18,
          19,
          20,
          21,
          22,
          23,
          24,
          25,
          26,
          27,
          28,
          29,
          30,
          31,
          32,
          33,
          34,
          35,
          36,
          37,
          38,
          39,
          40,
          41,
          42,
          43,
          44,
          45,
          46,
          47,
          48,
          49,
          50,
          51,
          52,
          53,
          54,
          55,
          56,
          57,
          58,
          59,
          60,
          61,
          62,
          63,
          64,
          65,
          66,
          67,
          68,
          69,
          70,
          71,
          72,
          73,
          74,
          75,
          76,
          77,
          78,
          79,
          80,
          81,
          82,
          83,
          84,
          85,
          86,
          87,
          88,
          89,
          90,
          91,
          92,
          93,
          94,
          95,
          96,
          97,
          98,
          99
         ],
         "xaxis": "x2",
         "y": [
          "",
          "",
          1.1477556122310888,
          3.32640794271052,
          "",
          "",
          "",
          0.027906271084872425,
          "",
          "",
          0.5388936439167309,
          0.6402735871616866,
          0.33842731392269265,
          "",
          0.8093363821199885,
          0.10708565230614325,
          "",
          0.9374946364827242,
          "",
          0.8825059902617589,
          "",
          4.507912346221693,
          0.6661197343006833,
          1.3572900691122693,
          "",
          "",
          "",
          0.0655151664942647,
          0.34476934642894885,
          "",
          "",
          0.5993615463974054,
          "",
          4.151908174721265,
          0.8147774489074435,
          "",
          "",
          1.486638090512291,
          "",
          0.3753321316626902,
          1.5946368470526,
          "",
          "",
          "",
          0.901750270446501,
          0.19777863054409228,
          "",
          "",
          "",
          0.23631064241620692,
          0.9902736075519664,
          "",
          1.1653434799063604,
          "",
          "",
          0.12830118708728255,
          0.1163068903206762,
          0.16356282527709098,
          "",
          1.6583134748549235,
          "",
          "",
          "",
          1.0862046547698276,
          "",
          1.347085442406378,
          "",
          1.8407925671497294,
          "",
          "",
          "",
          1.844318305321003,
          "",
          "",
          0.3406359596722083,
          0.15233012979498578,
          "",
          0.29452814827148044,
          1.0235884993657764,
          0.7008106296922806,
          "",
          "",
          1.0883713814537062,
          "",
          2.042630573485202,
          0.2099312125463733,
          1.6295137049017734,
          2.013037995923698,
          "",
          0.9912668271277234,
          "",
          0.45914155641797255,
          3.2156920644403963,
          "",
          "",
          0.8015268931980973,
          1.4599963285318813,
          1.0804275383371085,
          "",
          2.0524633183019714
         ],
         "yaxis": "y2"
        },
        {
         "connectgaps": false,
         "fill": "tozeroy",
         "line": {
          "color": "red",
          "dash": "solid",
          "shape": "linear",
          "width": 0.5
         },
         "mode": "lines",
         "name": "Spread",
         "showlegend": false,
         "type": "scatter",
         "x": [
          0,
          1,
          2,
          3,
          4,
          5,
          6,
          7,
          8,
          9,
          10,
          11,
          12,
          13,
          14,
          15,
          16,
          17,
          18,
          19,
          20,
          21,
          22,
          23,
          24,
          25,
          26,
          27,
          28,
          29,
          30,
          31,
          32,
          33,
          34,
          35,
          36,
          37,
          38,
          39,
          40,
          41,
          42,
          43,
          44,
          45,
          46,
          47,
          48,
          49,
          50,
          51,
          52,
          53,
          54,
          55,
          56,
          57,
          58,
          59,
          60,
          61,
          62,
          63,
          64,
          65,
          66,
          67,
          68,
          69,
          70,
          71,
          72,
          73,
          74,
          75,
          76,
          77,
          78,
          79,
          80,
          81,
          82,
          83,
          84,
          85,
          86,
          87,
          88,
          89,
          90,
          91,
          92,
          93,
          94,
          95,
          96,
          97,
          98,
          99
         ],
         "xaxis": "x2",
         "y": [
          -0.46565215170200425,
          -0.89814222324756,
          "",
          "",
          -1.3955624433855942,
          -0.3754934540663207,
          -0.4104921630306704,
          "",
          -1.8780761058968516,
          -1.5283177126670342,
          "",
          "",
          "",
          -1.2131086572326963,
          "",
          "",
          -1.9866988971346229,
          "",
          -1.0853070084161511,
          "",
          -0.013253620716023762,
          "",
          "",
          "",
          -0.8257899463967168,
          -1.696653421219283,
          -0.6586492262067458,
          "",
          "",
          -1.7511975502179868,
          -1.0162768162718792,
          "",
          -1.3984262125145597,
          "",
          "",
          -0.045471952104181534,
          -0.29581645433005266,
          "",
          -1.5368836724853074,
          "",
          "",
          -3.400000053454498,
          -0.24855243132769644,
          -1.482813659383847,
          "",
          "",
          -0.8795523086321462,
          -1.2273855446735022,
          -1.8305102504791502,
          "",
          "",
          -1.7376257385295515,
          "",
          -3.238211460444491,
          -1.1713473400416428,
          "",
          "",
          "",
          -1.2377738568913823,
          "",
          -0.6763224028978618,
          -3.3598684762283,
          -2.2914529082404096,
          "",
          -0.1496279835613349,
          "",
          -0.06108327654407275,
          "",
          -2.7915628309799163,
          -3.5854127407321568,
          -1.5071618081881177,
          "",
          -0.2630015184360438,
          -0.7875084705436588,
          "",
          "",
          -0.013990569071638315,
          "",
          "",
          "",
          -0.32844308170155134,
          -0.4503719711390507,
          "",
          -1.88646708224744,
          "",
          "",
          "",
          "",
          -1.0708840086308742,
          "",
          -0.3024415979255254,
          "",
          "",
          -0.07612091663967016,
          -0.15026429252500834,
          "",
          "",
          "",
          -0.489363207820417,
          ""
         ],
         "yaxis": "y2"
        }
       ],
       "layout": {
        "hovermode": "x",
        "legend": {
         "bgcolor": "#F5F6F9",
         "font": {
          "color": "#4D5663"
         }
        },
        "paper_bgcolor": "#F5F6F9",
        "plot_bgcolor": "#F5F6F9",
        "template": {
         "data": {
          "bar": [
           {
            "error_x": {
             "color": "#2a3f5f"
            },
            "error_y": {
             "color": "#2a3f5f"
            },
            "marker": {
             "line": {
              "color": "#E5ECF6",
              "width": 0.5
             }
            },
            "type": "bar"
           }
          ],
          "barpolar": [
           {
            "marker": {
             "line": {
              "color": "#E5ECF6",
              "width": 0.5
             }
            },
            "type": "barpolar"
           }
          ],
          "carpet": [
           {
            "aaxis": {
             "endlinecolor": "#2a3f5f",
             "gridcolor": "white",
             "linecolor": "white",
             "minorgridcolor": "white",
             "startlinecolor": "#2a3f5f"
            },
            "baxis": {
             "endlinecolor": "#2a3f5f",
             "gridcolor": "white",
             "linecolor": "white",
             "minorgridcolor": "white",
             "startlinecolor": "#2a3f5f"
            },
            "type": "carpet"
           }
          ],
          "choropleth": [
           {
            "colorbar": {
             "outlinewidth": 0,
             "ticks": ""
            },
            "type": "choropleth"
           }
          ],
          "contour": [
           {
            "colorbar": {
             "outlinewidth": 0,
             "ticks": ""
            },
            "colorscale": [
             [
              0,
              "#0d0887"
             ],
             [
              0.1111111111111111,
              "#46039f"
             ],
             [
              0.2222222222222222,
              "#7201a8"
             ],
             [
              0.3333333333333333,
              "#9c179e"
             ],
             [
              0.4444444444444444,
              "#bd3786"
             ],
             [
              0.5555555555555556,
              "#d8576b"
             ],
             [
              0.6666666666666666,
              "#ed7953"
             ],
             [
              0.7777777777777778,
              "#fb9f3a"
             ],
             [
              0.8888888888888888,
              "#fdca26"
             ],
             [
              1,
              "#f0f921"
             ]
            ],
            "type": "contour"
           }
          ],
          "contourcarpet": [
           {
            "colorbar": {
             "outlinewidth": 0,
             "ticks": ""
            },
            "type": "contourcarpet"
           }
          ],
          "heatmap": [
           {
            "colorbar": {
             "outlinewidth": 0,
             "ticks": ""
            },
            "colorscale": [
             [
              0,
              "#0d0887"
             ],
             [
              0.1111111111111111,
              "#46039f"
             ],
             [
              0.2222222222222222,
              "#7201a8"
             ],
             [
              0.3333333333333333,
              "#9c179e"
             ],
             [
              0.4444444444444444,
              "#bd3786"
             ],
             [
              0.5555555555555556,
              "#d8576b"
             ],
             [
              0.6666666666666666,
              "#ed7953"
             ],
             [
              0.7777777777777778,
              "#fb9f3a"
             ],
             [
              0.8888888888888888,
              "#fdca26"
             ],
             [
              1,
              "#f0f921"
             ]
            ],
            "type": "heatmap"
           }
          ],
          "heatmapgl": [
           {
            "colorbar": {
             "outlinewidth": 0,
             "ticks": ""
            },
            "colorscale": [
             [
              0,
              "#0d0887"
             ],
             [
              0.1111111111111111,
              "#46039f"
             ],
             [
              0.2222222222222222,
              "#7201a8"
             ],
             [
              0.3333333333333333,
              "#9c179e"
             ],
             [
              0.4444444444444444,
              "#bd3786"
             ],
             [
              0.5555555555555556,
              "#d8576b"
             ],
             [
              0.6666666666666666,
              "#ed7953"
             ],
             [
              0.7777777777777778,
              "#fb9f3a"
             ],
             [
              0.8888888888888888,
              "#fdca26"
             ],
             [
              1,
              "#f0f921"
             ]
            ],
            "type": "heatmapgl"
           }
          ],
          "histogram": [
           {
            "marker": {
             "colorbar": {
              "outlinewidth": 0,
              "ticks": ""
             }
            },
            "type": "histogram"
           }
          ],
          "histogram2d": [
           {
            "colorbar": {
             "outlinewidth": 0,
             "ticks": ""
            },
            "colorscale": [
             [
              0,
              "#0d0887"
             ],
             [
              0.1111111111111111,
              "#46039f"
             ],
             [
              0.2222222222222222,
              "#7201a8"
             ],
             [
              0.3333333333333333,
              "#9c179e"
             ],
             [
              0.4444444444444444,
              "#bd3786"
             ],
             [
              0.5555555555555556,
              "#d8576b"
             ],
             [
              0.6666666666666666,
              "#ed7953"
             ],
             [
              0.7777777777777778,
              "#fb9f3a"
             ],
             [
              0.8888888888888888,
              "#fdca26"
             ],
             [
              1,
              "#f0f921"
             ]
            ],
            "type": "histogram2d"
           }
          ],
          "histogram2dcontour": [
           {
            "colorbar": {
             "outlinewidth": 0,
             "ticks": ""
            },
            "colorscale": [
             [
              0,
              "#0d0887"
             ],
             [
              0.1111111111111111,
              "#46039f"
             ],
             [
              0.2222222222222222,
              "#7201a8"
             ],
             [
              0.3333333333333333,
              "#9c179e"
             ],
             [
              0.4444444444444444,
              "#bd3786"
             ],
             [
              0.5555555555555556,
              "#d8576b"
             ],
             [
              0.6666666666666666,
              "#ed7953"
             ],
             [
              0.7777777777777778,
              "#fb9f3a"
             ],
             [
              0.8888888888888888,
              "#fdca26"
             ],
             [
              1,
              "#f0f921"
             ]
            ],
            "type": "histogram2dcontour"
           }
          ],
          "mesh3d": [
           {
            "colorbar": {
             "outlinewidth": 0,
             "ticks": ""
            },
            "type": "mesh3d"
           }
          ],
          "parcoords": [
           {
            "line": {
             "colorbar": {
              "outlinewidth": 0,
              "ticks": ""
             }
            },
            "type": "parcoords"
           }
          ],
          "pie": [
           {
            "automargin": true,
            "type": "pie"
           }
          ],
          "scatter": [
           {
            "marker": {
             "colorbar": {
              "outlinewidth": 0,
              "ticks": ""
             }
            },
            "type": "scatter"
           }
          ],
          "scatter3d": [
           {
            "line": {
             "colorbar": {
              "outlinewidth": 0,
              "ticks": ""
             }
            },
            "marker": {
             "colorbar": {
              "outlinewidth": 0,
              "ticks": ""
             }
            },
            "type": "scatter3d"
           }
          ],
          "scattercarpet": [
           {
            "marker": {
             "colorbar": {
              "outlinewidth": 0,
              "ticks": ""
             }
            },
            "type": "scattercarpet"
           }
          ],
          "scattergeo": [
           {
            "marker": {
             "colorbar": {
              "outlinewidth": 0,
              "ticks": ""
             }
            },
            "type": "scattergeo"
           }
          ],
          "scattergl": [
           {
            "marker": {
             "colorbar": {
              "outlinewidth": 0,
              "ticks": ""
             }
            },
            "type": "scattergl"
           }
          ],
          "scattermapbox": [
           {
            "marker": {
             "colorbar": {
              "outlinewidth": 0,
              "ticks": ""
             }
            },
            "type": "scattermapbox"
           }
          ],
          "scatterpolar": [
           {
            "marker": {
             "colorbar": {
              "outlinewidth": 0,
              "ticks": ""
             }
            },
            "type": "scatterpolar"
           }
          ],
          "scatterpolargl": [
           {
            "marker": {
             "colorbar": {
              "outlinewidth": 0,
              "ticks": ""
             }
            },
            "type": "scatterpolargl"
           }
          ],
          "scatterternary": [
           {
            "marker": {
             "colorbar": {
              "outlinewidth": 0,
              "ticks": ""
             }
            },
            "type": "scatterternary"
           }
          ],
          "surface": [
           {
            "colorbar": {
             "outlinewidth": 0,
             "ticks": ""
            },
            "colorscale": [
             [
              0,
              "#0d0887"
             ],
             [
              0.1111111111111111,
              "#46039f"
             ],
             [
              0.2222222222222222,
              "#7201a8"
             ],
             [
              0.3333333333333333,
              "#9c179e"
             ],
             [
              0.4444444444444444,
              "#bd3786"
             ],
             [
              0.5555555555555556,
              "#d8576b"
             ],
             [
              0.6666666666666666,
              "#ed7953"
             ],
             [
              0.7777777777777778,
              "#fb9f3a"
             ],
             [
              0.8888888888888888,
              "#fdca26"
             ],
             [
              1,
              "#f0f921"
             ]
            ],
            "type": "surface"
           }
          ],
          "table": [
           {
            "cells": {
             "fill": {
              "color": "#EBF0F8"
             },
             "line": {
              "color": "white"
             }
            },
            "header": {
             "fill": {
              "color": "#C8D4E3"
             },
             "line": {
              "color": "white"
             }
            },
            "type": "table"
           }
          ]
         },
         "layout": {
          "annotationdefaults": {
           "arrowcolor": "#2a3f5f",
           "arrowhead": 0,
           "arrowwidth": 1
          },
          "coloraxis": {
           "colorbar": {
            "outlinewidth": 0,
            "ticks": ""
           }
          },
          "colorscale": {
           "diverging": [
            [
             0,
             "#8e0152"
            ],
            [
             0.1,
             "#c51b7d"
            ],
            [
             0.2,
             "#de77ae"
            ],
            [
             0.3,
             "#f1b6da"
            ],
            [
             0.4,
             "#fde0ef"
            ],
            [
             0.5,
             "#f7f7f7"
            ],
            [
             0.6,
             "#e6f5d0"
            ],
            [
             0.7,
             "#b8e186"
            ],
            [
             0.8,
             "#7fbc41"
            ],
            [
             0.9,
             "#4d9221"
            ],
            [
             1,
             "#276419"
            ]
           ],
           "sequential": [
            [
             0,
             "#0d0887"
            ],
            [
             0.1111111111111111,
             "#46039f"
            ],
            [
             0.2222222222222222,
             "#7201a8"
            ],
            [
             0.3333333333333333,
             "#9c179e"
            ],
            [
             0.4444444444444444,
             "#bd3786"
            ],
            [
             0.5555555555555556,
             "#d8576b"
            ],
            [
             0.6666666666666666,
             "#ed7953"
            ],
            [
             0.7777777777777778,
             "#fb9f3a"
            ],
            [
             0.8888888888888888,
             "#fdca26"
            ],
            [
             1,
             "#f0f921"
            ]
           ],
           "sequentialminus": [
            [
             0,
             "#0d0887"
            ],
            [
             0.1111111111111111,
             "#46039f"
            ],
            [
             0.2222222222222222,
             "#7201a8"
            ],
            [
             0.3333333333333333,
             "#9c179e"
            ],
            [
             0.4444444444444444,
             "#bd3786"
            ],
            [
             0.5555555555555556,
             "#d8576b"
            ],
            [
             0.6666666666666666,
             "#ed7953"
            ],
            [
             0.7777777777777778,
             "#fb9f3a"
            ],
            [
             0.8888888888888888,
             "#fdca26"
            ],
            [
             1,
             "#f0f921"
            ]
           ]
          },
          "colorway": [
           "#636efa",
           "#EF553B",
           "#00cc96",
           "#ab63fa",
           "#FFA15A",
           "#19d3f3",
           "#FF6692",
           "#B6E880",
           "#FF97FF",
           "#FECB52"
          ],
          "font": {
           "color": "#2a3f5f"
          },
          "geo": {
           "bgcolor": "white",
           "lakecolor": "white",
           "landcolor": "#E5ECF6",
           "showlakes": true,
           "showland": true,
           "subunitcolor": "white"
          },
          "hoverlabel": {
           "align": "left"
          },
          "hovermode": "closest",
          "mapbox": {
           "style": "light"
          },
          "paper_bgcolor": "white",
          "plot_bgcolor": "#E5ECF6",
          "polar": {
           "angularaxis": {
            "gridcolor": "white",
            "linecolor": "white",
            "ticks": ""
           },
           "bgcolor": "#E5ECF6",
           "radialaxis": {
            "gridcolor": "white",
            "linecolor": "white",
            "ticks": ""
           }
          },
          "scene": {
           "xaxis": {
            "backgroundcolor": "#E5ECF6",
            "gridcolor": "white",
            "gridwidth": 2,
            "linecolor": "white",
            "showbackground": true,
            "ticks": "",
            "zerolinecolor": "white"
           },
           "yaxis": {
            "backgroundcolor": "#E5ECF6",
            "gridcolor": "white",
            "gridwidth": 2,
            "linecolor": "white",
            "showbackground": true,
            "ticks": "",
            "zerolinecolor": "white"
           },
           "zaxis": {
            "backgroundcolor": "#E5ECF6",
            "gridcolor": "white",
            "gridwidth": 2,
            "linecolor": "white",
            "showbackground": true,
            "ticks": "",
            "zerolinecolor": "white"
           }
          },
          "shapedefaults": {
           "line": {
            "color": "#2a3f5f"
           }
          },
          "ternary": {
           "aaxis": {
            "gridcolor": "white",
            "linecolor": "white",
            "ticks": ""
           },
           "baxis": {
            "gridcolor": "white",
            "linecolor": "white",
            "ticks": ""
           },
           "bgcolor": "#E5ECF6",
           "caxis": {
            "gridcolor": "white",
            "linecolor": "white",
            "ticks": ""
           }
          },
          "title": {
           "x": 0.05
          },
          "xaxis": {
           "automargin": true,
           "gridcolor": "white",
           "linecolor": "white",
           "ticks": "",
           "title": {
            "standoff": 15
           },
           "zerolinecolor": "white",
           "zerolinewidth": 2
          },
          "yaxis": {
           "automargin": true,
           "gridcolor": "white",
           "linecolor": "white",
           "ticks": "",
           "title": {
            "standoff": 15
           },
           "zerolinecolor": "white",
           "zerolinewidth": 2
          }
         }
        },
        "title": {
         "font": {
          "color": "#4D5663"
         }
        },
        "xaxis": {
         "gridcolor": "#E1E5ED",
         "showgrid": true,
         "tickfont": {
          "color": "#4D5663"
         },
         "title": {
          "font": {
           "color": "#4D5663"
          },
          "text": ""
         },
         "zerolinecolor": "#E1E5ED"
        },
        "xaxis2": {
         "anchor": "y2",
         "gridcolor": "#E1E5ED",
         "showgrid": true,
         "showticklabels": false,
         "tickfont": {
          "color": "#4D5663"
         },
         "title": {
          "font": {
           "color": "#4D5663"
          },
          "text": ""
         },
         "zerolinecolor": "#E1E5ED"
        },
        "yaxis": {
         "domain": [
          0.3,
          1
         ],
         "gridcolor": "#E1E5ED",
         "showgrid": true,
         "tickfont": {
          "color": "#4D5663"
         },
         "title": {
          "font": {
           "color": "#4D5663"
          },
          "text": ""
         },
         "zerolinecolor": "#E1E5ED"
        },
        "yaxis2": {
         "domain": [
          0,
          0.25
         ],
         "gridcolor": "#E1E5ED",
         "showgrid": true,
         "tickfont": {
          "color": "#4D5663"
         },
         "title": {
          "font": {
           "color": "#4D5663"
          },
          "text": "Spread"
         },
         "zerolinecolor": "#E1E5ED"
        }
       }
      },
      "text/html": [
       "<div>\n",
       "        \n",
       "        \n",
       "            <div id=\"d00ea2c2-472c-4005-a476-44d55ea71b69\" class=\"plotly-graph-div\" style=\"height:525px; width:100%;\"></div>\n",
       "            <script type=\"text/javascript\">\n",
       "                require([\"plotly\"], function(Plotly) {\n",
       "                    window.PLOTLYENV=window.PLOTLYENV || {};\n",
       "                    window.PLOTLYENV.BASE_URL='https://plot.ly';\n",
       "                    \n",
       "                if (document.getElementById(\"d00ea2c2-472c-4005-a476-44d55ea71b69\")) {\n",
       "                    Plotly.newPlot(\n",
       "                        'd00ea2c2-472c-4005-a476-44d55ea71b69',\n",
       "                        [{\"line\": {\"color\": \"rgba(75, 0, 130, 1.0)\", \"dash\": \"solid\", \"shape\": \"linear\", \"width\": 1.3}, \"mode\": \"lines\", \"name\": \"A\", \"text\": \"\", \"type\": \"scatter\", \"x\": [0, 1, 2, 3, 4, 5, 6, 7, 8, 9, 10, 11, 12, 13, 14, 15, 16, 17, 18, 19, 20, 21, 22, 23, 24, 25, 26, 27, 28, 29, 30, 31, 32, 33, 34, 35, 36, 37, 38, 39, 40, 41, 42, 43, 44, 45, 46, 47, 48, 49, 50, 51, 52, 53, 54, 55, 56, 57, 58, 59, 60, 61, 62, 63, 64, 65, 66, 67, 68, 69, 70, 71, 72, 73, 74, 75, 76, 77, 78, 79, 80, 81, 82, 83, 84, 85, 86, 87, 88, 89, 90, 91, 92, 93, 94, 95, 96, 97, 98, 99], \"y\": [-0.16610363688689225, -0.5521200467561026, -0.32072301689097243, 1.0003003046968628, -2.2516254604791026, -0.6421609543388991, -1.4472099947779882, -0.13620393460167918, -0.5848169421651246, -2.3343121377607203, 0.7045769911864066, 1.5641538767395509, 0.13516072316710592, 0.28401884325871657, 0.19827951682921566, 0.39511130031370845, -1.6845126169011948, 1.7526821145707008, 0.8774483307403921, 0.836157017411292, 0.9576375175548147, 2.327572979958438, -0.09201586219373067, 1.5049485394904945, 0.6137499890871397, -0.23141334285681636, -0.3873137293486683, 0.6665038996871202, 1.3147726106271649, 0.3411166578508544, -0.7313041972309057, 0.6374438673125333, -1.4268863568083, 1.2761838902761153, 0.9224514175204899, 0.5875380186215396, 0.9624380244543723, -0.028387429045422862, -1.7110591691269732, 0.45768060713546815, 0.3325008338888872, -1.751953272398217, 0.3727204316081648, 0.12166865899983588, 0.6526321680965788, -0.07920899553609972, -0.5445207532153917, -1.6105046471915463, -0.2936118804357919, 0.27986148037476366, 1.1034013134894871, -1.9631465840033653, 0.43114100186860127, -1.235857295974943, -1.522723677140059, 1.2174951715447608, 0.19372990695871908, 0.2823849931757263, -0.0731218671022487, 0.7910575601342564, -0.6029356378404177, -1.7185657936649517, -1.1039251574505327, 2.658810831218528, 0.8738864116196249, -0.35572194094378795, 0.2340454597606315, 1.1752802475422055, -2.857194818069491, -2.600189945808657, -1.4129955337744562, 1.5040243218995208, 0.4564891038547735, -1.0928905726727565, 1.0934669671611048, -0.2952153464804887, 0.8512281133013911, -0.6054409722058584, -0.47567754440403875, 0.6482097649869025, 0.6347649736514742, -0.02784922656797839, 0.8386088840498142, -0.5440691092397063, 0.6972768207546788, 0.6093926761521056, -0.06405757550025791, -0.33223152813714046, -0.6681213932531654, -0.5803620221889505, 0.18130261081281787, 0.9588359075234838, 2.2614997061951416, 0.04757386170100405, 0.3322555579091508, 1.323477756176155, 1.0653892403615686, 0.8465770283086058, -0.9181065897100504, 2.1780189252592024]}, {\"line\": {\"color\": \"rgba(75, 0, 130, 0.8999999999999999)\", \"dash\": \"solid\", \"shape\": \"linear\", \"width\": 1.3}, \"mode\": \"lines\", \"name\": \"B\", \"text\": \"\", \"type\": \"scatter\", \"x\": [0, 1, 2, 3, 4, 5, 6, 7, 8, 9, 10, 11, 12, 13, 14, 15, 16, 17, 18, 19, 20, 21, 22, 23, 24, 25, 26, 27, 28, 29, 30, 31, 32, 33, 34, 35, 36, 37, 38, 39, 40, 41, 42, 43, 44, 45, 46, 47, 48, 49, 50, 51, 52, 53, 54, 55, 56, 57, 58, 59, 60, 61, 62, 63, 64, 65, 66, 67, 68, 69, 70, 71, 72, 73, 74, 75, 76, 77, 78, 79, 80, 81, 82, 83, 84, 85, 86, 87, 88, 89, 90, 91, 92, 93, 94, 95, 96, 97, 98, 99], \"y\": [0.29954851481511197, 0.3460221764914574, -1.4684786291220613, -2.3261076380136574, -0.8560630170935084, -0.2666675002725784, -1.0367178317473178, -0.1641102056865516, 1.293259163731727, -0.8059944250936861, 0.16568334726967576, 0.9238802895778643, -0.2032665907555867, 1.4971275004914129, -0.6110568652907729, 0.2880256480075652, 0.30218628023342814, 0.8151874780879765, 1.962755339156543, -0.04634897285046687, 0.9708911382708385, -2.1803393662632553, -0.758135596494414, 0.14765847037822513, 1.4395399354838565, 1.4652400783624666, 0.27133549685807756, 0.6009887331928555, 0.970003264198216, 2.0923142080688413, 0.28497261904097343, 0.03808232091512796, -0.028460144293740264, -2.875724284445149, 0.1076739686130463, 0.6330099707257212, 1.258254478784425, -1.5150255195577138, -0.17417549664166573, 0.08234847547277795, -1.262136013163713, 1.6480467810562809, 0.6212728629358613, 1.604482318383683, -0.2491181023499222, -0.276987626080192, 0.33503155541675445, -0.38311910251804393, 1.5368983700433583, 0.043550837958556736, 0.11312770593752079, -0.22552084547381376, -0.7342024780377591, 2.002354164469548, -0.3513763370984161, 1.0891939844574783, 0.07742301663804288, 0.1188221678986353, 1.1646519897891336, -0.8672559147206672, 0.0733867650574441, 1.6413026825633483, 1.1875277507898772, 1.5726061764487005, 1.0235143951809598, -1.702807383350166, 0.29512873630470426, -0.665512319607524, -0.06563198708957493, 0.9852227949234997, 0.09416627441366154, -0.34029398342148215, 0.7194906222908173, -0.30538210212909767, 0.7528310074888965, -0.4475454762754745, 0.8652186823730295, -0.8999691204773388, -1.4992660437698153, -0.052600864705378066, 0.9632080553530256, 0.4225227445710723, -0.24976249740389195, 1.3423979730077338, -1.345353752730523, 0.39946146360573226, -1.6935712804020313, -2.3452695240608383, 0.40276261537770885, -1.571628849316674, 0.48374420873834323, 0.49969435110551125, -0.9541923582452546, 0.1236947783406742, 0.4825198504341591, 0.5219508629780577, -0.3946070881703127, -0.23385051002850257, -0.42874338188963346, 0.1255556069572311]}, {\"connectgaps\": false, \"fill\": \"tozeroy\", \"line\": {\"color\": \"green\", \"dash\": \"solid\", \"shape\": \"linear\", \"width\": 0.5}, \"mode\": \"lines\", \"name\": \"Spread\", \"showlegend\": false, \"type\": \"scatter\", \"x\": [0, 1, 2, 3, 4, 5, 6, 7, 8, 9, 10, 11, 12, 13, 14, 15, 16, 17, 18, 19, 20, 21, 22, 23, 24, 25, 26, 27, 28, 29, 30, 31, 32, 33, 34, 35, 36, 37, 38, 39, 40, 41, 42, 43, 44, 45, 46, 47, 48, 49, 50, 51, 52, 53, 54, 55, 56, 57, 58, 59, 60, 61, 62, 63, 64, 65, 66, 67, 68, 69, 70, 71, 72, 73, 74, 75, 76, 77, 78, 79, 80, 81, 82, 83, 84, 85, 86, 87, 88, 89, 90, 91, 92, 93, 94, 95, 96, 97, 98, 99], \"xaxis\": \"x2\", \"y\": [\"\", \"\", 1.1477556122310888, 3.32640794271052, \"\", \"\", \"\", 0.027906271084872425, \"\", \"\", 0.5388936439167309, 0.6402735871616866, 0.33842731392269265, \"\", 0.8093363821199885, 0.10708565230614325, \"\", 0.9374946364827242, \"\", 0.8825059902617589, \"\", 4.507912346221693, 0.6661197343006833, 1.3572900691122693, \"\", \"\", \"\", 0.0655151664942647, 0.34476934642894885, \"\", \"\", 0.5993615463974054, \"\", 4.151908174721265, 0.8147774489074435, \"\", \"\", 1.486638090512291, \"\", 0.3753321316626902, 1.5946368470526, \"\", \"\", \"\", 0.901750270446501, 0.19777863054409228, \"\", \"\", \"\", 0.23631064241620692, 0.9902736075519664, \"\", 1.1653434799063604, \"\", \"\", 0.12830118708728255, 0.1163068903206762, 0.16356282527709098, \"\", 1.6583134748549235, \"\", \"\", \"\", 1.0862046547698276, \"\", 1.347085442406378, \"\", 1.8407925671497294, \"\", \"\", \"\", 1.844318305321003, \"\", \"\", 0.3406359596722083, 0.15233012979498578, \"\", 0.29452814827148044, 1.0235884993657764, 0.7008106296922806, \"\", \"\", 1.0883713814537062, \"\", 2.042630573485202, 0.2099312125463733, 1.6295137049017734, 2.013037995923698, \"\", 0.9912668271277234, \"\", 0.45914155641797255, 3.2156920644403963, \"\", \"\", 0.8015268931980973, 1.4599963285318813, 1.0804275383371085, \"\", 2.0524633183019714], \"yaxis\": \"y2\"}, {\"connectgaps\": false, \"fill\": \"tozeroy\", \"line\": {\"color\": \"red\", \"dash\": \"solid\", \"shape\": \"linear\", \"width\": 0.5}, \"mode\": \"lines\", \"name\": \"Spread\", \"showlegend\": false, \"type\": \"scatter\", \"x\": [0, 1, 2, 3, 4, 5, 6, 7, 8, 9, 10, 11, 12, 13, 14, 15, 16, 17, 18, 19, 20, 21, 22, 23, 24, 25, 26, 27, 28, 29, 30, 31, 32, 33, 34, 35, 36, 37, 38, 39, 40, 41, 42, 43, 44, 45, 46, 47, 48, 49, 50, 51, 52, 53, 54, 55, 56, 57, 58, 59, 60, 61, 62, 63, 64, 65, 66, 67, 68, 69, 70, 71, 72, 73, 74, 75, 76, 77, 78, 79, 80, 81, 82, 83, 84, 85, 86, 87, 88, 89, 90, 91, 92, 93, 94, 95, 96, 97, 98, 99], \"xaxis\": \"x2\", \"y\": [-0.46565215170200425, -0.89814222324756, \"\", \"\", -1.3955624433855942, -0.3754934540663207, -0.4104921630306704, \"\", -1.8780761058968516, -1.5283177126670342, \"\", \"\", \"\", -1.2131086572326963, \"\", \"\", -1.9866988971346229, \"\", -1.0853070084161511, \"\", -0.013253620716023762, \"\", \"\", \"\", -0.8257899463967168, -1.696653421219283, -0.6586492262067458, \"\", \"\", -1.7511975502179868, -1.0162768162718792, \"\", -1.3984262125145597, \"\", \"\", -0.045471952104181534, -0.29581645433005266, \"\", -1.5368836724853074, \"\", \"\", -3.400000053454498, -0.24855243132769644, -1.482813659383847, \"\", \"\", -0.8795523086321462, -1.2273855446735022, -1.8305102504791502, \"\", \"\", -1.7376257385295515, \"\", -3.238211460444491, -1.1713473400416428, \"\", \"\", \"\", -1.2377738568913823, \"\", -0.6763224028978618, -3.3598684762283, -2.2914529082404096, \"\", -0.1496279835613349, \"\", -0.06108327654407275, \"\", -2.7915628309799163, -3.5854127407321568, -1.5071618081881177, \"\", -0.2630015184360438, -0.7875084705436588, \"\", \"\", -0.013990569071638315, \"\", \"\", \"\", -0.32844308170155134, -0.4503719711390507, \"\", -1.88646708224744, \"\", \"\", \"\", \"\", -1.0708840086308742, \"\", -0.3024415979255254, \"\", \"\", -0.07612091663967016, -0.15026429252500834, \"\", \"\", \"\", -0.489363207820417, \"\"], \"yaxis\": \"y2\"}],\n",
       "                        {\"hovermode\": \"x\", \"legend\": {\"bgcolor\": \"#F5F6F9\", \"font\": {\"color\": \"#4D5663\"}}, \"paper_bgcolor\": \"#F5F6F9\", \"plot_bgcolor\": \"#F5F6F9\", \"template\": {\"data\": {\"bar\": [{\"error_x\": {\"color\": \"#2a3f5f\"}, \"error_y\": {\"color\": \"#2a3f5f\"}, \"marker\": {\"line\": {\"color\": \"#E5ECF6\", \"width\": 0.5}}, \"type\": \"bar\"}], \"barpolar\": [{\"marker\": {\"line\": {\"color\": \"#E5ECF6\", \"width\": 0.5}}, \"type\": \"barpolar\"}], \"carpet\": [{\"aaxis\": {\"endlinecolor\": \"#2a3f5f\", \"gridcolor\": \"white\", \"linecolor\": \"white\", \"minorgridcolor\": \"white\", \"startlinecolor\": \"#2a3f5f\"}, \"baxis\": {\"endlinecolor\": \"#2a3f5f\", \"gridcolor\": \"white\", \"linecolor\": \"white\", \"minorgridcolor\": \"white\", \"startlinecolor\": \"#2a3f5f\"}, \"type\": \"carpet\"}], \"choropleth\": [{\"colorbar\": {\"outlinewidth\": 0, \"ticks\": \"\"}, \"type\": \"choropleth\"}], \"contour\": [{\"colorbar\": {\"outlinewidth\": 0, \"ticks\": \"\"}, \"colorscale\": [[0.0, \"#0d0887\"], [0.1111111111111111, \"#46039f\"], [0.2222222222222222, \"#7201a8\"], [0.3333333333333333, \"#9c179e\"], [0.4444444444444444, \"#bd3786\"], [0.5555555555555556, \"#d8576b\"], [0.6666666666666666, \"#ed7953\"], [0.7777777777777778, \"#fb9f3a\"], [0.8888888888888888, \"#fdca26\"], [1.0, \"#f0f921\"]], \"type\": \"contour\"}], \"contourcarpet\": [{\"colorbar\": {\"outlinewidth\": 0, \"ticks\": \"\"}, \"type\": \"contourcarpet\"}], \"heatmap\": [{\"colorbar\": {\"outlinewidth\": 0, \"ticks\": \"\"}, \"colorscale\": [[0.0, \"#0d0887\"], [0.1111111111111111, \"#46039f\"], [0.2222222222222222, \"#7201a8\"], [0.3333333333333333, \"#9c179e\"], [0.4444444444444444, \"#bd3786\"], [0.5555555555555556, \"#d8576b\"], [0.6666666666666666, \"#ed7953\"], [0.7777777777777778, \"#fb9f3a\"], [0.8888888888888888, \"#fdca26\"], [1.0, \"#f0f921\"]], \"type\": \"heatmap\"}], \"heatmapgl\": [{\"colorbar\": {\"outlinewidth\": 0, \"ticks\": \"\"}, \"colorscale\": [[0.0, \"#0d0887\"], [0.1111111111111111, \"#46039f\"], [0.2222222222222222, \"#7201a8\"], [0.3333333333333333, \"#9c179e\"], [0.4444444444444444, \"#bd3786\"], [0.5555555555555556, \"#d8576b\"], [0.6666666666666666, \"#ed7953\"], [0.7777777777777778, \"#fb9f3a\"], [0.8888888888888888, \"#fdca26\"], [1.0, \"#f0f921\"]], \"type\": \"heatmapgl\"}], \"histogram\": [{\"marker\": {\"colorbar\": {\"outlinewidth\": 0, \"ticks\": \"\"}}, \"type\": \"histogram\"}], \"histogram2d\": [{\"colorbar\": {\"outlinewidth\": 0, \"ticks\": \"\"}, \"colorscale\": [[0.0, \"#0d0887\"], [0.1111111111111111, \"#46039f\"], [0.2222222222222222, \"#7201a8\"], [0.3333333333333333, \"#9c179e\"], [0.4444444444444444, \"#bd3786\"], [0.5555555555555556, \"#d8576b\"], [0.6666666666666666, \"#ed7953\"], [0.7777777777777778, \"#fb9f3a\"], [0.8888888888888888, \"#fdca26\"], [1.0, \"#f0f921\"]], \"type\": \"histogram2d\"}], \"histogram2dcontour\": [{\"colorbar\": {\"outlinewidth\": 0, \"ticks\": \"\"}, \"colorscale\": [[0.0, \"#0d0887\"], [0.1111111111111111, \"#46039f\"], [0.2222222222222222, \"#7201a8\"], [0.3333333333333333, \"#9c179e\"], [0.4444444444444444, \"#bd3786\"], [0.5555555555555556, \"#d8576b\"], [0.6666666666666666, \"#ed7953\"], [0.7777777777777778, \"#fb9f3a\"], [0.8888888888888888, \"#fdca26\"], [1.0, \"#f0f921\"]], \"type\": \"histogram2dcontour\"}], \"mesh3d\": [{\"colorbar\": {\"outlinewidth\": 0, \"ticks\": \"\"}, \"type\": \"mesh3d\"}], \"parcoords\": [{\"line\": {\"colorbar\": {\"outlinewidth\": 0, \"ticks\": \"\"}}, \"type\": \"parcoords\"}], \"pie\": [{\"automargin\": true, \"type\": \"pie\"}], \"scatter\": [{\"marker\": {\"colorbar\": {\"outlinewidth\": 0, \"ticks\": \"\"}}, \"type\": \"scatter\"}], \"scatter3d\": [{\"line\": {\"colorbar\": {\"outlinewidth\": 0, \"ticks\": \"\"}}, \"marker\": {\"colorbar\": {\"outlinewidth\": 0, \"ticks\": \"\"}}, \"type\": \"scatter3d\"}], \"scattercarpet\": [{\"marker\": {\"colorbar\": {\"outlinewidth\": 0, \"ticks\": \"\"}}, \"type\": \"scattercarpet\"}], \"scattergeo\": [{\"marker\": {\"colorbar\": {\"outlinewidth\": 0, \"ticks\": \"\"}}, \"type\": \"scattergeo\"}], \"scattergl\": [{\"marker\": {\"colorbar\": {\"outlinewidth\": 0, \"ticks\": \"\"}}, \"type\": \"scattergl\"}], \"scattermapbox\": [{\"marker\": {\"colorbar\": {\"outlinewidth\": 0, \"ticks\": \"\"}}, \"type\": \"scattermapbox\"}], \"scatterpolar\": [{\"marker\": {\"colorbar\": {\"outlinewidth\": 0, \"ticks\": \"\"}}, \"type\": \"scatterpolar\"}], \"scatterpolargl\": [{\"marker\": {\"colorbar\": {\"outlinewidth\": 0, \"ticks\": \"\"}}, \"type\": \"scatterpolargl\"}], \"scatterternary\": [{\"marker\": {\"colorbar\": {\"outlinewidth\": 0, \"ticks\": \"\"}}, \"type\": \"scatterternary\"}], \"surface\": [{\"colorbar\": {\"outlinewidth\": 0, \"ticks\": \"\"}, \"colorscale\": [[0.0, \"#0d0887\"], [0.1111111111111111, \"#46039f\"], [0.2222222222222222, \"#7201a8\"], [0.3333333333333333, \"#9c179e\"], [0.4444444444444444, \"#bd3786\"], [0.5555555555555556, \"#d8576b\"], [0.6666666666666666, \"#ed7953\"], [0.7777777777777778, \"#fb9f3a\"], [0.8888888888888888, \"#fdca26\"], [1.0, \"#f0f921\"]], \"type\": \"surface\"}], \"table\": [{\"cells\": {\"fill\": {\"color\": \"#EBF0F8\"}, \"line\": {\"color\": \"white\"}}, \"header\": {\"fill\": {\"color\": \"#C8D4E3\"}, \"line\": {\"color\": \"white\"}}, \"type\": \"table\"}]}, \"layout\": {\"annotationdefaults\": {\"arrowcolor\": \"#2a3f5f\", \"arrowhead\": 0, \"arrowwidth\": 1}, \"coloraxis\": {\"colorbar\": {\"outlinewidth\": 0, \"ticks\": \"\"}}, \"colorscale\": {\"diverging\": [[0, \"#8e0152\"], [0.1, \"#c51b7d\"], [0.2, \"#de77ae\"], [0.3, \"#f1b6da\"], [0.4, \"#fde0ef\"], [0.5, \"#f7f7f7\"], [0.6, \"#e6f5d0\"], [0.7, \"#b8e186\"], [0.8, \"#7fbc41\"], [0.9, \"#4d9221\"], [1, \"#276419\"]], \"sequential\": [[0.0, \"#0d0887\"], [0.1111111111111111, \"#46039f\"], [0.2222222222222222, \"#7201a8\"], [0.3333333333333333, \"#9c179e\"], [0.4444444444444444, \"#bd3786\"], [0.5555555555555556, \"#d8576b\"], [0.6666666666666666, \"#ed7953\"], [0.7777777777777778, \"#fb9f3a\"], [0.8888888888888888, \"#fdca26\"], [1.0, \"#f0f921\"]], \"sequentialminus\": [[0.0, \"#0d0887\"], [0.1111111111111111, \"#46039f\"], [0.2222222222222222, \"#7201a8\"], [0.3333333333333333, \"#9c179e\"], [0.4444444444444444, \"#bd3786\"], [0.5555555555555556, \"#d8576b\"], [0.6666666666666666, \"#ed7953\"], [0.7777777777777778, \"#fb9f3a\"], [0.8888888888888888, \"#fdca26\"], [1.0, \"#f0f921\"]]}, \"colorway\": [\"#636efa\", \"#EF553B\", \"#00cc96\", \"#ab63fa\", \"#FFA15A\", \"#19d3f3\", \"#FF6692\", \"#B6E880\", \"#FF97FF\", \"#FECB52\"], \"font\": {\"color\": \"#2a3f5f\"}, \"geo\": {\"bgcolor\": \"white\", \"lakecolor\": \"white\", \"landcolor\": \"#E5ECF6\", \"showlakes\": true, \"showland\": true, \"subunitcolor\": \"white\"}, \"hoverlabel\": {\"align\": \"left\"}, \"hovermode\": \"closest\", \"mapbox\": {\"style\": \"light\"}, \"paper_bgcolor\": \"white\", \"plot_bgcolor\": \"#E5ECF6\", \"polar\": {\"angularaxis\": {\"gridcolor\": \"white\", \"linecolor\": \"white\", \"ticks\": \"\"}, \"bgcolor\": \"#E5ECF6\", \"radialaxis\": {\"gridcolor\": \"white\", \"linecolor\": \"white\", \"ticks\": \"\"}}, \"scene\": {\"xaxis\": {\"backgroundcolor\": \"#E5ECF6\", \"gridcolor\": \"white\", \"gridwidth\": 2, \"linecolor\": \"white\", \"showbackground\": true, \"ticks\": \"\", \"zerolinecolor\": \"white\"}, \"yaxis\": {\"backgroundcolor\": \"#E5ECF6\", \"gridcolor\": \"white\", \"gridwidth\": 2, \"linecolor\": \"white\", \"showbackground\": true, \"ticks\": \"\", \"zerolinecolor\": \"white\"}, \"zaxis\": {\"backgroundcolor\": \"#E5ECF6\", \"gridcolor\": \"white\", \"gridwidth\": 2, \"linecolor\": \"white\", \"showbackground\": true, \"ticks\": \"\", \"zerolinecolor\": \"white\"}}, \"shapedefaults\": {\"line\": {\"color\": \"#2a3f5f\"}}, \"ternary\": {\"aaxis\": {\"gridcolor\": \"white\", \"linecolor\": \"white\", \"ticks\": \"\"}, \"baxis\": {\"gridcolor\": \"white\", \"linecolor\": \"white\", \"ticks\": \"\"}, \"bgcolor\": \"#E5ECF6\", \"caxis\": {\"gridcolor\": \"white\", \"linecolor\": \"white\", \"ticks\": \"\"}}, \"title\": {\"x\": 0.05}, \"xaxis\": {\"automargin\": true, \"gridcolor\": \"white\", \"linecolor\": \"white\", \"ticks\": \"\", \"title\": {\"standoff\": 15}, \"zerolinecolor\": \"white\", \"zerolinewidth\": 2}, \"yaxis\": {\"automargin\": true, \"gridcolor\": \"white\", \"linecolor\": \"white\", \"ticks\": \"\", \"title\": {\"standoff\": 15}, \"zerolinecolor\": \"white\", \"zerolinewidth\": 2}}}, \"title\": {\"font\": {\"color\": \"#4D5663\"}}, \"xaxis\": {\"gridcolor\": \"#E1E5ED\", \"showgrid\": true, \"tickfont\": {\"color\": \"#4D5663\"}, \"title\": {\"font\": {\"color\": \"#4D5663\"}, \"text\": \"\"}, \"zerolinecolor\": \"#E1E5ED\"}, \"xaxis2\": {\"anchor\": \"y2\", \"gridcolor\": \"#E1E5ED\", \"showgrid\": true, \"showticklabels\": false, \"tickfont\": {\"color\": \"#4D5663\"}, \"title\": {\"font\": {\"color\": \"#4D5663\"}, \"text\": \"\"}, \"zerolinecolor\": \"#E1E5ED\"}, \"yaxis\": {\"domain\": [0.3, 1], \"gridcolor\": \"#E1E5ED\", \"showgrid\": true, \"tickfont\": {\"color\": \"#4D5663\"}, \"title\": {\"font\": {\"color\": \"#4D5663\"}, \"text\": \"\"}, \"zerolinecolor\": \"#E1E5ED\"}, \"yaxis2\": {\"domain\": [0, 0.25], \"gridcolor\": \"#E1E5ED\", \"showgrid\": true, \"tickfont\": {\"color\": \"#4D5663\"}, \"title\": {\"font\": {\"color\": \"#4D5663\"}, \"text\": \"Spread\"}, \"zerolinecolor\": \"#E1E5ED\"}},\n",
       "                        {\"showLink\": true, \"linkText\": \"Export to plot.ly\", \"plotlyServerURL\": \"https://plot.ly\", \"responsive\": true}\n",
       "                    ).then(function(){\n",
       "                            \n",
       "var gd = document.getElementById('d00ea2c2-472c-4005-a476-44d55ea71b69');\n",
       "var x = new MutationObserver(function (mutations, observer) {{\n",
       "        var display = window.getComputedStyle(gd).display;\n",
       "        if (!display || display === 'none') {{\n",
       "            console.log([gd, 'removed!']);\n",
       "            Plotly.purge(gd);\n",
       "            observer.disconnect();\n",
       "        }}\n",
       "}});\n",
       "\n",
       "// Listen for the removal of the full notebook cells\n",
       "var notebookContainer = gd.closest('#notebook-container');\n",
       "if (notebookContainer) {{\n",
       "    x.observe(notebookContainer, {childList: true});\n",
       "}}\n",
       "\n",
       "// Listen for the clearing of the current output cell\n",
       "var outputEl = gd.closest('.output');\n",
       "if (outputEl) {{\n",
       "    x.observe(outputEl, {childList: true});\n",
       "}}\n",
       "\n",
       "                        })\n",
       "                };\n",
       "                });\n",
       "            </script>\n",
       "        </div>"
      ]
     },
     "metadata": {},
     "output_type": "display_data"
    }
   ],
   "source": [
    "df[['A','B']].iplot(kind='spread',color='indigo')"
   ]
  },
  {
   "cell_type": "code",
   "execution_count": 30,
   "metadata": {},
   "outputs": [
    {
     "data": {
      "application/vnd.plotly.v1+json": {
       "config": {
        "linkText": "Export to plot.ly",
        "plotlyServerURL": "https://plot.ly",
        "showLink": true
       },
       "data": [
        {
         "histfunc": "count",
         "histnorm": "",
         "marker": {
          "color": "rgba(255, 153, 51, 1.0)",
          "line": {
           "color": "#4D5663",
           "width": 1.3
          }
         },
         "name": "A",
         "nbinsx": 10,
         "opacity": 0.8,
         "orientation": "v",
         "type": "histogram",
         "x": [
          -0.16610363688689225,
          -0.5521200467561026,
          -0.32072301689097243,
          1.0003003046968628,
          -2.2516254604791026,
          -0.6421609543388991,
          -1.4472099947779882,
          -0.13620393460167918,
          -0.5848169421651246,
          -2.3343121377607203,
          0.7045769911864066,
          1.5641538767395509,
          0.13516072316710592,
          0.28401884325871657,
          0.19827951682921566,
          0.39511130031370845,
          -1.6845126169011948,
          1.7526821145707008,
          0.8774483307403921,
          0.836157017411292,
          0.9576375175548147,
          2.327572979958438,
          -0.09201586219373067,
          1.5049485394904945,
          0.6137499890871397,
          -0.23141334285681636,
          -0.3873137293486683,
          0.6665038996871202,
          1.3147726106271649,
          0.3411166578508544,
          -0.7313041972309057,
          0.6374438673125333,
          -1.4268863568083,
          1.2761838902761153,
          0.9224514175204899,
          0.5875380186215396,
          0.9624380244543723,
          -0.028387429045422862,
          -1.7110591691269732,
          0.45768060713546815,
          0.3325008338888872,
          -1.751953272398217,
          0.3727204316081648,
          0.12166865899983588,
          0.6526321680965788,
          -0.07920899553609972,
          -0.5445207532153917,
          -1.6105046471915463,
          -0.2936118804357919,
          0.27986148037476366,
          1.1034013134894871,
          -1.9631465840033653,
          0.43114100186860127,
          -1.235857295974943,
          -1.522723677140059,
          1.2174951715447608,
          0.19372990695871908,
          0.2823849931757263,
          -0.0731218671022487,
          0.7910575601342564,
          -0.6029356378404177,
          -1.7185657936649517,
          -1.1039251574505327,
          2.658810831218528,
          0.8738864116196249,
          -0.35572194094378795,
          0.2340454597606315,
          1.1752802475422055,
          -2.857194818069491,
          -2.600189945808657,
          -1.4129955337744562,
          1.5040243218995208,
          0.4564891038547735,
          -1.0928905726727565,
          1.0934669671611048,
          -0.2952153464804887,
          0.8512281133013911,
          -0.6054409722058584,
          -0.47567754440403875,
          0.6482097649869025,
          0.6347649736514742,
          -0.02784922656797839,
          0.8386088840498142,
          -0.5440691092397063,
          0.6972768207546788,
          0.6093926761521056,
          -0.06405757550025791,
          -0.33223152813714046,
          -0.6681213932531654,
          -0.5803620221889505,
          0.18130261081281787,
          0.9588359075234838,
          2.2614997061951416,
          0.04757386170100405,
          0.3322555579091508,
          1.323477756176155,
          1.0653892403615686,
          0.8465770283086058,
          -0.9181065897100504,
          2.1780189252592024
         ],
         "xaxis": "x",
         "yaxis": "y"
        },
        {
         "line": {
          "color": "rgba(128, 128, 128, 1.0)",
          "dash": "solid",
          "shape": "linear",
          "width": 1.3
         },
         "marker": {
          "size": 2,
          "symbol": "circle"
         },
         "mode": "markers",
         "name": "A",
         "text": "",
         "type": "scatter",
         "x": [
          0.29954851481511197,
          0.3460221764914574,
          -1.4684786291220613,
          -2.3261076380136574,
          -0.8560630170935084,
          -0.2666675002725784,
          -1.0367178317473178,
          -0.1641102056865516,
          1.293259163731727,
          -0.8059944250936861,
          0.16568334726967576,
          0.9238802895778643,
          -0.2032665907555867,
          1.4971275004914129,
          -0.6110568652907729,
          0.2880256480075652,
          0.30218628023342814,
          0.8151874780879765,
          1.962755339156543,
          -0.04634897285046687,
          0.9708911382708385,
          -2.1803393662632553,
          -0.758135596494414,
          0.14765847037822513,
          1.4395399354838565,
          1.4652400783624666,
          0.27133549685807756,
          0.6009887331928555,
          0.970003264198216,
          2.0923142080688413,
          0.28497261904097343,
          0.03808232091512796,
          -0.028460144293740264,
          -2.875724284445149,
          0.1076739686130463,
          0.6330099707257212,
          1.258254478784425,
          -1.5150255195577138,
          -0.17417549664166573,
          0.08234847547277795,
          -1.262136013163713,
          1.6480467810562809,
          0.6212728629358613,
          1.604482318383683,
          -0.2491181023499222,
          -0.276987626080192,
          0.33503155541675445,
          -0.38311910251804393,
          1.5368983700433583,
          0.043550837958556736,
          0.11312770593752079,
          -0.22552084547381376,
          -0.7342024780377591,
          2.002354164469548,
          -0.3513763370984161,
          1.0891939844574783,
          0.07742301663804288,
          0.1188221678986353,
          1.1646519897891336,
          -0.8672559147206672,
          0.0733867650574441,
          1.6413026825633483,
          1.1875277507898772,
          1.5726061764487005,
          1.0235143951809598,
          -1.702807383350166,
          0.29512873630470426,
          -0.665512319607524,
          -0.06563198708957493,
          0.9852227949234997,
          0.09416627441366154,
          -0.34029398342148215,
          0.7194906222908173,
          -0.30538210212909767,
          0.7528310074888965,
          -0.4475454762754745,
          0.8652186823730295,
          -0.8999691204773388,
          -1.4992660437698153,
          -0.052600864705378066,
          0.9632080553530256,
          0.4225227445710723,
          -0.24976249740389195,
          1.3423979730077338,
          -1.345353752730523,
          0.39946146360573226,
          -1.6935712804020313,
          -2.3452695240608383,
          0.40276261537770885,
          -1.571628849316674,
          0.48374420873834323,
          0.49969435110551125,
          -0.9541923582452546,
          0.1236947783406742,
          0.4825198504341591,
          0.5219508629780577,
          -0.3946070881703127,
          -0.23385051002850257,
          -0.42874338188963346,
          0.1255556069572311
         ],
         "xaxis": "x2",
         "y": [
          -0.16610363688689225,
          -0.5521200467561026,
          -0.32072301689097243,
          1.0003003046968628,
          -2.2516254604791026,
          -0.6421609543388991,
          -1.4472099947779882,
          -0.13620393460167918,
          -0.5848169421651246,
          -2.3343121377607203,
          0.7045769911864066,
          1.5641538767395509,
          0.13516072316710592,
          0.28401884325871657,
          0.19827951682921566,
          0.39511130031370845,
          -1.6845126169011948,
          1.7526821145707008,
          0.8774483307403921,
          0.836157017411292,
          0.9576375175548147,
          2.327572979958438,
          -0.09201586219373067,
          1.5049485394904945,
          0.6137499890871397,
          -0.23141334285681636,
          -0.3873137293486683,
          0.6665038996871202,
          1.3147726106271649,
          0.3411166578508544,
          -0.7313041972309057,
          0.6374438673125333,
          -1.4268863568083,
          1.2761838902761153,
          0.9224514175204899,
          0.5875380186215396,
          0.9624380244543723,
          -0.028387429045422862,
          -1.7110591691269732,
          0.45768060713546815,
          0.3325008338888872,
          -1.751953272398217,
          0.3727204316081648,
          0.12166865899983588,
          0.6526321680965788,
          -0.07920899553609972,
          -0.5445207532153917,
          -1.6105046471915463,
          -0.2936118804357919,
          0.27986148037476366,
          1.1034013134894871,
          -1.9631465840033653,
          0.43114100186860127,
          -1.235857295974943,
          -1.522723677140059,
          1.2174951715447608,
          0.19372990695871908,
          0.2823849931757263,
          -0.0731218671022487,
          0.7910575601342564,
          -0.6029356378404177,
          -1.7185657936649517,
          -1.1039251574505327,
          2.658810831218528,
          0.8738864116196249,
          -0.35572194094378795,
          0.2340454597606315,
          1.1752802475422055,
          -2.857194818069491,
          -2.600189945808657,
          -1.4129955337744562,
          1.5040243218995208,
          0.4564891038547735,
          -1.0928905726727565,
          1.0934669671611048,
          -0.2952153464804887,
          0.8512281133013911,
          -0.6054409722058584,
          -0.47567754440403875,
          0.6482097649869025,
          0.6347649736514742,
          -0.02784922656797839,
          0.8386088840498142,
          -0.5440691092397063,
          0.6972768207546788,
          0.6093926761521056,
          -0.06405757550025791,
          -0.33223152813714046,
          -0.6681213932531654,
          -0.5803620221889505,
          0.18130261081281787,
          0.9588359075234838,
          2.2614997061951416,
          0.04757386170100405,
          0.3322555579091508,
          1.323477756176155,
          1.0653892403615686,
          0.8465770283086058,
          -0.9181065897100504,
          2.1780189252592024
         ],
         "yaxis": "y2"
        },
        {
         "line": {
          "color": "rgba(128, 128, 128, 1.0)",
          "dash": "solid",
          "shape": "linear",
          "width": 1.3
         },
         "marker": {
          "size": 2,
          "symbol": "circle"
         },
         "mode": "markers",
         "name": "A",
         "text": "",
         "type": "scatter",
         "x": [
          -0.5315840370366359,
          0.16173480123695258,
          -1.526931646395053,
          0.997242377656304,
          -0.6127806736114583,
          -0.6076059681446834,
          0.9332689822793767,
          0.43980921807417905,
          -0.30645413079830275,
          1.2458900691984305,
          -0.6957604554918259,
          -2.092519940530778,
          -1.1661682788766983,
          0.255104624978084,
          1.647807662409371,
          0.5210976514116537,
          -0.6921604664135697,
          1.1326329108282753,
          1.4451776734049617,
          0.8298433807264687,
          0.4444683646939226,
          -1.0055185800887931,
          -0.29283304255519654,
          0.1419455052444596,
          1.3737548124341294,
          1.0508543291204706,
          0.9498801490995556,
          -0.7404455862246961,
          -0.5255421947954927,
          0.916744385874406,
          -0.15103187217024516,
          0.5861150822660647,
          -0.7158396205909382,
          -0.1273319266696649,
          -0.7246719193641897,
          0.9876656227614199,
          -1.0367306921332464,
          0.5748044139773494,
          0.47094928557209303,
          1.2748763029158383,
          1.2610811112584115,
          0.11994002331706101,
          -1.1081761068456302,
          1.238951702663481,
          -1.2115485857662953,
          1.4136657090476943,
          0.8990156778106935,
          0.2035998460939371,
          0.24441159592290304,
          -0.6704548425930102,
          0.06729811289849236,
          1.571230006517233,
          0.4984922830017379,
          -1.201580984442513,
          -0.9073513360400925,
          0.9516530885677701,
          -1.2492922098024595,
          -0.0220801543063839,
          -2.376519762207996,
          0.5068377026671349,
          -0.518852160856346,
          0.8791920492250621,
          -0.95472187389494,
          0.9829015150187494,
          0.9083135037895894,
          -0.9876265347804443,
          0.7237661118721117,
          -0.21998847029808358,
          0.35479816545788034,
          -0.40174861511152066,
          0.17975264352827378,
          1.1137170160456207,
          -0.8397472638663248,
          -1.9543663324006089,
          -0.2393839379965726,
          1.9339191759410028,
          -0.43836892333319577,
          0.3344786325862197,
          0.4088563144914219,
          -2.0170863656846425,
          0.2201840809385637,
          1.1951916010784036,
          -0.6354650735287152,
          -0.4786980038378098,
          0.18538761734860001,
          -0.07703052731169485,
          -0.5655311347569333,
          0.658303520645014,
          -1.0372927454566931,
          0.8686836229086838,
          0.7496460470741813,
          0.6701395151186833,
          -0.2584094090099108,
          0.3084423241551389,
          -0.866881539195583,
          1.532050241828174,
          -0.6469809777305825,
          0.7602948416168382,
          0.6279171380651485,
          -1.9277658721404594
         ],
         "xaxis": "x3",
         "y": [
          -0.16610363688689225,
          -0.5521200467561026,
          -0.32072301689097243,
          1.0003003046968628,
          -2.2516254604791026,
          -0.6421609543388991,
          -1.4472099947779882,
          -0.13620393460167918,
          -0.5848169421651246,
          -2.3343121377607203,
          0.7045769911864066,
          1.5641538767395509,
          0.13516072316710592,
          0.28401884325871657,
          0.19827951682921566,
          0.39511130031370845,
          -1.6845126169011948,
          1.7526821145707008,
          0.8774483307403921,
          0.836157017411292,
          0.9576375175548147,
          2.327572979958438,
          -0.09201586219373067,
          1.5049485394904945,
          0.6137499890871397,
          -0.23141334285681636,
          -0.3873137293486683,
          0.6665038996871202,
          1.3147726106271649,
          0.3411166578508544,
          -0.7313041972309057,
          0.6374438673125333,
          -1.4268863568083,
          1.2761838902761153,
          0.9224514175204899,
          0.5875380186215396,
          0.9624380244543723,
          -0.028387429045422862,
          -1.7110591691269732,
          0.45768060713546815,
          0.3325008338888872,
          -1.751953272398217,
          0.3727204316081648,
          0.12166865899983588,
          0.6526321680965788,
          -0.07920899553609972,
          -0.5445207532153917,
          -1.6105046471915463,
          -0.2936118804357919,
          0.27986148037476366,
          1.1034013134894871,
          -1.9631465840033653,
          0.43114100186860127,
          -1.235857295974943,
          -1.522723677140059,
          1.2174951715447608,
          0.19372990695871908,
          0.2823849931757263,
          -0.0731218671022487,
          0.7910575601342564,
          -0.6029356378404177,
          -1.7185657936649517,
          -1.1039251574505327,
          2.658810831218528,
          0.8738864116196249,
          -0.35572194094378795,
          0.2340454597606315,
          1.1752802475422055,
          -2.857194818069491,
          -2.600189945808657,
          -1.4129955337744562,
          1.5040243218995208,
          0.4564891038547735,
          -1.0928905726727565,
          1.0934669671611048,
          -0.2952153464804887,
          0.8512281133013911,
          -0.6054409722058584,
          -0.47567754440403875,
          0.6482097649869025,
          0.6347649736514742,
          -0.02784922656797839,
          0.8386088840498142,
          -0.5440691092397063,
          0.6972768207546788,
          0.6093926761521056,
          -0.06405757550025791,
          -0.33223152813714046,
          -0.6681213932531654,
          -0.5803620221889505,
          0.18130261081281787,
          0.9588359075234838,
          2.2614997061951416,
          0.04757386170100405,
          0.3322555579091508,
          1.323477756176155,
          1.0653892403615686,
          0.8465770283086058,
          -0.9181065897100504,
          2.1780189252592024
         ],
         "yaxis": "y3"
        },
        {
         "line": {
          "color": "rgba(128, 128, 128, 1.0)",
          "dash": "solid",
          "shape": "linear",
          "width": 1.3
         },
         "marker": {
          "size": 2,
          "symbol": "circle"
         },
         "mode": "markers",
         "name": "A",
         "text": "",
         "type": "scatter",
         "x": [
          -1.6578640708999872,
          -0.7649732642850833,
          1.6197165520401355,
          0.6948518600793145,
          0.3235947195993021,
          -0.678889379260725,
          -0.3361775580924587,
          -1.4545876441784986,
          0.023108673045135805,
          0.5101867595881933,
          1.708817025073502,
          -0.8869842616981806,
          0.20099256959195583,
          -1.722319649440159,
          -0.2740622325464014,
          -0.36376477466003626,
          0.2954422790986494,
          0.2664542364691161,
          0.4594637388616335,
          1.8204605625865262,
          0.21517302849203657,
          0.9821691075688679,
          -1.2860083169738288,
          -0.305990641431503,
          -1.5308193358988362,
          1.5291123841765684,
          2.5001498653262813,
          0.48181901324010806,
          0.6056507504098625,
          0.20520138555661727,
          0.673657045336006,
          -0.14473040107917046,
          0.0018126574021694651,
          -0.4055122774768075,
          -0.1892016009524528,
          -1.0694261273493544,
          -0.08101890974558021,
          -0.3121409698055496,
          -1.2273820110274363,
          1.9758580909333334,
          2.3135419287863512,
          0.14511856919593644,
          0.24653537785366716,
          0.07410886277200507,
          -1.1125930858431627,
          -1.62096345722258,
          0.12113841093134217,
          0.3449923788579843,
          -1.165854220228875,
          0.4111965624026121,
          -0.521758461920156,
          -1.3467282660705224,
          -1.3464976477819253,
          -0.1334108039228377,
          -0.4131158052454607,
          -1.1849525526202902,
          -2.561228768562345,
          0.5085899679495604,
          0.17624310987041292,
          1.519344047572039,
          0.6664329635293371,
          0.006206355267497318,
          0.6192004542379782,
          -2.1701074059369043,
          1.3628884551809142,
          0.2629358007957257,
          1.7180376557384016,
          -0.12635718606915208,
          0.9603413318049445,
          -1.6294383721721726,
          2.3505547290119964,
          -1.7138265283773322,
          -1.7051456933294868,
          -1.2121786070604732,
          -0.8909519968250951,
          -0.8693751607222012,
          -2.8367209669440276,
          1.6272482826606223,
          -1.7531272081001894,
          -1.1979630187813524,
          -0.5948510747913349,
          1.1767443139944396,
          -0.19532606887327594,
          1.262050591898131,
          1.3038905730529844,
          -0.3518918170124171,
          -0.8458549646081417,
          -0.6645952048914188,
          -0.9670835527418234,
          -0.2249632861563061,
          -1.0738182939561671,
          -1.8601889573189312,
          1.0610754934161017,
          0.0010197261376331136,
          -0.006516285865091261,
          -1.3713686380602395,
          0.3124415434049576,
          1.0396442819329668,
          -0.7238815516848321,
          -0.48597617377374
         ],
         "xaxis": "x4",
         "y": [
          -0.16610363688689225,
          -0.5521200467561026,
          -0.32072301689097243,
          1.0003003046968628,
          -2.2516254604791026,
          -0.6421609543388991,
          -1.4472099947779882,
          -0.13620393460167918,
          -0.5848169421651246,
          -2.3343121377607203,
          0.7045769911864066,
          1.5641538767395509,
          0.13516072316710592,
          0.28401884325871657,
          0.19827951682921566,
          0.39511130031370845,
          -1.6845126169011948,
          1.7526821145707008,
          0.8774483307403921,
          0.836157017411292,
          0.9576375175548147,
          2.327572979958438,
          -0.09201586219373067,
          1.5049485394904945,
          0.6137499890871397,
          -0.23141334285681636,
          -0.3873137293486683,
          0.6665038996871202,
          1.3147726106271649,
          0.3411166578508544,
          -0.7313041972309057,
          0.6374438673125333,
          -1.4268863568083,
          1.2761838902761153,
          0.9224514175204899,
          0.5875380186215396,
          0.9624380244543723,
          -0.028387429045422862,
          -1.7110591691269732,
          0.45768060713546815,
          0.3325008338888872,
          -1.751953272398217,
          0.3727204316081648,
          0.12166865899983588,
          0.6526321680965788,
          -0.07920899553609972,
          -0.5445207532153917,
          -1.6105046471915463,
          -0.2936118804357919,
          0.27986148037476366,
          1.1034013134894871,
          -1.9631465840033653,
          0.43114100186860127,
          -1.235857295974943,
          -1.522723677140059,
          1.2174951715447608,
          0.19372990695871908,
          0.2823849931757263,
          -0.0731218671022487,
          0.7910575601342564,
          -0.6029356378404177,
          -1.7185657936649517,
          -1.1039251574505327,
          2.658810831218528,
          0.8738864116196249,
          -0.35572194094378795,
          0.2340454597606315,
          1.1752802475422055,
          -2.857194818069491,
          -2.600189945808657,
          -1.4129955337744562,
          1.5040243218995208,
          0.4564891038547735,
          -1.0928905726727565,
          1.0934669671611048,
          -0.2952153464804887,
          0.8512281133013911,
          -0.6054409722058584,
          -0.47567754440403875,
          0.6482097649869025,
          0.6347649736514742,
          -0.02784922656797839,
          0.8386088840498142,
          -0.5440691092397063,
          0.6972768207546788,
          0.6093926761521056,
          -0.06405757550025791,
          -0.33223152813714046,
          -0.6681213932531654,
          -0.5803620221889505,
          0.18130261081281787,
          0.9588359075234838,
          2.2614997061951416,
          0.04757386170100405,
          0.3322555579091508,
          1.323477756176155,
          1.0653892403615686,
          0.8465770283086058,
          -0.9181065897100504,
          2.1780189252592024
         ],
         "yaxis": "y4"
        },
        {
         "line": {
          "color": "rgba(128, 128, 128, 1.0)",
          "dash": "solid",
          "shape": "linear",
          "width": 1.3
         },
         "marker": {
          "size": 2,
          "symbol": "circle"
         },
         "mode": "markers",
         "name": "B",
         "text": "",
         "type": "scatter",
         "x": [
          -0.16610363688689225,
          -0.5521200467561026,
          -0.32072301689097243,
          1.0003003046968628,
          -2.2516254604791026,
          -0.6421609543388991,
          -1.4472099947779882,
          -0.13620393460167918,
          -0.5848169421651246,
          -2.3343121377607203,
          0.7045769911864066,
          1.5641538767395509,
          0.13516072316710592,
          0.28401884325871657,
          0.19827951682921566,
          0.39511130031370845,
          -1.6845126169011948,
          1.7526821145707008,
          0.8774483307403921,
          0.836157017411292,
          0.9576375175548147,
          2.327572979958438,
          -0.09201586219373067,
          1.5049485394904945,
          0.6137499890871397,
          -0.23141334285681636,
          -0.3873137293486683,
          0.6665038996871202,
          1.3147726106271649,
          0.3411166578508544,
          -0.7313041972309057,
          0.6374438673125333,
          -1.4268863568083,
          1.2761838902761153,
          0.9224514175204899,
          0.5875380186215396,
          0.9624380244543723,
          -0.028387429045422862,
          -1.7110591691269732,
          0.45768060713546815,
          0.3325008338888872,
          -1.751953272398217,
          0.3727204316081648,
          0.12166865899983588,
          0.6526321680965788,
          -0.07920899553609972,
          -0.5445207532153917,
          -1.6105046471915463,
          -0.2936118804357919,
          0.27986148037476366,
          1.1034013134894871,
          -1.9631465840033653,
          0.43114100186860127,
          -1.235857295974943,
          -1.522723677140059,
          1.2174951715447608,
          0.19372990695871908,
          0.2823849931757263,
          -0.0731218671022487,
          0.7910575601342564,
          -0.6029356378404177,
          -1.7185657936649517,
          -1.1039251574505327,
          2.658810831218528,
          0.8738864116196249,
          -0.35572194094378795,
          0.2340454597606315,
          1.1752802475422055,
          -2.857194818069491,
          -2.600189945808657,
          -1.4129955337744562,
          1.5040243218995208,
          0.4564891038547735,
          -1.0928905726727565,
          1.0934669671611048,
          -0.2952153464804887,
          0.8512281133013911,
          -0.6054409722058584,
          -0.47567754440403875,
          0.6482097649869025,
          0.6347649736514742,
          -0.02784922656797839,
          0.8386088840498142,
          -0.5440691092397063,
          0.6972768207546788,
          0.6093926761521056,
          -0.06405757550025791,
          -0.33223152813714046,
          -0.6681213932531654,
          -0.5803620221889505,
          0.18130261081281787,
          0.9588359075234838,
          2.2614997061951416,
          0.04757386170100405,
          0.3322555579091508,
          1.323477756176155,
          1.0653892403615686,
          0.8465770283086058,
          -0.9181065897100504,
          2.1780189252592024
         ],
         "xaxis": "x5",
         "y": [
          0.29954851481511197,
          0.3460221764914574,
          -1.4684786291220613,
          -2.3261076380136574,
          -0.8560630170935084,
          -0.2666675002725784,
          -1.0367178317473178,
          -0.1641102056865516,
          1.293259163731727,
          -0.8059944250936861,
          0.16568334726967576,
          0.9238802895778643,
          -0.2032665907555867,
          1.4971275004914129,
          -0.6110568652907729,
          0.2880256480075652,
          0.30218628023342814,
          0.8151874780879765,
          1.962755339156543,
          -0.04634897285046687,
          0.9708911382708385,
          -2.1803393662632553,
          -0.758135596494414,
          0.14765847037822513,
          1.4395399354838565,
          1.4652400783624666,
          0.27133549685807756,
          0.6009887331928555,
          0.970003264198216,
          2.0923142080688413,
          0.28497261904097343,
          0.03808232091512796,
          -0.028460144293740264,
          -2.875724284445149,
          0.1076739686130463,
          0.6330099707257212,
          1.258254478784425,
          -1.5150255195577138,
          -0.17417549664166573,
          0.08234847547277795,
          -1.262136013163713,
          1.6480467810562809,
          0.6212728629358613,
          1.604482318383683,
          -0.2491181023499222,
          -0.276987626080192,
          0.33503155541675445,
          -0.38311910251804393,
          1.5368983700433583,
          0.043550837958556736,
          0.11312770593752079,
          -0.22552084547381376,
          -0.7342024780377591,
          2.002354164469548,
          -0.3513763370984161,
          1.0891939844574783,
          0.07742301663804288,
          0.1188221678986353,
          1.1646519897891336,
          -0.8672559147206672,
          0.0733867650574441,
          1.6413026825633483,
          1.1875277507898772,
          1.5726061764487005,
          1.0235143951809598,
          -1.702807383350166,
          0.29512873630470426,
          -0.665512319607524,
          -0.06563198708957493,
          0.9852227949234997,
          0.09416627441366154,
          -0.34029398342148215,
          0.7194906222908173,
          -0.30538210212909767,
          0.7528310074888965,
          -0.4475454762754745,
          0.8652186823730295,
          -0.8999691204773388,
          -1.4992660437698153,
          -0.052600864705378066,
          0.9632080553530256,
          0.4225227445710723,
          -0.24976249740389195,
          1.3423979730077338,
          -1.345353752730523,
          0.39946146360573226,
          -1.6935712804020313,
          -2.3452695240608383,
          0.40276261537770885,
          -1.571628849316674,
          0.48374420873834323,
          0.49969435110551125,
          -0.9541923582452546,
          0.1236947783406742,
          0.4825198504341591,
          0.5219508629780577,
          -0.3946070881703127,
          -0.23385051002850257,
          -0.42874338188963346,
          0.1255556069572311
         ],
         "yaxis": "y5"
        },
        {
         "histfunc": "count",
         "histnorm": "",
         "marker": {
          "color": "rgba(55, 128, 191, 1.0)",
          "line": {
           "color": "#4D5663",
           "width": 1.3
          }
         },
         "name": "B",
         "nbinsx": 10,
         "opacity": 0.8,
         "orientation": "v",
         "type": "histogram",
         "x": [
          0.29954851481511197,
          0.3460221764914574,
          -1.4684786291220613,
          -2.3261076380136574,
          -0.8560630170935084,
          -0.2666675002725784,
          -1.0367178317473178,
          -0.1641102056865516,
          1.293259163731727,
          -0.8059944250936861,
          0.16568334726967576,
          0.9238802895778643,
          -0.2032665907555867,
          1.4971275004914129,
          -0.6110568652907729,
          0.2880256480075652,
          0.30218628023342814,
          0.8151874780879765,
          1.962755339156543,
          -0.04634897285046687,
          0.9708911382708385,
          -2.1803393662632553,
          -0.758135596494414,
          0.14765847037822513,
          1.4395399354838565,
          1.4652400783624666,
          0.27133549685807756,
          0.6009887331928555,
          0.970003264198216,
          2.0923142080688413,
          0.28497261904097343,
          0.03808232091512796,
          -0.028460144293740264,
          -2.875724284445149,
          0.1076739686130463,
          0.6330099707257212,
          1.258254478784425,
          -1.5150255195577138,
          -0.17417549664166573,
          0.08234847547277795,
          -1.262136013163713,
          1.6480467810562809,
          0.6212728629358613,
          1.604482318383683,
          -0.2491181023499222,
          -0.276987626080192,
          0.33503155541675445,
          -0.38311910251804393,
          1.5368983700433583,
          0.043550837958556736,
          0.11312770593752079,
          -0.22552084547381376,
          -0.7342024780377591,
          2.002354164469548,
          -0.3513763370984161,
          1.0891939844574783,
          0.07742301663804288,
          0.1188221678986353,
          1.1646519897891336,
          -0.8672559147206672,
          0.0733867650574441,
          1.6413026825633483,
          1.1875277507898772,
          1.5726061764487005,
          1.0235143951809598,
          -1.702807383350166,
          0.29512873630470426,
          -0.665512319607524,
          -0.06563198708957493,
          0.9852227949234997,
          0.09416627441366154,
          -0.34029398342148215,
          0.7194906222908173,
          -0.30538210212909767,
          0.7528310074888965,
          -0.4475454762754745,
          0.8652186823730295,
          -0.8999691204773388,
          -1.4992660437698153,
          -0.052600864705378066,
          0.9632080553530256,
          0.4225227445710723,
          -0.24976249740389195,
          1.3423979730077338,
          -1.345353752730523,
          0.39946146360573226,
          -1.6935712804020313,
          -2.3452695240608383,
          0.40276261537770885,
          -1.571628849316674,
          0.48374420873834323,
          0.49969435110551125,
          -0.9541923582452546,
          0.1236947783406742,
          0.4825198504341591,
          0.5219508629780577,
          -0.3946070881703127,
          -0.23385051002850257,
          -0.42874338188963346,
          0.1255556069572311
         ],
         "xaxis": "x6",
         "yaxis": "y6"
        },
        {
         "line": {
          "color": "rgba(128, 128, 128, 1.0)",
          "dash": "solid",
          "shape": "linear",
          "width": 1.3
         },
         "marker": {
          "size": 2,
          "symbol": "circle"
         },
         "mode": "markers",
         "name": "B",
         "text": "",
         "type": "scatter",
         "x": [
          -0.5315840370366359,
          0.16173480123695258,
          -1.526931646395053,
          0.997242377656304,
          -0.6127806736114583,
          -0.6076059681446834,
          0.9332689822793767,
          0.43980921807417905,
          -0.30645413079830275,
          1.2458900691984305,
          -0.6957604554918259,
          -2.092519940530778,
          -1.1661682788766983,
          0.255104624978084,
          1.647807662409371,
          0.5210976514116537,
          -0.6921604664135697,
          1.1326329108282753,
          1.4451776734049617,
          0.8298433807264687,
          0.4444683646939226,
          -1.0055185800887931,
          -0.29283304255519654,
          0.1419455052444596,
          1.3737548124341294,
          1.0508543291204706,
          0.9498801490995556,
          -0.7404455862246961,
          -0.5255421947954927,
          0.916744385874406,
          -0.15103187217024516,
          0.5861150822660647,
          -0.7158396205909382,
          -0.1273319266696649,
          -0.7246719193641897,
          0.9876656227614199,
          -1.0367306921332464,
          0.5748044139773494,
          0.47094928557209303,
          1.2748763029158383,
          1.2610811112584115,
          0.11994002331706101,
          -1.1081761068456302,
          1.238951702663481,
          -1.2115485857662953,
          1.4136657090476943,
          0.8990156778106935,
          0.2035998460939371,
          0.24441159592290304,
          -0.6704548425930102,
          0.06729811289849236,
          1.571230006517233,
          0.4984922830017379,
          -1.201580984442513,
          -0.9073513360400925,
          0.9516530885677701,
          -1.2492922098024595,
          -0.0220801543063839,
          -2.376519762207996,
          0.5068377026671349,
          -0.518852160856346,
          0.8791920492250621,
          -0.95472187389494,
          0.9829015150187494,
          0.9083135037895894,
          -0.9876265347804443,
          0.7237661118721117,
          -0.21998847029808358,
          0.35479816545788034,
          -0.40174861511152066,
          0.17975264352827378,
          1.1137170160456207,
          -0.8397472638663248,
          -1.9543663324006089,
          -0.2393839379965726,
          1.9339191759410028,
          -0.43836892333319577,
          0.3344786325862197,
          0.4088563144914219,
          -2.0170863656846425,
          0.2201840809385637,
          1.1951916010784036,
          -0.6354650735287152,
          -0.4786980038378098,
          0.18538761734860001,
          -0.07703052731169485,
          -0.5655311347569333,
          0.658303520645014,
          -1.0372927454566931,
          0.8686836229086838,
          0.7496460470741813,
          0.6701395151186833,
          -0.2584094090099108,
          0.3084423241551389,
          -0.866881539195583,
          1.532050241828174,
          -0.6469809777305825,
          0.7602948416168382,
          0.6279171380651485,
          -1.9277658721404594
         ],
         "xaxis": "x7",
         "y": [
          0.29954851481511197,
          0.3460221764914574,
          -1.4684786291220613,
          -2.3261076380136574,
          -0.8560630170935084,
          -0.2666675002725784,
          -1.0367178317473178,
          -0.1641102056865516,
          1.293259163731727,
          -0.8059944250936861,
          0.16568334726967576,
          0.9238802895778643,
          -0.2032665907555867,
          1.4971275004914129,
          -0.6110568652907729,
          0.2880256480075652,
          0.30218628023342814,
          0.8151874780879765,
          1.962755339156543,
          -0.04634897285046687,
          0.9708911382708385,
          -2.1803393662632553,
          -0.758135596494414,
          0.14765847037822513,
          1.4395399354838565,
          1.4652400783624666,
          0.27133549685807756,
          0.6009887331928555,
          0.970003264198216,
          2.0923142080688413,
          0.28497261904097343,
          0.03808232091512796,
          -0.028460144293740264,
          -2.875724284445149,
          0.1076739686130463,
          0.6330099707257212,
          1.258254478784425,
          -1.5150255195577138,
          -0.17417549664166573,
          0.08234847547277795,
          -1.262136013163713,
          1.6480467810562809,
          0.6212728629358613,
          1.604482318383683,
          -0.2491181023499222,
          -0.276987626080192,
          0.33503155541675445,
          -0.38311910251804393,
          1.5368983700433583,
          0.043550837958556736,
          0.11312770593752079,
          -0.22552084547381376,
          -0.7342024780377591,
          2.002354164469548,
          -0.3513763370984161,
          1.0891939844574783,
          0.07742301663804288,
          0.1188221678986353,
          1.1646519897891336,
          -0.8672559147206672,
          0.0733867650574441,
          1.6413026825633483,
          1.1875277507898772,
          1.5726061764487005,
          1.0235143951809598,
          -1.702807383350166,
          0.29512873630470426,
          -0.665512319607524,
          -0.06563198708957493,
          0.9852227949234997,
          0.09416627441366154,
          -0.34029398342148215,
          0.7194906222908173,
          -0.30538210212909767,
          0.7528310074888965,
          -0.4475454762754745,
          0.8652186823730295,
          -0.8999691204773388,
          -1.4992660437698153,
          -0.052600864705378066,
          0.9632080553530256,
          0.4225227445710723,
          -0.24976249740389195,
          1.3423979730077338,
          -1.345353752730523,
          0.39946146360573226,
          -1.6935712804020313,
          -2.3452695240608383,
          0.40276261537770885,
          -1.571628849316674,
          0.48374420873834323,
          0.49969435110551125,
          -0.9541923582452546,
          0.1236947783406742,
          0.4825198504341591,
          0.5219508629780577,
          -0.3946070881703127,
          -0.23385051002850257,
          -0.42874338188963346,
          0.1255556069572311
         ],
         "yaxis": "y7"
        },
        {
         "line": {
          "color": "rgba(128, 128, 128, 1.0)",
          "dash": "solid",
          "shape": "linear",
          "width": 1.3
         },
         "marker": {
          "size": 2,
          "symbol": "circle"
         },
         "mode": "markers",
         "name": "B",
         "text": "",
         "type": "scatter",
         "x": [
          -1.6578640708999872,
          -0.7649732642850833,
          1.6197165520401355,
          0.6948518600793145,
          0.3235947195993021,
          -0.678889379260725,
          -0.3361775580924587,
          -1.4545876441784986,
          0.023108673045135805,
          0.5101867595881933,
          1.708817025073502,
          -0.8869842616981806,
          0.20099256959195583,
          -1.722319649440159,
          -0.2740622325464014,
          -0.36376477466003626,
          0.2954422790986494,
          0.2664542364691161,
          0.4594637388616335,
          1.8204605625865262,
          0.21517302849203657,
          0.9821691075688679,
          -1.2860083169738288,
          -0.305990641431503,
          -1.5308193358988362,
          1.5291123841765684,
          2.5001498653262813,
          0.48181901324010806,
          0.6056507504098625,
          0.20520138555661727,
          0.673657045336006,
          -0.14473040107917046,
          0.0018126574021694651,
          -0.4055122774768075,
          -0.1892016009524528,
          -1.0694261273493544,
          -0.08101890974558021,
          -0.3121409698055496,
          -1.2273820110274363,
          1.9758580909333334,
          2.3135419287863512,
          0.14511856919593644,
          0.24653537785366716,
          0.07410886277200507,
          -1.1125930858431627,
          -1.62096345722258,
          0.12113841093134217,
          0.3449923788579843,
          -1.165854220228875,
          0.4111965624026121,
          -0.521758461920156,
          -1.3467282660705224,
          -1.3464976477819253,
          -0.1334108039228377,
          -0.4131158052454607,
          -1.1849525526202902,
          -2.561228768562345,
          0.5085899679495604,
          0.17624310987041292,
          1.519344047572039,
          0.6664329635293371,
          0.006206355267497318,
          0.6192004542379782,
          -2.1701074059369043,
          1.3628884551809142,
          0.2629358007957257,
          1.7180376557384016,
          -0.12635718606915208,
          0.9603413318049445,
          -1.6294383721721726,
          2.3505547290119964,
          -1.7138265283773322,
          -1.7051456933294868,
          -1.2121786070604732,
          -0.8909519968250951,
          -0.8693751607222012,
          -2.8367209669440276,
          1.6272482826606223,
          -1.7531272081001894,
          -1.1979630187813524,
          -0.5948510747913349,
          1.1767443139944396,
          -0.19532606887327594,
          1.262050591898131,
          1.3038905730529844,
          -0.3518918170124171,
          -0.8458549646081417,
          -0.6645952048914188,
          -0.9670835527418234,
          -0.2249632861563061,
          -1.0738182939561671,
          -1.8601889573189312,
          1.0610754934161017,
          0.0010197261376331136,
          -0.006516285865091261,
          -1.3713686380602395,
          0.3124415434049576,
          1.0396442819329668,
          -0.7238815516848321,
          -0.48597617377374
         ],
         "xaxis": "x8",
         "y": [
          0.29954851481511197,
          0.3460221764914574,
          -1.4684786291220613,
          -2.3261076380136574,
          -0.8560630170935084,
          -0.2666675002725784,
          -1.0367178317473178,
          -0.1641102056865516,
          1.293259163731727,
          -0.8059944250936861,
          0.16568334726967576,
          0.9238802895778643,
          -0.2032665907555867,
          1.4971275004914129,
          -0.6110568652907729,
          0.2880256480075652,
          0.30218628023342814,
          0.8151874780879765,
          1.962755339156543,
          -0.04634897285046687,
          0.9708911382708385,
          -2.1803393662632553,
          -0.758135596494414,
          0.14765847037822513,
          1.4395399354838565,
          1.4652400783624666,
          0.27133549685807756,
          0.6009887331928555,
          0.970003264198216,
          2.0923142080688413,
          0.28497261904097343,
          0.03808232091512796,
          -0.028460144293740264,
          -2.875724284445149,
          0.1076739686130463,
          0.6330099707257212,
          1.258254478784425,
          -1.5150255195577138,
          -0.17417549664166573,
          0.08234847547277795,
          -1.262136013163713,
          1.6480467810562809,
          0.6212728629358613,
          1.604482318383683,
          -0.2491181023499222,
          -0.276987626080192,
          0.33503155541675445,
          -0.38311910251804393,
          1.5368983700433583,
          0.043550837958556736,
          0.11312770593752079,
          -0.22552084547381376,
          -0.7342024780377591,
          2.002354164469548,
          -0.3513763370984161,
          1.0891939844574783,
          0.07742301663804288,
          0.1188221678986353,
          1.1646519897891336,
          -0.8672559147206672,
          0.0733867650574441,
          1.6413026825633483,
          1.1875277507898772,
          1.5726061764487005,
          1.0235143951809598,
          -1.702807383350166,
          0.29512873630470426,
          -0.665512319607524,
          -0.06563198708957493,
          0.9852227949234997,
          0.09416627441366154,
          -0.34029398342148215,
          0.7194906222908173,
          -0.30538210212909767,
          0.7528310074888965,
          -0.4475454762754745,
          0.8652186823730295,
          -0.8999691204773388,
          -1.4992660437698153,
          -0.052600864705378066,
          0.9632080553530256,
          0.4225227445710723,
          -0.24976249740389195,
          1.3423979730077338,
          -1.345353752730523,
          0.39946146360573226,
          -1.6935712804020313,
          -2.3452695240608383,
          0.40276261537770885,
          -1.571628849316674,
          0.48374420873834323,
          0.49969435110551125,
          -0.9541923582452546,
          0.1236947783406742,
          0.4825198504341591,
          0.5219508629780577,
          -0.3946070881703127,
          -0.23385051002850257,
          -0.42874338188963346,
          0.1255556069572311
         ],
         "yaxis": "y8"
        },
        {
         "line": {
          "color": "rgba(128, 128, 128, 1.0)",
          "dash": "solid",
          "shape": "linear",
          "width": 1.3
         },
         "marker": {
          "size": 2,
          "symbol": "circle"
         },
         "mode": "markers",
         "name": "C",
         "text": "",
         "type": "scatter",
         "x": [
          -0.16610363688689225,
          -0.5521200467561026,
          -0.32072301689097243,
          1.0003003046968628,
          -2.2516254604791026,
          -0.6421609543388991,
          -1.4472099947779882,
          -0.13620393460167918,
          -0.5848169421651246,
          -2.3343121377607203,
          0.7045769911864066,
          1.5641538767395509,
          0.13516072316710592,
          0.28401884325871657,
          0.19827951682921566,
          0.39511130031370845,
          -1.6845126169011948,
          1.7526821145707008,
          0.8774483307403921,
          0.836157017411292,
          0.9576375175548147,
          2.327572979958438,
          -0.09201586219373067,
          1.5049485394904945,
          0.6137499890871397,
          -0.23141334285681636,
          -0.3873137293486683,
          0.6665038996871202,
          1.3147726106271649,
          0.3411166578508544,
          -0.7313041972309057,
          0.6374438673125333,
          -1.4268863568083,
          1.2761838902761153,
          0.9224514175204899,
          0.5875380186215396,
          0.9624380244543723,
          -0.028387429045422862,
          -1.7110591691269732,
          0.45768060713546815,
          0.3325008338888872,
          -1.751953272398217,
          0.3727204316081648,
          0.12166865899983588,
          0.6526321680965788,
          -0.07920899553609972,
          -0.5445207532153917,
          -1.6105046471915463,
          -0.2936118804357919,
          0.27986148037476366,
          1.1034013134894871,
          -1.9631465840033653,
          0.43114100186860127,
          -1.235857295974943,
          -1.522723677140059,
          1.2174951715447608,
          0.19372990695871908,
          0.2823849931757263,
          -0.0731218671022487,
          0.7910575601342564,
          -0.6029356378404177,
          -1.7185657936649517,
          -1.1039251574505327,
          2.658810831218528,
          0.8738864116196249,
          -0.35572194094378795,
          0.2340454597606315,
          1.1752802475422055,
          -2.857194818069491,
          -2.600189945808657,
          -1.4129955337744562,
          1.5040243218995208,
          0.4564891038547735,
          -1.0928905726727565,
          1.0934669671611048,
          -0.2952153464804887,
          0.8512281133013911,
          -0.6054409722058584,
          -0.47567754440403875,
          0.6482097649869025,
          0.6347649736514742,
          -0.02784922656797839,
          0.8386088840498142,
          -0.5440691092397063,
          0.6972768207546788,
          0.6093926761521056,
          -0.06405757550025791,
          -0.33223152813714046,
          -0.6681213932531654,
          -0.5803620221889505,
          0.18130261081281787,
          0.9588359075234838,
          2.2614997061951416,
          0.04757386170100405,
          0.3322555579091508,
          1.323477756176155,
          1.0653892403615686,
          0.8465770283086058,
          -0.9181065897100504,
          2.1780189252592024
         ],
         "xaxis": "x9",
         "y": [
          -0.5315840370366359,
          0.16173480123695258,
          -1.526931646395053,
          0.997242377656304,
          -0.6127806736114583,
          -0.6076059681446834,
          0.9332689822793767,
          0.43980921807417905,
          -0.30645413079830275,
          1.2458900691984305,
          -0.6957604554918259,
          -2.092519940530778,
          -1.1661682788766983,
          0.255104624978084,
          1.647807662409371,
          0.5210976514116537,
          -0.6921604664135697,
          1.1326329108282753,
          1.4451776734049617,
          0.8298433807264687,
          0.4444683646939226,
          -1.0055185800887931,
          -0.29283304255519654,
          0.1419455052444596,
          1.3737548124341294,
          1.0508543291204706,
          0.9498801490995556,
          -0.7404455862246961,
          -0.5255421947954927,
          0.916744385874406,
          -0.15103187217024516,
          0.5861150822660647,
          -0.7158396205909382,
          -0.1273319266696649,
          -0.7246719193641897,
          0.9876656227614199,
          -1.0367306921332464,
          0.5748044139773494,
          0.47094928557209303,
          1.2748763029158383,
          1.2610811112584115,
          0.11994002331706101,
          -1.1081761068456302,
          1.238951702663481,
          -1.2115485857662953,
          1.4136657090476943,
          0.8990156778106935,
          0.2035998460939371,
          0.24441159592290304,
          -0.6704548425930102,
          0.06729811289849236,
          1.571230006517233,
          0.4984922830017379,
          -1.201580984442513,
          -0.9073513360400925,
          0.9516530885677701,
          -1.2492922098024595,
          -0.0220801543063839,
          -2.376519762207996,
          0.5068377026671349,
          -0.518852160856346,
          0.8791920492250621,
          -0.95472187389494,
          0.9829015150187494,
          0.9083135037895894,
          -0.9876265347804443,
          0.7237661118721117,
          -0.21998847029808358,
          0.35479816545788034,
          -0.40174861511152066,
          0.17975264352827378,
          1.1137170160456207,
          -0.8397472638663248,
          -1.9543663324006089,
          -0.2393839379965726,
          1.9339191759410028,
          -0.43836892333319577,
          0.3344786325862197,
          0.4088563144914219,
          -2.0170863656846425,
          0.2201840809385637,
          1.1951916010784036,
          -0.6354650735287152,
          -0.4786980038378098,
          0.18538761734860001,
          -0.07703052731169485,
          -0.5655311347569333,
          0.658303520645014,
          -1.0372927454566931,
          0.8686836229086838,
          0.7496460470741813,
          0.6701395151186833,
          -0.2584094090099108,
          0.3084423241551389,
          -0.866881539195583,
          1.532050241828174,
          -0.6469809777305825,
          0.7602948416168382,
          0.6279171380651485,
          -1.9277658721404594
         ],
         "yaxis": "y9"
        },
        {
         "line": {
          "color": "rgba(128, 128, 128, 1.0)",
          "dash": "solid",
          "shape": "linear",
          "width": 1.3
         },
         "marker": {
          "size": 2,
          "symbol": "circle"
         },
         "mode": "markers",
         "name": "C",
         "text": "",
         "type": "scatter",
         "x": [
          0.29954851481511197,
          0.3460221764914574,
          -1.4684786291220613,
          -2.3261076380136574,
          -0.8560630170935084,
          -0.2666675002725784,
          -1.0367178317473178,
          -0.1641102056865516,
          1.293259163731727,
          -0.8059944250936861,
          0.16568334726967576,
          0.9238802895778643,
          -0.2032665907555867,
          1.4971275004914129,
          -0.6110568652907729,
          0.2880256480075652,
          0.30218628023342814,
          0.8151874780879765,
          1.962755339156543,
          -0.04634897285046687,
          0.9708911382708385,
          -2.1803393662632553,
          -0.758135596494414,
          0.14765847037822513,
          1.4395399354838565,
          1.4652400783624666,
          0.27133549685807756,
          0.6009887331928555,
          0.970003264198216,
          2.0923142080688413,
          0.28497261904097343,
          0.03808232091512796,
          -0.028460144293740264,
          -2.875724284445149,
          0.1076739686130463,
          0.6330099707257212,
          1.258254478784425,
          -1.5150255195577138,
          -0.17417549664166573,
          0.08234847547277795,
          -1.262136013163713,
          1.6480467810562809,
          0.6212728629358613,
          1.604482318383683,
          -0.2491181023499222,
          -0.276987626080192,
          0.33503155541675445,
          -0.38311910251804393,
          1.5368983700433583,
          0.043550837958556736,
          0.11312770593752079,
          -0.22552084547381376,
          -0.7342024780377591,
          2.002354164469548,
          -0.3513763370984161,
          1.0891939844574783,
          0.07742301663804288,
          0.1188221678986353,
          1.1646519897891336,
          -0.8672559147206672,
          0.0733867650574441,
          1.6413026825633483,
          1.1875277507898772,
          1.5726061764487005,
          1.0235143951809598,
          -1.702807383350166,
          0.29512873630470426,
          -0.665512319607524,
          -0.06563198708957493,
          0.9852227949234997,
          0.09416627441366154,
          -0.34029398342148215,
          0.7194906222908173,
          -0.30538210212909767,
          0.7528310074888965,
          -0.4475454762754745,
          0.8652186823730295,
          -0.8999691204773388,
          -1.4992660437698153,
          -0.052600864705378066,
          0.9632080553530256,
          0.4225227445710723,
          -0.24976249740389195,
          1.3423979730077338,
          -1.345353752730523,
          0.39946146360573226,
          -1.6935712804020313,
          -2.3452695240608383,
          0.40276261537770885,
          -1.571628849316674,
          0.48374420873834323,
          0.49969435110551125,
          -0.9541923582452546,
          0.1236947783406742,
          0.4825198504341591,
          0.5219508629780577,
          -0.3946070881703127,
          -0.23385051002850257,
          -0.42874338188963346,
          0.1255556069572311
         ],
         "xaxis": "x10",
         "y": [
          -0.5315840370366359,
          0.16173480123695258,
          -1.526931646395053,
          0.997242377656304,
          -0.6127806736114583,
          -0.6076059681446834,
          0.9332689822793767,
          0.43980921807417905,
          -0.30645413079830275,
          1.2458900691984305,
          -0.6957604554918259,
          -2.092519940530778,
          -1.1661682788766983,
          0.255104624978084,
          1.647807662409371,
          0.5210976514116537,
          -0.6921604664135697,
          1.1326329108282753,
          1.4451776734049617,
          0.8298433807264687,
          0.4444683646939226,
          -1.0055185800887931,
          -0.29283304255519654,
          0.1419455052444596,
          1.3737548124341294,
          1.0508543291204706,
          0.9498801490995556,
          -0.7404455862246961,
          -0.5255421947954927,
          0.916744385874406,
          -0.15103187217024516,
          0.5861150822660647,
          -0.7158396205909382,
          -0.1273319266696649,
          -0.7246719193641897,
          0.9876656227614199,
          -1.0367306921332464,
          0.5748044139773494,
          0.47094928557209303,
          1.2748763029158383,
          1.2610811112584115,
          0.11994002331706101,
          -1.1081761068456302,
          1.238951702663481,
          -1.2115485857662953,
          1.4136657090476943,
          0.8990156778106935,
          0.2035998460939371,
          0.24441159592290304,
          -0.6704548425930102,
          0.06729811289849236,
          1.571230006517233,
          0.4984922830017379,
          -1.201580984442513,
          -0.9073513360400925,
          0.9516530885677701,
          -1.2492922098024595,
          -0.0220801543063839,
          -2.376519762207996,
          0.5068377026671349,
          -0.518852160856346,
          0.8791920492250621,
          -0.95472187389494,
          0.9829015150187494,
          0.9083135037895894,
          -0.9876265347804443,
          0.7237661118721117,
          -0.21998847029808358,
          0.35479816545788034,
          -0.40174861511152066,
          0.17975264352827378,
          1.1137170160456207,
          -0.8397472638663248,
          -1.9543663324006089,
          -0.2393839379965726,
          1.9339191759410028,
          -0.43836892333319577,
          0.3344786325862197,
          0.4088563144914219,
          -2.0170863656846425,
          0.2201840809385637,
          1.1951916010784036,
          -0.6354650735287152,
          -0.4786980038378098,
          0.18538761734860001,
          -0.07703052731169485,
          -0.5655311347569333,
          0.658303520645014,
          -1.0372927454566931,
          0.8686836229086838,
          0.7496460470741813,
          0.6701395151186833,
          -0.2584094090099108,
          0.3084423241551389,
          -0.866881539195583,
          1.532050241828174,
          -0.6469809777305825,
          0.7602948416168382,
          0.6279171380651485,
          -1.9277658721404594
         ],
         "yaxis": "y10"
        },
        {
         "histfunc": "count",
         "histnorm": "",
         "marker": {
          "color": "rgba(50, 171, 96, 1.0)",
          "line": {
           "color": "#4D5663",
           "width": 1.3
          }
         },
         "name": "C",
         "nbinsx": 10,
         "opacity": 0.8,
         "orientation": "v",
         "type": "histogram",
         "x": [
          -0.5315840370366359,
          0.16173480123695258,
          -1.526931646395053,
          0.997242377656304,
          -0.6127806736114583,
          -0.6076059681446834,
          0.9332689822793767,
          0.43980921807417905,
          -0.30645413079830275,
          1.2458900691984305,
          -0.6957604554918259,
          -2.092519940530778,
          -1.1661682788766983,
          0.255104624978084,
          1.647807662409371,
          0.5210976514116537,
          -0.6921604664135697,
          1.1326329108282753,
          1.4451776734049617,
          0.8298433807264687,
          0.4444683646939226,
          -1.0055185800887931,
          -0.29283304255519654,
          0.1419455052444596,
          1.3737548124341294,
          1.0508543291204706,
          0.9498801490995556,
          -0.7404455862246961,
          -0.5255421947954927,
          0.916744385874406,
          -0.15103187217024516,
          0.5861150822660647,
          -0.7158396205909382,
          -0.1273319266696649,
          -0.7246719193641897,
          0.9876656227614199,
          -1.0367306921332464,
          0.5748044139773494,
          0.47094928557209303,
          1.2748763029158383,
          1.2610811112584115,
          0.11994002331706101,
          -1.1081761068456302,
          1.238951702663481,
          -1.2115485857662953,
          1.4136657090476943,
          0.8990156778106935,
          0.2035998460939371,
          0.24441159592290304,
          -0.6704548425930102,
          0.06729811289849236,
          1.571230006517233,
          0.4984922830017379,
          -1.201580984442513,
          -0.9073513360400925,
          0.9516530885677701,
          -1.2492922098024595,
          -0.0220801543063839,
          -2.376519762207996,
          0.5068377026671349,
          -0.518852160856346,
          0.8791920492250621,
          -0.95472187389494,
          0.9829015150187494,
          0.9083135037895894,
          -0.9876265347804443,
          0.7237661118721117,
          -0.21998847029808358,
          0.35479816545788034,
          -0.40174861511152066,
          0.17975264352827378,
          1.1137170160456207,
          -0.8397472638663248,
          -1.9543663324006089,
          -0.2393839379965726,
          1.9339191759410028,
          -0.43836892333319577,
          0.3344786325862197,
          0.4088563144914219,
          -2.0170863656846425,
          0.2201840809385637,
          1.1951916010784036,
          -0.6354650735287152,
          -0.4786980038378098,
          0.18538761734860001,
          -0.07703052731169485,
          -0.5655311347569333,
          0.658303520645014,
          -1.0372927454566931,
          0.8686836229086838,
          0.7496460470741813,
          0.6701395151186833,
          -0.2584094090099108,
          0.3084423241551389,
          -0.866881539195583,
          1.532050241828174,
          -0.6469809777305825,
          0.7602948416168382,
          0.6279171380651485,
          -1.9277658721404594
         ],
         "xaxis": "x11",
         "yaxis": "y11"
        },
        {
         "line": {
          "color": "rgba(128, 128, 128, 1.0)",
          "dash": "solid",
          "shape": "linear",
          "width": 1.3
         },
         "marker": {
          "size": 2,
          "symbol": "circle"
         },
         "mode": "markers",
         "name": "C",
         "text": "",
         "type": "scatter",
         "x": [
          -1.6578640708999872,
          -0.7649732642850833,
          1.6197165520401355,
          0.6948518600793145,
          0.3235947195993021,
          -0.678889379260725,
          -0.3361775580924587,
          -1.4545876441784986,
          0.023108673045135805,
          0.5101867595881933,
          1.708817025073502,
          -0.8869842616981806,
          0.20099256959195583,
          -1.722319649440159,
          -0.2740622325464014,
          -0.36376477466003626,
          0.2954422790986494,
          0.2664542364691161,
          0.4594637388616335,
          1.8204605625865262,
          0.21517302849203657,
          0.9821691075688679,
          -1.2860083169738288,
          -0.305990641431503,
          -1.5308193358988362,
          1.5291123841765684,
          2.5001498653262813,
          0.48181901324010806,
          0.6056507504098625,
          0.20520138555661727,
          0.673657045336006,
          -0.14473040107917046,
          0.0018126574021694651,
          -0.4055122774768075,
          -0.1892016009524528,
          -1.0694261273493544,
          -0.08101890974558021,
          -0.3121409698055496,
          -1.2273820110274363,
          1.9758580909333334,
          2.3135419287863512,
          0.14511856919593644,
          0.24653537785366716,
          0.07410886277200507,
          -1.1125930858431627,
          -1.62096345722258,
          0.12113841093134217,
          0.3449923788579843,
          -1.165854220228875,
          0.4111965624026121,
          -0.521758461920156,
          -1.3467282660705224,
          -1.3464976477819253,
          -0.1334108039228377,
          -0.4131158052454607,
          -1.1849525526202902,
          -2.561228768562345,
          0.5085899679495604,
          0.17624310987041292,
          1.519344047572039,
          0.6664329635293371,
          0.006206355267497318,
          0.6192004542379782,
          -2.1701074059369043,
          1.3628884551809142,
          0.2629358007957257,
          1.7180376557384016,
          -0.12635718606915208,
          0.9603413318049445,
          -1.6294383721721726,
          2.3505547290119964,
          -1.7138265283773322,
          -1.7051456933294868,
          -1.2121786070604732,
          -0.8909519968250951,
          -0.8693751607222012,
          -2.8367209669440276,
          1.6272482826606223,
          -1.7531272081001894,
          -1.1979630187813524,
          -0.5948510747913349,
          1.1767443139944396,
          -0.19532606887327594,
          1.262050591898131,
          1.3038905730529844,
          -0.3518918170124171,
          -0.8458549646081417,
          -0.6645952048914188,
          -0.9670835527418234,
          -0.2249632861563061,
          -1.0738182939561671,
          -1.8601889573189312,
          1.0610754934161017,
          0.0010197261376331136,
          -0.006516285865091261,
          -1.3713686380602395,
          0.3124415434049576,
          1.0396442819329668,
          -0.7238815516848321,
          -0.48597617377374
         ],
         "xaxis": "x12",
         "y": [
          -0.5315840370366359,
          0.16173480123695258,
          -1.526931646395053,
          0.997242377656304,
          -0.6127806736114583,
          -0.6076059681446834,
          0.9332689822793767,
          0.43980921807417905,
          -0.30645413079830275,
          1.2458900691984305,
          -0.6957604554918259,
          -2.092519940530778,
          -1.1661682788766983,
          0.255104624978084,
          1.647807662409371,
          0.5210976514116537,
          -0.6921604664135697,
          1.1326329108282753,
          1.4451776734049617,
          0.8298433807264687,
          0.4444683646939226,
          -1.0055185800887931,
          -0.29283304255519654,
          0.1419455052444596,
          1.3737548124341294,
          1.0508543291204706,
          0.9498801490995556,
          -0.7404455862246961,
          -0.5255421947954927,
          0.916744385874406,
          -0.15103187217024516,
          0.5861150822660647,
          -0.7158396205909382,
          -0.1273319266696649,
          -0.7246719193641897,
          0.9876656227614199,
          -1.0367306921332464,
          0.5748044139773494,
          0.47094928557209303,
          1.2748763029158383,
          1.2610811112584115,
          0.11994002331706101,
          -1.1081761068456302,
          1.238951702663481,
          -1.2115485857662953,
          1.4136657090476943,
          0.8990156778106935,
          0.2035998460939371,
          0.24441159592290304,
          -0.6704548425930102,
          0.06729811289849236,
          1.571230006517233,
          0.4984922830017379,
          -1.201580984442513,
          -0.9073513360400925,
          0.9516530885677701,
          -1.2492922098024595,
          -0.0220801543063839,
          -2.376519762207996,
          0.5068377026671349,
          -0.518852160856346,
          0.8791920492250621,
          -0.95472187389494,
          0.9829015150187494,
          0.9083135037895894,
          -0.9876265347804443,
          0.7237661118721117,
          -0.21998847029808358,
          0.35479816545788034,
          -0.40174861511152066,
          0.17975264352827378,
          1.1137170160456207,
          -0.8397472638663248,
          -1.9543663324006089,
          -0.2393839379965726,
          1.9339191759410028,
          -0.43836892333319577,
          0.3344786325862197,
          0.4088563144914219,
          -2.0170863656846425,
          0.2201840809385637,
          1.1951916010784036,
          -0.6354650735287152,
          -0.4786980038378098,
          0.18538761734860001,
          -0.07703052731169485,
          -0.5655311347569333,
          0.658303520645014,
          -1.0372927454566931,
          0.8686836229086838,
          0.7496460470741813,
          0.6701395151186833,
          -0.2584094090099108,
          0.3084423241551389,
          -0.866881539195583,
          1.532050241828174,
          -0.6469809777305825,
          0.7602948416168382,
          0.6279171380651485,
          -1.9277658721404594
         ],
         "yaxis": "y12"
        },
        {
         "line": {
          "color": "rgba(128, 128, 128, 1.0)",
          "dash": "solid",
          "shape": "linear",
          "width": 1.3
         },
         "marker": {
          "size": 2,
          "symbol": "circle"
         },
         "mode": "markers",
         "name": "D",
         "text": "",
         "type": "scatter",
         "x": [
          -0.16610363688689225,
          -0.5521200467561026,
          -0.32072301689097243,
          1.0003003046968628,
          -2.2516254604791026,
          -0.6421609543388991,
          -1.4472099947779882,
          -0.13620393460167918,
          -0.5848169421651246,
          -2.3343121377607203,
          0.7045769911864066,
          1.5641538767395509,
          0.13516072316710592,
          0.28401884325871657,
          0.19827951682921566,
          0.39511130031370845,
          -1.6845126169011948,
          1.7526821145707008,
          0.8774483307403921,
          0.836157017411292,
          0.9576375175548147,
          2.327572979958438,
          -0.09201586219373067,
          1.5049485394904945,
          0.6137499890871397,
          -0.23141334285681636,
          -0.3873137293486683,
          0.6665038996871202,
          1.3147726106271649,
          0.3411166578508544,
          -0.7313041972309057,
          0.6374438673125333,
          -1.4268863568083,
          1.2761838902761153,
          0.9224514175204899,
          0.5875380186215396,
          0.9624380244543723,
          -0.028387429045422862,
          -1.7110591691269732,
          0.45768060713546815,
          0.3325008338888872,
          -1.751953272398217,
          0.3727204316081648,
          0.12166865899983588,
          0.6526321680965788,
          -0.07920899553609972,
          -0.5445207532153917,
          -1.6105046471915463,
          -0.2936118804357919,
          0.27986148037476366,
          1.1034013134894871,
          -1.9631465840033653,
          0.43114100186860127,
          -1.235857295974943,
          -1.522723677140059,
          1.2174951715447608,
          0.19372990695871908,
          0.2823849931757263,
          -0.0731218671022487,
          0.7910575601342564,
          -0.6029356378404177,
          -1.7185657936649517,
          -1.1039251574505327,
          2.658810831218528,
          0.8738864116196249,
          -0.35572194094378795,
          0.2340454597606315,
          1.1752802475422055,
          -2.857194818069491,
          -2.600189945808657,
          -1.4129955337744562,
          1.5040243218995208,
          0.4564891038547735,
          -1.0928905726727565,
          1.0934669671611048,
          -0.2952153464804887,
          0.8512281133013911,
          -0.6054409722058584,
          -0.47567754440403875,
          0.6482097649869025,
          0.6347649736514742,
          -0.02784922656797839,
          0.8386088840498142,
          -0.5440691092397063,
          0.6972768207546788,
          0.6093926761521056,
          -0.06405757550025791,
          -0.33223152813714046,
          -0.6681213932531654,
          -0.5803620221889505,
          0.18130261081281787,
          0.9588359075234838,
          2.2614997061951416,
          0.04757386170100405,
          0.3322555579091508,
          1.323477756176155,
          1.0653892403615686,
          0.8465770283086058,
          -0.9181065897100504,
          2.1780189252592024
         ],
         "xaxis": "x13",
         "y": [
          -1.6578640708999872,
          -0.7649732642850833,
          1.6197165520401355,
          0.6948518600793145,
          0.3235947195993021,
          -0.678889379260725,
          -0.3361775580924587,
          -1.4545876441784986,
          0.023108673045135805,
          0.5101867595881933,
          1.708817025073502,
          -0.8869842616981806,
          0.20099256959195583,
          -1.722319649440159,
          -0.2740622325464014,
          -0.36376477466003626,
          0.2954422790986494,
          0.2664542364691161,
          0.4594637388616335,
          1.8204605625865262,
          0.21517302849203657,
          0.9821691075688679,
          -1.2860083169738288,
          -0.305990641431503,
          -1.5308193358988362,
          1.5291123841765684,
          2.5001498653262813,
          0.48181901324010806,
          0.6056507504098625,
          0.20520138555661727,
          0.673657045336006,
          -0.14473040107917046,
          0.0018126574021694651,
          -0.4055122774768075,
          -0.1892016009524528,
          -1.0694261273493544,
          -0.08101890974558021,
          -0.3121409698055496,
          -1.2273820110274363,
          1.9758580909333334,
          2.3135419287863512,
          0.14511856919593644,
          0.24653537785366716,
          0.07410886277200507,
          -1.1125930858431627,
          -1.62096345722258,
          0.12113841093134217,
          0.3449923788579843,
          -1.165854220228875,
          0.4111965624026121,
          -0.521758461920156,
          -1.3467282660705224,
          -1.3464976477819253,
          -0.1334108039228377,
          -0.4131158052454607,
          -1.1849525526202902,
          -2.561228768562345,
          0.5085899679495604,
          0.17624310987041292,
          1.519344047572039,
          0.6664329635293371,
          0.006206355267497318,
          0.6192004542379782,
          -2.1701074059369043,
          1.3628884551809142,
          0.2629358007957257,
          1.7180376557384016,
          -0.12635718606915208,
          0.9603413318049445,
          -1.6294383721721726,
          2.3505547290119964,
          -1.7138265283773322,
          -1.7051456933294868,
          -1.2121786070604732,
          -0.8909519968250951,
          -0.8693751607222012,
          -2.8367209669440276,
          1.6272482826606223,
          -1.7531272081001894,
          -1.1979630187813524,
          -0.5948510747913349,
          1.1767443139944396,
          -0.19532606887327594,
          1.262050591898131,
          1.3038905730529844,
          -0.3518918170124171,
          -0.8458549646081417,
          -0.6645952048914188,
          -0.9670835527418234,
          -0.2249632861563061,
          -1.0738182939561671,
          -1.8601889573189312,
          1.0610754934161017,
          0.0010197261376331136,
          -0.006516285865091261,
          -1.3713686380602395,
          0.3124415434049576,
          1.0396442819329668,
          -0.7238815516848321,
          -0.48597617377374
         ],
         "yaxis": "y13"
        },
        {
         "line": {
          "color": "rgba(128, 128, 128, 1.0)",
          "dash": "solid",
          "shape": "linear",
          "width": 1.3
         },
         "marker": {
          "size": 2,
          "symbol": "circle"
         },
         "mode": "markers",
         "name": "D",
         "text": "",
         "type": "scatter",
         "x": [
          0.29954851481511197,
          0.3460221764914574,
          -1.4684786291220613,
          -2.3261076380136574,
          -0.8560630170935084,
          -0.2666675002725784,
          -1.0367178317473178,
          -0.1641102056865516,
          1.293259163731727,
          -0.8059944250936861,
          0.16568334726967576,
          0.9238802895778643,
          -0.2032665907555867,
          1.4971275004914129,
          -0.6110568652907729,
          0.2880256480075652,
          0.30218628023342814,
          0.8151874780879765,
          1.962755339156543,
          -0.04634897285046687,
          0.9708911382708385,
          -2.1803393662632553,
          -0.758135596494414,
          0.14765847037822513,
          1.4395399354838565,
          1.4652400783624666,
          0.27133549685807756,
          0.6009887331928555,
          0.970003264198216,
          2.0923142080688413,
          0.28497261904097343,
          0.03808232091512796,
          -0.028460144293740264,
          -2.875724284445149,
          0.1076739686130463,
          0.6330099707257212,
          1.258254478784425,
          -1.5150255195577138,
          -0.17417549664166573,
          0.08234847547277795,
          -1.262136013163713,
          1.6480467810562809,
          0.6212728629358613,
          1.604482318383683,
          -0.2491181023499222,
          -0.276987626080192,
          0.33503155541675445,
          -0.38311910251804393,
          1.5368983700433583,
          0.043550837958556736,
          0.11312770593752079,
          -0.22552084547381376,
          -0.7342024780377591,
          2.002354164469548,
          -0.3513763370984161,
          1.0891939844574783,
          0.07742301663804288,
          0.1188221678986353,
          1.1646519897891336,
          -0.8672559147206672,
          0.0733867650574441,
          1.6413026825633483,
          1.1875277507898772,
          1.5726061764487005,
          1.0235143951809598,
          -1.702807383350166,
          0.29512873630470426,
          -0.665512319607524,
          -0.06563198708957493,
          0.9852227949234997,
          0.09416627441366154,
          -0.34029398342148215,
          0.7194906222908173,
          -0.30538210212909767,
          0.7528310074888965,
          -0.4475454762754745,
          0.8652186823730295,
          -0.8999691204773388,
          -1.4992660437698153,
          -0.052600864705378066,
          0.9632080553530256,
          0.4225227445710723,
          -0.24976249740389195,
          1.3423979730077338,
          -1.345353752730523,
          0.39946146360573226,
          -1.6935712804020313,
          -2.3452695240608383,
          0.40276261537770885,
          -1.571628849316674,
          0.48374420873834323,
          0.49969435110551125,
          -0.9541923582452546,
          0.1236947783406742,
          0.4825198504341591,
          0.5219508629780577,
          -0.3946070881703127,
          -0.23385051002850257,
          -0.42874338188963346,
          0.1255556069572311
         ],
         "xaxis": "x14",
         "y": [
          -1.6578640708999872,
          -0.7649732642850833,
          1.6197165520401355,
          0.6948518600793145,
          0.3235947195993021,
          -0.678889379260725,
          -0.3361775580924587,
          -1.4545876441784986,
          0.023108673045135805,
          0.5101867595881933,
          1.708817025073502,
          -0.8869842616981806,
          0.20099256959195583,
          -1.722319649440159,
          -0.2740622325464014,
          -0.36376477466003626,
          0.2954422790986494,
          0.2664542364691161,
          0.4594637388616335,
          1.8204605625865262,
          0.21517302849203657,
          0.9821691075688679,
          -1.2860083169738288,
          -0.305990641431503,
          -1.5308193358988362,
          1.5291123841765684,
          2.5001498653262813,
          0.48181901324010806,
          0.6056507504098625,
          0.20520138555661727,
          0.673657045336006,
          -0.14473040107917046,
          0.0018126574021694651,
          -0.4055122774768075,
          -0.1892016009524528,
          -1.0694261273493544,
          -0.08101890974558021,
          -0.3121409698055496,
          -1.2273820110274363,
          1.9758580909333334,
          2.3135419287863512,
          0.14511856919593644,
          0.24653537785366716,
          0.07410886277200507,
          -1.1125930858431627,
          -1.62096345722258,
          0.12113841093134217,
          0.3449923788579843,
          -1.165854220228875,
          0.4111965624026121,
          -0.521758461920156,
          -1.3467282660705224,
          -1.3464976477819253,
          -0.1334108039228377,
          -0.4131158052454607,
          -1.1849525526202902,
          -2.561228768562345,
          0.5085899679495604,
          0.17624310987041292,
          1.519344047572039,
          0.6664329635293371,
          0.006206355267497318,
          0.6192004542379782,
          -2.1701074059369043,
          1.3628884551809142,
          0.2629358007957257,
          1.7180376557384016,
          -0.12635718606915208,
          0.9603413318049445,
          -1.6294383721721726,
          2.3505547290119964,
          -1.7138265283773322,
          -1.7051456933294868,
          -1.2121786070604732,
          -0.8909519968250951,
          -0.8693751607222012,
          -2.8367209669440276,
          1.6272482826606223,
          -1.7531272081001894,
          -1.1979630187813524,
          -0.5948510747913349,
          1.1767443139944396,
          -0.19532606887327594,
          1.262050591898131,
          1.3038905730529844,
          -0.3518918170124171,
          -0.8458549646081417,
          -0.6645952048914188,
          -0.9670835527418234,
          -0.2249632861563061,
          -1.0738182939561671,
          -1.8601889573189312,
          1.0610754934161017,
          0.0010197261376331136,
          -0.006516285865091261,
          -1.3713686380602395,
          0.3124415434049576,
          1.0396442819329668,
          -0.7238815516848321,
          -0.48597617377374
         ],
         "yaxis": "y14"
        },
        {
         "line": {
          "color": "rgba(128, 128, 128, 1.0)",
          "dash": "solid",
          "shape": "linear",
          "width": 1.3
         },
         "marker": {
          "size": 2,
          "symbol": "circle"
         },
         "mode": "markers",
         "name": "D",
         "text": "",
         "type": "scatter",
         "x": [
          -0.5315840370366359,
          0.16173480123695258,
          -1.526931646395053,
          0.997242377656304,
          -0.6127806736114583,
          -0.6076059681446834,
          0.9332689822793767,
          0.43980921807417905,
          -0.30645413079830275,
          1.2458900691984305,
          -0.6957604554918259,
          -2.092519940530778,
          -1.1661682788766983,
          0.255104624978084,
          1.647807662409371,
          0.5210976514116537,
          -0.6921604664135697,
          1.1326329108282753,
          1.4451776734049617,
          0.8298433807264687,
          0.4444683646939226,
          -1.0055185800887931,
          -0.29283304255519654,
          0.1419455052444596,
          1.3737548124341294,
          1.0508543291204706,
          0.9498801490995556,
          -0.7404455862246961,
          -0.5255421947954927,
          0.916744385874406,
          -0.15103187217024516,
          0.5861150822660647,
          -0.7158396205909382,
          -0.1273319266696649,
          -0.7246719193641897,
          0.9876656227614199,
          -1.0367306921332464,
          0.5748044139773494,
          0.47094928557209303,
          1.2748763029158383,
          1.2610811112584115,
          0.11994002331706101,
          -1.1081761068456302,
          1.238951702663481,
          -1.2115485857662953,
          1.4136657090476943,
          0.8990156778106935,
          0.2035998460939371,
          0.24441159592290304,
          -0.6704548425930102,
          0.06729811289849236,
          1.571230006517233,
          0.4984922830017379,
          -1.201580984442513,
          -0.9073513360400925,
          0.9516530885677701,
          -1.2492922098024595,
          -0.0220801543063839,
          -2.376519762207996,
          0.5068377026671349,
          -0.518852160856346,
          0.8791920492250621,
          -0.95472187389494,
          0.9829015150187494,
          0.9083135037895894,
          -0.9876265347804443,
          0.7237661118721117,
          -0.21998847029808358,
          0.35479816545788034,
          -0.40174861511152066,
          0.17975264352827378,
          1.1137170160456207,
          -0.8397472638663248,
          -1.9543663324006089,
          -0.2393839379965726,
          1.9339191759410028,
          -0.43836892333319577,
          0.3344786325862197,
          0.4088563144914219,
          -2.0170863656846425,
          0.2201840809385637,
          1.1951916010784036,
          -0.6354650735287152,
          -0.4786980038378098,
          0.18538761734860001,
          -0.07703052731169485,
          -0.5655311347569333,
          0.658303520645014,
          -1.0372927454566931,
          0.8686836229086838,
          0.7496460470741813,
          0.6701395151186833,
          -0.2584094090099108,
          0.3084423241551389,
          -0.866881539195583,
          1.532050241828174,
          -0.6469809777305825,
          0.7602948416168382,
          0.6279171380651485,
          -1.9277658721404594
         ],
         "xaxis": "x15",
         "y": [
          -1.6578640708999872,
          -0.7649732642850833,
          1.6197165520401355,
          0.6948518600793145,
          0.3235947195993021,
          -0.678889379260725,
          -0.3361775580924587,
          -1.4545876441784986,
          0.023108673045135805,
          0.5101867595881933,
          1.708817025073502,
          -0.8869842616981806,
          0.20099256959195583,
          -1.722319649440159,
          -0.2740622325464014,
          -0.36376477466003626,
          0.2954422790986494,
          0.2664542364691161,
          0.4594637388616335,
          1.8204605625865262,
          0.21517302849203657,
          0.9821691075688679,
          -1.2860083169738288,
          -0.305990641431503,
          -1.5308193358988362,
          1.5291123841765684,
          2.5001498653262813,
          0.48181901324010806,
          0.6056507504098625,
          0.20520138555661727,
          0.673657045336006,
          -0.14473040107917046,
          0.0018126574021694651,
          -0.4055122774768075,
          -0.1892016009524528,
          -1.0694261273493544,
          -0.08101890974558021,
          -0.3121409698055496,
          -1.2273820110274363,
          1.9758580909333334,
          2.3135419287863512,
          0.14511856919593644,
          0.24653537785366716,
          0.07410886277200507,
          -1.1125930858431627,
          -1.62096345722258,
          0.12113841093134217,
          0.3449923788579843,
          -1.165854220228875,
          0.4111965624026121,
          -0.521758461920156,
          -1.3467282660705224,
          -1.3464976477819253,
          -0.1334108039228377,
          -0.4131158052454607,
          -1.1849525526202902,
          -2.561228768562345,
          0.5085899679495604,
          0.17624310987041292,
          1.519344047572039,
          0.6664329635293371,
          0.006206355267497318,
          0.6192004542379782,
          -2.1701074059369043,
          1.3628884551809142,
          0.2629358007957257,
          1.7180376557384016,
          -0.12635718606915208,
          0.9603413318049445,
          -1.6294383721721726,
          2.3505547290119964,
          -1.7138265283773322,
          -1.7051456933294868,
          -1.2121786070604732,
          -0.8909519968250951,
          -0.8693751607222012,
          -2.8367209669440276,
          1.6272482826606223,
          -1.7531272081001894,
          -1.1979630187813524,
          -0.5948510747913349,
          1.1767443139944396,
          -0.19532606887327594,
          1.262050591898131,
          1.3038905730529844,
          -0.3518918170124171,
          -0.8458549646081417,
          -0.6645952048914188,
          -0.9670835527418234,
          -0.2249632861563061,
          -1.0738182939561671,
          -1.8601889573189312,
          1.0610754934161017,
          0.0010197261376331136,
          -0.006516285865091261,
          -1.3713686380602395,
          0.3124415434049576,
          1.0396442819329668,
          -0.7238815516848321,
          -0.48597617377374
         ],
         "yaxis": "y15"
        },
        {
         "histfunc": "count",
         "histnorm": "",
         "marker": {
          "color": "rgba(128, 0, 128, 1.0)",
          "line": {
           "color": "#4D5663",
           "width": 1.3
          }
         },
         "name": "D",
         "nbinsx": 10,
         "opacity": 0.8,
         "orientation": "v",
         "type": "histogram",
         "x": [
          -1.6578640708999872,
          -0.7649732642850833,
          1.6197165520401355,
          0.6948518600793145,
          0.3235947195993021,
          -0.678889379260725,
          -0.3361775580924587,
          -1.4545876441784986,
          0.023108673045135805,
          0.5101867595881933,
          1.708817025073502,
          -0.8869842616981806,
          0.20099256959195583,
          -1.722319649440159,
          -0.2740622325464014,
          -0.36376477466003626,
          0.2954422790986494,
          0.2664542364691161,
          0.4594637388616335,
          1.8204605625865262,
          0.21517302849203657,
          0.9821691075688679,
          -1.2860083169738288,
          -0.305990641431503,
          -1.5308193358988362,
          1.5291123841765684,
          2.5001498653262813,
          0.48181901324010806,
          0.6056507504098625,
          0.20520138555661727,
          0.673657045336006,
          -0.14473040107917046,
          0.0018126574021694651,
          -0.4055122774768075,
          -0.1892016009524528,
          -1.0694261273493544,
          -0.08101890974558021,
          -0.3121409698055496,
          -1.2273820110274363,
          1.9758580909333334,
          2.3135419287863512,
          0.14511856919593644,
          0.24653537785366716,
          0.07410886277200507,
          -1.1125930858431627,
          -1.62096345722258,
          0.12113841093134217,
          0.3449923788579843,
          -1.165854220228875,
          0.4111965624026121,
          -0.521758461920156,
          -1.3467282660705224,
          -1.3464976477819253,
          -0.1334108039228377,
          -0.4131158052454607,
          -1.1849525526202902,
          -2.561228768562345,
          0.5085899679495604,
          0.17624310987041292,
          1.519344047572039,
          0.6664329635293371,
          0.006206355267497318,
          0.6192004542379782,
          -2.1701074059369043,
          1.3628884551809142,
          0.2629358007957257,
          1.7180376557384016,
          -0.12635718606915208,
          0.9603413318049445,
          -1.6294383721721726,
          2.3505547290119964,
          -1.7138265283773322,
          -1.7051456933294868,
          -1.2121786070604732,
          -0.8909519968250951,
          -0.8693751607222012,
          -2.8367209669440276,
          1.6272482826606223,
          -1.7531272081001894,
          -1.1979630187813524,
          -0.5948510747913349,
          1.1767443139944396,
          -0.19532606887327594,
          1.262050591898131,
          1.3038905730529844,
          -0.3518918170124171,
          -0.8458549646081417,
          -0.6645952048914188,
          -0.9670835527418234,
          -0.2249632861563061,
          -1.0738182939561671,
          -1.8601889573189312,
          1.0610754934161017,
          0.0010197261376331136,
          -0.006516285865091261,
          -1.3713686380602395,
          0.3124415434049576,
          1.0396442819329668,
          -0.7238815516848321,
          -0.48597617377374
         ],
         "xaxis": "x16",
         "yaxis": "y16"
        }
       ],
       "layout": {
        "bargap": 0.02,
        "legend": {
         "bgcolor": "#F5F6F9",
         "font": {
          "color": "#4D5663"
         }
        },
        "paper_bgcolor": "#F5F6F9",
        "plot_bgcolor": "#F5F6F9",
        "showlegend": false,
        "template": {
         "data": {
          "bar": [
           {
            "error_x": {
             "color": "#2a3f5f"
            },
            "error_y": {
             "color": "#2a3f5f"
            },
            "marker": {
             "line": {
              "color": "#E5ECF6",
              "width": 0.5
             }
            },
            "type": "bar"
           }
          ],
          "barpolar": [
           {
            "marker": {
             "line": {
              "color": "#E5ECF6",
              "width": 0.5
             }
            },
            "type": "barpolar"
           }
          ],
          "carpet": [
           {
            "aaxis": {
             "endlinecolor": "#2a3f5f",
             "gridcolor": "white",
             "linecolor": "white",
             "minorgridcolor": "white",
             "startlinecolor": "#2a3f5f"
            },
            "baxis": {
             "endlinecolor": "#2a3f5f",
             "gridcolor": "white",
             "linecolor": "white",
             "minorgridcolor": "white",
             "startlinecolor": "#2a3f5f"
            },
            "type": "carpet"
           }
          ],
          "choropleth": [
           {
            "colorbar": {
             "outlinewidth": 0,
             "ticks": ""
            },
            "type": "choropleth"
           }
          ],
          "contour": [
           {
            "colorbar": {
             "outlinewidth": 0,
             "ticks": ""
            },
            "colorscale": [
             [
              0,
              "#0d0887"
             ],
             [
              0.1111111111111111,
              "#46039f"
             ],
             [
              0.2222222222222222,
              "#7201a8"
             ],
             [
              0.3333333333333333,
              "#9c179e"
             ],
             [
              0.4444444444444444,
              "#bd3786"
             ],
             [
              0.5555555555555556,
              "#d8576b"
             ],
             [
              0.6666666666666666,
              "#ed7953"
             ],
             [
              0.7777777777777778,
              "#fb9f3a"
             ],
             [
              0.8888888888888888,
              "#fdca26"
             ],
             [
              1,
              "#f0f921"
             ]
            ],
            "type": "contour"
           }
          ],
          "contourcarpet": [
           {
            "colorbar": {
             "outlinewidth": 0,
             "ticks": ""
            },
            "type": "contourcarpet"
           }
          ],
          "heatmap": [
           {
            "colorbar": {
             "outlinewidth": 0,
             "ticks": ""
            },
            "colorscale": [
             [
              0,
              "#0d0887"
             ],
             [
              0.1111111111111111,
              "#46039f"
             ],
             [
              0.2222222222222222,
              "#7201a8"
             ],
             [
              0.3333333333333333,
              "#9c179e"
             ],
             [
              0.4444444444444444,
              "#bd3786"
             ],
             [
              0.5555555555555556,
              "#d8576b"
             ],
             [
              0.6666666666666666,
              "#ed7953"
             ],
             [
              0.7777777777777778,
              "#fb9f3a"
             ],
             [
              0.8888888888888888,
              "#fdca26"
             ],
             [
              1,
              "#f0f921"
             ]
            ],
            "type": "heatmap"
           }
          ],
          "heatmapgl": [
           {
            "colorbar": {
             "outlinewidth": 0,
             "ticks": ""
            },
            "colorscale": [
             [
              0,
              "#0d0887"
             ],
             [
              0.1111111111111111,
              "#46039f"
             ],
             [
              0.2222222222222222,
              "#7201a8"
             ],
             [
              0.3333333333333333,
              "#9c179e"
             ],
             [
              0.4444444444444444,
              "#bd3786"
             ],
             [
              0.5555555555555556,
              "#d8576b"
             ],
             [
              0.6666666666666666,
              "#ed7953"
             ],
             [
              0.7777777777777778,
              "#fb9f3a"
             ],
             [
              0.8888888888888888,
              "#fdca26"
             ],
             [
              1,
              "#f0f921"
             ]
            ],
            "type": "heatmapgl"
           }
          ],
          "histogram": [
           {
            "marker": {
             "colorbar": {
              "outlinewidth": 0,
              "ticks": ""
             }
            },
            "type": "histogram"
           }
          ],
          "histogram2d": [
           {
            "colorbar": {
             "outlinewidth": 0,
             "ticks": ""
            },
            "colorscale": [
             [
              0,
              "#0d0887"
             ],
             [
              0.1111111111111111,
              "#46039f"
             ],
             [
              0.2222222222222222,
              "#7201a8"
             ],
             [
              0.3333333333333333,
              "#9c179e"
             ],
             [
              0.4444444444444444,
              "#bd3786"
             ],
             [
              0.5555555555555556,
              "#d8576b"
             ],
             [
              0.6666666666666666,
              "#ed7953"
             ],
             [
              0.7777777777777778,
              "#fb9f3a"
             ],
             [
              0.8888888888888888,
              "#fdca26"
             ],
             [
              1,
              "#f0f921"
             ]
            ],
            "type": "histogram2d"
           }
          ],
          "histogram2dcontour": [
           {
            "colorbar": {
             "outlinewidth": 0,
             "ticks": ""
            },
            "colorscale": [
             [
              0,
              "#0d0887"
             ],
             [
              0.1111111111111111,
              "#46039f"
             ],
             [
              0.2222222222222222,
              "#7201a8"
             ],
             [
              0.3333333333333333,
              "#9c179e"
             ],
             [
              0.4444444444444444,
              "#bd3786"
             ],
             [
              0.5555555555555556,
              "#d8576b"
             ],
             [
              0.6666666666666666,
              "#ed7953"
             ],
             [
              0.7777777777777778,
              "#fb9f3a"
             ],
             [
              0.8888888888888888,
              "#fdca26"
             ],
             [
              1,
              "#f0f921"
             ]
            ],
            "type": "histogram2dcontour"
           }
          ],
          "mesh3d": [
           {
            "colorbar": {
             "outlinewidth": 0,
             "ticks": ""
            },
            "type": "mesh3d"
           }
          ],
          "parcoords": [
           {
            "line": {
             "colorbar": {
              "outlinewidth": 0,
              "ticks": ""
             }
            },
            "type": "parcoords"
           }
          ],
          "pie": [
           {
            "automargin": true,
            "type": "pie"
           }
          ],
          "scatter": [
           {
            "marker": {
             "colorbar": {
              "outlinewidth": 0,
              "ticks": ""
             }
            },
            "type": "scatter"
           }
          ],
          "scatter3d": [
           {
            "line": {
             "colorbar": {
              "outlinewidth": 0,
              "ticks": ""
             }
            },
            "marker": {
             "colorbar": {
              "outlinewidth": 0,
              "ticks": ""
             }
            },
            "type": "scatter3d"
           }
          ],
          "scattercarpet": [
           {
            "marker": {
             "colorbar": {
              "outlinewidth": 0,
              "ticks": ""
             }
            },
            "type": "scattercarpet"
           }
          ],
          "scattergeo": [
           {
            "marker": {
             "colorbar": {
              "outlinewidth": 0,
              "ticks": ""
             }
            },
            "type": "scattergeo"
           }
          ],
          "scattergl": [
           {
            "marker": {
             "colorbar": {
              "outlinewidth": 0,
              "ticks": ""
             }
            },
            "type": "scattergl"
           }
          ],
          "scattermapbox": [
           {
            "marker": {
             "colorbar": {
              "outlinewidth": 0,
              "ticks": ""
             }
            },
            "type": "scattermapbox"
           }
          ],
          "scatterpolar": [
           {
            "marker": {
             "colorbar": {
              "outlinewidth": 0,
              "ticks": ""
             }
            },
            "type": "scatterpolar"
           }
          ],
          "scatterpolargl": [
           {
            "marker": {
             "colorbar": {
              "outlinewidth": 0,
              "ticks": ""
             }
            },
            "type": "scatterpolargl"
           }
          ],
          "scatterternary": [
           {
            "marker": {
             "colorbar": {
              "outlinewidth": 0,
              "ticks": ""
             }
            },
            "type": "scatterternary"
           }
          ],
          "surface": [
           {
            "colorbar": {
             "outlinewidth": 0,
             "ticks": ""
            },
            "colorscale": [
             [
              0,
              "#0d0887"
             ],
             [
              0.1111111111111111,
              "#46039f"
             ],
             [
              0.2222222222222222,
              "#7201a8"
             ],
             [
              0.3333333333333333,
              "#9c179e"
             ],
             [
              0.4444444444444444,
              "#bd3786"
             ],
             [
              0.5555555555555556,
              "#d8576b"
             ],
             [
              0.6666666666666666,
              "#ed7953"
             ],
             [
              0.7777777777777778,
              "#fb9f3a"
             ],
             [
              0.8888888888888888,
              "#fdca26"
             ],
             [
              1,
              "#f0f921"
             ]
            ],
            "type": "surface"
           }
          ],
          "table": [
           {
            "cells": {
             "fill": {
              "color": "#EBF0F8"
             },
             "line": {
              "color": "white"
             }
            },
            "header": {
             "fill": {
              "color": "#C8D4E3"
             },
             "line": {
              "color": "white"
             }
            },
            "type": "table"
           }
          ]
         },
         "layout": {
          "annotationdefaults": {
           "arrowcolor": "#2a3f5f",
           "arrowhead": 0,
           "arrowwidth": 1
          },
          "coloraxis": {
           "colorbar": {
            "outlinewidth": 0,
            "ticks": ""
           }
          },
          "colorscale": {
           "diverging": [
            [
             0,
             "#8e0152"
            ],
            [
             0.1,
             "#c51b7d"
            ],
            [
             0.2,
             "#de77ae"
            ],
            [
             0.3,
             "#f1b6da"
            ],
            [
             0.4,
             "#fde0ef"
            ],
            [
             0.5,
             "#f7f7f7"
            ],
            [
             0.6,
             "#e6f5d0"
            ],
            [
             0.7,
             "#b8e186"
            ],
            [
             0.8,
             "#7fbc41"
            ],
            [
             0.9,
             "#4d9221"
            ],
            [
             1,
             "#276419"
            ]
           ],
           "sequential": [
            [
             0,
             "#0d0887"
            ],
            [
             0.1111111111111111,
             "#46039f"
            ],
            [
             0.2222222222222222,
             "#7201a8"
            ],
            [
             0.3333333333333333,
             "#9c179e"
            ],
            [
             0.4444444444444444,
             "#bd3786"
            ],
            [
             0.5555555555555556,
             "#d8576b"
            ],
            [
             0.6666666666666666,
             "#ed7953"
            ],
            [
             0.7777777777777778,
             "#fb9f3a"
            ],
            [
             0.8888888888888888,
             "#fdca26"
            ],
            [
             1,
             "#f0f921"
            ]
           ],
           "sequentialminus": [
            [
             0,
             "#0d0887"
            ],
            [
             0.1111111111111111,
             "#46039f"
            ],
            [
             0.2222222222222222,
             "#7201a8"
            ],
            [
             0.3333333333333333,
             "#9c179e"
            ],
            [
             0.4444444444444444,
             "#bd3786"
            ],
            [
             0.5555555555555556,
             "#d8576b"
            ],
            [
             0.6666666666666666,
             "#ed7953"
            ],
            [
             0.7777777777777778,
             "#fb9f3a"
            ],
            [
             0.8888888888888888,
             "#fdca26"
            ],
            [
             1,
             "#f0f921"
            ]
           ]
          },
          "colorway": [
           "#636efa",
           "#EF553B",
           "#00cc96",
           "#ab63fa",
           "#FFA15A",
           "#19d3f3",
           "#FF6692",
           "#B6E880",
           "#FF97FF",
           "#FECB52"
          ],
          "font": {
           "color": "#2a3f5f"
          },
          "geo": {
           "bgcolor": "white",
           "lakecolor": "white",
           "landcolor": "#E5ECF6",
           "showlakes": true,
           "showland": true,
           "subunitcolor": "white"
          },
          "hoverlabel": {
           "align": "left"
          },
          "hovermode": "closest",
          "mapbox": {
           "style": "light"
          },
          "paper_bgcolor": "white",
          "plot_bgcolor": "#E5ECF6",
          "polar": {
           "angularaxis": {
            "gridcolor": "white",
            "linecolor": "white",
            "ticks": ""
           },
           "bgcolor": "#E5ECF6",
           "radialaxis": {
            "gridcolor": "white",
            "linecolor": "white",
            "ticks": ""
           }
          },
          "scene": {
           "xaxis": {
            "backgroundcolor": "#E5ECF6",
            "gridcolor": "white",
            "gridwidth": 2,
            "linecolor": "white",
            "showbackground": true,
            "ticks": "",
            "zerolinecolor": "white"
           },
           "yaxis": {
            "backgroundcolor": "#E5ECF6",
            "gridcolor": "white",
            "gridwidth": 2,
            "linecolor": "white",
            "showbackground": true,
            "ticks": "",
            "zerolinecolor": "white"
           },
           "zaxis": {
            "backgroundcolor": "#E5ECF6",
            "gridcolor": "white",
            "gridwidth": 2,
            "linecolor": "white",
            "showbackground": true,
            "ticks": "",
            "zerolinecolor": "white"
           }
          },
          "shapedefaults": {
           "line": {
            "color": "#2a3f5f"
           }
          },
          "ternary": {
           "aaxis": {
            "gridcolor": "white",
            "linecolor": "white",
            "ticks": ""
           },
           "baxis": {
            "gridcolor": "white",
            "linecolor": "white",
            "ticks": ""
           },
           "bgcolor": "#E5ECF6",
           "caxis": {
            "gridcolor": "white",
            "linecolor": "white",
            "ticks": ""
           }
          },
          "title": {
           "x": 0.05
          },
          "xaxis": {
           "automargin": true,
           "gridcolor": "white",
           "linecolor": "white",
           "ticks": "",
           "title": {
            "standoff": 15
           },
           "zerolinecolor": "white",
           "zerolinewidth": 2
          },
          "yaxis": {
           "automargin": true,
           "gridcolor": "white",
           "linecolor": "white",
           "ticks": "",
           "title": {
            "standoff": 15
           },
           "zerolinecolor": "white",
           "zerolinewidth": 2
          }
         }
        },
        "title": {
         "font": {
          "color": "#4D5663"
         }
        },
        "xaxis": {
         "anchor": "y",
         "domain": [
          0,
          0.2125
         ],
         "gridcolor": "#E1E5ED",
         "showgrid": false,
         "tickfont": {
          "color": "#4D5663"
         },
         "title": {
          "font": {
           "color": "#4D5663"
          },
          "text": ""
         },
         "zerolinecolor": "#E1E5ED"
        },
        "xaxis10": {
         "anchor": "y10",
         "domain": [
          0.2625,
          0.475
         ],
         "gridcolor": "#E1E5ED",
         "showgrid": false,
         "tickfont": {
          "color": "#4D5663"
         },
         "title": {
          "font": {
           "color": "#4D5663"
          },
          "text": ""
         },
         "zerolinecolor": "#E1E5ED"
        },
        "xaxis11": {
         "anchor": "y11",
         "domain": [
          0.525,
          0.7375
         ],
         "gridcolor": "#E1E5ED",
         "showgrid": false,
         "tickfont": {
          "color": "#4D5663"
         },
         "title": {
          "font": {
           "color": "#4D5663"
          },
          "text": ""
         },
         "zerolinecolor": "#E1E5ED"
        },
        "xaxis12": {
         "anchor": "y12",
         "domain": [
          0.7875,
          1
         ],
         "gridcolor": "#E1E5ED",
         "showgrid": false,
         "tickfont": {
          "color": "#4D5663"
         },
         "title": {
          "font": {
           "color": "#4D5663"
          },
          "text": ""
         },
         "zerolinecolor": "#E1E5ED"
        },
        "xaxis13": {
         "anchor": "y13",
         "domain": [
          0,
          0.2125
         ],
         "gridcolor": "#E1E5ED",
         "showgrid": false,
         "tickfont": {
          "color": "#4D5663"
         },
         "title": {
          "font": {
           "color": "#4D5663"
          },
          "text": ""
         },
         "zerolinecolor": "#E1E5ED"
        },
        "xaxis14": {
         "anchor": "y14",
         "domain": [
          0.2625,
          0.475
         ],
         "gridcolor": "#E1E5ED",
         "showgrid": false,
         "tickfont": {
          "color": "#4D5663"
         },
         "title": {
          "font": {
           "color": "#4D5663"
          },
          "text": ""
         },
         "zerolinecolor": "#E1E5ED"
        },
        "xaxis15": {
         "anchor": "y15",
         "domain": [
          0.525,
          0.7375
         ],
         "gridcolor": "#E1E5ED",
         "showgrid": false,
         "tickfont": {
          "color": "#4D5663"
         },
         "title": {
          "font": {
           "color": "#4D5663"
          },
          "text": ""
         },
         "zerolinecolor": "#E1E5ED"
        },
        "xaxis16": {
         "anchor": "y16",
         "domain": [
          0.7875,
          1
         ],
         "gridcolor": "#E1E5ED",
         "showgrid": false,
         "tickfont": {
          "color": "#4D5663"
         },
         "title": {
          "font": {
           "color": "#4D5663"
          },
          "text": ""
         },
         "zerolinecolor": "#E1E5ED"
        },
        "xaxis2": {
         "anchor": "y2",
         "domain": [
          0.2625,
          0.475
         ],
         "gridcolor": "#E1E5ED",
         "showgrid": false,
         "tickfont": {
          "color": "#4D5663"
         },
         "title": {
          "font": {
           "color": "#4D5663"
          },
          "text": ""
         },
         "zerolinecolor": "#E1E5ED"
        },
        "xaxis3": {
         "anchor": "y3",
         "domain": [
          0.525,
          0.7375
         ],
         "gridcolor": "#E1E5ED",
         "showgrid": false,
         "tickfont": {
          "color": "#4D5663"
         },
         "title": {
          "font": {
           "color": "#4D5663"
          },
          "text": ""
         },
         "zerolinecolor": "#E1E5ED"
        },
        "xaxis4": {
         "anchor": "y4",
         "domain": [
          0.7875,
          1
         ],
         "gridcolor": "#E1E5ED",
         "showgrid": false,
         "tickfont": {
          "color": "#4D5663"
         },
         "title": {
          "font": {
           "color": "#4D5663"
          },
          "text": ""
         },
         "zerolinecolor": "#E1E5ED"
        },
        "xaxis5": {
         "anchor": "y5",
         "domain": [
          0,
          0.2125
         ],
         "gridcolor": "#E1E5ED",
         "showgrid": false,
         "tickfont": {
          "color": "#4D5663"
         },
         "title": {
          "font": {
           "color": "#4D5663"
          },
          "text": ""
         },
         "zerolinecolor": "#E1E5ED"
        },
        "xaxis6": {
         "anchor": "y6",
         "domain": [
          0.2625,
          0.475
         ],
         "gridcolor": "#E1E5ED",
         "showgrid": false,
         "tickfont": {
          "color": "#4D5663"
         },
         "title": {
          "font": {
           "color": "#4D5663"
          },
          "text": ""
         },
         "zerolinecolor": "#E1E5ED"
        },
        "xaxis7": {
         "anchor": "y7",
         "domain": [
          0.525,
          0.7375
         ],
         "gridcolor": "#E1E5ED",
         "showgrid": false,
         "tickfont": {
          "color": "#4D5663"
         },
         "title": {
          "font": {
           "color": "#4D5663"
          },
          "text": ""
         },
         "zerolinecolor": "#E1E5ED"
        },
        "xaxis8": {
         "anchor": "y8",
         "domain": [
          0.7875,
          1
         ],
         "gridcolor": "#E1E5ED",
         "showgrid": false,
         "tickfont": {
          "color": "#4D5663"
         },
         "title": {
          "font": {
           "color": "#4D5663"
          },
          "text": ""
         },
         "zerolinecolor": "#E1E5ED"
        },
        "xaxis9": {
         "anchor": "y9",
         "domain": [
          0,
          0.2125
         ],
         "gridcolor": "#E1E5ED",
         "showgrid": false,
         "tickfont": {
          "color": "#4D5663"
         },
         "title": {
          "font": {
           "color": "#4D5663"
          },
          "text": ""
         },
         "zerolinecolor": "#E1E5ED"
        },
        "yaxis": {
         "anchor": "x",
         "domain": [
          0.8025,
          1
         ],
         "gridcolor": "#E1E5ED",
         "showgrid": false,
         "tickfont": {
          "color": "#4D5663"
         },
         "title": {
          "font": {
           "color": "#4D5663"
          },
          "text": ""
         },
         "zerolinecolor": "#E1E5ED"
        },
        "yaxis10": {
         "anchor": "x10",
         "domain": [
          0.2675,
          0.465
         ],
         "gridcolor": "#E1E5ED",
         "showgrid": false,
         "tickfont": {
          "color": "#4D5663"
         },
         "title": {
          "font": {
           "color": "#4D5663"
          },
          "text": ""
         },
         "zerolinecolor": "#E1E5ED"
        },
        "yaxis11": {
         "anchor": "x11",
         "domain": [
          0.2675,
          0.465
         ],
         "gridcolor": "#E1E5ED",
         "showgrid": false,
         "tickfont": {
          "color": "#4D5663"
         },
         "title": {
          "font": {
           "color": "#4D5663"
          },
          "text": ""
         },
         "zerolinecolor": "#E1E5ED"
        },
        "yaxis12": {
         "anchor": "x12",
         "domain": [
          0.2675,
          0.465
         ],
         "gridcolor": "#E1E5ED",
         "showgrid": false,
         "tickfont": {
          "color": "#4D5663"
         },
         "title": {
          "font": {
           "color": "#4D5663"
          },
          "text": ""
         },
         "zerolinecolor": "#E1E5ED"
        },
        "yaxis13": {
         "anchor": "x13",
         "domain": [
          0,
          0.1975
         ],
         "gridcolor": "#E1E5ED",
         "showgrid": false,
         "tickfont": {
          "color": "#4D5663"
         },
         "title": {
          "font": {
           "color": "#4D5663"
          },
          "text": ""
         },
         "zerolinecolor": "#E1E5ED"
        },
        "yaxis14": {
         "anchor": "x14",
         "domain": [
          0,
          0.1975
         ],
         "gridcolor": "#E1E5ED",
         "showgrid": false,
         "tickfont": {
          "color": "#4D5663"
         },
         "title": {
          "font": {
           "color": "#4D5663"
          },
          "text": ""
         },
         "zerolinecolor": "#E1E5ED"
        },
        "yaxis15": {
         "anchor": "x15",
         "domain": [
          0,
          0.1975
         ],
         "gridcolor": "#E1E5ED",
         "showgrid": false,
         "tickfont": {
          "color": "#4D5663"
         },
         "title": {
          "font": {
           "color": "#4D5663"
          },
          "text": ""
         },
         "zerolinecolor": "#E1E5ED"
        },
        "yaxis16": {
         "anchor": "x16",
         "domain": [
          0,
          0.1975
         ],
         "gridcolor": "#E1E5ED",
         "showgrid": false,
         "tickfont": {
          "color": "#4D5663"
         },
         "title": {
          "font": {
           "color": "#4D5663"
          },
          "text": ""
         },
         "zerolinecolor": "#E1E5ED"
        },
        "yaxis2": {
         "anchor": "x2",
         "domain": [
          0.8025,
          1
         ],
         "gridcolor": "#E1E5ED",
         "showgrid": false,
         "tickfont": {
          "color": "#4D5663"
         },
         "title": {
          "font": {
           "color": "#4D5663"
          },
          "text": ""
         },
         "zerolinecolor": "#E1E5ED"
        },
        "yaxis3": {
         "anchor": "x3",
         "domain": [
          0.8025,
          1
         ],
         "gridcolor": "#E1E5ED",
         "showgrid": false,
         "tickfont": {
          "color": "#4D5663"
         },
         "title": {
          "font": {
           "color": "#4D5663"
          },
          "text": ""
         },
         "zerolinecolor": "#E1E5ED"
        },
        "yaxis4": {
         "anchor": "x4",
         "domain": [
          0.8025,
          1
         ],
         "gridcolor": "#E1E5ED",
         "showgrid": false,
         "tickfont": {
          "color": "#4D5663"
         },
         "title": {
          "font": {
           "color": "#4D5663"
          },
          "text": ""
         },
         "zerolinecolor": "#E1E5ED"
        },
        "yaxis5": {
         "anchor": "x5",
         "domain": [
          0.535,
          0.7325
         ],
         "gridcolor": "#E1E5ED",
         "showgrid": false,
         "tickfont": {
          "color": "#4D5663"
         },
         "title": {
          "font": {
           "color": "#4D5663"
          },
          "text": ""
         },
         "zerolinecolor": "#E1E5ED"
        },
        "yaxis6": {
         "anchor": "x6",
         "domain": [
          0.535,
          0.7325
         ],
         "gridcolor": "#E1E5ED",
         "showgrid": false,
         "tickfont": {
          "color": "#4D5663"
         },
         "title": {
          "font": {
           "color": "#4D5663"
          },
          "text": ""
         },
         "zerolinecolor": "#E1E5ED"
        },
        "yaxis7": {
         "anchor": "x7",
         "domain": [
          0.535,
          0.7325
         ],
         "gridcolor": "#E1E5ED",
         "showgrid": false,
         "tickfont": {
          "color": "#4D5663"
         },
         "title": {
          "font": {
           "color": "#4D5663"
          },
          "text": ""
         },
         "zerolinecolor": "#E1E5ED"
        },
        "yaxis8": {
         "anchor": "x8",
         "domain": [
          0.535,
          0.7325
         ],
         "gridcolor": "#E1E5ED",
         "showgrid": false,
         "tickfont": {
          "color": "#4D5663"
         },
         "title": {
          "font": {
           "color": "#4D5663"
          },
          "text": ""
         },
         "zerolinecolor": "#E1E5ED"
        },
        "yaxis9": {
         "anchor": "x9",
         "domain": [
          0.2675,
          0.465
         ],
         "gridcolor": "#E1E5ED",
         "showgrid": false,
         "tickfont": {
          "color": "#4D5663"
         },
         "title": {
          "font": {
           "color": "#4D5663"
          },
          "text": ""
         },
         "zerolinecolor": "#E1E5ED"
        }
       }
      },
      "text/html": [
       "<div>\n",
       "        \n",
       "        \n",
       "            <div id=\"06c6de6d-d7eb-40b2-8e56-2eeb1d7558ab\" class=\"plotly-graph-div\" style=\"height:525px; width:100%;\"></div>\n",
       "            <script type=\"text/javascript\">\n",
       "                require([\"plotly\"], function(Plotly) {\n",
       "                    window.PLOTLYENV=window.PLOTLYENV || {};\n",
       "                    window.PLOTLYENV.BASE_URL='https://plot.ly';\n",
       "                    \n",
       "                if (document.getElementById(\"06c6de6d-d7eb-40b2-8e56-2eeb1d7558ab\")) {\n",
       "                    Plotly.newPlot(\n",
       "                        '06c6de6d-d7eb-40b2-8e56-2eeb1d7558ab',\n",
       "                        [{\"histfunc\": \"count\", \"histnorm\": \"\", \"marker\": {\"color\": \"rgba(255, 153, 51, 1.0)\", \"line\": {\"color\": \"#4D5663\", \"width\": 1.3}}, \"name\": \"A\", \"nbinsx\": 10, \"opacity\": 0.8, \"orientation\": \"v\", \"type\": \"histogram\", \"x\": [-0.16610363688689225, -0.5521200467561026, -0.32072301689097243, 1.0003003046968628, -2.2516254604791026, -0.6421609543388991, -1.4472099947779882, -0.13620393460167918, -0.5848169421651246, -2.3343121377607203, 0.7045769911864066, 1.5641538767395509, 0.13516072316710592, 0.28401884325871657, 0.19827951682921566, 0.39511130031370845, -1.6845126169011948, 1.7526821145707008, 0.8774483307403921, 0.836157017411292, 0.9576375175548147, 2.327572979958438, -0.09201586219373067, 1.5049485394904945, 0.6137499890871397, -0.23141334285681636, -0.3873137293486683, 0.6665038996871202, 1.3147726106271649, 0.3411166578508544, -0.7313041972309057, 0.6374438673125333, -1.4268863568083, 1.2761838902761153, 0.9224514175204899, 0.5875380186215396, 0.9624380244543723, -0.028387429045422862, -1.7110591691269732, 0.45768060713546815, 0.3325008338888872, -1.751953272398217, 0.3727204316081648, 0.12166865899983588, 0.6526321680965788, -0.07920899553609972, -0.5445207532153917, -1.6105046471915463, -0.2936118804357919, 0.27986148037476366, 1.1034013134894871, -1.9631465840033653, 0.43114100186860127, -1.235857295974943, -1.522723677140059, 1.2174951715447608, 0.19372990695871908, 0.2823849931757263, -0.0731218671022487, 0.7910575601342564, -0.6029356378404177, -1.7185657936649517, -1.1039251574505327, 2.658810831218528, 0.8738864116196249, -0.35572194094378795, 0.2340454597606315, 1.1752802475422055, -2.857194818069491, -2.600189945808657, -1.4129955337744562, 1.5040243218995208, 0.4564891038547735, -1.0928905726727565, 1.0934669671611048, -0.2952153464804887, 0.8512281133013911, -0.6054409722058584, -0.47567754440403875, 0.6482097649869025, 0.6347649736514742, -0.02784922656797839, 0.8386088840498142, -0.5440691092397063, 0.6972768207546788, 0.6093926761521056, -0.06405757550025791, -0.33223152813714046, -0.6681213932531654, -0.5803620221889505, 0.18130261081281787, 0.9588359075234838, 2.2614997061951416, 0.04757386170100405, 0.3322555579091508, 1.323477756176155, 1.0653892403615686, 0.8465770283086058, -0.9181065897100504, 2.1780189252592024], \"xaxis\": \"x\", \"yaxis\": \"y\"}, {\"line\": {\"color\": \"rgba(128, 128, 128, 1.0)\", \"dash\": \"solid\", \"shape\": \"linear\", \"width\": 1.3}, \"marker\": {\"size\": 2, \"symbol\": \"circle\"}, \"mode\": \"markers\", \"name\": \"A\", \"text\": \"\", \"type\": \"scatter\", \"x\": [0.29954851481511197, 0.3460221764914574, -1.4684786291220613, -2.3261076380136574, -0.8560630170935084, -0.2666675002725784, -1.0367178317473178, -0.1641102056865516, 1.293259163731727, -0.8059944250936861, 0.16568334726967576, 0.9238802895778643, -0.2032665907555867, 1.4971275004914129, -0.6110568652907729, 0.2880256480075652, 0.30218628023342814, 0.8151874780879765, 1.962755339156543, -0.04634897285046687, 0.9708911382708385, -2.1803393662632553, -0.758135596494414, 0.14765847037822513, 1.4395399354838565, 1.4652400783624666, 0.27133549685807756, 0.6009887331928555, 0.970003264198216, 2.0923142080688413, 0.28497261904097343, 0.03808232091512796, -0.028460144293740264, -2.875724284445149, 0.1076739686130463, 0.6330099707257212, 1.258254478784425, -1.5150255195577138, -0.17417549664166573, 0.08234847547277795, -1.262136013163713, 1.6480467810562809, 0.6212728629358613, 1.604482318383683, -0.2491181023499222, -0.276987626080192, 0.33503155541675445, -0.38311910251804393, 1.5368983700433583, 0.043550837958556736, 0.11312770593752079, -0.22552084547381376, -0.7342024780377591, 2.002354164469548, -0.3513763370984161, 1.0891939844574783, 0.07742301663804288, 0.1188221678986353, 1.1646519897891336, -0.8672559147206672, 0.0733867650574441, 1.6413026825633483, 1.1875277507898772, 1.5726061764487005, 1.0235143951809598, -1.702807383350166, 0.29512873630470426, -0.665512319607524, -0.06563198708957493, 0.9852227949234997, 0.09416627441366154, -0.34029398342148215, 0.7194906222908173, -0.30538210212909767, 0.7528310074888965, -0.4475454762754745, 0.8652186823730295, -0.8999691204773388, -1.4992660437698153, -0.052600864705378066, 0.9632080553530256, 0.4225227445710723, -0.24976249740389195, 1.3423979730077338, -1.345353752730523, 0.39946146360573226, -1.6935712804020313, -2.3452695240608383, 0.40276261537770885, -1.571628849316674, 0.48374420873834323, 0.49969435110551125, -0.9541923582452546, 0.1236947783406742, 0.4825198504341591, 0.5219508629780577, -0.3946070881703127, -0.23385051002850257, -0.42874338188963346, 0.1255556069572311], \"xaxis\": \"x2\", \"y\": [-0.16610363688689225, -0.5521200467561026, -0.32072301689097243, 1.0003003046968628, -2.2516254604791026, -0.6421609543388991, -1.4472099947779882, -0.13620393460167918, -0.5848169421651246, -2.3343121377607203, 0.7045769911864066, 1.5641538767395509, 0.13516072316710592, 0.28401884325871657, 0.19827951682921566, 0.39511130031370845, -1.6845126169011948, 1.7526821145707008, 0.8774483307403921, 0.836157017411292, 0.9576375175548147, 2.327572979958438, -0.09201586219373067, 1.5049485394904945, 0.6137499890871397, -0.23141334285681636, -0.3873137293486683, 0.6665038996871202, 1.3147726106271649, 0.3411166578508544, -0.7313041972309057, 0.6374438673125333, -1.4268863568083, 1.2761838902761153, 0.9224514175204899, 0.5875380186215396, 0.9624380244543723, -0.028387429045422862, -1.7110591691269732, 0.45768060713546815, 0.3325008338888872, -1.751953272398217, 0.3727204316081648, 0.12166865899983588, 0.6526321680965788, -0.07920899553609972, -0.5445207532153917, -1.6105046471915463, -0.2936118804357919, 0.27986148037476366, 1.1034013134894871, -1.9631465840033653, 0.43114100186860127, -1.235857295974943, -1.522723677140059, 1.2174951715447608, 0.19372990695871908, 0.2823849931757263, -0.0731218671022487, 0.7910575601342564, -0.6029356378404177, -1.7185657936649517, -1.1039251574505327, 2.658810831218528, 0.8738864116196249, -0.35572194094378795, 0.2340454597606315, 1.1752802475422055, -2.857194818069491, -2.600189945808657, -1.4129955337744562, 1.5040243218995208, 0.4564891038547735, -1.0928905726727565, 1.0934669671611048, -0.2952153464804887, 0.8512281133013911, -0.6054409722058584, -0.47567754440403875, 0.6482097649869025, 0.6347649736514742, -0.02784922656797839, 0.8386088840498142, -0.5440691092397063, 0.6972768207546788, 0.6093926761521056, -0.06405757550025791, -0.33223152813714046, -0.6681213932531654, -0.5803620221889505, 0.18130261081281787, 0.9588359075234838, 2.2614997061951416, 0.04757386170100405, 0.3322555579091508, 1.323477756176155, 1.0653892403615686, 0.8465770283086058, -0.9181065897100504, 2.1780189252592024], \"yaxis\": \"y2\"}, {\"line\": {\"color\": \"rgba(128, 128, 128, 1.0)\", \"dash\": \"solid\", \"shape\": \"linear\", \"width\": 1.3}, \"marker\": {\"size\": 2, \"symbol\": \"circle\"}, \"mode\": \"markers\", \"name\": \"A\", \"text\": \"\", \"type\": \"scatter\", \"x\": [-0.5315840370366359, 0.16173480123695258, -1.526931646395053, 0.997242377656304, -0.6127806736114583, -0.6076059681446834, 0.9332689822793767, 0.43980921807417905, -0.30645413079830275, 1.2458900691984305, -0.6957604554918259, -2.092519940530778, -1.1661682788766983, 0.255104624978084, 1.647807662409371, 0.5210976514116537, -0.6921604664135697, 1.1326329108282753, 1.4451776734049617, 0.8298433807264687, 0.4444683646939226, -1.0055185800887931, -0.29283304255519654, 0.1419455052444596, 1.3737548124341294, 1.0508543291204706, 0.9498801490995556, -0.7404455862246961, -0.5255421947954927, 0.916744385874406, -0.15103187217024516, 0.5861150822660647, -0.7158396205909382, -0.1273319266696649, -0.7246719193641897, 0.9876656227614199, -1.0367306921332464, 0.5748044139773494, 0.47094928557209303, 1.2748763029158383, 1.2610811112584115, 0.11994002331706101, -1.1081761068456302, 1.238951702663481, -1.2115485857662953, 1.4136657090476943, 0.8990156778106935, 0.2035998460939371, 0.24441159592290304, -0.6704548425930102, 0.06729811289849236, 1.571230006517233, 0.4984922830017379, -1.201580984442513, -0.9073513360400925, 0.9516530885677701, -1.2492922098024595, -0.0220801543063839, -2.376519762207996, 0.5068377026671349, -0.518852160856346, 0.8791920492250621, -0.95472187389494, 0.9829015150187494, 0.9083135037895894, -0.9876265347804443, 0.7237661118721117, -0.21998847029808358, 0.35479816545788034, -0.40174861511152066, 0.17975264352827378, 1.1137170160456207, -0.8397472638663248, -1.9543663324006089, -0.2393839379965726, 1.9339191759410028, -0.43836892333319577, 0.3344786325862197, 0.4088563144914219, -2.0170863656846425, 0.2201840809385637, 1.1951916010784036, -0.6354650735287152, -0.4786980038378098, 0.18538761734860001, -0.07703052731169485, -0.5655311347569333, 0.658303520645014, -1.0372927454566931, 0.8686836229086838, 0.7496460470741813, 0.6701395151186833, -0.2584094090099108, 0.3084423241551389, -0.866881539195583, 1.532050241828174, -0.6469809777305825, 0.7602948416168382, 0.6279171380651485, -1.9277658721404594], \"xaxis\": \"x3\", \"y\": [-0.16610363688689225, -0.5521200467561026, -0.32072301689097243, 1.0003003046968628, -2.2516254604791026, -0.6421609543388991, -1.4472099947779882, -0.13620393460167918, -0.5848169421651246, -2.3343121377607203, 0.7045769911864066, 1.5641538767395509, 0.13516072316710592, 0.28401884325871657, 0.19827951682921566, 0.39511130031370845, -1.6845126169011948, 1.7526821145707008, 0.8774483307403921, 0.836157017411292, 0.9576375175548147, 2.327572979958438, -0.09201586219373067, 1.5049485394904945, 0.6137499890871397, -0.23141334285681636, -0.3873137293486683, 0.6665038996871202, 1.3147726106271649, 0.3411166578508544, -0.7313041972309057, 0.6374438673125333, -1.4268863568083, 1.2761838902761153, 0.9224514175204899, 0.5875380186215396, 0.9624380244543723, -0.028387429045422862, -1.7110591691269732, 0.45768060713546815, 0.3325008338888872, -1.751953272398217, 0.3727204316081648, 0.12166865899983588, 0.6526321680965788, -0.07920899553609972, -0.5445207532153917, -1.6105046471915463, -0.2936118804357919, 0.27986148037476366, 1.1034013134894871, -1.9631465840033653, 0.43114100186860127, -1.235857295974943, -1.522723677140059, 1.2174951715447608, 0.19372990695871908, 0.2823849931757263, -0.0731218671022487, 0.7910575601342564, -0.6029356378404177, -1.7185657936649517, -1.1039251574505327, 2.658810831218528, 0.8738864116196249, -0.35572194094378795, 0.2340454597606315, 1.1752802475422055, -2.857194818069491, -2.600189945808657, -1.4129955337744562, 1.5040243218995208, 0.4564891038547735, -1.0928905726727565, 1.0934669671611048, -0.2952153464804887, 0.8512281133013911, -0.6054409722058584, -0.47567754440403875, 0.6482097649869025, 0.6347649736514742, -0.02784922656797839, 0.8386088840498142, -0.5440691092397063, 0.6972768207546788, 0.6093926761521056, -0.06405757550025791, -0.33223152813714046, -0.6681213932531654, -0.5803620221889505, 0.18130261081281787, 0.9588359075234838, 2.2614997061951416, 0.04757386170100405, 0.3322555579091508, 1.323477756176155, 1.0653892403615686, 0.8465770283086058, -0.9181065897100504, 2.1780189252592024], \"yaxis\": \"y3\"}, {\"line\": {\"color\": \"rgba(128, 128, 128, 1.0)\", \"dash\": \"solid\", \"shape\": \"linear\", \"width\": 1.3}, \"marker\": {\"size\": 2, \"symbol\": \"circle\"}, \"mode\": \"markers\", \"name\": \"A\", \"text\": \"\", \"type\": \"scatter\", \"x\": [-1.6578640708999872, -0.7649732642850833, 1.6197165520401355, 0.6948518600793145, 0.3235947195993021, -0.678889379260725, -0.3361775580924587, -1.4545876441784986, 0.023108673045135805, 0.5101867595881933, 1.708817025073502, -0.8869842616981806, 0.20099256959195583, -1.722319649440159, -0.2740622325464014, -0.36376477466003626, 0.2954422790986494, 0.2664542364691161, 0.4594637388616335, 1.8204605625865262, 0.21517302849203657, 0.9821691075688679, -1.2860083169738288, -0.305990641431503, -1.5308193358988362, 1.5291123841765684, 2.5001498653262813, 0.48181901324010806, 0.6056507504098625, 0.20520138555661727, 0.673657045336006, -0.14473040107917046, 0.0018126574021694651, -0.4055122774768075, -0.1892016009524528, -1.0694261273493544, -0.08101890974558021, -0.3121409698055496, -1.2273820110274363, 1.9758580909333334, 2.3135419287863512, 0.14511856919593644, 0.24653537785366716, 0.07410886277200507, -1.1125930858431627, -1.62096345722258, 0.12113841093134217, 0.3449923788579843, -1.165854220228875, 0.4111965624026121, -0.521758461920156, -1.3467282660705224, -1.3464976477819253, -0.1334108039228377, -0.4131158052454607, -1.1849525526202902, -2.561228768562345, 0.5085899679495604, 0.17624310987041292, 1.519344047572039, 0.6664329635293371, 0.006206355267497318, 0.6192004542379782, -2.1701074059369043, 1.3628884551809142, 0.2629358007957257, 1.7180376557384016, -0.12635718606915208, 0.9603413318049445, -1.6294383721721726, 2.3505547290119964, -1.7138265283773322, -1.7051456933294868, -1.2121786070604732, -0.8909519968250951, -0.8693751607222012, -2.8367209669440276, 1.6272482826606223, -1.7531272081001894, -1.1979630187813524, -0.5948510747913349, 1.1767443139944396, -0.19532606887327594, 1.262050591898131, 1.3038905730529844, -0.3518918170124171, -0.8458549646081417, -0.6645952048914188, -0.9670835527418234, -0.2249632861563061, -1.0738182939561671, -1.8601889573189312, 1.0610754934161017, 0.0010197261376331136, -0.006516285865091261, -1.3713686380602395, 0.3124415434049576, 1.0396442819329668, -0.7238815516848321, -0.48597617377374], \"xaxis\": \"x4\", \"y\": [-0.16610363688689225, -0.5521200467561026, -0.32072301689097243, 1.0003003046968628, -2.2516254604791026, -0.6421609543388991, -1.4472099947779882, -0.13620393460167918, -0.5848169421651246, -2.3343121377607203, 0.7045769911864066, 1.5641538767395509, 0.13516072316710592, 0.28401884325871657, 0.19827951682921566, 0.39511130031370845, -1.6845126169011948, 1.7526821145707008, 0.8774483307403921, 0.836157017411292, 0.9576375175548147, 2.327572979958438, -0.09201586219373067, 1.5049485394904945, 0.6137499890871397, -0.23141334285681636, -0.3873137293486683, 0.6665038996871202, 1.3147726106271649, 0.3411166578508544, -0.7313041972309057, 0.6374438673125333, -1.4268863568083, 1.2761838902761153, 0.9224514175204899, 0.5875380186215396, 0.9624380244543723, -0.028387429045422862, -1.7110591691269732, 0.45768060713546815, 0.3325008338888872, -1.751953272398217, 0.3727204316081648, 0.12166865899983588, 0.6526321680965788, -0.07920899553609972, -0.5445207532153917, -1.6105046471915463, -0.2936118804357919, 0.27986148037476366, 1.1034013134894871, -1.9631465840033653, 0.43114100186860127, -1.235857295974943, -1.522723677140059, 1.2174951715447608, 0.19372990695871908, 0.2823849931757263, -0.0731218671022487, 0.7910575601342564, -0.6029356378404177, -1.7185657936649517, -1.1039251574505327, 2.658810831218528, 0.8738864116196249, -0.35572194094378795, 0.2340454597606315, 1.1752802475422055, -2.857194818069491, -2.600189945808657, -1.4129955337744562, 1.5040243218995208, 0.4564891038547735, -1.0928905726727565, 1.0934669671611048, -0.2952153464804887, 0.8512281133013911, -0.6054409722058584, -0.47567754440403875, 0.6482097649869025, 0.6347649736514742, -0.02784922656797839, 0.8386088840498142, -0.5440691092397063, 0.6972768207546788, 0.6093926761521056, -0.06405757550025791, -0.33223152813714046, -0.6681213932531654, -0.5803620221889505, 0.18130261081281787, 0.9588359075234838, 2.2614997061951416, 0.04757386170100405, 0.3322555579091508, 1.323477756176155, 1.0653892403615686, 0.8465770283086058, -0.9181065897100504, 2.1780189252592024], \"yaxis\": \"y4\"}, {\"line\": {\"color\": \"rgba(128, 128, 128, 1.0)\", \"dash\": \"solid\", \"shape\": \"linear\", \"width\": 1.3}, \"marker\": {\"size\": 2, \"symbol\": \"circle\"}, \"mode\": \"markers\", \"name\": \"B\", \"text\": \"\", \"type\": \"scatter\", \"x\": [-0.16610363688689225, -0.5521200467561026, -0.32072301689097243, 1.0003003046968628, -2.2516254604791026, -0.6421609543388991, -1.4472099947779882, -0.13620393460167918, -0.5848169421651246, -2.3343121377607203, 0.7045769911864066, 1.5641538767395509, 0.13516072316710592, 0.28401884325871657, 0.19827951682921566, 0.39511130031370845, -1.6845126169011948, 1.7526821145707008, 0.8774483307403921, 0.836157017411292, 0.9576375175548147, 2.327572979958438, -0.09201586219373067, 1.5049485394904945, 0.6137499890871397, -0.23141334285681636, -0.3873137293486683, 0.6665038996871202, 1.3147726106271649, 0.3411166578508544, -0.7313041972309057, 0.6374438673125333, -1.4268863568083, 1.2761838902761153, 0.9224514175204899, 0.5875380186215396, 0.9624380244543723, -0.028387429045422862, -1.7110591691269732, 0.45768060713546815, 0.3325008338888872, -1.751953272398217, 0.3727204316081648, 0.12166865899983588, 0.6526321680965788, -0.07920899553609972, -0.5445207532153917, -1.6105046471915463, -0.2936118804357919, 0.27986148037476366, 1.1034013134894871, -1.9631465840033653, 0.43114100186860127, -1.235857295974943, -1.522723677140059, 1.2174951715447608, 0.19372990695871908, 0.2823849931757263, -0.0731218671022487, 0.7910575601342564, -0.6029356378404177, -1.7185657936649517, -1.1039251574505327, 2.658810831218528, 0.8738864116196249, -0.35572194094378795, 0.2340454597606315, 1.1752802475422055, -2.857194818069491, -2.600189945808657, -1.4129955337744562, 1.5040243218995208, 0.4564891038547735, -1.0928905726727565, 1.0934669671611048, -0.2952153464804887, 0.8512281133013911, -0.6054409722058584, -0.47567754440403875, 0.6482097649869025, 0.6347649736514742, -0.02784922656797839, 0.8386088840498142, -0.5440691092397063, 0.6972768207546788, 0.6093926761521056, -0.06405757550025791, -0.33223152813714046, -0.6681213932531654, -0.5803620221889505, 0.18130261081281787, 0.9588359075234838, 2.2614997061951416, 0.04757386170100405, 0.3322555579091508, 1.323477756176155, 1.0653892403615686, 0.8465770283086058, -0.9181065897100504, 2.1780189252592024], \"xaxis\": \"x5\", \"y\": [0.29954851481511197, 0.3460221764914574, -1.4684786291220613, -2.3261076380136574, -0.8560630170935084, -0.2666675002725784, -1.0367178317473178, -0.1641102056865516, 1.293259163731727, -0.8059944250936861, 0.16568334726967576, 0.9238802895778643, -0.2032665907555867, 1.4971275004914129, -0.6110568652907729, 0.2880256480075652, 0.30218628023342814, 0.8151874780879765, 1.962755339156543, -0.04634897285046687, 0.9708911382708385, -2.1803393662632553, -0.758135596494414, 0.14765847037822513, 1.4395399354838565, 1.4652400783624666, 0.27133549685807756, 0.6009887331928555, 0.970003264198216, 2.0923142080688413, 0.28497261904097343, 0.03808232091512796, -0.028460144293740264, -2.875724284445149, 0.1076739686130463, 0.6330099707257212, 1.258254478784425, -1.5150255195577138, -0.17417549664166573, 0.08234847547277795, -1.262136013163713, 1.6480467810562809, 0.6212728629358613, 1.604482318383683, -0.2491181023499222, -0.276987626080192, 0.33503155541675445, -0.38311910251804393, 1.5368983700433583, 0.043550837958556736, 0.11312770593752079, -0.22552084547381376, -0.7342024780377591, 2.002354164469548, -0.3513763370984161, 1.0891939844574783, 0.07742301663804288, 0.1188221678986353, 1.1646519897891336, -0.8672559147206672, 0.0733867650574441, 1.6413026825633483, 1.1875277507898772, 1.5726061764487005, 1.0235143951809598, -1.702807383350166, 0.29512873630470426, -0.665512319607524, -0.06563198708957493, 0.9852227949234997, 0.09416627441366154, -0.34029398342148215, 0.7194906222908173, -0.30538210212909767, 0.7528310074888965, -0.4475454762754745, 0.8652186823730295, -0.8999691204773388, -1.4992660437698153, -0.052600864705378066, 0.9632080553530256, 0.4225227445710723, -0.24976249740389195, 1.3423979730077338, -1.345353752730523, 0.39946146360573226, -1.6935712804020313, -2.3452695240608383, 0.40276261537770885, -1.571628849316674, 0.48374420873834323, 0.49969435110551125, -0.9541923582452546, 0.1236947783406742, 0.4825198504341591, 0.5219508629780577, -0.3946070881703127, -0.23385051002850257, -0.42874338188963346, 0.1255556069572311], \"yaxis\": \"y5\"}, {\"histfunc\": \"count\", \"histnorm\": \"\", \"marker\": {\"color\": \"rgba(55, 128, 191, 1.0)\", \"line\": {\"color\": \"#4D5663\", \"width\": 1.3}}, \"name\": \"B\", \"nbinsx\": 10, \"opacity\": 0.8, \"orientation\": \"v\", \"type\": \"histogram\", \"x\": [0.29954851481511197, 0.3460221764914574, -1.4684786291220613, -2.3261076380136574, -0.8560630170935084, -0.2666675002725784, -1.0367178317473178, -0.1641102056865516, 1.293259163731727, -0.8059944250936861, 0.16568334726967576, 0.9238802895778643, -0.2032665907555867, 1.4971275004914129, -0.6110568652907729, 0.2880256480075652, 0.30218628023342814, 0.8151874780879765, 1.962755339156543, -0.04634897285046687, 0.9708911382708385, -2.1803393662632553, -0.758135596494414, 0.14765847037822513, 1.4395399354838565, 1.4652400783624666, 0.27133549685807756, 0.6009887331928555, 0.970003264198216, 2.0923142080688413, 0.28497261904097343, 0.03808232091512796, -0.028460144293740264, -2.875724284445149, 0.1076739686130463, 0.6330099707257212, 1.258254478784425, -1.5150255195577138, -0.17417549664166573, 0.08234847547277795, -1.262136013163713, 1.6480467810562809, 0.6212728629358613, 1.604482318383683, -0.2491181023499222, -0.276987626080192, 0.33503155541675445, -0.38311910251804393, 1.5368983700433583, 0.043550837958556736, 0.11312770593752079, -0.22552084547381376, -0.7342024780377591, 2.002354164469548, -0.3513763370984161, 1.0891939844574783, 0.07742301663804288, 0.1188221678986353, 1.1646519897891336, -0.8672559147206672, 0.0733867650574441, 1.6413026825633483, 1.1875277507898772, 1.5726061764487005, 1.0235143951809598, -1.702807383350166, 0.29512873630470426, -0.665512319607524, -0.06563198708957493, 0.9852227949234997, 0.09416627441366154, -0.34029398342148215, 0.7194906222908173, -0.30538210212909767, 0.7528310074888965, -0.4475454762754745, 0.8652186823730295, -0.8999691204773388, -1.4992660437698153, -0.052600864705378066, 0.9632080553530256, 0.4225227445710723, -0.24976249740389195, 1.3423979730077338, -1.345353752730523, 0.39946146360573226, -1.6935712804020313, -2.3452695240608383, 0.40276261537770885, -1.571628849316674, 0.48374420873834323, 0.49969435110551125, -0.9541923582452546, 0.1236947783406742, 0.4825198504341591, 0.5219508629780577, -0.3946070881703127, -0.23385051002850257, -0.42874338188963346, 0.1255556069572311], \"xaxis\": \"x6\", \"yaxis\": \"y6\"}, {\"line\": {\"color\": \"rgba(128, 128, 128, 1.0)\", \"dash\": \"solid\", \"shape\": \"linear\", \"width\": 1.3}, \"marker\": {\"size\": 2, \"symbol\": \"circle\"}, \"mode\": \"markers\", \"name\": \"B\", \"text\": \"\", \"type\": \"scatter\", \"x\": [-0.5315840370366359, 0.16173480123695258, -1.526931646395053, 0.997242377656304, -0.6127806736114583, -0.6076059681446834, 0.9332689822793767, 0.43980921807417905, -0.30645413079830275, 1.2458900691984305, -0.6957604554918259, -2.092519940530778, -1.1661682788766983, 0.255104624978084, 1.647807662409371, 0.5210976514116537, -0.6921604664135697, 1.1326329108282753, 1.4451776734049617, 0.8298433807264687, 0.4444683646939226, -1.0055185800887931, -0.29283304255519654, 0.1419455052444596, 1.3737548124341294, 1.0508543291204706, 0.9498801490995556, -0.7404455862246961, -0.5255421947954927, 0.916744385874406, -0.15103187217024516, 0.5861150822660647, -0.7158396205909382, -0.1273319266696649, -0.7246719193641897, 0.9876656227614199, -1.0367306921332464, 0.5748044139773494, 0.47094928557209303, 1.2748763029158383, 1.2610811112584115, 0.11994002331706101, -1.1081761068456302, 1.238951702663481, -1.2115485857662953, 1.4136657090476943, 0.8990156778106935, 0.2035998460939371, 0.24441159592290304, -0.6704548425930102, 0.06729811289849236, 1.571230006517233, 0.4984922830017379, -1.201580984442513, -0.9073513360400925, 0.9516530885677701, -1.2492922098024595, -0.0220801543063839, -2.376519762207996, 0.5068377026671349, -0.518852160856346, 0.8791920492250621, -0.95472187389494, 0.9829015150187494, 0.9083135037895894, -0.9876265347804443, 0.7237661118721117, -0.21998847029808358, 0.35479816545788034, -0.40174861511152066, 0.17975264352827378, 1.1137170160456207, -0.8397472638663248, -1.9543663324006089, -0.2393839379965726, 1.9339191759410028, -0.43836892333319577, 0.3344786325862197, 0.4088563144914219, -2.0170863656846425, 0.2201840809385637, 1.1951916010784036, -0.6354650735287152, -0.4786980038378098, 0.18538761734860001, -0.07703052731169485, -0.5655311347569333, 0.658303520645014, -1.0372927454566931, 0.8686836229086838, 0.7496460470741813, 0.6701395151186833, -0.2584094090099108, 0.3084423241551389, -0.866881539195583, 1.532050241828174, -0.6469809777305825, 0.7602948416168382, 0.6279171380651485, -1.9277658721404594], \"xaxis\": \"x7\", \"y\": [0.29954851481511197, 0.3460221764914574, -1.4684786291220613, -2.3261076380136574, -0.8560630170935084, -0.2666675002725784, -1.0367178317473178, -0.1641102056865516, 1.293259163731727, -0.8059944250936861, 0.16568334726967576, 0.9238802895778643, -0.2032665907555867, 1.4971275004914129, -0.6110568652907729, 0.2880256480075652, 0.30218628023342814, 0.8151874780879765, 1.962755339156543, -0.04634897285046687, 0.9708911382708385, -2.1803393662632553, -0.758135596494414, 0.14765847037822513, 1.4395399354838565, 1.4652400783624666, 0.27133549685807756, 0.6009887331928555, 0.970003264198216, 2.0923142080688413, 0.28497261904097343, 0.03808232091512796, -0.028460144293740264, -2.875724284445149, 0.1076739686130463, 0.6330099707257212, 1.258254478784425, -1.5150255195577138, -0.17417549664166573, 0.08234847547277795, -1.262136013163713, 1.6480467810562809, 0.6212728629358613, 1.604482318383683, -0.2491181023499222, -0.276987626080192, 0.33503155541675445, -0.38311910251804393, 1.5368983700433583, 0.043550837958556736, 0.11312770593752079, -0.22552084547381376, -0.7342024780377591, 2.002354164469548, -0.3513763370984161, 1.0891939844574783, 0.07742301663804288, 0.1188221678986353, 1.1646519897891336, -0.8672559147206672, 0.0733867650574441, 1.6413026825633483, 1.1875277507898772, 1.5726061764487005, 1.0235143951809598, -1.702807383350166, 0.29512873630470426, -0.665512319607524, -0.06563198708957493, 0.9852227949234997, 0.09416627441366154, -0.34029398342148215, 0.7194906222908173, -0.30538210212909767, 0.7528310074888965, -0.4475454762754745, 0.8652186823730295, -0.8999691204773388, -1.4992660437698153, -0.052600864705378066, 0.9632080553530256, 0.4225227445710723, -0.24976249740389195, 1.3423979730077338, -1.345353752730523, 0.39946146360573226, -1.6935712804020313, -2.3452695240608383, 0.40276261537770885, -1.571628849316674, 0.48374420873834323, 0.49969435110551125, -0.9541923582452546, 0.1236947783406742, 0.4825198504341591, 0.5219508629780577, -0.3946070881703127, -0.23385051002850257, -0.42874338188963346, 0.1255556069572311], \"yaxis\": \"y7\"}, {\"line\": {\"color\": \"rgba(128, 128, 128, 1.0)\", \"dash\": \"solid\", \"shape\": \"linear\", \"width\": 1.3}, \"marker\": {\"size\": 2, \"symbol\": \"circle\"}, \"mode\": \"markers\", \"name\": \"B\", \"text\": \"\", \"type\": \"scatter\", \"x\": [-1.6578640708999872, -0.7649732642850833, 1.6197165520401355, 0.6948518600793145, 0.3235947195993021, -0.678889379260725, -0.3361775580924587, -1.4545876441784986, 0.023108673045135805, 0.5101867595881933, 1.708817025073502, -0.8869842616981806, 0.20099256959195583, -1.722319649440159, -0.2740622325464014, -0.36376477466003626, 0.2954422790986494, 0.2664542364691161, 0.4594637388616335, 1.8204605625865262, 0.21517302849203657, 0.9821691075688679, -1.2860083169738288, -0.305990641431503, -1.5308193358988362, 1.5291123841765684, 2.5001498653262813, 0.48181901324010806, 0.6056507504098625, 0.20520138555661727, 0.673657045336006, -0.14473040107917046, 0.0018126574021694651, -0.4055122774768075, -0.1892016009524528, -1.0694261273493544, -0.08101890974558021, -0.3121409698055496, -1.2273820110274363, 1.9758580909333334, 2.3135419287863512, 0.14511856919593644, 0.24653537785366716, 0.07410886277200507, -1.1125930858431627, -1.62096345722258, 0.12113841093134217, 0.3449923788579843, -1.165854220228875, 0.4111965624026121, -0.521758461920156, -1.3467282660705224, -1.3464976477819253, -0.1334108039228377, -0.4131158052454607, -1.1849525526202902, -2.561228768562345, 0.5085899679495604, 0.17624310987041292, 1.519344047572039, 0.6664329635293371, 0.006206355267497318, 0.6192004542379782, -2.1701074059369043, 1.3628884551809142, 0.2629358007957257, 1.7180376557384016, -0.12635718606915208, 0.9603413318049445, -1.6294383721721726, 2.3505547290119964, -1.7138265283773322, -1.7051456933294868, -1.2121786070604732, -0.8909519968250951, -0.8693751607222012, -2.8367209669440276, 1.6272482826606223, -1.7531272081001894, -1.1979630187813524, -0.5948510747913349, 1.1767443139944396, -0.19532606887327594, 1.262050591898131, 1.3038905730529844, -0.3518918170124171, -0.8458549646081417, -0.6645952048914188, -0.9670835527418234, -0.2249632861563061, -1.0738182939561671, -1.8601889573189312, 1.0610754934161017, 0.0010197261376331136, -0.006516285865091261, -1.3713686380602395, 0.3124415434049576, 1.0396442819329668, -0.7238815516848321, -0.48597617377374], \"xaxis\": \"x8\", \"y\": [0.29954851481511197, 0.3460221764914574, -1.4684786291220613, -2.3261076380136574, -0.8560630170935084, -0.2666675002725784, -1.0367178317473178, -0.1641102056865516, 1.293259163731727, -0.8059944250936861, 0.16568334726967576, 0.9238802895778643, -0.2032665907555867, 1.4971275004914129, -0.6110568652907729, 0.2880256480075652, 0.30218628023342814, 0.8151874780879765, 1.962755339156543, -0.04634897285046687, 0.9708911382708385, -2.1803393662632553, -0.758135596494414, 0.14765847037822513, 1.4395399354838565, 1.4652400783624666, 0.27133549685807756, 0.6009887331928555, 0.970003264198216, 2.0923142080688413, 0.28497261904097343, 0.03808232091512796, -0.028460144293740264, -2.875724284445149, 0.1076739686130463, 0.6330099707257212, 1.258254478784425, -1.5150255195577138, -0.17417549664166573, 0.08234847547277795, -1.262136013163713, 1.6480467810562809, 0.6212728629358613, 1.604482318383683, -0.2491181023499222, -0.276987626080192, 0.33503155541675445, -0.38311910251804393, 1.5368983700433583, 0.043550837958556736, 0.11312770593752079, -0.22552084547381376, -0.7342024780377591, 2.002354164469548, -0.3513763370984161, 1.0891939844574783, 0.07742301663804288, 0.1188221678986353, 1.1646519897891336, -0.8672559147206672, 0.0733867650574441, 1.6413026825633483, 1.1875277507898772, 1.5726061764487005, 1.0235143951809598, -1.702807383350166, 0.29512873630470426, -0.665512319607524, -0.06563198708957493, 0.9852227949234997, 0.09416627441366154, -0.34029398342148215, 0.7194906222908173, -0.30538210212909767, 0.7528310074888965, -0.4475454762754745, 0.8652186823730295, -0.8999691204773388, -1.4992660437698153, -0.052600864705378066, 0.9632080553530256, 0.4225227445710723, -0.24976249740389195, 1.3423979730077338, -1.345353752730523, 0.39946146360573226, -1.6935712804020313, -2.3452695240608383, 0.40276261537770885, -1.571628849316674, 0.48374420873834323, 0.49969435110551125, -0.9541923582452546, 0.1236947783406742, 0.4825198504341591, 0.5219508629780577, -0.3946070881703127, -0.23385051002850257, -0.42874338188963346, 0.1255556069572311], \"yaxis\": \"y8\"}, {\"line\": {\"color\": \"rgba(128, 128, 128, 1.0)\", \"dash\": \"solid\", \"shape\": \"linear\", \"width\": 1.3}, \"marker\": {\"size\": 2, \"symbol\": \"circle\"}, \"mode\": \"markers\", \"name\": \"C\", \"text\": \"\", \"type\": \"scatter\", \"x\": [-0.16610363688689225, -0.5521200467561026, -0.32072301689097243, 1.0003003046968628, -2.2516254604791026, -0.6421609543388991, -1.4472099947779882, -0.13620393460167918, -0.5848169421651246, -2.3343121377607203, 0.7045769911864066, 1.5641538767395509, 0.13516072316710592, 0.28401884325871657, 0.19827951682921566, 0.39511130031370845, -1.6845126169011948, 1.7526821145707008, 0.8774483307403921, 0.836157017411292, 0.9576375175548147, 2.327572979958438, -0.09201586219373067, 1.5049485394904945, 0.6137499890871397, -0.23141334285681636, -0.3873137293486683, 0.6665038996871202, 1.3147726106271649, 0.3411166578508544, -0.7313041972309057, 0.6374438673125333, -1.4268863568083, 1.2761838902761153, 0.9224514175204899, 0.5875380186215396, 0.9624380244543723, -0.028387429045422862, -1.7110591691269732, 0.45768060713546815, 0.3325008338888872, -1.751953272398217, 0.3727204316081648, 0.12166865899983588, 0.6526321680965788, -0.07920899553609972, -0.5445207532153917, -1.6105046471915463, -0.2936118804357919, 0.27986148037476366, 1.1034013134894871, -1.9631465840033653, 0.43114100186860127, -1.235857295974943, -1.522723677140059, 1.2174951715447608, 0.19372990695871908, 0.2823849931757263, -0.0731218671022487, 0.7910575601342564, -0.6029356378404177, -1.7185657936649517, -1.1039251574505327, 2.658810831218528, 0.8738864116196249, -0.35572194094378795, 0.2340454597606315, 1.1752802475422055, -2.857194818069491, -2.600189945808657, -1.4129955337744562, 1.5040243218995208, 0.4564891038547735, -1.0928905726727565, 1.0934669671611048, -0.2952153464804887, 0.8512281133013911, -0.6054409722058584, -0.47567754440403875, 0.6482097649869025, 0.6347649736514742, -0.02784922656797839, 0.8386088840498142, -0.5440691092397063, 0.6972768207546788, 0.6093926761521056, -0.06405757550025791, -0.33223152813714046, -0.6681213932531654, -0.5803620221889505, 0.18130261081281787, 0.9588359075234838, 2.2614997061951416, 0.04757386170100405, 0.3322555579091508, 1.323477756176155, 1.0653892403615686, 0.8465770283086058, -0.9181065897100504, 2.1780189252592024], \"xaxis\": \"x9\", \"y\": [-0.5315840370366359, 0.16173480123695258, -1.526931646395053, 0.997242377656304, -0.6127806736114583, -0.6076059681446834, 0.9332689822793767, 0.43980921807417905, -0.30645413079830275, 1.2458900691984305, -0.6957604554918259, -2.092519940530778, -1.1661682788766983, 0.255104624978084, 1.647807662409371, 0.5210976514116537, -0.6921604664135697, 1.1326329108282753, 1.4451776734049617, 0.8298433807264687, 0.4444683646939226, -1.0055185800887931, -0.29283304255519654, 0.1419455052444596, 1.3737548124341294, 1.0508543291204706, 0.9498801490995556, -0.7404455862246961, -0.5255421947954927, 0.916744385874406, -0.15103187217024516, 0.5861150822660647, -0.7158396205909382, -0.1273319266696649, -0.7246719193641897, 0.9876656227614199, -1.0367306921332464, 0.5748044139773494, 0.47094928557209303, 1.2748763029158383, 1.2610811112584115, 0.11994002331706101, -1.1081761068456302, 1.238951702663481, -1.2115485857662953, 1.4136657090476943, 0.8990156778106935, 0.2035998460939371, 0.24441159592290304, -0.6704548425930102, 0.06729811289849236, 1.571230006517233, 0.4984922830017379, -1.201580984442513, -0.9073513360400925, 0.9516530885677701, -1.2492922098024595, -0.0220801543063839, -2.376519762207996, 0.5068377026671349, -0.518852160856346, 0.8791920492250621, -0.95472187389494, 0.9829015150187494, 0.9083135037895894, -0.9876265347804443, 0.7237661118721117, -0.21998847029808358, 0.35479816545788034, -0.40174861511152066, 0.17975264352827378, 1.1137170160456207, -0.8397472638663248, -1.9543663324006089, -0.2393839379965726, 1.9339191759410028, -0.43836892333319577, 0.3344786325862197, 0.4088563144914219, -2.0170863656846425, 0.2201840809385637, 1.1951916010784036, -0.6354650735287152, -0.4786980038378098, 0.18538761734860001, -0.07703052731169485, -0.5655311347569333, 0.658303520645014, -1.0372927454566931, 0.8686836229086838, 0.7496460470741813, 0.6701395151186833, -0.2584094090099108, 0.3084423241551389, -0.866881539195583, 1.532050241828174, -0.6469809777305825, 0.7602948416168382, 0.6279171380651485, -1.9277658721404594], \"yaxis\": \"y9\"}, {\"line\": {\"color\": \"rgba(128, 128, 128, 1.0)\", \"dash\": \"solid\", \"shape\": \"linear\", \"width\": 1.3}, \"marker\": {\"size\": 2, \"symbol\": \"circle\"}, \"mode\": \"markers\", \"name\": \"C\", \"text\": \"\", \"type\": \"scatter\", \"x\": [0.29954851481511197, 0.3460221764914574, -1.4684786291220613, -2.3261076380136574, -0.8560630170935084, -0.2666675002725784, -1.0367178317473178, -0.1641102056865516, 1.293259163731727, -0.8059944250936861, 0.16568334726967576, 0.9238802895778643, -0.2032665907555867, 1.4971275004914129, -0.6110568652907729, 0.2880256480075652, 0.30218628023342814, 0.8151874780879765, 1.962755339156543, -0.04634897285046687, 0.9708911382708385, -2.1803393662632553, -0.758135596494414, 0.14765847037822513, 1.4395399354838565, 1.4652400783624666, 0.27133549685807756, 0.6009887331928555, 0.970003264198216, 2.0923142080688413, 0.28497261904097343, 0.03808232091512796, -0.028460144293740264, -2.875724284445149, 0.1076739686130463, 0.6330099707257212, 1.258254478784425, -1.5150255195577138, -0.17417549664166573, 0.08234847547277795, -1.262136013163713, 1.6480467810562809, 0.6212728629358613, 1.604482318383683, -0.2491181023499222, -0.276987626080192, 0.33503155541675445, -0.38311910251804393, 1.5368983700433583, 0.043550837958556736, 0.11312770593752079, -0.22552084547381376, -0.7342024780377591, 2.002354164469548, -0.3513763370984161, 1.0891939844574783, 0.07742301663804288, 0.1188221678986353, 1.1646519897891336, -0.8672559147206672, 0.0733867650574441, 1.6413026825633483, 1.1875277507898772, 1.5726061764487005, 1.0235143951809598, -1.702807383350166, 0.29512873630470426, -0.665512319607524, -0.06563198708957493, 0.9852227949234997, 0.09416627441366154, -0.34029398342148215, 0.7194906222908173, -0.30538210212909767, 0.7528310074888965, -0.4475454762754745, 0.8652186823730295, -0.8999691204773388, -1.4992660437698153, -0.052600864705378066, 0.9632080553530256, 0.4225227445710723, -0.24976249740389195, 1.3423979730077338, -1.345353752730523, 0.39946146360573226, -1.6935712804020313, -2.3452695240608383, 0.40276261537770885, -1.571628849316674, 0.48374420873834323, 0.49969435110551125, -0.9541923582452546, 0.1236947783406742, 0.4825198504341591, 0.5219508629780577, -0.3946070881703127, -0.23385051002850257, -0.42874338188963346, 0.1255556069572311], \"xaxis\": \"x10\", \"y\": [-0.5315840370366359, 0.16173480123695258, -1.526931646395053, 0.997242377656304, -0.6127806736114583, -0.6076059681446834, 0.9332689822793767, 0.43980921807417905, -0.30645413079830275, 1.2458900691984305, -0.6957604554918259, -2.092519940530778, -1.1661682788766983, 0.255104624978084, 1.647807662409371, 0.5210976514116537, -0.6921604664135697, 1.1326329108282753, 1.4451776734049617, 0.8298433807264687, 0.4444683646939226, -1.0055185800887931, -0.29283304255519654, 0.1419455052444596, 1.3737548124341294, 1.0508543291204706, 0.9498801490995556, -0.7404455862246961, -0.5255421947954927, 0.916744385874406, -0.15103187217024516, 0.5861150822660647, -0.7158396205909382, -0.1273319266696649, -0.7246719193641897, 0.9876656227614199, -1.0367306921332464, 0.5748044139773494, 0.47094928557209303, 1.2748763029158383, 1.2610811112584115, 0.11994002331706101, -1.1081761068456302, 1.238951702663481, -1.2115485857662953, 1.4136657090476943, 0.8990156778106935, 0.2035998460939371, 0.24441159592290304, -0.6704548425930102, 0.06729811289849236, 1.571230006517233, 0.4984922830017379, -1.201580984442513, -0.9073513360400925, 0.9516530885677701, -1.2492922098024595, -0.0220801543063839, -2.376519762207996, 0.5068377026671349, -0.518852160856346, 0.8791920492250621, -0.95472187389494, 0.9829015150187494, 0.9083135037895894, -0.9876265347804443, 0.7237661118721117, -0.21998847029808358, 0.35479816545788034, -0.40174861511152066, 0.17975264352827378, 1.1137170160456207, -0.8397472638663248, -1.9543663324006089, -0.2393839379965726, 1.9339191759410028, -0.43836892333319577, 0.3344786325862197, 0.4088563144914219, -2.0170863656846425, 0.2201840809385637, 1.1951916010784036, -0.6354650735287152, -0.4786980038378098, 0.18538761734860001, -0.07703052731169485, -0.5655311347569333, 0.658303520645014, -1.0372927454566931, 0.8686836229086838, 0.7496460470741813, 0.6701395151186833, -0.2584094090099108, 0.3084423241551389, -0.866881539195583, 1.532050241828174, -0.6469809777305825, 0.7602948416168382, 0.6279171380651485, -1.9277658721404594], \"yaxis\": \"y10\"}, {\"histfunc\": \"count\", \"histnorm\": \"\", \"marker\": {\"color\": \"rgba(50, 171, 96, 1.0)\", \"line\": {\"color\": \"#4D5663\", \"width\": 1.3}}, \"name\": \"C\", \"nbinsx\": 10, \"opacity\": 0.8, \"orientation\": \"v\", \"type\": \"histogram\", \"x\": [-0.5315840370366359, 0.16173480123695258, -1.526931646395053, 0.997242377656304, -0.6127806736114583, -0.6076059681446834, 0.9332689822793767, 0.43980921807417905, -0.30645413079830275, 1.2458900691984305, -0.6957604554918259, -2.092519940530778, -1.1661682788766983, 0.255104624978084, 1.647807662409371, 0.5210976514116537, -0.6921604664135697, 1.1326329108282753, 1.4451776734049617, 0.8298433807264687, 0.4444683646939226, -1.0055185800887931, -0.29283304255519654, 0.1419455052444596, 1.3737548124341294, 1.0508543291204706, 0.9498801490995556, -0.7404455862246961, -0.5255421947954927, 0.916744385874406, -0.15103187217024516, 0.5861150822660647, -0.7158396205909382, -0.1273319266696649, -0.7246719193641897, 0.9876656227614199, -1.0367306921332464, 0.5748044139773494, 0.47094928557209303, 1.2748763029158383, 1.2610811112584115, 0.11994002331706101, -1.1081761068456302, 1.238951702663481, -1.2115485857662953, 1.4136657090476943, 0.8990156778106935, 0.2035998460939371, 0.24441159592290304, -0.6704548425930102, 0.06729811289849236, 1.571230006517233, 0.4984922830017379, -1.201580984442513, -0.9073513360400925, 0.9516530885677701, -1.2492922098024595, -0.0220801543063839, -2.376519762207996, 0.5068377026671349, -0.518852160856346, 0.8791920492250621, -0.95472187389494, 0.9829015150187494, 0.9083135037895894, -0.9876265347804443, 0.7237661118721117, -0.21998847029808358, 0.35479816545788034, -0.40174861511152066, 0.17975264352827378, 1.1137170160456207, -0.8397472638663248, -1.9543663324006089, -0.2393839379965726, 1.9339191759410028, -0.43836892333319577, 0.3344786325862197, 0.4088563144914219, -2.0170863656846425, 0.2201840809385637, 1.1951916010784036, -0.6354650735287152, -0.4786980038378098, 0.18538761734860001, -0.07703052731169485, -0.5655311347569333, 0.658303520645014, -1.0372927454566931, 0.8686836229086838, 0.7496460470741813, 0.6701395151186833, -0.2584094090099108, 0.3084423241551389, -0.866881539195583, 1.532050241828174, -0.6469809777305825, 0.7602948416168382, 0.6279171380651485, -1.9277658721404594], \"xaxis\": \"x11\", \"yaxis\": \"y11\"}, {\"line\": {\"color\": \"rgba(128, 128, 128, 1.0)\", \"dash\": \"solid\", \"shape\": \"linear\", \"width\": 1.3}, \"marker\": {\"size\": 2, \"symbol\": \"circle\"}, \"mode\": \"markers\", \"name\": \"C\", \"text\": \"\", \"type\": \"scatter\", \"x\": [-1.6578640708999872, -0.7649732642850833, 1.6197165520401355, 0.6948518600793145, 0.3235947195993021, -0.678889379260725, -0.3361775580924587, -1.4545876441784986, 0.023108673045135805, 0.5101867595881933, 1.708817025073502, -0.8869842616981806, 0.20099256959195583, -1.722319649440159, -0.2740622325464014, -0.36376477466003626, 0.2954422790986494, 0.2664542364691161, 0.4594637388616335, 1.8204605625865262, 0.21517302849203657, 0.9821691075688679, -1.2860083169738288, -0.305990641431503, -1.5308193358988362, 1.5291123841765684, 2.5001498653262813, 0.48181901324010806, 0.6056507504098625, 0.20520138555661727, 0.673657045336006, -0.14473040107917046, 0.0018126574021694651, -0.4055122774768075, -0.1892016009524528, -1.0694261273493544, -0.08101890974558021, -0.3121409698055496, -1.2273820110274363, 1.9758580909333334, 2.3135419287863512, 0.14511856919593644, 0.24653537785366716, 0.07410886277200507, -1.1125930858431627, -1.62096345722258, 0.12113841093134217, 0.3449923788579843, -1.165854220228875, 0.4111965624026121, -0.521758461920156, -1.3467282660705224, -1.3464976477819253, -0.1334108039228377, -0.4131158052454607, -1.1849525526202902, -2.561228768562345, 0.5085899679495604, 0.17624310987041292, 1.519344047572039, 0.6664329635293371, 0.006206355267497318, 0.6192004542379782, -2.1701074059369043, 1.3628884551809142, 0.2629358007957257, 1.7180376557384016, -0.12635718606915208, 0.9603413318049445, -1.6294383721721726, 2.3505547290119964, -1.7138265283773322, -1.7051456933294868, -1.2121786070604732, -0.8909519968250951, -0.8693751607222012, -2.8367209669440276, 1.6272482826606223, -1.7531272081001894, -1.1979630187813524, -0.5948510747913349, 1.1767443139944396, -0.19532606887327594, 1.262050591898131, 1.3038905730529844, -0.3518918170124171, -0.8458549646081417, -0.6645952048914188, -0.9670835527418234, -0.2249632861563061, -1.0738182939561671, -1.8601889573189312, 1.0610754934161017, 0.0010197261376331136, -0.006516285865091261, -1.3713686380602395, 0.3124415434049576, 1.0396442819329668, -0.7238815516848321, -0.48597617377374], \"xaxis\": \"x12\", \"y\": [-0.5315840370366359, 0.16173480123695258, -1.526931646395053, 0.997242377656304, -0.6127806736114583, -0.6076059681446834, 0.9332689822793767, 0.43980921807417905, -0.30645413079830275, 1.2458900691984305, -0.6957604554918259, -2.092519940530778, -1.1661682788766983, 0.255104624978084, 1.647807662409371, 0.5210976514116537, -0.6921604664135697, 1.1326329108282753, 1.4451776734049617, 0.8298433807264687, 0.4444683646939226, -1.0055185800887931, -0.29283304255519654, 0.1419455052444596, 1.3737548124341294, 1.0508543291204706, 0.9498801490995556, -0.7404455862246961, -0.5255421947954927, 0.916744385874406, -0.15103187217024516, 0.5861150822660647, -0.7158396205909382, -0.1273319266696649, -0.7246719193641897, 0.9876656227614199, -1.0367306921332464, 0.5748044139773494, 0.47094928557209303, 1.2748763029158383, 1.2610811112584115, 0.11994002331706101, -1.1081761068456302, 1.238951702663481, -1.2115485857662953, 1.4136657090476943, 0.8990156778106935, 0.2035998460939371, 0.24441159592290304, -0.6704548425930102, 0.06729811289849236, 1.571230006517233, 0.4984922830017379, -1.201580984442513, -0.9073513360400925, 0.9516530885677701, -1.2492922098024595, -0.0220801543063839, -2.376519762207996, 0.5068377026671349, -0.518852160856346, 0.8791920492250621, -0.95472187389494, 0.9829015150187494, 0.9083135037895894, -0.9876265347804443, 0.7237661118721117, -0.21998847029808358, 0.35479816545788034, -0.40174861511152066, 0.17975264352827378, 1.1137170160456207, -0.8397472638663248, -1.9543663324006089, -0.2393839379965726, 1.9339191759410028, -0.43836892333319577, 0.3344786325862197, 0.4088563144914219, -2.0170863656846425, 0.2201840809385637, 1.1951916010784036, -0.6354650735287152, -0.4786980038378098, 0.18538761734860001, -0.07703052731169485, -0.5655311347569333, 0.658303520645014, -1.0372927454566931, 0.8686836229086838, 0.7496460470741813, 0.6701395151186833, -0.2584094090099108, 0.3084423241551389, -0.866881539195583, 1.532050241828174, -0.6469809777305825, 0.7602948416168382, 0.6279171380651485, -1.9277658721404594], \"yaxis\": \"y12\"}, {\"line\": {\"color\": \"rgba(128, 128, 128, 1.0)\", \"dash\": \"solid\", \"shape\": \"linear\", \"width\": 1.3}, \"marker\": {\"size\": 2, \"symbol\": \"circle\"}, \"mode\": \"markers\", \"name\": \"D\", \"text\": \"\", \"type\": \"scatter\", \"x\": [-0.16610363688689225, -0.5521200467561026, -0.32072301689097243, 1.0003003046968628, -2.2516254604791026, -0.6421609543388991, -1.4472099947779882, -0.13620393460167918, -0.5848169421651246, -2.3343121377607203, 0.7045769911864066, 1.5641538767395509, 0.13516072316710592, 0.28401884325871657, 0.19827951682921566, 0.39511130031370845, -1.6845126169011948, 1.7526821145707008, 0.8774483307403921, 0.836157017411292, 0.9576375175548147, 2.327572979958438, -0.09201586219373067, 1.5049485394904945, 0.6137499890871397, -0.23141334285681636, -0.3873137293486683, 0.6665038996871202, 1.3147726106271649, 0.3411166578508544, -0.7313041972309057, 0.6374438673125333, -1.4268863568083, 1.2761838902761153, 0.9224514175204899, 0.5875380186215396, 0.9624380244543723, -0.028387429045422862, -1.7110591691269732, 0.45768060713546815, 0.3325008338888872, -1.751953272398217, 0.3727204316081648, 0.12166865899983588, 0.6526321680965788, -0.07920899553609972, -0.5445207532153917, -1.6105046471915463, -0.2936118804357919, 0.27986148037476366, 1.1034013134894871, -1.9631465840033653, 0.43114100186860127, -1.235857295974943, -1.522723677140059, 1.2174951715447608, 0.19372990695871908, 0.2823849931757263, -0.0731218671022487, 0.7910575601342564, -0.6029356378404177, -1.7185657936649517, -1.1039251574505327, 2.658810831218528, 0.8738864116196249, -0.35572194094378795, 0.2340454597606315, 1.1752802475422055, -2.857194818069491, -2.600189945808657, -1.4129955337744562, 1.5040243218995208, 0.4564891038547735, -1.0928905726727565, 1.0934669671611048, -0.2952153464804887, 0.8512281133013911, -0.6054409722058584, -0.47567754440403875, 0.6482097649869025, 0.6347649736514742, -0.02784922656797839, 0.8386088840498142, -0.5440691092397063, 0.6972768207546788, 0.6093926761521056, -0.06405757550025791, -0.33223152813714046, -0.6681213932531654, -0.5803620221889505, 0.18130261081281787, 0.9588359075234838, 2.2614997061951416, 0.04757386170100405, 0.3322555579091508, 1.323477756176155, 1.0653892403615686, 0.8465770283086058, -0.9181065897100504, 2.1780189252592024], \"xaxis\": \"x13\", \"y\": [-1.6578640708999872, -0.7649732642850833, 1.6197165520401355, 0.6948518600793145, 0.3235947195993021, -0.678889379260725, -0.3361775580924587, -1.4545876441784986, 0.023108673045135805, 0.5101867595881933, 1.708817025073502, -0.8869842616981806, 0.20099256959195583, -1.722319649440159, -0.2740622325464014, -0.36376477466003626, 0.2954422790986494, 0.2664542364691161, 0.4594637388616335, 1.8204605625865262, 0.21517302849203657, 0.9821691075688679, -1.2860083169738288, -0.305990641431503, -1.5308193358988362, 1.5291123841765684, 2.5001498653262813, 0.48181901324010806, 0.6056507504098625, 0.20520138555661727, 0.673657045336006, -0.14473040107917046, 0.0018126574021694651, -0.4055122774768075, -0.1892016009524528, -1.0694261273493544, -0.08101890974558021, -0.3121409698055496, -1.2273820110274363, 1.9758580909333334, 2.3135419287863512, 0.14511856919593644, 0.24653537785366716, 0.07410886277200507, -1.1125930858431627, -1.62096345722258, 0.12113841093134217, 0.3449923788579843, -1.165854220228875, 0.4111965624026121, -0.521758461920156, -1.3467282660705224, -1.3464976477819253, -0.1334108039228377, -0.4131158052454607, -1.1849525526202902, -2.561228768562345, 0.5085899679495604, 0.17624310987041292, 1.519344047572039, 0.6664329635293371, 0.006206355267497318, 0.6192004542379782, -2.1701074059369043, 1.3628884551809142, 0.2629358007957257, 1.7180376557384016, -0.12635718606915208, 0.9603413318049445, -1.6294383721721726, 2.3505547290119964, -1.7138265283773322, -1.7051456933294868, -1.2121786070604732, -0.8909519968250951, -0.8693751607222012, -2.8367209669440276, 1.6272482826606223, -1.7531272081001894, -1.1979630187813524, -0.5948510747913349, 1.1767443139944396, -0.19532606887327594, 1.262050591898131, 1.3038905730529844, -0.3518918170124171, -0.8458549646081417, -0.6645952048914188, -0.9670835527418234, -0.2249632861563061, -1.0738182939561671, -1.8601889573189312, 1.0610754934161017, 0.0010197261376331136, -0.006516285865091261, -1.3713686380602395, 0.3124415434049576, 1.0396442819329668, -0.7238815516848321, -0.48597617377374], \"yaxis\": \"y13\"}, {\"line\": {\"color\": \"rgba(128, 128, 128, 1.0)\", \"dash\": \"solid\", \"shape\": \"linear\", \"width\": 1.3}, \"marker\": {\"size\": 2, \"symbol\": \"circle\"}, \"mode\": \"markers\", \"name\": \"D\", \"text\": \"\", \"type\": \"scatter\", \"x\": [0.29954851481511197, 0.3460221764914574, -1.4684786291220613, -2.3261076380136574, -0.8560630170935084, -0.2666675002725784, -1.0367178317473178, -0.1641102056865516, 1.293259163731727, -0.8059944250936861, 0.16568334726967576, 0.9238802895778643, -0.2032665907555867, 1.4971275004914129, -0.6110568652907729, 0.2880256480075652, 0.30218628023342814, 0.8151874780879765, 1.962755339156543, -0.04634897285046687, 0.9708911382708385, -2.1803393662632553, -0.758135596494414, 0.14765847037822513, 1.4395399354838565, 1.4652400783624666, 0.27133549685807756, 0.6009887331928555, 0.970003264198216, 2.0923142080688413, 0.28497261904097343, 0.03808232091512796, -0.028460144293740264, -2.875724284445149, 0.1076739686130463, 0.6330099707257212, 1.258254478784425, -1.5150255195577138, -0.17417549664166573, 0.08234847547277795, -1.262136013163713, 1.6480467810562809, 0.6212728629358613, 1.604482318383683, -0.2491181023499222, -0.276987626080192, 0.33503155541675445, -0.38311910251804393, 1.5368983700433583, 0.043550837958556736, 0.11312770593752079, -0.22552084547381376, -0.7342024780377591, 2.002354164469548, -0.3513763370984161, 1.0891939844574783, 0.07742301663804288, 0.1188221678986353, 1.1646519897891336, -0.8672559147206672, 0.0733867650574441, 1.6413026825633483, 1.1875277507898772, 1.5726061764487005, 1.0235143951809598, -1.702807383350166, 0.29512873630470426, -0.665512319607524, -0.06563198708957493, 0.9852227949234997, 0.09416627441366154, -0.34029398342148215, 0.7194906222908173, -0.30538210212909767, 0.7528310074888965, -0.4475454762754745, 0.8652186823730295, -0.8999691204773388, -1.4992660437698153, -0.052600864705378066, 0.9632080553530256, 0.4225227445710723, -0.24976249740389195, 1.3423979730077338, -1.345353752730523, 0.39946146360573226, -1.6935712804020313, -2.3452695240608383, 0.40276261537770885, -1.571628849316674, 0.48374420873834323, 0.49969435110551125, -0.9541923582452546, 0.1236947783406742, 0.4825198504341591, 0.5219508629780577, -0.3946070881703127, -0.23385051002850257, -0.42874338188963346, 0.1255556069572311], \"xaxis\": \"x14\", \"y\": [-1.6578640708999872, -0.7649732642850833, 1.6197165520401355, 0.6948518600793145, 0.3235947195993021, -0.678889379260725, -0.3361775580924587, -1.4545876441784986, 0.023108673045135805, 0.5101867595881933, 1.708817025073502, -0.8869842616981806, 0.20099256959195583, -1.722319649440159, -0.2740622325464014, -0.36376477466003626, 0.2954422790986494, 0.2664542364691161, 0.4594637388616335, 1.8204605625865262, 0.21517302849203657, 0.9821691075688679, -1.2860083169738288, -0.305990641431503, -1.5308193358988362, 1.5291123841765684, 2.5001498653262813, 0.48181901324010806, 0.6056507504098625, 0.20520138555661727, 0.673657045336006, -0.14473040107917046, 0.0018126574021694651, -0.4055122774768075, -0.1892016009524528, -1.0694261273493544, -0.08101890974558021, -0.3121409698055496, -1.2273820110274363, 1.9758580909333334, 2.3135419287863512, 0.14511856919593644, 0.24653537785366716, 0.07410886277200507, -1.1125930858431627, -1.62096345722258, 0.12113841093134217, 0.3449923788579843, -1.165854220228875, 0.4111965624026121, -0.521758461920156, -1.3467282660705224, -1.3464976477819253, -0.1334108039228377, -0.4131158052454607, -1.1849525526202902, -2.561228768562345, 0.5085899679495604, 0.17624310987041292, 1.519344047572039, 0.6664329635293371, 0.006206355267497318, 0.6192004542379782, -2.1701074059369043, 1.3628884551809142, 0.2629358007957257, 1.7180376557384016, -0.12635718606915208, 0.9603413318049445, -1.6294383721721726, 2.3505547290119964, -1.7138265283773322, -1.7051456933294868, -1.2121786070604732, -0.8909519968250951, -0.8693751607222012, -2.8367209669440276, 1.6272482826606223, -1.7531272081001894, -1.1979630187813524, -0.5948510747913349, 1.1767443139944396, -0.19532606887327594, 1.262050591898131, 1.3038905730529844, -0.3518918170124171, -0.8458549646081417, -0.6645952048914188, -0.9670835527418234, -0.2249632861563061, -1.0738182939561671, -1.8601889573189312, 1.0610754934161017, 0.0010197261376331136, -0.006516285865091261, -1.3713686380602395, 0.3124415434049576, 1.0396442819329668, -0.7238815516848321, -0.48597617377374], \"yaxis\": \"y14\"}, {\"line\": {\"color\": \"rgba(128, 128, 128, 1.0)\", \"dash\": \"solid\", \"shape\": \"linear\", \"width\": 1.3}, \"marker\": {\"size\": 2, \"symbol\": \"circle\"}, \"mode\": \"markers\", \"name\": \"D\", \"text\": \"\", \"type\": \"scatter\", \"x\": [-0.5315840370366359, 0.16173480123695258, -1.526931646395053, 0.997242377656304, -0.6127806736114583, -0.6076059681446834, 0.9332689822793767, 0.43980921807417905, -0.30645413079830275, 1.2458900691984305, -0.6957604554918259, -2.092519940530778, -1.1661682788766983, 0.255104624978084, 1.647807662409371, 0.5210976514116537, -0.6921604664135697, 1.1326329108282753, 1.4451776734049617, 0.8298433807264687, 0.4444683646939226, -1.0055185800887931, -0.29283304255519654, 0.1419455052444596, 1.3737548124341294, 1.0508543291204706, 0.9498801490995556, -0.7404455862246961, -0.5255421947954927, 0.916744385874406, -0.15103187217024516, 0.5861150822660647, -0.7158396205909382, -0.1273319266696649, -0.7246719193641897, 0.9876656227614199, -1.0367306921332464, 0.5748044139773494, 0.47094928557209303, 1.2748763029158383, 1.2610811112584115, 0.11994002331706101, -1.1081761068456302, 1.238951702663481, -1.2115485857662953, 1.4136657090476943, 0.8990156778106935, 0.2035998460939371, 0.24441159592290304, -0.6704548425930102, 0.06729811289849236, 1.571230006517233, 0.4984922830017379, -1.201580984442513, -0.9073513360400925, 0.9516530885677701, -1.2492922098024595, -0.0220801543063839, -2.376519762207996, 0.5068377026671349, -0.518852160856346, 0.8791920492250621, -0.95472187389494, 0.9829015150187494, 0.9083135037895894, -0.9876265347804443, 0.7237661118721117, -0.21998847029808358, 0.35479816545788034, -0.40174861511152066, 0.17975264352827378, 1.1137170160456207, -0.8397472638663248, -1.9543663324006089, -0.2393839379965726, 1.9339191759410028, -0.43836892333319577, 0.3344786325862197, 0.4088563144914219, -2.0170863656846425, 0.2201840809385637, 1.1951916010784036, -0.6354650735287152, -0.4786980038378098, 0.18538761734860001, -0.07703052731169485, -0.5655311347569333, 0.658303520645014, -1.0372927454566931, 0.8686836229086838, 0.7496460470741813, 0.6701395151186833, -0.2584094090099108, 0.3084423241551389, -0.866881539195583, 1.532050241828174, -0.6469809777305825, 0.7602948416168382, 0.6279171380651485, -1.9277658721404594], \"xaxis\": \"x15\", \"y\": [-1.6578640708999872, -0.7649732642850833, 1.6197165520401355, 0.6948518600793145, 0.3235947195993021, -0.678889379260725, -0.3361775580924587, -1.4545876441784986, 0.023108673045135805, 0.5101867595881933, 1.708817025073502, -0.8869842616981806, 0.20099256959195583, -1.722319649440159, -0.2740622325464014, -0.36376477466003626, 0.2954422790986494, 0.2664542364691161, 0.4594637388616335, 1.8204605625865262, 0.21517302849203657, 0.9821691075688679, -1.2860083169738288, -0.305990641431503, -1.5308193358988362, 1.5291123841765684, 2.5001498653262813, 0.48181901324010806, 0.6056507504098625, 0.20520138555661727, 0.673657045336006, -0.14473040107917046, 0.0018126574021694651, -0.4055122774768075, -0.1892016009524528, -1.0694261273493544, -0.08101890974558021, -0.3121409698055496, -1.2273820110274363, 1.9758580909333334, 2.3135419287863512, 0.14511856919593644, 0.24653537785366716, 0.07410886277200507, -1.1125930858431627, -1.62096345722258, 0.12113841093134217, 0.3449923788579843, -1.165854220228875, 0.4111965624026121, -0.521758461920156, -1.3467282660705224, -1.3464976477819253, -0.1334108039228377, -0.4131158052454607, -1.1849525526202902, -2.561228768562345, 0.5085899679495604, 0.17624310987041292, 1.519344047572039, 0.6664329635293371, 0.006206355267497318, 0.6192004542379782, -2.1701074059369043, 1.3628884551809142, 0.2629358007957257, 1.7180376557384016, -0.12635718606915208, 0.9603413318049445, -1.6294383721721726, 2.3505547290119964, -1.7138265283773322, -1.7051456933294868, -1.2121786070604732, -0.8909519968250951, -0.8693751607222012, -2.8367209669440276, 1.6272482826606223, -1.7531272081001894, -1.1979630187813524, -0.5948510747913349, 1.1767443139944396, -0.19532606887327594, 1.262050591898131, 1.3038905730529844, -0.3518918170124171, -0.8458549646081417, -0.6645952048914188, -0.9670835527418234, -0.2249632861563061, -1.0738182939561671, -1.8601889573189312, 1.0610754934161017, 0.0010197261376331136, -0.006516285865091261, -1.3713686380602395, 0.3124415434049576, 1.0396442819329668, -0.7238815516848321, -0.48597617377374], \"yaxis\": \"y15\"}, {\"histfunc\": \"count\", \"histnorm\": \"\", \"marker\": {\"color\": \"rgba(128, 0, 128, 1.0)\", \"line\": {\"color\": \"#4D5663\", \"width\": 1.3}}, \"name\": \"D\", \"nbinsx\": 10, \"opacity\": 0.8, \"orientation\": \"v\", \"type\": \"histogram\", \"x\": [-1.6578640708999872, -0.7649732642850833, 1.6197165520401355, 0.6948518600793145, 0.3235947195993021, -0.678889379260725, -0.3361775580924587, -1.4545876441784986, 0.023108673045135805, 0.5101867595881933, 1.708817025073502, -0.8869842616981806, 0.20099256959195583, -1.722319649440159, -0.2740622325464014, -0.36376477466003626, 0.2954422790986494, 0.2664542364691161, 0.4594637388616335, 1.8204605625865262, 0.21517302849203657, 0.9821691075688679, -1.2860083169738288, -0.305990641431503, -1.5308193358988362, 1.5291123841765684, 2.5001498653262813, 0.48181901324010806, 0.6056507504098625, 0.20520138555661727, 0.673657045336006, -0.14473040107917046, 0.0018126574021694651, -0.4055122774768075, -0.1892016009524528, -1.0694261273493544, -0.08101890974558021, -0.3121409698055496, -1.2273820110274363, 1.9758580909333334, 2.3135419287863512, 0.14511856919593644, 0.24653537785366716, 0.07410886277200507, -1.1125930858431627, -1.62096345722258, 0.12113841093134217, 0.3449923788579843, -1.165854220228875, 0.4111965624026121, -0.521758461920156, -1.3467282660705224, -1.3464976477819253, -0.1334108039228377, -0.4131158052454607, -1.1849525526202902, -2.561228768562345, 0.5085899679495604, 0.17624310987041292, 1.519344047572039, 0.6664329635293371, 0.006206355267497318, 0.6192004542379782, -2.1701074059369043, 1.3628884551809142, 0.2629358007957257, 1.7180376557384016, -0.12635718606915208, 0.9603413318049445, -1.6294383721721726, 2.3505547290119964, -1.7138265283773322, -1.7051456933294868, -1.2121786070604732, -0.8909519968250951, -0.8693751607222012, -2.8367209669440276, 1.6272482826606223, -1.7531272081001894, -1.1979630187813524, -0.5948510747913349, 1.1767443139944396, -0.19532606887327594, 1.262050591898131, 1.3038905730529844, -0.3518918170124171, -0.8458549646081417, -0.6645952048914188, -0.9670835527418234, -0.2249632861563061, -1.0738182939561671, -1.8601889573189312, 1.0610754934161017, 0.0010197261376331136, -0.006516285865091261, -1.3713686380602395, 0.3124415434049576, 1.0396442819329668, -0.7238815516848321, -0.48597617377374], \"xaxis\": \"x16\", \"yaxis\": \"y16\"}],\n",
       "                        {\"bargap\": 0.02, \"legend\": {\"bgcolor\": \"#F5F6F9\", \"font\": {\"color\": \"#4D5663\"}}, \"paper_bgcolor\": \"#F5F6F9\", \"plot_bgcolor\": \"#F5F6F9\", \"showlegend\": false, \"template\": {\"data\": {\"bar\": [{\"error_x\": {\"color\": \"#2a3f5f\"}, \"error_y\": {\"color\": \"#2a3f5f\"}, \"marker\": {\"line\": {\"color\": \"#E5ECF6\", \"width\": 0.5}}, \"type\": \"bar\"}], \"barpolar\": [{\"marker\": {\"line\": {\"color\": \"#E5ECF6\", \"width\": 0.5}}, \"type\": \"barpolar\"}], \"carpet\": [{\"aaxis\": {\"endlinecolor\": \"#2a3f5f\", \"gridcolor\": \"white\", \"linecolor\": \"white\", \"minorgridcolor\": \"white\", \"startlinecolor\": \"#2a3f5f\"}, \"baxis\": {\"endlinecolor\": \"#2a3f5f\", \"gridcolor\": \"white\", \"linecolor\": \"white\", \"minorgridcolor\": \"white\", \"startlinecolor\": \"#2a3f5f\"}, \"type\": \"carpet\"}], \"choropleth\": [{\"colorbar\": {\"outlinewidth\": 0, \"ticks\": \"\"}, \"type\": \"choropleth\"}], \"contour\": [{\"colorbar\": {\"outlinewidth\": 0, \"ticks\": \"\"}, \"colorscale\": [[0.0, \"#0d0887\"], [0.1111111111111111, \"#46039f\"], [0.2222222222222222, \"#7201a8\"], [0.3333333333333333, \"#9c179e\"], [0.4444444444444444, \"#bd3786\"], [0.5555555555555556, \"#d8576b\"], [0.6666666666666666, \"#ed7953\"], [0.7777777777777778, \"#fb9f3a\"], [0.8888888888888888, \"#fdca26\"], [1.0, \"#f0f921\"]], \"type\": \"contour\"}], \"contourcarpet\": [{\"colorbar\": {\"outlinewidth\": 0, \"ticks\": \"\"}, \"type\": \"contourcarpet\"}], \"heatmap\": [{\"colorbar\": {\"outlinewidth\": 0, \"ticks\": \"\"}, \"colorscale\": [[0.0, \"#0d0887\"], [0.1111111111111111, \"#46039f\"], [0.2222222222222222, \"#7201a8\"], [0.3333333333333333, \"#9c179e\"], [0.4444444444444444, \"#bd3786\"], [0.5555555555555556, \"#d8576b\"], [0.6666666666666666, \"#ed7953\"], [0.7777777777777778, \"#fb9f3a\"], [0.8888888888888888, \"#fdca26\"], [1.0, \"#f0f921\"]], \"type\": \"heatmap\"}], \"heatmapgl\": [{\"colorbar\": {\"outlinewidth\": 0, \"ticks\": \"\"}, \"colorscale\": [[0.0, \"#0d0887\"], [0.1111111111111111, \"#46039f\"], [0.2222222222222222, \"#7201a8\"], [0.3333333333333333, \"#9c179e\"], [0.4444444444444444, \"#bd3786\"], [0.5555555555555556, \"#d8576b\"], [0.6666666666666666, \"#ed7953\"], [0.7777777777777778, \"#fb9f3a\"], [0.8888888888888888, \"#fdca26\"], [1.0, \"#f0f921\"]], \"type\": \"heatmapgl\"}], \"histogram\": [{\"marker\": {\"colorbar\": {\"outlinewidth\": 0, \"ticks\": \"\"}}, \"type\": \"histogram\"}], \"histogram2d\": [{\"colorbar\": {\"outlinewidth\": 0, \"ticks\": \"\"}, \"colorscale\": [[0.0, \"#0d0887\"], [0.1111111111111111, \"#46039f\"], [0.2222222222222222, \"#7201a8\"], [0.3333333333333333, \"#9c179e\"], [0.4444444444444444, \"#bd3786\"], [0.5555555555555556, \"#d8576b\"], [0.6666666666666666, \"#ed7953\"], [0.7777777777777778, \"#fb9f3a\"], [0.8888888888888888, \"#fdca26\"], [1.0, \"#f0f921\"]], \"type\": \"histogram2d\"}], \"histogram2dcontour\": [{\"colorbar\": {\"outlinewidth\": 0, \"ticks\": \"\"}, \"colorscale\": [[0.0, \"#0d0887\"], [0.1111111111111111, \"#46039f\"], [0.2222222222222222, \"#7201a8\"], [0.3333333333333333, \"#9c179e\"], [0.4444444444444444, \"#bd3786\"], [0.5555555555555556, \"#d8576b\"], [0.6666666666666666, \"#ed7953\"], [0.7777777777777778, \"#fb9f3a\"], [0.8888888888888888, \"#fdca26\"], [1.0, \"#f0f921\"]], \"type\": \"histogram2dcontour\"}], \"mesh3d\": [{\"colorbar\": {\"outlinewidth\": 0, \"ticks\": \"\"}, \"type\": \"mesh3d\"}], \"parcoords\": [{\"line\": {\"colorbar\": {\"outlinewidth\": 0, \"ticks\": \"\"}}, \"type\": \"parcoords\"}], \"pie\": [{\"automargin\": true, \"type\": \"pie\"}], \"scatter\": [{\"marker\": {\"colorbar\": {\"outlinewidth\": 0, \"ticks\": \"\"}}, \"type\": \"scatter\"}], \"scatter3d\": [{\"line\": {\"colorbar\": {\"outlinewidth\": 0, \"ticks\": \"\"}}, \"marker\": {\"colorbar\": {\"outlinewidth\": 0, \"ticks\": \"\"}}, \"type\": \"scatter3d\"}], \"scattercarpet\": [{\"marker\": {\"colorbar\": {\"outlinewidth\": 0, \"ticks\": \"\"}}, \"type\": \"scattercarpet\"}], \"scattergeo\": [{\"marker\": {\"colorbar\": {\"outlinewidth\": 0, \"ticks\": \"\"}}, \"type\": \"scattergeo\"}], \"scattergl\": [{\"marker\": {\"colorbar\": {\"outlinewidth\": 0, \"ticks\": \"\"}}, \"type\": \"scattergl\"}], \"scattermapbox\": [{\"marker\": {\"colorbar\": {\"outlinewidth\": 0, \"ticks\": \"\"}}, \"type\": \"scattermapbox\"}], \"scatterpolar\": [{\"marker\": {\"colorbar\": {\"outlinewidth\": 0, \"ticks\": \"\"}}, \"type\": \"scatterpolar\"}], \"scatterpolargl\": [{\"marker\": {\"colorbar\": {\"outlinewidth\": 0, \"ticks\": \"\"}}, \"type\": \"scatterpolargl\"}], \"scatterternary\": [{\"marker\": {\"colorbar\": {\"outlinewidth\": 0, \"ticks\": \"\"}}, \"type\": \"scatterternary\"}], \"surface\": [{\"colorbar\": {\"outlinewidth\": 0, \"ticks\": \"\"}, \"colorscale\": [[0.0, \"#0d0887\"], [0.1111111111111111, \"#46039f\"], [0.2222222222222222, \"#7201a8\"], [0.3333333333333333, \"#9c179e\"], [0.4444444444444444, \"#bd3786\"], [0.5555555555555556, \"#d8576b\"], [0.6666666666666666, \"#ed7953\"], [0.7777777777777778, \"#fb9f3a\"], [0.8888888888888888, \"#fdca26\"], [1.0, \"#f0f921\"]], \"type\": \"surface\"}], \"table\": [{\"cells\": {\"fill\": {\"color\": \"#EBF0F8\"}, \"line\": {\"color\": \"white\"}}, \"header\": {\"fill\": {\"color\": \"#C8D4E3\"}, \"line\": {\"color\": \"white\"}}, \"type\": \"table\"}]}, \"layout\": {\"annotationdefaults\": {\"arrowcolor\": \"#2a3f5f\", \"arrowhead\": 0, \"arrowwidth\": 1}, \"coloraxis\": {\"colorbar\": {\"outlinewidth\": 0, \"ticks\": \"\"}}, \"colorscale\": {\"diverging\": [[0, \"#8e0152\"], [0.1, \"#c51b7d\"], [0.2, \"#de77ae\"], [0.3, \"#f1b6da\"], [0.4, \"#fde0ef\"], [0.5, \"#f7f7f7\"], [0.6, \"#e6f5d0\"], [0.7, \"#b8e186\"], [0.8, \"#7fbc41\"], [0.9, \"#4d9221\"], [1, \"#276419\"]], \"sequential\": [[0.0, \"#0d0887\"], [0.1111111111111111, \"#46039f\"], [0.2222222222222222, \"#7201a8\"], [0.3333333333333333, \"#9c179e\"], [0.4444444444444444, \"#bd3786\"], [0.5555555555555556, \"#d8576b\"], [0.6666666666666666, \"#ed7953\"], [0.7777777777777778, \"#fb9f3a\"], [0.8888888888888888, \"#fdca26\"], [1.0, \"#f0f921\"]], \"sequentialminus\": [[0.0, \"#0d0887\"], [0.1111111111111111, \"#46039f\"], [0.2222222222222222, \"#7201a8\"], [0.3333333333333333, \"#9c179e\"], [0.4444444444444444, \"#bd3786\"], [0.5555555555555556, \"#d8576b\"], [0.6666666666666666, \"#ed7953\"], [0.7777777777777778, \"#fb9f3a\"], [0.8888888888888888, \"#fdca26\"], [1.0, \"#f0f921\"]]}, \"colorway\": [\"#636efa\", \"#EF553B\", \"#00cc96\", \"#ab63fa\", \"#FFA15A\", \"#19d3f3\", \"#FF6692\", \"#B6E880\", \"#FF97FF\", \"#FECB52\"], \"font\": {\"color\": \"#2a3f5f\"}, \"geo\": {\"bgcolor\": \"white\", \"lakecolor\": \"white\", \"landcolor\": \"#E5ECF6\", \"showlakes\": true, \"showland\": true, \"subunitcolor\": \"white\"}, \"hoverlabel\": {\"align\": \"left\"}, \"hovermode\": \"closest\", \"mapbox\": {\"style\": \"light\"}, \"paper_bgcolor\": \"white\", \"plot_bgcolor\": \"#E5ECF6\", \"polar\": {\"angularaxis\": {\"gridcolor\": \"white\", \"linecolor\": \"white\", \"ticks\": \"\"}, \"bgcolor\": \"#E5ECF6\", \"radialaxis\": {\"gridcolor\": \"white\", \"linecolor\": \"white\", \"ticks\": \"\"}}, \"scene\": {\"xaxis\": {\"backgroundcolor\": \"#E5ECF6\", \"gridcolor\": \"white\", \"gridwidth\": 2, \"linecolor\": \"white\", \"showbackground\": true, \"ticks\": \"\", \"zerolinecolor\": \"white\"}, \"yaxis\": {\"backgroundcolor\": \"#E5ECF6\", \"gridcolor\": \"white\", \"gridwidth\": 2, \"linecolor\": \"white\", \"showbackground\": true, \"ticks\": \"\", \"zerolinecolor\": \"white\"}, \"zaxis\": {\"backgroundcolor\": \"#E5ECF6\", \"gridcolor\": \"white\", \"gridwidth\": 2, \"linecolor\": \"white\", \"showbackground\": true, \"ticks\": \"\", \"zerolinecolor\": \"white\"}}, \"shapedefaults\": {\"line\": {\"color\": \"#2a3f5f\"}}, \"ternary\": {\"aaxis\": {\"gridcolor\": \"white\", \"linecolor\": \"white\", \"ticks\": \"\"}, \"baxis\": {\"gridcolor\": \"white\", \"linecolor\": \"white\", \"ticks\": \"\"}, \"bgcolor\": \"#E5ECF6\", \"caxis\": {\"gridcolor\": \"white\", \"linecolor\": \"white\", \"ticks\": \"\"}}, \"title\": {\"x\": 0.05}, \"xaxis\": {\"automargin\": true, \"gridcolor\": \"white\", \"linecolor\": \"white\", \"ticks\": \"\", \"title\": {\"standoff\": 15}, \"zerolinecolor\": \"white\", \"zerolinewidth\": 2}, \"yaxis\": {\"automargin\": true, \"gridcolor\": \"white\", \"linecolor\": \"white\", \"ticks\": \"\", \"title\": {\"standoff\": 15}, \"zerolinecolor\": \"white\", \"zerolinewidth\": 2}}}, \"title\": {\"font\": {\"color\": \"#4D5663\"}}, \"xaxis\": {\"anchor\": \"y\", \"domain\": [0.0, 0.2125], \"gridcolor\": \"#E1E5ED\", \"showgrid\": false, \"tickfont\": {\"color\": \"#4D5663\"}, \"title\": {\"font\": {\"color\": \"#4D5663\"}, \"text\": \"\"}, \"zerolinecolor\": \"#E1E5ED\"}, \"xaxis10\": {\"anchor\": \"y10\", \"domain\": [0.2625, 0.475], \"gridcolor\": \"#E1E5ED\", \"showgrid\": false, \"tickfont\": {\"color\": \"#4D5663\"}, \"title\": {\"font\": {\"color\": \"#4D5663\"}, \"text\": \"\"}, \"zerolinecolor\": \"#E1E5ED\"}, \"xaxis11\": {\"anchor\": \"y11\", \"domain\": [0.525, 0.7375], \"gridcolor\": \"#E1E5ED\", \"showgrid\": false, \"tickfont\": {\"color\": \"#4D5663\"}, \"title\": {\"font\": {\"color\": \"#4D5663\"}, \"text\": \"\"}, \"zerolinecolor\": \"#E1E5ED\"}, \"xaxis12\": {\"anchor\": \"y12\", \"domain\": [0.7875, 1.0], \"gridcolor\": \"#E1E5ED\", \"showgrid\": false, \"tickfont\": {\"color\": \"#4D5663\"}, \"title\": {\"font\": {\"color\": \"#4D5663\"}, \"text\": \"\"}, \"zerolinecolor\": \"#E1E5ED\"}, \"xaxis13\": {\"anchor\": \"y13\", \"domain\": [0.0, 0.2125], \"gridcolor\": \"#E1E5ED\", \"showgrid\": false, \"tickfont\": {\"color\": \"#4D5663\"}, \"title\": {\"font\": {\"color\": \"#4D5663\"}, \"text\": \"\"}, \"zerolinecolor\": \"#E1E5ED\"}, \"xaxis14\": {\"anchor\": \"y14\", \"domain\": [0.2625, 0.475], \"gridcolor\": \"#E1E5ED\", \"showgrid\": false, \"tickfont\": {\"color\": \"#4D5663\"}, \"title\": {\"font\": {\"color\": \"#4D5663\"}, \"text\": \"\"}, \"zerolinecolor\": \"#E1E5ED\"}, \"xaxis15\": {\"anchor\": \"y15\", \"domain\": [0.525, 0.7375], \"gridcolor\": \"#E1E5ED\", \"showgrid\": false, \"tickfont\": {\"color\": \"#4D5663\"}, \"title\": {\"font\": {\"color\": \"#4D5663\"}, \"text\": \"\"}, \"zerolinecolor\": \"#E1E5ED\"}, \"xaxis16\": {\"anchor\": \"y16\", \"domain\": [0.7875, 1.0], \"gridcolor\": \"#E1E5ED\", \"showgrid\": false, \"tickfont\": {\"color\": \"#4D5663\"}, \"title\": {\"font\": {\"color\": \"#4D5663\"}, \"text\": \"\"}, \"zerolinecolor\": \"#E1E5ED\"}, \"xaxis2\": {\"anchor\": \"y2\", \"domain\": [0.2625, 0.475], \"gridcolor\": \"#E1E5ED\", \"showgrid\": false, \"tickfont\": {\"color\": \"#4D5663\"}, \"title\": {\"font\": {\"color\": \"#4D5663\"}, \"text\": \"\"}, \"zerolinecolor\": \"#E1E5ED\"}, \"xaxis3\": {\"anchor\": \"y3\", \"domain\": [0.525, 0.7375], \"gridcolor\": \"#E1E5ED\", \"showgrid\": false, \"tickfont\": {\"color\": \"#4D5663\"}, \"title\": {\"font\": {\"color\": \"#4D5663\"}, \"text\": \"\"}, \"zerolinecolor\": \"#E1E5ED\"}, \"xaxis4\": {\"anchor\": \"y4\", \"domain\": [0.7875, 1.0], \"gridcolor\": \"#E1E5ED\", \"showgrid\": false, \"tickfont\": {\"color\": \"#4D5663\"}, \"title\": {\"font\": {\"color\": \"#4D5663\"}, \"text\": \"\"}, \"zerolinecolor\": \"#E1E5ED\"}, \"xaxis5\": {\"anchor\": \"y5\", \"domain\": [0.0, 0.2125], \"gridcolor\": \"#E1E5ED\", \"showgrid\": false, \"tickfont\": {\"color\": \"#4D5663\"}, \"title\": {\"font\": {\"color\": \"#4D5663\"}, \"text\": \"\"}, \"zerolinecolor\": \"#E1E5ED\"}, \"xaxis6\": {\"anchor\": \"y6\", \"domain\": [0.2625, 0.475], \"gridcolor\": \"#E1E5ED\", \"showgrid\": false, \"tickfont\": {\"color\": \"#4D5663\"}, \"title\": {\"font\": {\"color\": \"#4D5663\"}, \"text\": \"\"}, \"zerolinecolor\": \"#E1E5ED\"}, \"xaxis7\": {\"anchor\": \"y7\", \"domain\": [0.525, 0.7375], \"gridcolor\": \"#E1E5ED\", \"showgrid\": false, \"tickfont\": {\"color\": \"#4D5663\"}, \"title\": {\"font\": {\"color\": \"#4D5663\"}, \"text\": \"\"}, \"zerolinecolor\": \"#E1E5ED\"}, \"xaxis8\": {\"anchor\": \"y8\", \"domain\": [0.7875, 1.0], \"gridcolor\": \"#E1E5ED\", \"showgrid\": false, \"tickfont\": {\"color\": \"#4D5663\"}, \"title\": {\"font\": {\"color\": \"#4D5663\"}, \"text\": \"\"}, \"zerolinecolor\": \"#E1E5ED\"}, \"xaxis9\": {\"anchor\": \"y9\", \"domain\": [0.0, 0.2125], \"gridcolor\": \"#E1E5ED\", \"showgrid\": false, \"tickfont\": {\"color\": \"#4D5663\"}, \"title\": {\"font\": {\"color\": \"#4D5663\"}, \"text\": \"\"}, \"zerolinecolor\": \"#E1E5ED\"}, \"yaxis\": {\"anchor\": \"x\", \"domain\": [0.8025, 1.0], \"gridcolor\": \"#E1E5ED\", \"showgrid\": false, \"tickfont\": {\"color\": \"#4D5663\"}, \"title\": {\"font\": {\"color\": \"#4D5663\"}, \"text\": \"\"}, \"zerolinecolor\": \"#E1E5ED\"}, \"yaxis10\": {\"anchor\": \"x10\", \"domain\": [0.2675, 0.465], \"gridcolor\": \"#E1E5ED\", \"showgrid\": false, \"tickfont\": {\"color\": \"#4D5663\"}, \"title\": {\"font\": {\"color\": \"#4D5663\"}, \"text\": \"\"}, \"zerolinecolor\": \"#E1E5ED\"}, \"yaxis11\": {\"anchor\": \"x11\", \"domain\": [0.2675, 0.465], \"gridcolor\": \"#E1E5ED\", \"showgrid\": false, \"tickfont\": {\"color\": \"#4D5663\"}, \"title\": {\"font\": {\"color\": \"#4D5663\"}, \"text\": \"\"}, \"zerolinecolor\": \"#E1E5ED\"}, \"yaxis12\": {\"anchor\": \"x12\", \"domain\": [0.2675, 0.465], \"gridcolor\": \"#E1E5ED\", \"showgrid\": false, \"tickfont\": {\"color\": \"#4D5663\"}, \"title\": {\"font\": {\"color\": \"#4D5663\"}, \"text\": \"\"}, \"zerolinecolor\": \"#E1E5ED\"}, \"yaxis13\": {\"anchor\": \"x13\", \"domain\": [0.0, 0.1975], \"gridcolor\": \"#E1E5ED\", \"showgrid\": false, \"tickfont\": {\"color\": \"#4D5663\"}, \"title\": {\"font\": {\"color\": \"#4D5663\"}, \"text\": \"\"}, \"zerolinecolor\": \"#E1E5ED\"}, \"yaxis14\": {\"anchor\": \"x14\", \"domain\": [0.0, 0.1975], \"gridcolor\": \"#E1E5ED\", \"showgrid\": false, \"tickfont\": {\"color\": \"#4D5663\"}, \"title\": {\"font\": {\"color\": \"#4D5663\"}, \"text\": \"\"}, \"zerolinecolor\": \"#E1E5ED\"}, \"yaxis15\": {\"anchor\": \"x15\", \"domain\": [0.0, 0.1975], \"gridcolor\": \"#E1E5ED\", \"showgrid\": false, \"tickfont\": {\"color\": \"#4D5663\"}, \"title\": {\"font\": {\"color\": \"#4D5663\"}, \"text\": \"\"}, \"zerolinecolor\": \"#E1E5ED\"}, \"yaxis16\": {\"anchor\": \"x16\", \"domain\": [0.0, 0.1975], \"gridcolor\": \"#E1E5ED\", \"showgrid\": false, \"tickfont\": {\"color\": \"#4D5663\"}, \"title\": {\"font\": {\"color\": \"#4D5663\"}, \"text\": \"\"}, \"zerolinecolor\": \"#E1E5ED\"}, \"yaxis2\": {\"anchor\": \"x2\", \"domain\": [0.8025, 1.0], \"gridcolor\": \"#E1E5ED\", \"showgrid\": false, \"tickfont\": {\"color\": \"#4D5663\"}, \"title\": {\"font\": {\"color\": \"#4D5663\"}, \"text\": \"\"}, \"zerolinecolor\": \"#E1E5ED\"}, \"yaxis3\": {\"anchor\": \"x3\", \"domain\": [0.8025, 1.0], \"gridcolor\": \"#E1E5ED\", \"showgrid\": false, \"tickfont\": {\"color\": \"#4D5663\"}, \"title\": {\"font\": {\"color\": \"#4D5663\"}, \"text\": \"\"}, \"zerolinecolor\": \"#E1E5ED\"}, \"yaxis4\": {\"anchor\": \"x4\", \"domain\": [0.8025, 1.0], \"gridcolor\": \"#E1E5ED\", \"showgrid\": false, \"tickfont\": {\"color\": \"#4D5663\"}, \"title\": {\"font\": {\"color\": \"#4D5663\"}, \"text\": \"\"}, \"zerolinecolor\": \"#E1E5ED\"}, \"yaxis5\": {\"anchor\": \"x5\", \"domain\": [0.535, 0.7325], \"gridcolor\": \"#E1E5ED\", \"showgrid\": false, \"tickfont\": {\"color\": \"#4D5663\"}, \"title\": {\"font\": {\"color\": \"#4D5663\"}, \"text\": \"\"}, \"zerolinecolor\": \"#E1E5ED\"}, \"yaxis6\": {\"anchor\": \"x6\", \"domain\": [0.535, 0.7325], \"gridcolor\": \"#E1E5ED\", \"showgrid\": false, \"tickfont\": {\"color\": \"#4D5663\"}, \"title\": {\"font\": {\"color\": \"#4D5663\"}, \"text\": \"\"}, \"zerolinecolor\": \"#E1E5ED\"}, \"yaxis7\": {\"anchor\": \"x7\", \"domain\": [0.535, 0.7325], \"gridcolor\": \"#E1E5ED\", \"showgrid\": false, \"tickfont\": {\"color\": \"#4D5663\"}, \"title\": {\"font\": {\"color\": \"#4D5663\"}, \"text\": \"\"}, \"zerolinecolor\": \"#E1E5ED\"}, \"yaxis8\": {\"anchor\": \"x8\", \"domain\": [0.535, 0.7325], \"gridcolor\": \"#E1E5ED\", \"showgrid\": false, \"tickfont\": {\"color\": \"#4D5663\"}, \"title\": {\"font\": {\"color\": \"#4D5663\"}, \"text\": \"\"}, \"zerolinecolor\": \"#E1E5ED\"}, \"yaxis9\": {\"anchor\": \"x9\", \"domain\": [0.2675, 0.465], \"gridcolor\": \"#E1E5ED\", \"showgrid\": false, \"tickfont\": {\"color\": \"#4D5663\"}, \"title\": {\"font\": {\"color\": \"#4D5663\"}, \"text\": \"\"}, \"zerolinecolor\": \"#E1E5ED\"}},\n",
       "                        {\"showLink\": true, \"linkText\": \"Export to plot.ly\", \"plotlyServerURL\": \"https://plot.ly\", \"responsive\": true}\n",
       "                    ).then(function(){\n",
       "                            \n",
       "var gd = document.getElementById('06c6de6d-d7eb-40b2-8e56-2eeb1d7558ab');\n",
       "var x = new MutationObserver(function (mutations, observer) {{\n",
       "        var display = window.getComputedStyle(gd).display;\n",
       "        if (!display || display === 'none') {{\n",
       "            console.log([gd, 'removed!']);\n",
       "            Plotly.purge(gd);\n",
       "            observer.disconnect();\n",
       "        }}\n",
       "}});\n",
       "\n",
       "// Listen for the removal of the full notebook cells\n",
       "var notebookContainer = gd.closest('#notebook-container');\n",
       "if (notebookContainer) {{\n",
       "    x.observe(notebookContainer, {childList: true});\n",
       "}}\n",
       "\n",
       "// Listen for the clearing of the current output cell\n",
       "var outputEl = gd.closest('.output');\n",
       "if (outputEl) {{\n",
       "    x.observe(outputEl, {childList: true});\n",
       "}}\n",
       "\n",
       "                        })\n",
       "                };\n",
       "                });\n",
       "            </script>\n",
       "        </div>"
      ]
     },
     "metadata": {},
     "output_type": "display_data"
    }
   ],
   "source": [
    "df.scatter_matrix()"
   ]
  },
  {
   "cell_type": "code",
   "execution_count": null,
   "metadata": {},
   "outputs": [],
   "source": []
  }
 ],
 "metadata": {
  "kernelspec": {
   "display_name": "Python 3",
   "language": "python",
   "name": "python3"
  },
  "language_info": {
   "codemirror_mode": {
    "name": "ipython",
    "version": 3
   },
   "file_extension": ".py",
   "mimetype": "text/x-python",
   "name": "python",
   "nbconvert_exporter": "python",
   "pygments_lexer": "ipython3",
   "version": "3.7.4"
  }
 },
 "nbformat": 4,
 "nbformat_minor": 2
}
